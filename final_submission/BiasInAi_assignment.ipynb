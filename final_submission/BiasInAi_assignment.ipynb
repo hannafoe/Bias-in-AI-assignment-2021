{
  "nbformat": 4,
  "nbformat_minor": 0,
  "metadata": {
    "colab": {
      "name": "BiasInAi_assignment_final.ipynb",
      "provenance": [],
      "collapsed_sections": []
    },
    "kernelspec": {
      "name": "python383jvsc74a57bd0f92e0215c935f19257a47242356894998d032a7822200e32184b1a90303d9adb",
      "display_name": "Python 3.8.3 64-bit ('base': conda)"
    },
    "language_info": {
      "name": "python",
      "version": "3.8.3"
    }
  },
  "cells": [
    {
      "cell_type": "code",
      "metadata": {
        "id": "eT06o-H1j7MA"
      },
      "source": [
        "#import statements\n",
        "#!pip install sklearn\n",
        "import numpy as np\n",
        "import pandas as pd\n",
        "import matplotlib.pyplot as plt\n",
        "import seaborn as sns\n",
        "from sklearn.model_selection import train_test_split\n",
        "from sklearn.preprocessing import LabelEncoder, StandardScaler, OrdinalEncoder\n",
        "from sklearn.pipeline import Pipeline\n",
        "from sklearn.compose import ColumnTransformer\n",
        "from sklearn.metrics import classification_report,balanced_accuracy_score\n",
        "from statistics import mean,variance,mode,median_low\n",
        "from sklearn.model_selection import GridSearchCV\n",
        "from sklearn.svm import SVC\n",
        "from sklearn.svm import LinearSVC\n",
        "from sklearn.utils.random import sample_without_replacement"
      ],
      "execution_count": 1,
      "outputs": []
    },
    {
      "cell_type": "code",
      "metadata": {
        "colab": {
          "base_uri": "https://localhost:8080/"
        },
        "id": "uTrFl6q8kFVH",
        "outputId": "e543259c-5835-4aa0-c55e-39e66ba99b5e"
      },
      "source": [
        "#Please get the .data file @: https://archive.ics.uci.edu/ml/datasets/statlog+(german+credit+data)\n",
        "path = \"/content/drive/MyDrive/german.data\"\n",
        "df = pd.DataFrame(columns=[\"checking account\",\"duration\",\"credit history\",\"purpose\",\"credit amount\",\"savings account\",\"present employment since\",\"installment rate\",\"personal status/sex\",\"other debtors\",\"present residence since\",\"property\",\"age\",\"other installment plans\",\"housing\",\"existing credits\",\"job\",\"people to provide\",\"telephone\",\"foreign worker\",\"class\"])\n",
        "data = open(path, \"r\")\n",
        "c=0\n",
        "for line in data.readlines():\n",
        "  df.loc[c]=line.split()\n",
        "  c+=1\n",
        "print(df)\n",
        "###########################################################################################\n",
        "\n",
        "#First get an overview of the dataset\n",
        "#get dataset @: https://archive.ics.uci.edu/ml/datasets/statlog+(german+credit+data)\n",
        "#COLUMNS: from dataset description\n",
        "#STATUS OF CHECKING ACCOUNT: A11:[,0), A12:[0,200), A13:[200,], A14:no checking account\n",
        "#DURATION in months: numerical\n",
        "#CREDIT HISTORY: A30: no credits taken/all credits paid back duly,\n",
        "#                A31: all credits at this bank paid back duly\n",
        "#                A32: existing credits paid back duly till now\n",
        "#                A33: delay in paying off in the past\n",
        "#                A34: critical account/other credits existing (not at this bank)\n",
        "#PURPOSE: A40: car (new)\n",
        "#         A41: car (used)\n",
        "#         A42: furniture/equipment\n",
        "#         A43: radio/television\n",
        "#         A44: domestic appliances\n",
        "#         A45: repairs\n",
        "#         A46: education\n",
        "#         A47: (vacation - does not exist?)\n",
        "#         A48: retraining\n",
        "#         A49: business\n",
        "#         A410: others\n",
        "#CREDIT AMOUNT: numerical\n",
        "#SAVINGS ACCOUNT/BONDS: A61: [,100), A62:[100,500),A63:[500,1000),A64:[1000,),A65:unknown/no savings account\n",
        "#PRESENT EMPLOYMENT SINCE (in years): A71: unemployed, A72:[,1), A73:[1,4), A74:[4,7), A75:[7,)\n",
        "#INSTALLMENT RATE in percentage of disposable income: numerical\n",
        "#PERSONAL STATUS/SEX: A91: male&divorce/separated\n",
        "#                     A92: female&divorced/separated/married\n",
        "#                     A93: male&single\n",
        "#                     A94: male&married/widowed\n",
        "#                     A95: female&single\n",
        "#OTHER DEBTORS/GUARANTORS: A101: none\n",
        "#                          A102: co-applicant\n",
        "#                          A103: guarantor\n",
        "#PRESENT RESIDENCE SINCE: numerical\n",
        "#PROPERTY: A121: real estate\n",
        "#          A122: if not A121: building society savings agreement/life insurance\n",
        "#          A123: if no A121/A122: car or other, not in attribute 6\n",
        "#          A124: unknown/no property\n",
        "#AGE: numerical\n",
        "#OTHER INSTALLMENT PLANS: A141: bank\n",
        "#                         A142: stores\n",
        "#                         A143: none\n",
        "#HOUSING: A151: rent\n",
        "#         A152: own\n",
        "#         A153: for free\n",
        "#NUMBER OF EXISTING CREDITS AT THIS BANK: numerical\n",
        "#JOB: A171: unemployed/unskilled - non-resident\n",
        "#     A172: unskilled - resident\n",
        "#     A173: skilled employed/official\n",
        "#     A174: management/self-employed/highly qualified employee/officer\n",
        "#NUMBER OF PEOPLE BEING LIABLE TO PROVIDE MAINTENANCE FOR: numerical\n",
        "#TELEPHONE: A191: none\n",
        "#           A192: yes, registered under the customers name\n",
        "#FOREIGN WORKER: A201: yes\n",
        "#                A202: no\n",
        "###################################################################\n",
        "\n",
        "#Turn all numerical data numerical\n",
        "df['duration']=df['duration'].astype(int)\n",
        "df['credit amount']=df['credit amount'].astype(int)\n",
        "df['installment rate']=df['installment rate'].astype(int)\n",
        "df['present residence since']=df['present residence since'].astype(int)\n",
        "df['age']=df['age'].astype(int)\n",
        "df['existing credits']=df['existing credits'].astype(int)\n",
        "df['people to provide']=df['people to provide'].astype(int)\n",
        "df['class']=df['class'].astype(int)\n",
        "\n",
        "#Analyse the dataset as it is\n",
        "print(\"---------------------------------\")\n",
        "print(df.describe())\n",
        "for col in df.columns:\n",
        "  print(col,\":\")\n",
        "  if df[col].dtype=='int64':\n",
        "    #do numeric calculation\n",
        "    print(\"Mean: \",df[col].mean())\n",
        "    print(\"Variance: \",variance(df[col]))\n",
        "    print(\"Standard deviation: \",df[col].std())\n",
        "    print(\"Median: \",df[col].median())\n",
        "  print(\"Mode: \",df[col].mode()[0])\n",
        "  print(df[col].value_counts()[:3])\n",
        "  print()\n",
        "#Bin age feature to create demographic subgroups\n",
        "bin_df = df.copy(deep=True)\n",
        "#AGE: young: <=24, old>24\n",
        "bin_df['age']=['young' if bin_df['age'][i]<=25 else 'old' for i in range(len(bin_df))]\n",
        "bin_df['age']=bin_df['age'].astype(object)\n",
        "\n",
        "#Drop all features that are not numeric and not ordinal\n",
        "bin_df.drop('purpose',axis=1,inplace=True)\n",
        "bin_df.drop('other debtors',axis=1, inplace=True)\n",
        "bin_df.drop('other installment plans',axis=1,inplace=True)\n",
        "bin_df.drop('telephone',axis=1,inplace=True)\n",
        "bin_df.drop('foreign worker',axis=1,inplace=True)\n",
        "\n",
        "#TASK 2\n",
        "#Analyse the subgroups of the feature: age\n",
        "sub_df1 = bin_df[bin_df['age']=='young']\n",
        "sub_df2 = bin_df[bin_df['age']=='old']\n",
        "print(len(sub_df1),len(sub_df2))\n",
        "for col in bin_df:\n",
        "  print(col,\":\")\n",
        "  if bin_df[col].dtype=='int64':\n",
        "    #do numeric calculation\n",
        "    print(\"Mean: \",bin_df[col].mean(),sub_df1[col].mean(),sub_df2[col].mean())\n",
        "    print(\"Variance: \",variance(bin_df[col]),variance(sub_df1[col]),variance(sub_df2[col]))\n",
        "    print(\"Standard deviation: \",bin_df[col].std(),sub_df1[col].std(),sub_df2[col].std())\n",
        "    print(\"Median: \",bin_df[col].median(),sub_df1[col].median(),sub_df2[col].median())\n",
        "  print(\"Mode: \",bin_df[col].mode()[0],sub_df1[col].mode()[0],sub_df2[col].mode()[0])\n",
        "  print(bin_df[col].value_counts()[:5])\n",
        "  print(sub_df1[col].value_counts()[:5])\n",
        "  print(sub_df2[col].value_counts()[:5])\n",
        "  print()"
      ],
      "execution_count": 6,
      "outputs": [
        {
          "output_type": "stream",
          "name": "stdout",
          "text": [
            "    checking account duration credit history purpose credit amount  \\\n",
            "0                A11        6            A34     A43          1169   \n",
            "1                A12       48            A32     A43          5951   \n",
            "2                A14       12            A34     A46          2096   \n",
            "3                A11       42            A32     A42          7882   \n",
            "4                A11       24            A33     A40          4870   \n",
            "..               ...      ...            ...     ...           ...   \n",
            "995              A14       12            A32     A42          1736   \n",
            "996              A11       30            A32     A41          3857   \n",
            "997              A14       12            A32     A43           804   \n",
            "998              A11       45            A32     A43          1845   \n",
            "999              A12       45            A34     A41          4576   \n",
            "\n",
            "    savings account present employment since installment rate  \\\n",
            "0               A65                      A75                4   \n",
            "1               A61                      A73                2   \n",
            "2               A61                      A74                2   \n",
            "3               A61                      A74                2   \n",
            "4               A61                      A73                3   \n",
            "..              ...                      ...              ...   \n",
            "995             A61                      A74                3   \n",
            "996             A61                      A73                4   \n",
            "997             A61                      A75                4   \n",
            "998             A61                      A73                4   \n",
            "999             A62                      A71                3   \n",
            "\n",
            "    personal status/sex other debtors  ... property age  \\\n",
            "0                   A93          A101  ...     A121  67   \n",
            "1                   A92          A101  ...     A121  22   \n",
            "2                   A93          A101  ...     A121  49   \n",
            "3                   A93          A103  ...     A122  45   \n",
            "4                   A93          A101  ...     A124  53   \n",
            "..                  ...           ...  ...      ...  ..   \n",
            "995                 A92          A101  ...     A121  31   \n",
            "996                 A91          A101  ...     A122  40   \n",
            "997                 A93          A101  ...     A123  38   \n",
            "998                 A93          A101  ...     A124  23   \n",
            "999                 A93          A101  ...     A123  27   \n",
            "\n",
            "    other installment plans housing existing credits   job people to provide  \\\n",
            "0                      A143    A152                2  A173                 1   \n",
            "1                      A143    A152                1  A173                 1   \n",
            "2                      A143    A152                1  A172                 2   \n",
            "3                      A143    A153                1  A173                 2   \n",
            "4                      A143    A153                2  A173                 2   \n",
            "..                      ...     ...              ...   ...               ...   \n",
            "995                    A143    A152                1  A172                 1   \n",
            "996                    A143    A152                1  A174                 1   \n",
            "997                    A143    A152                1  A173                 1   \n",
            "998                    A143    A153                1  A173                 1   \n",
            "999                    A143    A152                1  A173                 1   \n",
            "\n",
            "    telephone foreign worker class  \n",
            "0        A192           A201     1  \n",
            "1        A191           A201     2  \n",
            "2        A191           A201     1  \n",
            "3        A191           A201     1  \n",
            "4        A191           A201     2  \n",
            "..        ...            ...   ...  \n",
            "995      A191           A201     1  \n",
            "996      A192           A201     1  \n",
            "997      A191           A201     1  \n",
            "998      A192           A201     2  \n",
            "999      A191           A201     1  \n",
            "\n",
            "[1000 rows x 21 columns]\n",
            "---------------------------------\n",
            "          duration  credit amount  installment rate  present residence since  \\\n",
            "count  1000.000000    1000.000000       1000.000000              1000.000000   \n",
            "mean     20.903000    3271.258000          2.973000                 2.845000   \n",
            "std      12.058814    2822.736876          1.118715                 1.103718   \n",
            "min       4.000000     250.000000          1.000000                 1.000000   \n",
            "25%      12.000000    1365.500000          2.000000                 2.000000   \n",
            "50%      18.000000    2319.500000          3.000000                 3.000000   \n",
            "75%      24.000000    3972.250000          4.000000                 4.000000   \n",
            "max      72.000000   18424.000000          4.000000                 4.000000   \n",
            "\n",
            "               age  existing credits  people to provide        class  \n",
            "count  1000.000000       1000.000000        1000.000000  1000.000000  \n",
            "mean     35.546000          1.407000           1.155000     1.300000  \n",
            "std      11.375469          0.577654           0.362086     0.458487  \n",
            "min      19.000000          1.000000           1.000000     1.000000  \n",
            "25%      27.000000          1.000000           1.000000     1.000000  \n",
            "50%      33.000000          1.000000           1.000000     1.000000  \n",
            "75%      42.000000          2.000000           1.000000     2.000000  \n",
            "max      75.000000          4.000000           2.000000     2.000000  \n",
            "checking account :\n",
            "Mode:  A14\n",
            "A14    394\n",
            "A11    274\n",
            "A12    269\n",
            "Name: checking account, dtype: int64\n",
            "\n",
            "duration :\n",
            "Mode:  24\n",
            "24    184\n",
            "12    179\n",
            "18    113\n",
            "Name: duration, dtype: int64\n",
            "\n",
            "credit history :\n",
            "Mode:  A32\n",
            "A32    530\n",
            "A34    293\n",
            "A33     88\n",
            "Name: credit history, dtype: int64\n",
            "\n",
            "purpose :\n",
            "Mode:  A43\n",
            "A43    280\n",
            "A40    234\n",
            "A42    181\n",
            "Name: purpose, dtype: int64\n",
            "\n",
            "credit amount :\n",
            "Mode:  1258\n",
            "1258    3\n",
            "1478    3\n",
            "1275    3\n",
            "Name: credit amount, dtype: int64\n",
            "\n",
            "savings account :\n",
            "Mode:  A61\n",
            "A61    603\n",
            "A65    183\n",
            "A62    103\n",
            "Name: savings account, dtype: int64\n",
            "\n",
            "present employment since :\n",
            "Mode:  A73\n",
            "A73    339\n",
            "A75    253\n",
            "A74    174\n",
            "Name: present employment since, dtype: int64\n",
            "\n",
            "installment rate :\n",
            "Mode:  4\n",
            "4    476\n",
            "2    231\n",
            "3    157\n",
            "Name: installment rate, dtype: int64\n",
            "\n",
            "personal status/sex :\n",
            "Mode:  A93\n",
            "A93    548\n",
            "A92    310\n",
            "A94     92\n",
            "Name: personal status/sex, dtype: int64\n",
            "\n",
            "other debtors :\n",
            "Mode:  A101\n",
            "A101    907\n",
            "A103     52\n",
            "A102     41\n",
            "Name: other debtors, dtype: int64\n",
            "\n",
            "present residence since :\n",
            "Mode:  4\n",
            "4    413\n",
            "2    308\n",
            "3    149\n",
            "Name: present residence since, dtype: int64\n",
            "\n",
            "property :\n",
            "Mode:  A123\n",
            "A123    332\n",
            "A121    282\n",
            "A122    232\n",
            "Name: property, dtype: int64\n",
            "\n",
            "age :\n",
            "Mode:  27\n",
            "27    51\n",
            "26    50\n",
            "23    48\n",
            "Name: age, dtype: int64\n",
            "\n",
            "other installment plans :\n",
            "Mode:  A143\n",
            "A143    814\n",
            "A141    139\n",
            "A142     47\n",
            "Name: other installment plans, dtype: int64\n",
            "\n",
            "housing :\n",
            "Mode:  A152\n",
            "A152    713\n",
            "A151    179\n",
            "A153    108\n",
            "Name: housing, dtype: int64\n",
            "\n",
            "existing credits :\n",
            "Mode:  1\n",
            "1    633\n",
            "2    333\n",
            "3     28\n",
            "Name: existing credits, dtype: int64\n",
            "\n",
            "job :\n",
            "Mode:  A173\n",
            "A173    630\n",
            "A172    200\n",
            "A174    148\n",
            "Name: job, dtype: int64\n",
            "\n",
            "people to provide :\n",
            "Mode:  1\n",
            "1    845\n",
            "2    155\n",
            "Name: people to provide, dtype: int64\n",
            "\n",
            "telephone :\n",
            "Mode:  A191\n",
            "A191    596\n",
            "A192    404\n",
            "Name: telephone, dtype: int64\n",
            "\n",
            "foreign worker :\n",
            "Mode:  A201\n",
            "A201    963\n",
            "A202     37\n",
            "Name: foreign worker, dtype: int64\n",
            "\n",
            "class :\n",
            "Mode:  1\n",
            "1    700\n",
            "2    300\n",
            "Name: class, dtype: int64\n",
            "\n",
            "190 810\n",
            "checking account :\n",
            "Mode:  A14 A11 A14\n",
            "A14    394\n",
            "A11    274\n",
            "A12    269\n",
            "A13     63\n",
            "Name: checking account, dtype: int64\n",
            "A11    68\n",
            "A12    62\n",
            "A14    50\n",
            "A13    10\n",
            "Name: checking account, dtype: int64\n",
            "A14    344\n",
            "A12    207\n",
            "A11    206\n",
            "A13     53\n",
            "Name: checking account, dtype: int64\n",
            "\n",
            "duration :\n",
            "Mode:  24 12 24\n",
            "24    184\n",
            "12    179\n",
            "18    113\n",
            "36     83\n",
            "6      75\n",
            "Name: duration, dtype: int64\n",
            "12    37\n",
            "24    34\n",
            "18    24\n",
            "15    17\n",
            "9     13\n",
            "Name: duration, dtype: int64\n",
            "24    150\n",
            "12    142\n",
            "18     89\n",
            "36     72\n",
            "6      65\n",
            "Name: duration, dtype: int64\n",
            "\n",
            "credit history :\n",
            "Mode:  A32 A32 A32\n",
            "A32    530\n",
            "A34    293\n",
            "A33     88\n",
            "A31     49\n",
            "A30     40\n",
            "Name: credit history, dtype: int64\n",
            "A32    137\n",
            "A34     33\n",
            "A31      8\n",
            "A33      7\n",
            "A30      5\n",
            "Name: credit history, dtype: int64\n",
            "A32    393\n",
            "A34    260\n",
            "A33     81\n",
            "A31     41\n",
            "A30     35\n",
            "Name: credit history, dtype: int64\n",
            "\n",
            "credit amount :\n",
            "Mode:  1258 433 1393\n",
            "1258    3\n",
            "1478    3\n",
            "1275    3\n",
            "1393    3\n",
            "1262    3\n",
            "Name: credit amount, dtype: int64\n",
            "1258    2\n",
            "1275    2\n",
            "2039    2\n",
            "433     2\n",
            "3913    1\n",
            "Name: credit amount, dtype: int64\n",
            "1393    3\n",
            "2171    2\n",
            "1940    2\n",
            "6761    2\n",
            "1154    2\n",
            "Name: credit amount, dtype: int64\n",
            "\n",
            "savings account :\n",
            "Mode:  A61 A61 A61\n",
            "A61    603\n",
            "A65    183\n",
            "A62    103\n",
            "A63     63\n",
            "A64     48\n",
            "Name: savings account, dtype: int64\n",
            "A61    123\n",
            "A65     28\n",
            "A62     22\n",
            "A63     11\n",
            "A64      6\n",
            "Name: savings account, dtype: int64\n",
            "A61    480\n",
            "A65    155\n",
            "A62     81\n",
            "A63     52\n",
            "A64     42\n",
            "Name: savings account, dtype: int64\n",
            "\n",
            "present employment since :\n",
            "Mode:  A73 A73 A73\n",
            "A73    339\n",
            "A75    253\n",
            "A74    174\n",
            "A72    172\n",
            "A71     62\n",
            "Name: present employment since, dtype: int64\n",
            "A73    78\n",
            "A72    54\n",
            "A74    36\n",
            "A75    13\n",
            "A71     9\n",
            "Name: present employment since, dtype: int64\n",
            "A73    261\n",
            "A75    240\n",
            "A74    138\n",
            "A72    118\n",
            "A71     53\n",
            "Name: present employment since, dtype: int64\n",
            "\n",
            "installment rate :\n",
            "Mode:  4 4 4\n",
            "4    476\n",
            "2    231\n",
            "3    157\n",
            "1    136\n",
            "Name: installment rate, dtype: int64\n",
            "4    82\n",
            "2    48\n",
            "1    33\n",
            "3    27\n",
            "Name: installment rate, dtype: int64\n",
            "4    394\n",
            "2    183\n",
            "3    130\n",
            "1    103\n",
            "Name: installment rate, dtype: int64\n",
            "\n",
            "personal status/sex :\n",
            "Mode:  A93 A92 A93\n",
            "A93    548\n",
            "A92    310\n",
            "A94     92\n",
            "A91     50\n",
            "Name: personal status/sex, dtype: int64\n",
            "A92    105\n",
            "A93     56\n",
            "A94     27\n",
            "A91      2\n",
            "Name: personal status/sex, dtype: int64\n",
            "A93    492\n",
            "A92    205\n",
            "A94     65\n",
            "A91     48\n",
            "Name: personal status/sex, dtype: int64\n",
            "\n",
            "present residence since :\n",
            "Mode:  4 4 4\n",
            "4    413\n",
            "2    308\n",
            "3    149\n",
            "1    130\n",
            "Name: present residence since, dtype: int64\n",
            "4    84\n",
            "2    59\n",
            "1    30\n",
            "3    17\n",
            "Name: present residence since, dtype: int64\n",
            "4    329\n",
            "2    249\n",
            "3    132\n",
            "1    100\n",
            "Name: present residence since, dtype: int64\n",
            "\n",
            "property :\n",
            "Mode:  A123 A123 A123\n",
            "A123    332\n",
            "A121    282\n",
            "A122    232\n",
            "A124    154\n",
            "Name: property, dtype: int64\n",
            "A123    71\n",
            "A121    60\n",
            "A122    47\n",
            "A124    12\n",
            "Name: property, dtype: int64\n",
            "A123    261\n",
            "A121    222\n",
            "A122    185\n",
            "A124    142\n",
            "Name: property, dtype: int64\n",
            "\n",
            "age :\n",
            "Mode:  old young old\n",
            "old      810\n",
            "young    190\n",
            "Name: age, dtype: int64\n",
            "young    190\n",
            "Name: age, dtype: int64\n",
            "old    810\n",
            "Name: age, dtype: int64\n",
            "\n",
            "housing :\n",
            "Mode:  A152 A152 A152\n",
            "A152    713\n",
            "A151    179\n",
            "A153    108\n",
            "Name: housing, dtype: int64\n",
            "A152    106\n",
            "A151     79\n",
            "A153      5\n",
            "Name: housing, dtype: int64\n",
            "A152    607\n",
            "A153    103\n",
            "A151    100\n",
            "Name: housing, dtype: int64\n",
            "\n",
            "existing credits :\n",
            "Mode:  1 1 1\n",
            "1    633\n",
            "2    333\n",
            "3     28\n",
            "4      6\n",
            "Name: existing credits, dtype: int64\n",
            "1    145\n",
            "2     44\n",
            "3      1\n",
            "Name: existing credits, dtype: int64\n",
            "1    488\n",
            "2    289\n",
            "3     27\n",
            "4      6\n",
            "Name: existing credits, dtype: int64\n",
            "\n",
            "job :\n",
            "Mode:  A173 A173 A173\n",
            "A173    630\n",
            "A172    200\n",
            "A174    148\n",
            "A171     22\n",
            "Name: job, dtype: int64\n",
            "A173    138\n",
            "A172     42\n",
            "A174      5\n",
            "A171      5\n",
            "Name: job, dtype: int64\n",
            "A173    492\n",
            "A172    158\n",
            "A174    143\n",
            "A171     17\n",
            "Name: job, dtype: int64\n",
            "\n",
            "people to provide :\n",
            "Mode:  1 1 1\n",
            "1    845\n",
            "2    155\n",
            "Name: people to provide, dtype: int64\n",
            "1    184\n",
            "2      6\n",
            "Name: people to provide, dtype: int64\n",
            "1    661\n",
            "2    149\n",
            "Name: people to provide, dtype: int64\n",
            "\n",
            "class :\n",
            "Mode:  1 1 1\n",
            "1    700\n",
            "2    300\n",
            "Name: class, dtype: int64\n",
            "1    110\n",
            "2     80\n",
            "Name: class, dtype: int64\n",
            "1    590\n",
            "2    220\n",
            "Name: class, dtype: int64\n",
            "\n"
          ]
        }
      ]
    },
    {
      "cell_type": "code",
      "metadata": {
        "colab": {
          "base_uri": "https://localhost:8080/"
        },
        "id": "fI2k2_ZTkHAr",
        "outputId": "5fb5acd9-8a9f-49e7-f539-b4c99d75bbe8"
      },
      "source": [
        "#Task 3 Conventional implementation\n",
        "#Check there are no missing values\n",
        "print(bin_df.isna().sum())\n",
        "\n",
        "#Drop the class column and create the target column\n",
        "y = bin_df['class'].copy()\n",
        "\n",
        "#Divide columns between data types\n",
        "numerical_data=[]\n",
        "categorical_data=[]\n",
        "for col in bin_df.columns:\n",
        "  if col=='class':\n",
        "    continue\n",
        "  if bin_df[col].dtype=='int64':\n",
        "    numerical_data.append(col)\n",
        "  else:\n",
        "    categorical_data.append(col)\n",
        "mappings_dict = {}\n",
        "label_encoder = LabelEncoder()\n",
        "\n",
        "#Encode categorical data type\n",
        "for col in categorical_data:\n",
        "    bin_df[col] = label_encoder.fit_transform(bin_df[col])\n",
        "    mappings_dict[col]=dict(zip(label_encoder.transform(label_encoder.classes_),label_encoder.classes_))\n",
        "print(mappings_dict)\n",
        "df=bin_df.copy()\n",
        "#Split into test and training set\n",
        "X_train, X_test, y_train, y_test = train_test_split(bin_df.drop('class',axis=1), y, test_size=0.333,random_state=0,stratify=y,shuffle=True)\n",
        "#Scale the data\n",
        "num_pipeline = Pipeline([\n",
        "        ('std_scaler', StandardScaler())\n",
        "])\n",
        "cat_pipeline = Pipeline(steps = [\n",
        "        ('std_scaler', StandardScaler())\n",
        "])\n",
        "full_pipeline = ColumnTransformer([('cat',cat_pipeline,categorical_data),('num',num_pipeline,numerical_data)],remainder='passthrough')\n",
        "X_train = full_pipeline.fit_transform(X_train)\n",
        "X_test_orig = X_test.copy()\n",
        "X_test = full_pipeline.transform(X_test)\n"
      ],
      "execution_count": 3,
      "outputs": [
        {
          "output_type": "stream",
          "name": "stdout",
          "text": [
            "checking account            0\n",
            "duration                    0\n",
            "credit history              0\n",
            "credit amount               0\n",
            "savings account             0\n",
            "present employment since    0\n",
            "installment rate            0\n",
            "personal status/sex         0\n",
            "present residence since     0\n",
            "property                    0\n",
            "age                         0\n",
            "housing                     0\n",
            "existing credits            0\n",
            "job                         0\n",
            "people to provide           0\n",
            "class                       0\n",
            "dtype: int64\n",
            "{'checking account': {0: 'A11', 1: 'A12', 2: 'A13', 3: 'A14'}, 'duration': {0: 4, 1: 5, 2: 6, 3: 7, 4: 8, 5: 9, 6: 10, 7: 11, 8: 12, 9: 13, 10: 14, 11: 15, 12: 16, 13: 18, 14: 20, 15: 21, 16: 22, 17: 24, 18: 26, 19: 27, 20: 28, 21: 30, 22: 33, 23: 36, 24: 39, 25: 40, 26: 42, 27: 45, 28: 47, 29: 48, 30: 54, 31: 60, 32: 72}, 'credit history': {0: 'A30', 1: 'A31', 2: 'A32', 3: 'A33', 4: 'A34'}, 'credit amount': {0: 250, 1: 276, 2: 338, 3: 339, 4: 343, 5: 362, 6: 368, 7: 385, 8: 392, 9: 409, 10: 426, 11: 428, 12: 433, 13: 448, 14: 454, 15: 458, 16: 484, 17: 518, 18: 522, 19: 571, 20: 585, 21: 590, 22: 601, 23: 609, 24: 618, 25: 625, 26: 626, 27: 629, 28: 639, 29: 640, 30: 652, 31: 654, 32: 660, 33: 662, 34: 666, 35: 672, 36: 674, 37: 682, 38: 683, 39: 684, 40: 685, 41: 691, 42: 697, 43: 700, 44: 701, 45: 707, 46: 708, 47: 709, 48: 717, 49: 719, 50: 727, 51: 730, 52: 731, 53: 741, 54: 745, 55: 750, 56: 753, 57: 754, 58: 759, 59: 760, 60: 763, 61: 766, 62: 776, 63: 781, 64: 783, 65: 790, 66: 795, 67: 797, 68: 802, 69: 804, 70: 806, 71: 836, 72: 841, 73: 846, 74: 860, 75: 866, 76: 874, 77: 882, 78: 884, 79: 886, 80: 888, 81: 894, 82: 900, 83: 902, 84: 907, 85: 909, 86: 915, 87: 918, 88: 926, 89: 929, 90: 930, 91: 931, 92: 932, 93: 936, 94: 937, 95: 939, 96: 947, 97: 950, 98: 951, 99: 958, 100: 959, 101: 960, 102: 975, 103: 976, 104: 983, 105: 996, 106: 999, 107: 1007, 108: 1024, 109: 1028, 110: 1037, 111: 1038, 112: 1042, 113: 1047, 114: 1048, 115: 1049, 116: 1050, 117: 1053, 118: 1055, 119: 1056, 120: 1068, 121: 1076, 122: 1082, 123: 1092, 124: 1098, 125: 1101, 126: 1103, 127: 1107, 128: 1108, 129: 1113, 130: 1123, 131: 1126, 132: 1131, 133: 1136, 134: 1138, 135: 1149, 136: 1154, 137: 1155, 138: 1158, 139: 1163, 140: 1164, 141: 1168, 142: 1169, 143: 1175, 144: 1185, 145: 1188, 146: 1190, 147: 1193, 148: 1198, 149: 1199, 150: 1200, 151: 1201, 152: 1203, 153: 1204, 154: 1206, 155: 1207, 156: 1209, 157: 1213, 158: 1216, 159: 1217, 160: 1221, 161: 1223, 162: 1224, 163: 1225, 164: 1228, 165: 1231, 166: 1236, 167: 1237, 168: 1238, 169: 1239, 170: 1240, 171: 1244, 172: 1245, 173: 1246, 174: 1249, 175: 1255, 176: 1258, 177: 1262, 178: 1264, 179: 1271, 180: 1274, 181: 1275, 182: 1278, 183: 1282, 184: 1283, 185: 1285, 186: 1287, 187: 1288, 188: 1289, 189: 1291, 190: 1295, 191: 1297, 192: 1299, 193: 1300, 194: 1301, 195: 1308, 196: 1309, 197: 1311, 198: 1313, 199: 1316, 200: 1318, 201: 1322, 202: 1323, 203: 1330, 204: 1331, 205: 1333, 206: 1337, 207: 1338, 208: 1343, 209: 1344, 210: 1345, 211: 1346, 212: 1347, 213: 1352, 214: 1355, 215: 1358, 216: 1360, 217: 1361, 218: 1364, 219: 1366, 220: 1371, 221: 1372, 222: 1374, 223: 1376, 224: 1377, 225: 1381, 226: 1382, 227: 1386, 228: 1388, 229: 1391, 230: 1393, 231: 1402, 232: 1403, 233: 1409, 234: 1410, 235: 1412, 236: 1413, 237: 1414, 238: 1418, 239: 1422, 240: 1424, 241: 1433, 242: 1437, 243: 1442, 244: 1444, 245: 1445, 246: 1449, 247: 1453, 248: 1455, 249: 1459, 250: 1469, 251: 1471, 252: 1473, 253: 1474, 254: 1478, 255: 1480, 256: 1484, 257: 1493, 258: 1494, 259: 1495, 260: 1498, 261: 1501, 262: 1503, 263: 1505, 264: 1512, 265: 1514, 266: 1516, 267: 1520, 268: 1521, 269: 1525, 270: 1526, 271: 1530, 272: 1532, 273: 1533, 274: 1534, 275: 1537, 276: 1538, 277: 1542, 278: 1543, 279: 1544, 280: 1546, 281: 1549, 282: 1552, 283: 1553, 284: 1554, 285: 1555, 286: 1559, 287: 1567, 288: 1568, 289: 1569, 290: 1572, 291: 1574, 292: 1577, 293: 1582, 294: 1585, 295: 1591, 296: 1592, 297: 1595, 298: 1597, 299: 1602, 300: 1603, 301: 1620, 302: 1647, 303: 1655, 304: 1657, 305: 1659, 306: 1670, 307: 1680, 308: 1715, 309: 1721, 310: 1736, 311: 1740, 312: 1743, 313: 1747, 314: 1750, 315: 1755, 316: 1766, 317: 1768, 318: 1778, 319: 1795, 320: 1797, 321: 1800, 322: 1804, 323: 1808, 324: 1817, 325: 1819, 326: 1820, 327: 1823, 328: 1829, 329: 1835, 330: 1837, 331: 1842, 332: 1845, 333: 1851, 334: 1858, 335: 1860, 336: 1864, 337: 1867, 338: 1872, 339: 1880, 340: 1881, 341: 1882, 342: 1884, 343: 1887, 344: 1893, 345: 1898, 346: 1901, 347: 1905, 348: 1908, 349: 1913, 350: 1919, 351: 1922, 352: 1924, 353: 1925, 354: 1927, 355: 1928, 356: 1934, 357: 1935, 358: 1936, 359: 1938, 360: 1940, 361: 1941, 362: 1943, 363: 1950, 364: 1953, 365: 1957, 366: 1961, 367: 1963, 368: 1965, 369: 1967, 370: 1977, 371: 1979, 372: 1980, 373: 1984, 374: 1987, 375: 1995, 376: 2002, 377: 2012, 378: 2022, 379: 2028, 380: 2030, 381: 2032, 382: 2039, 383: 2051, 384: 2058, 385: 2063, 386: 2064, 387: 2069, 388: 2073, 389: 2080, 390: 2096, 391: 2100, 392: 2101, 393: 2108, 394: 2116, 395: 2118, 396: 2121, 397: 2122, 398: 2124, 399: 2132, 400: 2133, 401: 2134, 402: 2136, 403: 2141, 404: 2142, 405: 2145, 406: 2146, 407: 2149, 408: 2150, 409: 2169, 410: 2171, 411: 2181, 412: 2186, 413: 2197, 414: 2210, 415: 2212, 416: 2214, 417: 2221, 418: 2223, 419: 2225, 420: 2235, 421: 2238, 422: 2241, 423: 2246, 424: 2247, 425: 2249, 426: 2251, 427: 2255, 428: 2273, 429: 2278, 430: 2279, 431: 2284, 432: 2288, 433: 2292, 434: 2299, 435: 2301, 436: 2302, 437: 2303, 438: 2315, 439: 2319, 440: 2320, 441: 2323, 442: 2325, 443: 2326, 444: 2327, 445: 2329, 446: 2331, 447: 2333, 448: 2337, 449: 2346, 450: 2348, 451: 2353, 452: 2359, 453: 2360, 454: 2366, 455: 2375, 456: 2384, 457: 2389, 458: 2390, 459: 2394, 460: 2397, 461: 2404, 462: 2406, 463: 2415, 464: 2424, 465: 2427, 466: 2439, 467: 2442, 468: 2445, 469: 2462, 470: 2463, 471: 2473, 472: 2476, 473: 2483, 474: 2503, 475: 2507, 476: 2511, 477: 2515, 478: 2520, 479: 2522, 480: 2528, 481: 2538, 482: 2569, 483: 2570, 484: 2576, 485: 2577, 486: 2578, 487: 2579, 488: 2580, 489: 2600, 490: 2603, 491: 2606, 492: 2611, 493: 2613, 494: 2622, 495: 2625, 496: 2629, 497: 2631, 498: 2647, 499: 2659, 500: 2662, 501: 2670, 502: 2671, 503: 2675, 504: 2679, 505: 2684, 506: 2687, 507: 2697, 508: 2708, 509: 2712, 510: 2718, 511: 2728, 512: 2743, 513: 2745, 514: 2746, 515: 2748, 516: 2751, 517: 2753, 518: 2759, 519: 2760, 520: 2762, 521: 2764, 522: 2767, 523: 2775, 524: 2779, 525: 2782, 526: 2788, 527: 2799, 528: 2812, 529: 2820, 530: 2825, 531: 2828, 532: 2831, 533: 2835, 534: 2848, 535: 2859, 536: 2862, 537: 2864, 538: 2872, 539: 2892, 540: 2896, 541: 2899, 542: 2901, 543: 2910, 544: 2923, 545: 2924, 546: 2930, 547: 2957, 548: 2964, 549: 2969, 550: 2978, 551: 2991, 552: 2993, 553: 2996, 554: 3001, 555: 3016, 556: 3017, 557: 3021, 558: 3029, 559: 3031, 560: 3049, 561: 3051, 562: 3059, 563: 3060, 564: 3062, 565: 3069, 566: 3074, 567: 3077, 568: 3079, 569: 3092, 570: 3104, 571: 3105, 572: 3108, 573: 3114, 574: 3123, 575: 3124, 576: 3148, 577: 3149, 578: 3160, 579: 3161, 580: 3181, 581: 3186, 582: 3190, 583: 3195, 584: 3213, 585: 3229, 586: 3234, 587: 3235, 588: 3244, 589: 3249, 590: 3275, 591: 3331, 592: 3342, 593: 3343, 594: 3345, 595: 3349, 596: 3357, 597: 3368, 598: 3378, 599: 3380, 600: 3384, 601: 3386, 602: 3394, 603: 3398, 604: 3399, 605: 3414, 606: 3416, 607: 3422, 608: 3430, 609: 3441, 610: 3446, 611: 3447, 612: 3448, 613: 3485, 614: 3488, 615: 3496, 616: 3499, 617: 3509, 618: 3512, 619: 3518, 620: 3527, 621: 3535, 622: 3552, 623: 3556, 624: 3565, 625: 3566, 626: 3568, 627: 3573, 628: 3577, 629: 3578, 630: 3590, 631: 3594, 632: 3595, 633: 3599, 634: 3609, 635: 3612, 636: 3617, 637: 3620, 638: 3621, 639: 3622, 640: 3632, 641: 3643, 642: 3650, 643: 3651, 644: 3652, 645: 3656, 646: 3660, 647: 3676, 648: 3711, 649: 3749, 650: 3757, 651: 3758, 652: 3763, 653: 3777, 654: 3780, 655: 3804, 656: 3812, 657: 3832, 658: 3835, 659: 3844, 660: 3850, 661: 3857, 662: 3863, 663: 3868, 664: 3872, 665: 3878, 666: 3905, 667: 3913, 668: 3914, 669: 3915, 670: 3931, 671: 3939, 672: 3949, 673: 3959, 674: 3965, 675: 3966, 676: 3972, 677: 3973, 678: 3976, 679: 3979, 680: 3990, 681: 4006, 682: 4020, 683: 4042, 684: 4057, 685: 4110, 686: 4113, 687: 4139, 688: 4151, 689: 4153, 690: 4165, 691: 4169, 692: 4210, 693: 4221, 694: 4241, 695: 4249, 696: 4272, 697: 4280, 698: 4281, 699: 4297, 700: 4308, 701: 4351, 702: 4370, 703: 4380, 704: 4439, 705: 4454, 706: 4455, 707: 4463, 708: 4473, 709: 4526, 710: 4530, 711: 4576, 712: 4583, 713: 4591, 714: 4594, 715: 4605, 716: 4611, 717: 4623, 718: 4657, 719: 4675, 720: 4679, 721: 4686, 722: 4712, 723: 4716, 724: 4736, 725: 4746, 726: 4771, 727: 4788, 728: 4795, 729: 4796, 730: 4811, 731: 4817, 732: 4843, 733: 4844, 734: 4870, 735: 4933, 736: 5003, 737: 5045, 738: 5084, 739: 5096, 740: 5103, 741: 5117, 742: 5129, 743: 5150, 744: 5152, 745: 5179, 746: 5190, 747: 5234, 748: 5248, 749: 5293, 750: 5302, 751: 5324, 752: 5371, 753: 5381, 754: 5433, 755: 5493, 756: 5507, 757: 5511, 758: 5595, 759: 5711, 760: 5742, 761: 5743, 762: 5771, 763: 5800, 764: 5801, 765: 5804, 766: 5842, 767: 5848, 768: 5866, 769: 5943, 770: 5951, 771: 5954, 772: 5965, 773: 5998, 774: 6070, 775: 6078, 776: 6110, 777: 6143, 778: 6148, 779: 6187, 780: 6199, 781: 6204, 782: 6224, 783: 6229, 784: 6260, 785: 6288, 786: 6289, 787: 6304, 788: 6313, 789: 6314, 790: 6331, 791: 6350, 792: 6361, 793: 6403, 794: 6416, 795: 6419, 796: 6458, 797: 6468, 798: 6527, 799: 6560, 800: 6568, 801: 6579, 802: 6614, 803: 6615, 804: 6681, 805: 6742, 806: 6758, 807: 6761, 808: 6836, 809: 6842, 810: 6850, 811: 6872, 812: 6887, 813: 6948, 814: 6967, 815: 6999, 816: 7057, 817: 7119, 818: 7127, 819: 7166, 820: 7174, 821: 7228, 822: 7238, 823: 7253, 824: 7297, 825: 7308, 826: 7374, 827: 7393, 828: 7408, 829: 7409, 830: 7418, 831: 7432, 832: 7472, 833: 7476, 834: 7485, 835: 7511, 836: 7582, 837: 7596, 838: 7629, 839: 7678, 840: 7685, 841: 7721, 842: 7758, 843: 7763, 844: 7814, 845: 7824, 846: 7855, 847: 7865, 848: 7882, 849: 7966, 850: 7980, 851: 8065, 852: 8072, 853: 8086, 854: 8133, 855: 8229, 856: 8318, 857: 8335, 858: 8358, 859: 8386, 860: 8471, 861: 8487, 862: 8588, 863: 8613, 864: 8648, 865: 8858, 866: 8947, 867: 8978, 868: 9034, 869: 9055, 870: 9157, 871: 9271, 872: 9277, 873: 9283, 874: 9398, 875: 9436, 876: 9566, 877: 9572, 878: 9629, 879: 9857, 880: 9960, 881: 10127, 882: 10144, 883: 10222, 884: 10297, 885: 10366, 886: 10477, 887: 10623, 888: 10722, 889: 10875, 890: 10961, 891: 10974, 892: 11054, 893: 11328, 894: 11560, 895: 11590, 896: 11760, 897: 11816, 898: 11938, 899: 11998, 900: 12169, 901: 12204, 902: 12389, 903: 12579, 904: 12612, 905: 12680, 906: 12749, 907: 12976, 908: 13756, 909: 14027, 910: 14179, 911: 14318, 912: 14421, 913: 14555, 914: 14782, 915: 14896, 916: 15653, 917: 15672, 918: 15857, 919: 15945, 920: 18424}, 'savings account': {0: 'A61', 1: 'A62', 2: 'A63', 3: 'A64', 4: 'A65'}, 'present employment since': {0: 'A71', 1: 'A72', 2: 'A73', 3: 'A74', 4: 'A75'}, 'installment rate': {0: 1, 1: 2, 2: 3, 3: 4}, 'personal status/sex': {0: 'A91', 1: 'A92', 2: 'A93', 3: 'A94'}, 'present residence since': {0: 1, 1: 2, 2: 3, 3: 4}, 'property': {0: 'A121', 1: 'A122', 2: 'A123', 3: 'A124'}, 'age': {0: 'old', 1: 'young'}, 'housing': {0: 'A151', 1: 'A152', 2: 'A153'}, 'existing credits': {0: 1, 1: 2, 2: 3, 3: 4}, 'job': {0: 'A171', 1: 'A172', 2: 'A173', 3: 'A174'}, 'people to provide': {0: 1, 1: 2}}\n"
          ]
        }
      ]
    },
    {
      "cell_type": "code",
      "metadata": {
        "id": "MUIlVuJnkJ-e"
      },
      "source": [
        "#splitting dataset into majority and minority group function\n",
        "def min_maj(X,encoded):\n",
        "  if encoded==True:\n",
        "    min = X[X['age']==1].copy()\n",
        "    maj = X[X['age']==0].copy()\n",
        "  else:\n",
        "    min= X[X['age']=='young'].copy()\n",
        "    maj = X[X['age']=='old'].copy()\n",
        "  full_pipeline.fit(X)\n",
        "  min = full_pipeline.transform(min)\n",
        "  maj = full_pipeline.transform(maj)\n",
        "  return min,maj\n",
        "#measures of bias functions\n",
        "def zemel_fairness(X_min,X_maj,predictor):\n",
        "  pos_min=(list(predictor.predict(X_min)).count(1))/(len(X_min))#positive outcome rate minority group\n",
        "  print((list(predictor.predict(X_min)).count(1)),(len(X_min)))\n",
        "  pos_maj=(list(predictor.predict(X_maj)).count(1))/(len(X_maj))#positive outcome rate majority group\n",
        "  print((list(predictor.predict(X_maj)).count(1)),(len(X_maj)))\n",
        "  return pos_maj-pos_min\n",
        "def disparate_impact(X_min,X_maj,predictor):\n",
        "  pos_min=(list(predictor.predict(X_min)).count(1))/(len(X_min))#positive outcome rate minority group\n",
        "  pos_maj=(list(predictor.predict(X_maj)).count(1))/(len(X_maj))#positive outcome rate majority group\n",
        "  if pos_maj==0:\n",
        "    print(list(predictor.predict(X_maj)))\n",
        "  return pos_min/pos_maj"
      ],
      "execution_count": 7,
      "outputs": []
    },
    {
      "cell_type": "code",
      "metadata": {
        "colab": {
          "base_uri": "https://localhost:8080/"
        },
        "id": "8Ub1QjFHkNmU",
        "outputId": "671ff27f-6e0d-44a0-e36c-64b4864ad1fe"
      },
      "source": [
        "#Implement Machine Learning algorithm: SVC\n",
        "svc = LinearSVC(random_state=0,penalty='l2', loss='hinge',class_weight='balanced')\n",
        "#hyper-parameter tuning\n",
        "Cs = [0.01,0.1, 1, 10]\n",
        "svc_grid = {'C':Cs}\n",
        "svc_grid_search = GridSearchCV(svc, svc_grid, refit = True, verbose = 3, n_jobs=-1,cv=5)\n",
        "svc_grid_search.fit(X_train,y_train)\n",
        "print(\"svc best score:\", svc_grid_search.best_score_)\n",
        "print(\"svc best estimator:\",svc_grid_search.best_estimator_)\n",
        "svc = svc_grid_search.best_estimator_\n",
        "y_pred = svc.predict(X_test)\n",
        "print(classification_report(y_test, y_pred))\n",
        "svc_score=svc.score(X_test,y_test)\n",
        "print(\"model accuracy: %.5f\" % svc_score)\n",
        "print(\"balanced accuracy rate: %.5f\" % balanced_accuracy_score(y_test, y_pred))\n",
        "X_test_young,X_test_old = min_maj(X_test_orig,True)\n",
        "print(\"Zemel fairness: \",1-zemel_fairness(X_test_young,X_test_old,svc))\n",
        "print(\"Disparate Impact: \",disparate_impact(X_test_young,X_test_old,svc))\n",
        "#print(df)"
      ],
      "execution_count": 6,
      "outputs": [
        {
          "output_type": "stream",
          "text": [
            "Fitting 5 folds for each of 4 candidates, totalling 20 fits\n",
            "svc best score: 0.6777017169790147\n",
            "svc best estimator: LinearSVC(C=0.1, class_weight='balanced', dual=True, fit_intercept=True,\n",
            "          intercept_scaling=1, loss='hinge', max_iter=1000, multi_class='ovr',\n",
            "          penalty='l2', random_state=0, tol=0.0001, verbose=0)\n",
            "              precision    recall  f1-score   support\n",
            "\n",
            "           1       0.90      0.69      0.78       233\n",
            "           2       0.53      0.83      0.65       100\n",
            "\n",
            "    accuracy                           0.73       333\n",
            "   macro avg       0.72      0.76      0.71       333\n",
            "weighted avg       0.79      0.73      0.74       333\n",
            "\n",
            "model accuracy: 0.72973\n",
            "balanced accuracy rate: 0.75835\n",
            "25 73\n",
            "161 260\n",
            "Zemel fairness:  0.7232349841938883\n",
            "Disparate Impact:  0.5530502850336084\n"
          ],
          "name": "stdout"
        },
        {
          "output_type": "stream",
          "text": [
            "[Parallel(n_jobs=-1)]: Using backend LokyBackend with 2 concurrent workers.\n",
            "[Parallel(n_jobs=-1)]: Done  10 out of  20 | elapsed:    0.0s remaining:    0.0s\n",
            "[Parallel(n_jobs=-1)]: Done  20 out of  20 | elapsed:    0.1s finished\n"
          ],
          "name": "stderr"
        }
      ]
    },
    {
      "cell_type": "code",
      "metadata": {
        "colab": {
          "base_uri": "https://localhost:8080/"
        },
        "id": "MW81idBqkPyS",
        "outputId": "5d5781ea-a261-444c-a201-1f081c2f980b"
      },
      "source": [
        "#Subsample a new testing dataset in an unbiased way and representative of the task, for example, you\n",
        "#may wish to ensure gender and age diversity. Retrain your model and see how it generalises to these\n",
        "#new testing conditions. Compare your findings with the results in 3 and explain your approach.\n",
        "\n",
        "#SUBSAMPLING METHOD:\n",
        "#Ensure that each age group and gender is represented the same amount\n",
        "#First see how many of each group is in the dataset\n",
        "print(sub_df1['personal status/sex'].value_counts()) #Check gender balance in young age group\n",
        "print(sub_df2['personal status/sex'].value_counts()) #Check gender balance in old age group\n",
        "sub_df1f = sub_df1[sub_df1['personal status/sex']=='A92']\n",
        "print(\"Number of females in young age group: \",len(sub_df1f))\n",
        "sub_df1m = sub_df1[((sub_df1['personal status/sex']=='A91') | (sub_df1['personal status/sex']=='A93') | (sub_df1['personal status/sex']=='A94'))]\n",
        "print(\"Number of males in young age group: \",len(sub_df1m))\n",
        "sub_df2f = sub_df2[sub_df2['personal status/sex']=='A92']\n",
        "print(\"Number of females in old age group: \",len(sub_df2f))\n",
        "sub_df2m = sub_df2[((sub_df2['personal status/sex']=='A91') | (sub_df2['personal status/sex']=='A93') | (sub_df2['personal status/sex']=='A94'))]\n",
        "print(\"Number of males in old age group: \",len(sub_df2m))\n",
        "\n",
        "#Take 85 instances out of every sub_df\n",
        "#because there are only 85 who are young and male\n",
        "sample_indices1f = sample_without_replacement(n_population=105,n_samples=85,random_state=0)\n",
        "sample_indices1m = sample_without_replacement(n_population=85,n_samples=85,random_state=0)\n",
        "sample_indices2f = sample_without_replacement(n_population=205,n_samples=85,random_state=0)\n",
        "sample_indices2m = sample_without_replacement(n_population=605,n_samples=85,random_state=0)\n",
        "stratas = [sub_df1f,sub_df1m,sub_df2f,sub_df2m]\n",
        "sample_indices = [sample_indices1f,sample_indices1m,sample_indices2f,sample_indices2m]\n",
        "index_list = []\n",
        "sub_y=[]\n",
        "for s in range(len(stratas)):\n",
        "  for i in range(len(stratas[s])):\n",
        "    if i in sample_indices[s]:\n",
        "      index_list.append(stratas[s].index[i])\n",
        "sub_y = y[y.index.isin(index_list)]\n",
        "strat_df = bin_df[bin_df.index.isin(index_list)]\n",
        "\n",
        "#Split into test and training set\n",
        "X_train_sub, X_test_sub, y_train_sub, y_test_sub = train_test_split(strat_df.drop('class',axis=1), sub_y, test_size=0.3,random_state=0,stratify=sub_y,shuffle=True)\n",
        "X_train_sub = full_pipeline.fit_transform(X_train_sub)\n",
        "X_test_sub_orig = X_test_sub.copy()\n",
        "X_test_sub = full_pipeline.transform(X_test_sub)\n",
        "#Implement Machine Learning algorithm: SVC\n",
        "svc_sub = LinearSVC(random_state=0,penalty='l2', loss='hinge',class_weight='balanced')\n",
        "#hyperparameter tuning\n",
        "svc_sub_grid_search = GridSearchCV(svc_sub, svc_grid, refit = True, verbose = 3, n_jobs=-1,cv=5)\n",
        "svc_sub_grid_search.fit(X_train_sub,y_train_sub)\n",
        "print(\"svc best estimator:\",svc_sub_grid_search.best_estimator_)\n",
        "svc_sub = svc_sub_grid_search.best_estimator_\n",
        "#prediction\n",
        "y_pred_sub = svc_sub.predict(X_test_sub)\n",
        "print(classification_report(y_test_sub, y_pred_sub))\n",
        "svc_sub_score=svc_sub.score(X_test_sub,y_test_sub)\n",
        "print(\"model accuracy: %.5f\" % svc_sub_score)\n",
        "print(\"balanced accuracy rate: %.5f\" % balanced_accuracy_score(y_test_sub, y_pred_sub))\n",
        "X_test_sub_young,X_test_sub_old = min_maj(X_test_sub_orig,True)\n",
        "print(\"Zemel fairness: \",1-zemel_fairness(X_test_sub_young,X_test_sub_old,svc_sub))\n",
        "print(\"Disparate Impact: \",disparate_impact(X_test_sub_young,X_test_sub_old,svc_sub))"
      ],
      "execution_count": 8,
      "outputs": [
        {
          "output_type": "stream",
          "name": "stdout",
          "text": [
            "A92    105\nA93     56\nA94     27\nA91      2\nName: personal status/sex, dtype: int64\nA93    492\nA92    205\nA94     65\nA91     48\nName: personal status/sex, dtype: int64\nNumber of females in young age group:  105\nNumber of males in young age group:  85\nNumber of females in old age group:  205\nNumber of males in old age group:  605\n"
          ]
        },
        {
          "output_type": "error",
          "ename": "ValueError",
          "evalue": "could not convert string to float: 'A14'",
          "traceback": [
            "\u001b[1;31m---------------------------------------------------------------------------\u001b[0m",
            "\u001b[1;31mValueError\u001b[0m                                Traceback (most recent call last)",
            "\u001b[1;32m<ipython-input-8-e5d21a7b57af>\u001b[0m in \u001b[0;36m<module>\u001b[1;34m\u001b[0m\n\u001b[0;32m     36\u001b[0m \u001b[1;31m#Split into test and training set\u001b[0m\u001b[1;33m\u001b[0m\u001b[1;33m\u001b[0m\u001b[1;33m\u001b[0m\u001b[0m\n\u001b[0;32m     37\u001b[0m \u001b[0mX_train_sub\u001b[0m\u001b[1;33m,\u001b[0m \u001b[0mX_test_sub\u001b[0m\u001b[1;33m,\u001b[0m \u001b[0my_train_sub\u001b[0m\u001b[1;33m,\u001b[0m \u001b[0my_test_sub\u001b[0m \u001b[1;33m=\u001b[0m \u001b[0mtrain_test_split\u001b[0m\u001b[1;33m(\u001b[0m\u001b[0mstrat_df\u001b[0m\u001b[1;33m.\u001b[0m\u001b[0mdrop\u001b[0m\u001b[1;33m(\u001b[0m\u001b[1;34m'class'\u001b[0m\u001b[1;33m,\u001b[0m\u001b[0maxis\u001b[0m\u001b[1;33m=\u001b[0m\u001b[1;36m1\u001b[0m\u001b[1;33m)\u001b[0m\u001b[1;33m,\u001b[0m \u001b[0msub_y\u001b[0m\u001b[1;33m,\u001b[0m \u001b[0mtest_size\u001b[0m\u001b[1;33m=\u001b[0m\u001b[1;36m0.3\u001b[0m\u001b[1;33m,\u001b[0m\u001b[0mrandom_state\u001b[0m\u001b[1;33m=\u001b[0m\u001b[1;36m0\u001b[0m\u001b[1;33m,\u001b[0m\u001b[0mstratify\u001b[0m\u001b[1;33m=\u001b[0m\u001b[0msub_y\u001b[0m\u001b[1;33m,\u001b[0m\u001b[0mshuffle\u001b[0m\u001b[1;33m=\u001b[0m\u001b[1;32mTrue\u001b[0m\u001b[1;33m)\u001b[0m\u001b[1;33m\u001b[0m\u001b[1;33m\u001b[0m\u001b[0m\n\u001b[1;32m---> 38\u001b[1;33m \u001b[0mX_train_sub\u001b[0m \u001b[1;33m=\u001b[0m \u001b[0mfull_pipeline\u001b[0m\u001b[1;33m.\u001b[0m\u001b[0mfit_transform\u001b[0m\u001b[1;33m(\u001b[0m\u001b[0mX_train_sub\u001b[0m\u001b[1;33m)\u001b[0m\u001b[1;33m\u001b[0m\u001b[1;33m\u001b[0m\u001b[0m\n\u001b[0m\u001b[0;32m     39\u001b[0m \u001b[0mX_test_sub_orig\u001b[0m \u001b[1;33m=\u001b[0m \u001b[0mX_test_sub\u001b[0m\u001b[1;33m.\u001b[0m\u001b[0mcopy\u001b[0m\u001b[1;33m(\u001b[0m\u001b[1;33m)\u001b[0m\u001b[1;33m\u001b[0m\u001b[1;33m\u001b[0m\u001b[0m\n\u001b[0;32m     40\u001b[0m \u001b[0mX_test_sub\u001b[0m \u001b[1;33m=\u001b[0m \u001b[0mfull_pipeline\u001b[0m\u001b[1;33m.\u001b[0m\u001b[0mtransform\u001b[0m\u001b[1;33m(\u001b[0m\u001b[0mX_test_sub\u001b[0m\u001b[1;33m)\u001b[0m\u001b[1;33m\u001b[0m\u001b[1;33m\u001b[0m\u001b[0m\n",
            "\u001b[1;32m~\\anaconda3\\lib\\site-packages\\sklearn\\compose\\_column_transformer.py\u001b[0m in \u001b[0;36mfit_transform\u001b[1;34m(self, X, y)\u001b[0m\n\u001b[0;32m    529\u001b[0m         \u001b[0mself\u001b[0m\u001b[1;33m.\u001b[0m\u001b[0m_validate_remainder\u001b[0m\u001b[1;33m(\u001b[0m\u001b[0mX\u001b[0m\u001b[1;33m)\u001b[0m\u001b[1;33m\u001b[0m\u001b[1;33m\u001b[0m\u001b[0m\n\u001b[0;32m    530\u001b[0m \u001b[1;33m\u001b[0m\u001b[0m\n\u001b[1;32m--> 531\u001b[1;33m         \u001b[0mresult\u001b[0m \u001b[1;33m=\u001b[0m \u001b[0mself\u001b[0m\u001b[1;33m.\u001b[0m\u001b[0m_fit_transform\u001b[0m\u001b[1;33m(\u001b[0m\u001b[0mX\u001b[0m\u001b[1;33m,\u001b[0m \u001b[0my\u001b[0m\u001b[1;33m,\u001b[0m \u001b[0m_fit_transform_one\u001b[0m\u001b[1;33m)\u001b[0m\u001b[1;33m\u001b[0m\u001b[1;33m\u001b[0m\u001b[0m\n\u001b[0m\u001b[0;32m    532\u001b[0m \u001b[1;33m\u001b[0m\u001b[0m\n\u001b[0;32m    533\u001b[0m         \u001b[1;32mif\u001b[0m \u001b[1;32mnot\u001b[0m \u001b[0mresult\u001b[0m\u001b[1;33m:\u001b[0m\u001b[1;33m\u001b[0m\u001b[1;33m\u001b[0m\u001b[0m\n",
            "\u001b[1;32m~\\anaconda3\\lib\\site-packages\\sklearn\\compose\\_column_transformer.py\u001b[0m in \u001b[0;36m_fit_transform\u001b[1;34m(self, X, y, func, fitted)\u001b[0m\n\u001b[0;32m    456\u001b[0m             self._iter(fitted=fitted, replace_strings=True))\n\u001b[0;32m    457\u001b[0m         \u001b[1;32mtry\u001b[0m\u001b[1;33m:\u001b[0m\u001b[1;33m\u001b[0m\u001b[1;33m\u001b[0m\u001b[0m\n\u001b[1;32m--> 458\u001b[1;33m             return Parallel(n_jobs=self.n_jobs)(\n\u001b[0m\u001b[0;32m    459\u001b[0m                 delayed(func)(\n\u001b[0;32m    460\u001b[0m                     \u001b[0mtransformer\u001b[0m\u001b[1;33m=\u001b[0m\u001b[0mclone\u001b[0m\u001b[1;33m(\u001b[0m\u001b[0mtrans\u001b[0m\u001b[1;33m)\u001b[0m \u001b[1;32mif\u001b[0m \u001b[1;32mnot\u001b[0m \u001b[0mfitted\u001b[0m \u001b[1;32melse\u001b[0m \u001b[0mtrans\u001b[0m\u001b[1;33m,\u001b[0m\u001b[1;33m\u001b[0m\u001b[1;33m\u001b[0m\u001b[0m\n",
            "\u001b[1;32m~\\anaconda3\\lib\\site-packages\\joblib\\parallel.py\u001b[0m in \u001b[0;36m__call__\u001b[1;34m(self, iterable)\u001b[0m\n\u001b[0;32m   1046\u001b[0m             \u001b[1;31m# remaining jobs.\u001b[0m\u001b[1;33m\u001b[0m\u001b[1;33m\u001b[0m\u001b[1;33m\u001b[0m\u001b[0m\n\u001b[0;32m   1047\u001b[0m             \u001b[0mself\u001b[0m\u001b[1;33m.\u001b[0m\u001b[0m_iterating\u001b[0m \u001b[1;33m=\u001b[0m \u001b[1;32mFalse\u001b[0m\u001b[1;33m\u001b[0m\u001b[1;33m\u001b[0m\u001b[0m\n\u001b[1;32m-> 1048\u001b[1;33m             \u001b[1;32mif\u001b[0m \u001b[0mself\u001b[0m\u001b[1;33m.\u001b[0m\u001b[0mdispatch_one_batch\u001b[0m\u001b[1;33m(\u001b[0m\u001b[0miterator\u001b[0m\u001b[1;33m)\u001b[0m\u001b[1;33m:\u001b[0m\u001b[1;33m\u001b[0m\u001b[1;33m\u001b[0m\u001b[0m\n\u001b[0m\u001b[0;32m   1049\u001b[0m                 \u001b[0mself\u001b[0m\u001b[1;33m.\u001b[0m\u001b[0m_iterating\u001b[0m \u001b[1;33m=\u001b[0m \u001b[0mself\u001b[0m\u001b[1;33m.\u001b[0m\u001b[0m_original_iterator\u001b[0m \u001b[1;32mis\u001b[0m \u001b[1;32mnot\u001b[0m \u001b[1;32mNone\u001b[0m\u001b[1;33m\u001b[0m\u001b[1;33m\u001b[0m\u001b[0m\n\u001b[0;32m   1050\u001b[0m \u001b[1;33m\u001b[0m\u001b[0m\n",
            "\u001b[1;32m~\\anaconda3\\lib\\site-packages\\joblib\\parallel.py\u001b[0m in \u001b[0;36mdispatch_one_batch\u001b[1;34m(self, iterator)\u001b[0m\n\u001b[0;32m    864\u001b[0m                 \u001b[1;32mreturn\u001b[0m \u001b[1;32mFalse\u001b[0m\u001b[1;33m\u001b[0m\u001b[1;33m\u001b[0m\u001b[0m\n\u001b[0;32m    865\u001b[0m             \u001b[1;32melse\u001b[0m\u001b[1;33m:\u001b[0m\u001b[1;33m\u001b[0m\u001b[1;33m\u001b[0m\u001b[0m\n\u001b[1;32m--> 866\u001b[1;33m                 \u001b[0mself\u001b[0m\u001b[1;33m.\u001b[0m\u001b[0m_dispatch\u001b[0m\u001b[1;33m(\u001b[0m\u001b[0mtasks\u001b[0m\u001b[1;33m)\u001b[0m\u001b[1;33m\u001b[0m\u001b[1;33m\u001b[0m\u001b[0m\n\u001b[0m\u001b[0;32m    867\u001b[0m                 \u001b[1;32mreturn\u001b[0m \u001b[1;32mTrue\u001b[0m\u001b[1;33m\u001b[0m\u001b[1;33m\u001b[0m\u001b[0m\n\u001b[0;32m    868\u001b[0m \u001b[1;33m\u001b[0m\u001b[0m\n",
            "\u001b[1;32m~\\anaconda3\\lib\\site-packages\\joblib\\parallel.py\u001b[0m in \u001b[0;36m_dispatch\u001b[1;34m(self, batch)\u001b[0m\n\u001b[0;32m    782\u001b[0m         \u001b[1;32mwith\u001b[0m \u001b[0mself\u001b[0m\u001b[1;33m.\u001b[0m\u001b[0m_lock\u001b[0m\u001b[1;33m:\u001b[0m\u001b[1;33m\u001b[0m\u001b[1;33m\u001b[0m\u001b[0m\n\u001b[0;32m    783\u001b[0m             \u001b[0mjob_idx\u001b[0m \u001b[1;33m=\u001b[0m \u001b[0mlen\u001b[0m\u001b[1;33m(\u001b[0m\u001b[0mself\u001b[0m\u001b[1;33m.\u001b[0m\u001b[0m_jobs\u001b[0m\u001b[1;33m)\u001b[0m\u001b[1;33m\u001b[0m\u001b[1;33m\u001b[0m\u001b[0m\n\u001b[1;32m--> 784\u001b[1;33m             \u001b[0mjob\u001b[0m \u001b[1;33m=\u001b[0m \u001b[0mself\u001b[0m\u001b[1;33m.\u001b[0m\u001b[0m_backend\u001b[0m\u001b[1;33m.\u001b[0m\u001b[0mapply_async\u001b[0m\u001b[1;33m(\u001b[0m\u001b[0mbatch\u001b[0m\u001b[1;33m,\u001b[0m \u001b[0mcallback\u001b[0m\u001b[1;33m=\u001b[0m\u001b[0mcb\u001b[0m\u001b[1;33m)\u001b[0m\u001b[1;33m\u001b[0m\u001b[1;33m\u001b[0m\u001b[0m\n\u001b[0m\u001b[0;32m    785\u001b[0m             \u001b[1;31m# A job can complete so quickly than its callback is\u001b[0m\u001b[1;33m\u001b[0m\u001b[1;33m\u001b[0m\u001b[1;33m\u001b[0m\u001b[0m\n\u001b[0;32m    786\u001b[0m             \u001b[1;31m# called before we get here, causing self._jobs to\u001b[0m\u001b[1;33m\u001b[0m\u001b[1;33m\u001b[0m\u001b[1;33m\u001b[0m\u001b[0m\n",
            "\u001b[1;32m~\\anaconda3\\lib\\site-packages\\joblib\\_parallel_backends.py\u001b[0m in \u001b[0;36mapply_async\u001b[1;34m(self, func, callback)\u001b[0m\n\u001b[0;32m    206\u001b[0m     \u001b[1;32mdef\u001b[0m \u001b[0mapply_async\u001b[0m\u001b[1;33m(\u001b[0m\u001b[0mself\u001b[0m\u001b[1;33m,\u001b[0m \u001b[0mfunc\u001b[0m\u001b[1;33m,\u001b[0m \u001b[0mcallback\u001b[0m\u001b[1;33m=\u001b[0m\u001b[1;32mNone\u001b[0m\u001b[1;33m)\u001b[0m\u001b[1;33m:\u001b[0m\u001b[1;33m\u001b[0m\u001b[1;33m\u001b[0m\u001b[0m\n\u001b[0;32m    207\u001b[0m         \u001b[1;34m\"\"\"Schedule a func to be run\"\"\"\u001b[0m\u001b[1;33m\u001b[0m\u001b[1;33m\u001b[0m\u001b[0m\n\u001b[1;32m--> 208\u001b[1;33m         \u001b[0mresult\u001b[0m \u001b[1;33m=\u001b[0m \u001b[0mImmediateResult\u001b[0m\u001b[1;33m(\u001b[0m\u001b[0mfunc\u001b[0m\u001b[1;33m)\u001b[0m\u001b[1;33m\u001b[0m\u001b[1;33m\u001b[0m\u001b[0m\n\u001b[0m\u001b[0;32m    209\u001b[0m         \u001b[1;32mif\u001b[0m \u001b[0mcallback\u001b[0m\u001b[1;33m:\u001b[0m\u001b[1;33m\u001b[0m\u001b[1;33m\u001b[0m\u001b[0m\n\u001b[0;32m    210\u001b[0m             \u001b[0mcallback\u001b[0m\u001b[1;33m(\u001b[0m\u001b[0mresult\u001b[0m\u001b[1;33m)\u001b[0m\u001b[1;33m\u001b[0m\u001b[1;33m\u001b[0m\u001b[0m\n",
            "\u001b[1;32m~\\anaconda3\\lib\\site-packages\\joblib\\_parallel_backends.py\u001b[0m in \u001b[0;36m__init__\u001b[1;34m(self, batch)\u001b[0m\n\u001b[0;32m    570\u001b[0m         \u001b[1;31m# Don't delay the application, to avoid keeping the input\u001b[0m\u001b[1;33m\u001b[0m\u001b[1;33m\u001b[0m\u001b[1;33m\u001b[0m\u001b[0m\n\u001b[0;32m    571\u001b[0m         \u001b[1;31m# arguments in memory\u001b[0m\u001b[1;33m\u001b[0m\u001b[1;33m\u001b[0m\u001b[1;33m\u001b[0m\u001b[0m\n\u001b[1;32m--> 572\u001b[1;33m         \u001b[0mself\u001b[0m\u001b[1;33m.\u001b[0m\u001b[0mresults\u001b[0m \u001b[1;33m=\u001b[0m \u001b[0mbatch\u001b[0m\u001b[1;33m(\u001b[0m\u001b[1;33m)\u001b[0m\u001b[1;33m\u001b[0m\u001b[1;33m\u001b[0m\u001b[0m\n\u001b[0m\u001b[0;32m    573\u001b[0m \u001b[1;33m\u001b[0m\u001b[0m\n\u001b[0;32m    574\u001b[0m     \u001b[1;32mdef\u001b[0m \u001b[0mget\u001b[0m\u001b[1;33m(\u001b[0m\u001b[0mself\u001b[0m\u001b[1;33m)\u001b[0m\u001b[1;33m:\u001b[0m\u001b[1;33m\u001b[0m\u001b[1;33m\u001b[0m\u001b[0m\n",
            "\u001b[1;32m~\\anaconda3\\lib\\site-packages\\joblib\\parallel.py\u001b[0m in \u001b[0;36m__call__\u001b[1;34m(self)\u001b[0m\n\u001b[0;32m    260\u001b[0m         \u001b[1;31m# change the default number of processes to -1\u001b[0m\u001b[1;33m\u001b[0m\u001b[1;33m\u001b[0m\u001b[1;33m\u001b[0m\u001b[0m\n\u001b[0;32m    261\u001b[0m         \u001b[1;32mwith\u001b[0m \u001b[0mparallel_backend\u001b[0m\u001b[1;33m(\u001b[0m\u001b[0mself\u001b[0m\u001b[1;33m.\u001b[0m\u001b[0m_backend\u001b[0m\u001b[1;33m,\u001b[0m \u001b[0mn_jobs\u001b[0m\u001b[1;33m=\u001b[0m\u001b[0mself\u001b[0m\u001b[1;33m.\u001b[0m\u001b[0m_n_jobs\u001b[0m\u001b[1;33m)\u001b[0m\u001b[1;33m:\u001b[0m\u001b[1;33m\u001b[0m\u001b[1;33m\u001b[0m\u001b[0m\n\u001b[1;32m--> 262\u001b[1;33m             return [func(*args, **kwargs)\n\u001b[0m\u001b[0;32m    263\u001b[0m                     for func, args, kwargs in self.items]\n\u001b[0;32m    264\u001b[0m \u001b[1;33m\u001b[0m\u001b[0m\n",
            "\u001b[1;32m~\\anaconda3\\lib\\site-packages\\joblib\\parallel.py\u001b[0m in \u001b[0;36m<listcomp>\u001b[1;34m(.0)\u001b[0m\n\u001b[0;32m    260\u001b[0m         \u001b[1;31m# change the default number of processes to -1\u001b[0m\u001b[1;33m\u001b[0m\u001b[1;33m\u001b[0m\u001b[1;33m\u001b[0m\u001b[0m\n\u001b[0;32m    261\u001b[0m         \u001b[1;32mwith\u001b[0m \u001b[0mparallel_backend\u001b[0m\u001b[1;33m(\u001b[0m\u001b[0mself\u001b[0m\u001b[1;33m.\u001b[0m\u001b[0m_backend\u001b[0m\u001b[1;33m,\u001b[0m \u001b[0mn_jobs\u001b[0m\u001b[1;33m=\u001b[0m\u001b[0mself\u001b[0m\u001b[1;33m.\u001b[0m\u001b[0m_n_jobs\u001b[0m\u001b[1;33m)\u001b[0m\u001b[1;33m:\u001b[0m\u001b[1;33m\u001b[0m\u001b[1;33m\u001b[0m\u001b[0m\n\u001b[1;32m--> 262\u001b[1;33m             return [func(*args, **kwargs)\n\u001b[0m\u001b[0;32m    263\u001b[0m                     for func, args, kwargs in self.items]\n\u001b[0;32m    264\u001b[0m \u001b[1;33m\u001b[0m\u001b[0m\n",
            "\u001b[1;32m~\\anaconda3\\lib\\site-packages\\sklearn\\pipeline.py\u001b[0m in \u001b[0;36m_fit_transform_one\u001b[1;34m(transformer, X, y, weight, message_clsname, message, **fit_params)\u001b[0m\n\u001b[0;32m    738\u001b[0m     \u001b[1;32mwith\u001b[0m \u001b[0m_print_elapsed_time\u001b[0m\u001b[1;33m(\u001b[0m\u001b[0mmessage_clsname\u001b[0m\u001b[1;33m,\u001b[0m \u001b[0mmessage\u001b[0m\u001b[1;33m)\u001b[0m\u001b[1;33m:\u001b[0m\u001b[1;33m\u001b[0m\u001b[1;33m\u001b[0m\u001b[0m\n\u001b[0;32m    739\u001b[0m         \u001b[1;32mif\u001b[0m \u001b[0mhasattr\u001b[0m\u001b[1;33m(\u001b[0m\u001b[0mtransformer\u001b[0m\u001b[1;33m,\u001b[0m \u001b[1;34m'fit_transform'\u001b[0m\u001b[1;33m)\u001b[0m\u001b[1;33m:\u001b[0m\u001b[1;33m\u001b[0m\u001b[1;33m\u001b[0m\u001b[0m\n\u001b[1;32m--> 740\u001b[1;33m             \u001b[0mres\u001b[0m \u001b[1;33m=\u001b[0m \u001b[0mtransformer\u001b[0m\u001b[1;33m.\u001b[0m\u001b[0mfit_transform\u001b[0m\u001b[1;33m(\u001b[0m\u001b[0mX\u001b[0m\u001b[1;33m,\u001b[0m \u001b[0my\u001b[0m\u001b[1;33m,\u001b[0m \u001b[1;33m**\u001b[0m\u001b[0mfit_params\u001b[0m\u001b[1;33m)\u001b[0m\u001b[1;33m\u001b[0m\u001b[1;33m\u001b[0m\u001b[0m\n\u001b[0m\u001b[0;32m    741\u001b[0m         \u001b[1;32melse\u001b[0m\u001b[1;33m:\u001b[0m\u001b[1;33m\u001b[0m\u001b[1;33m\u001b[0m\u001b[0m\n\u001b[0;32m    742\u001b[0m             \u001b[0mres\u001b[0m \u001b[1;33m=\u001b[0m \u001b[0mtransformer\u001b[0m\u001b[1;33m.\u001b[0m\u001b[0mfit\u001b[0m\u001b[1;33m(\u001b[0m\u001b[0mX\u001b[0m\u001b[1;33m,\u001b[0m \u001b[0my\u001b[0m\u001b[1;33m,\u001b[0m \u001b[1;33m**\u001b[0m\u001b[0mfit_params\u001b[0m\u001b[1;33m)\u001b[0m\u001b[1;33m.\u001b[0m\u001b[0mtransform\u001b[0m\u001b[1;33m(\u001b[0m\u001b[0mX\u001b[0m\u001b[1;33m)\u001b[0m\u001b[1;33m\u001b[0m\u001b[1;33m\u001b[0m\u001b[0m\n",
            "\u001b[1;32m~\\anaconda3\\lib\\site-packages\\sklearn\\pipeline.py\u001b[0m in \u001b[0;36mfit_transform\u001b[1;34m(self, X, y, **fit_params)\u001b[0m\n\u001b[0;32m    374\u001b[0m             \u001b[0mfit_params_last_step\u001b[0m \u001b[1;33m=\u001b[0m \u001b[0mfit_params_steps\u001b[0m\u001b[1;33m[\u001b[0m\u001b[0mself\u001b[0m\u001b[1;33m.\u001b[0m\u001b[0msteps\u001b[0m\u001b[1;33m[\u001b[0m\u001b[1;33m-\u001b[0m\u001b[1;36m1\u001b[0m\u001b[1;33m]\u001b[0m\u001b[1;33m[\u001b[0m\u001b[1;36m0\u001b[0m\u001b[1;33m]\u001b[0m\u001b[1;33m]\u001b[0m\u001b[1;33m\u001b[0m\u001b[1;33m\u001b[0m\u001b[0m\n\u001b[0;32m    375\u001b[0m             \u001b[1;32mif\u001b[0m \u001b[0mhasattr\u001b[0m\u001b[1;33m(\u001b[0m\u001b[0mlast_step\u001b[0m\u001b[1;33m,\u001b[0m \u001b[1;34m'fit_transform'\u001b[0m\u001b[1;33m)\u001b[0m\u001b[1;33m:\u001b[0m\u001b[1;33m\u001b[0m\u001b[1;33m\u001b[0m\u001b[0m\n\u001b[1;32m--> 376\u001b[1;33m                 \u001b[1;32mreturn\u001b[0m \u001b[0mlast_step\u001b[0m\u001b[1;33m.\u001b[0m\u001b[0mfit_transform\u001b[0m\u001b[1;33m(\u001b[0m\u001b[0mXt\u001b[0m\u001b[1;33m,\u001b[0m \u001b[0my\u001b[0m\u001b[1;33m,\u001b[0m \u001b[1;33m**\u001b[0m\u001b[0mfit_params_last_step\u001b[0m\u001b[1;33m)\u001b[0m\u001b[1;33m\u001b[0m\u001b[1;33m\u001b[0m\u001b[0m\n\u001b[0m\u001b[0;32m    377\u001b[0m             \u001b[1;32melse\u001b[0m\u001b[1;33m:\u001b[0m\u001b[1;33m\u001b[0m\u001b[1;33m\u001b[0m\u001b[0m\n\u001b[0;32m    378\u001b[0m                 return last_step.fit(Xt, y,\n",
            "\u001b[1;32m~\\anaconda3\\lib\\site-packages\\sklearn\\base.py\u001b[0m in \u001b[0;36mfit_transform\u001b[1;34m(self, X, y, **fit_params)\u001b[0m\n\u001b[0;32m    688\u001b[0m         \u001b[1;32mif\u001b[0m \u001b[0my\u001b[0m \u001b[1;32mis\u001b[0m \u001b[1;32mNone\u001b[0m\u001b[1;33m:\u001b[0m\u001b[1;33m\u001b[0m\u001b[1;33m\u001b[0m\u001b[0m\n\u001b[0;32m    689\u001b[0m             \u001b[1;31m# fit method of arity 1 (unsupervised transformation)\u001b[0m\u001b[1;33m\u001b[0m\u001b[1;33m\u001b[0m\u001b[1;33m\u001b[0m\u001b[0m\n\u001b[1;32m--> 690\u001b[1;33m             \u001b[1;32mreturn\u001b[0m \u001b[0mself\u001b[0m\u001b[1;33m.\u001b[0m\u001b[0mfit\u001b[0m\u001b[1;33m(\u001b[0m\u001b[0mX\u001b[0m\u001b[1;33m,\u001b[0m \u001b[1;33m**\u001b[0m\u001b[0mfit_params\u001b[0m\u001b[1;33m)\u001b[0m\u001b[1;33m.\u001b[0m\u001b[0mtransform\u001b[0m\u001b[1;33m(\u001b[0m\u001b[0mX\u001b[0m\u001b[1;33m)\u001b[0m\u001b[1;33m\u001b[0m\u001b[1;33m\u001b[0m\u001b[0m\n\u001b[0m\u001b[0;32m    691\u001b[0m         \u001b[1;32melse\u001b[0m\u001b[1;33m:\u001b[0m\u001b[1;33m\u001b[0m\u001b[1;33m\u001b[0m\u001b[0m\n\u001b[0;32m    692\u001b[0m             \u001b[1;31m# fit method of arity 2 (supervised transformation)\u001b[0m\u001b[1;33m\u001b[0m\u001b[1;33m\u001b[0m\u001b[1;33m\u001b[0m\u001b[0m\n",
            "\u001b[1;32m~\\anaconda3\\lib\\site-packages\\sklearn\\preprocessing\\_data.py\u001b[0m in \u001b[0;36mfit\u001b[1;34m(self, X, y)\u001b[0m\n\u001b[0;32m    665\u001b[0m         \u001b[1;31m# Reset internal state before fitting\u001b[0m\u001b[1;33m\u001b[0m\u001b[1;33m\u001b[0m\u001b[1;33m\u001b[0m\u001b[0m\n\u001b[0;32m    666\u001b[0m         \u001b[0mself\u001b[0m\u001b[1;33m.\u001b[0m\u001b[0m_reset\u001b[0m\u001b[1;33m(\u001b[0m\u001b[1;33m)\u001b[0m\u001b[1;33m\u001b[0m\u001b[1;33m\u001b[0m\u001b[0m\n\u001b[1;32m--> 667\u001b[1;33m         \u001b[1;32mreturn\u001b[0m \u001b[0mself\u001b[0m\u001b[1;33m.\u001b[0m\u001b[0mpartial_fit\u001b[0m\u001b[1;33m(\u001b[0m\u001b[0mX\u001b[0m\u001b[1;33m,\u001b[0m \u001b[0my\u001b[0m\u001b[1;33m)\u001b[0m\u001b[1;33m\u001b[0m\u001b[1;33m\u001b[0m\u001b[0m\n\u001b[0m\u001b[0;32m    668\u001b[0m \u001b[1;33m\u001b[0m\u001b[0m\n\u001b[0;32m    669\u001b[0m     \u001b[1;32mdef\u001b[0m \u001b[0mpartial_fit\u001b[0m\u001b[1;33m(\u001b[0m\u001b[0mself\u001b[0m\u001b[1;33m,\u001b[0m \u001b[0mX\u001b[0m\u001b[1;33m,\u001b[0m \u001b[0my\u001b[0m\u001b[1;33m=\u001b[0m\u001b[1;32mNone\u001b[0m\u001b[1;33m)\u001b[0m\u001b[1;33m:\u001b[0m\u001b[1;33m\u001b[0m\u001b[1;33m\u001b[0m\u001b[0m\n",
            "\u001b[1;32m~\\anaconda3\\lib\\site-packages\\sklearn\\preprocessing\\_data.py\u001b[0m in \u001b[0;36mpartial_fit\u001b[1;34m(self, X, y)\u001b[0m\n\u001b[0;32m    694\u001b[0m             \u001b[0mTransformer\u001b[0m \u001b[0minstance\u001b[0m\u001b[1;33m.\u001b[0m\u001b[1;33m\u001b[0m\u001b[1;33m\u001b[0m\u001b[0m\n\u001b[0;32m    695\u001b[0m         \"\"\"\n\u001b[1;32m--> 696\u001b[1;33m         X = self._validate_data(X, accept_sparse=('csr', 'csc'),\n\u001b[0m\u001b[0;32m    697\u001b[0m                                 \u001b[0mestimator\u001b[0m\u001b[1;33m=\u001b[0m\u001b[0mself\u001b[0m\u001b[1;33m,\u001b[0m \u001b[0mdtype\u001b[0m\u001b[1;33m=\u001b[0m\u001b[0mFLOAT_DTYPES\u001b[0m\u001b[1;33m,\u001b[0m\u001b[1;33m\u001b[0m\u001b[1;33m\u001b[0m\u001b[0m\n\u001b[0;32m    698\u001b[0m                                 force_all_finite='allow-nan')\n",
            "\u001b[1;32m~\\anaconda3\\lib\\site-packages\\sklearn\\base.py\u001b[0m in \u001b[0;36m_validate_data\u001b[1;34m(self, X, y, reset, validate_separately, **check_params)\u001b[0m\n\u001b[0;32m    418\u001b[0m                     \u001b[1;34mf\"requires y to be passed, but the target y is None.\"\u001b[0m\u001b[1;33m\u001b[0m\u001b[1;33m\u001b[0m\u001b[0m\n\u001b[0;32m    419\u001b[0m                 )\n\u001b[1;32m--> 420\u001b[1;33m             \u001b[0mX\u001b[0m \u001b[1;33m=\u001b[0m \u001b[0mcheck_array\u001b[0m\u001b[1;33m(\u001b[0m\u001b[0mX\u001b[0m\u001b[1;33m,\u001b[0m \u001b[1;33m**\u001b[0m\u001b[0mcheck_params\u001b[0m\u001b[1;33m)\u001b[0m\u001b[1;33m\u001b[0m\u001b[1;33m\u001b[0m\u001b[0m\n\u001b[0m\u001b[0;32m    421\u001b[0m             \u001b[0mout\u001b[0m \u001b[1;33m=\u001b[0m \u001b[0mX\u001b[0m\u001b[1;33m\u001b[0m\u001b[1;33m\u001b[0m\u001b[0m\n\u001b[0;32m    422\u001b[0m         \u001b[1;32melse\u001b[0m\u001b[1;33m:\u001b[0m\u001b[1;33m\u001b[0m\u001b[1;33m\u001b[0m\u001b[0m\n",
            "\u001b[1;32m~\\anaconda3\\lib\\site-packages\\sklearn\\utils\\validation.py\u001b[0m in \u001b[0;36minner_f\u001b[1;34m(*args, **kwargs)\u001b[0m\n\u001b[0;32m     70\u001b[0m                           FutureWarning)\n\u001b[0;32m     71\u001b[0m         \u001b[0mkwargs\u001b[0m\u001b[1;33m.\u001b[0m\u001b[0mupdate\u001b[0m\u001b[1;33m(\u001b[0m\u001b[1;33m{\u001b[0m\u001b[0mk\u001b[0m\u001b[1;33m:\u001b[0m \u001b[0marg\u001b[0m \u001b[1;32mfor\u001b[0m \u001b[0mk\u001b[0m\u001b[1;33m,\u001b[0m \u001b[0marg\u001b[0m \u001b[1;32min\u001b[0m \u001b[0mzip\u001b[0m\u001b[1;33m(\u001b[0m\u001b[0msig\u001b[0m\u001b[1;33m.\u001b[0m\u001b[0mparameters\u001b[0m\u001b[1;33m,\u001b[0m \u001b[0margs\u001b[0m\u001b[1;33m)\u001b[0m\u001b[1;33m}\u001b[0m\u001b[1;33m)\u001b[0m\u001b[1;33m\u001b[0m\u001b[1;33m\u001b[0m\u001b[0m\n\u001b[1;32m---> 72\u001b[1;33m         \u001b[1;32mreturn\u001b[0m \u001b[0mf\u001b[0m\u001b[1;33m(\u001b[0m\u001b[1;33m**\u001b[0m\u001b[0mkwargs\u001b[0m\u001b[1;33m)\u001b[0m\u001b[1;33m\u001b[0m\u001b[1;33m\u001b[0m\u001b[0m\n\u001b[0m\u001b[0;32m     73\u001b[0m     \u001b[1;32mreturn\u001b[0m \u001b[0minner_f\u001b[0m\u001b[1;33m\u001b[0m\u001b[1;33m\u001b[0m\u001b[0m\n\u001b[0;32m     74\u001b[0m \u001b[1;33m\u001b[0m\u001b[0m\n",
            "\u001b[1;32m~\\anaconda3\\lib\\site-packages\\sklearn\\utils\\validation.py\u001b[0m in \u001b[0;36mcheck_array\u001b[1;34m(array, accept_sparse, accept_large_sparse, dtype, order, copy, force_all_finite, ensure_2d, allow_nd, ensure_min_samples, ensure_min_features, estimator)\u001b[0m\n\u001b[0;32m    596\u001b[0m                     \u001b[0marray\u001b[0m \u001b[1;33m=\u001b[0m \u001b[0marray\u001b[0m\u001b[1;33m.\u001b[0m\u001b[0mastype\u001b[0m\u001b[1;33m(\u001b[0m\u001b[0mdtype\u001b[0m\u001b[1;33m,\u001b[0m \u001b[0mcasting\u001b[0m\u001b[1;33m=\u001b[0m\u001b[1;34m\"unsafe\"\u001b[0m\u001b[1;33m,\u001b[0m \u001b[0mcopy\u001b[0m\u001b[1;33m=\u001b[0m\u001b[1;32mFalse\u001b[0m\u001b[1;33m)\u001b[0m\u001b[1;33m\u001b[0m\u001b[1;33m\u001b[0m\u001b[0m\n\u001b[0;32m    597\u001b[0m                 \u001b[1;32melse\u001b[0m\u001b[1;33m:\u001b[0m\u001b[1;33m\u001b[0m\u001b[1;33m\u001b[0m\u001b[0m\n\u001b[1;32m--> 598\u001b[1;33m                     \u001b[0marray\u001b[0m \u001b[1;33m=\u001b[0m \u001b[0mnp\u001b[0m\u001b[1;33m.\u001b[0m\u001b[0masarray\u001b[0m\u001b[1;33m(\u001b[0m\u001b[0marray\u001b[0m\u001b[1;33m,\u001b[0m \u001b[0morder\u001b[0m\u001b[1;33m=\u001b[0m\u001b[0morder\u001b[0m\u001b[1;33m,\u001b[0m \u001b[0mdtype\u001b[0m\u001b[1;33m=\u001b[0m\u001b[0mdtype\u001b[0m\u001b[1;33m)\u001b[0m\u001b[1;33m\u001b[0m\u001b[1;33m\u001b[0m\u001b[0m\n\u001b[0m\u001b[0;32m    599\u001b[0m             \u001b[1;32mexcept\u001b[0m \u001b[0mComplexWarning\u001b[0m\u001b[1;33m:\u001b[0m\u001b[1;33m\u001b[0m\u001b[1;33m\u001b[0m\u001b[0m\n\u001b[0;32m    600\u001b[0m                 raise ValueError(\"Complex data not supported\\n\"\n",
            "\u001b[1;32m~\\anaconda3\\lib\\site-packages\\numpy\\core\\_asarray.py\u001b[0m in \u001b[0;36masarray\u001b[1;34m(a, dtype, order)\u001b[0m\n\u001b[0;32m     81\u001b[0m \u001b[1;33m\u001b[0m\u001b[0m\n\u001b[0;32m     82\u001b[0m     \"\"\"\n\u001b[1;32m---> 83\u001b[1;33m     \u001b[1;32mreturn\u001b[0m \u001b[0marray\u001b[0m\u001b[1;33m(\u001b[0m\u001b[0ma\u001b[0m\u001b[1;33m,\u001b[0m \u001b[0mdtype\u001b[0m\u001b[1;33m,\u001b[0m \u001b[0mcopy\u001b[0m\u001b[1;33m=\u001b[0m\u001b[1;32mFalse\u001b[0m\u001b[1;33m,\u001b[0m \u001b[0morder\u001b[0m\u001b[1;33m=\u001b[0m\u001b[0morder\u001b[0m\u001b[1;33m)\u001b[0m\u001b[1;33m\u001b[0m\u001b[1;33m\u001b[0m\u001b[0m\n\u001b[0m\u001b[0;32m     84\u001b[0m \u001b[1;33m\u001b[0m\u001b[0m\n\u001b[0;32m     85\u001b[0m \u001b[1;33m\u001b[0m\u001b[0m\n",
            "\u001b[1;32m~\\anaconda3\\lib\\site-packages\\pandas\\core\\generic.py\u001b[0m in \u001b[0;36m__array__\u001b[1;34m(self, dtype)\u001b[0m\n\u001b[0;32m   1779\u001b[0m \u001b[1;33m\u001b[0m\u001b[0m\n\u001b[0;32m   1780\u001b[0m     \u001b[1;32mdef\u001b[0m \u001b[0m__array__\u001b[0m\u001b[1;33m(\u001b[0m\u001b[0mself\u001b[0m\u001b[1;33m,\u001b[0m \u001b[0mdtype\u001b[0m\u001b[1;33m=\u001b[0m\u001b[1;32mNone\u001b[0m\u001b[1;33m)\u001b[0m \u001b[1;33m->\u001b[0m \u001b[0mnp\u001b[0m\u001b[1;33m.\u001b[0m\u001b[0mndarray\u001b[0m\u001b[1;33m:\u001b[0m\u001b[1;33m\u001b[0m\u001b[1;33m\u001b[0m\u001b[0m\n\u001b[1;32m-> 1781\u001b[1;33m         \u001b[1;32mreturn\u001b[0m \u001b[0mnp\u001b[0m\u001b[1;33m.\u001b[0m\u001b[0masarray\u001b[0m\u001b[1;33m(\u001b[0m\u001b[0mself\u001b[0m\u001b[1;33m.\u001b[0m\u001b[0m_values\u001b[0m\u001b[1;33m,\u001b[0m \u001b[0mdtype\u001b[0m\u001b[1;33m=\u001b[0m\u001b[0mdtype\u001b[0m\u001b[1;33m)\u001b[0m\u001b[1;33m\u001b[0m\u001b[1;33m\u001b[0m\u001b[0m\n\u001b[0m\u001b[0;32m   1782\u001b[0m \u001b[1;33m\u001b[0m\u001b[0m\n\u001b[0;32m   1783\u001b[0m     \u001b[1;32mdef\u001b[0m \u001b[0m__array_wrap__\u001b[0m\u001b[1;33m(\u001b[0m\u001b[0mself\u001b[0m\u001b[1;33m,\u001b[0m \u001b[0mresult\u001b[0m\u001b[1;33m,\u001b[0m \u001b[0mcontext\u001b[0m\u001b[1;33m=\u001b[0m\u001b[1;32mNone\u001b[0m\u001b[1;33m)\u001b[0m\u001b[1;33m:\u001b[0m\u001b[1;33m\u001b[0m\u001b[1;33m\u001b[0m\u001b[0m\n",
            "\u001b[1;32m~\\anaconda3\\lib\\site-packages\\numpy\\core\\_asarray.py\u001b[0m in \u001b[0;36masarray\u001b[1;34m(a, dtype, order)\u001b[0m\n\u001b[0;32m     81\u001b[0m \u001b[1;33m\u001b[0m\u001b[0m\n\u001b[0;32m     82\u001b[0m     \"\"\"\n\u001b[1;32m---> 83\u001b[1;33m     \u001b[1;32mreturn\u001b[0m \u001b[0marray\u001b[0m\u001b[1;33m(\u001b[0m\u001b[0ma\u001b[0m\u001b[1;33m,\u001b[0m \u001b[0mdtype\u001b[0m\u001b[1;33m,\u001b[0m \u001b[0mcopy\u001b[0m\u001b[1;33m=\u001b[0m\u001b[1;32mFalse\u001b[0m\u001b[1;33m,\u001b[0m \u001b[0morder\u001b[0m\u001b[1;33m=\u001b[0m\u001b[0morder\u001b[0m\u001b[1;33m)\u001b[0m\u001b[1;33m\u001b[0m\u001b[1;33m\u001b[0m\u001b[0m\n\u001b[0m\u001b[0;32m     84\u001b[0m \u001b[1;33m\u001b[0m\u001b[0m\n\u001b[0;32m     85\u001b[0m \u001b[1;33m\u001b[0m\u001b[0m\n",
            "\u001b[1;31mValueError\u001b[0m: could not convert string to float: 'A14'"
          ]
        }
      ]
    },
    {
      "cell_type": "code",
      "metadata": {
        "colab": {
          "base_uri": "https://localhost:8080/"
        },
        "id": "q5h9K6Y-kShG",
        "outputId": "223f9a0c-b985-4a0e-9cc1-4720ece9ee20"
      },
      "source": [
        "#Implement the fair ML solution used in your project\n",
        "#Repair toll from Feldman et al.\n",
        "def unique_value_data_structures(df):\n",
        "  sorted_lists = {}\n",
        "  index_lookups = {}\n",
        "  for col in df.columns:\n",
        "    lst = list(df[col].unique())\n",
        "    sorted_list = sorted(lst)\n",
        "    sorted_lists[col]=sorted_list\n",
        "    index_lookup = {}\n",
        "    for i in range(len(sorted_list)):\n",
        "      index_lookup[sorted_list[i]]=i\n",
        "    index_lookups[col]=index_lookup\n",
        "  return sorted_lists,index_lookups\n",
        "\n",
        "\n",
        "def repair(requested_repair_type,df,all_stratified_combinations,number_of_quantiles,sorted_lists,index_lookups,lamb,new_df):\n",
        "  print(lamb)\n",
        "  quantile_unit = 1.0/number_of_quantiles\n",
        "  for col in df.columns:\n",
        "    if col=='age' or col=='personal status/sex':# or col=='class':\n",
        "      continue\n",
        "    group_offsets={}\n",
        "    for i in range(len(all_stratified_combinations)):#for each subgroup sort by the column that is being repaired\n",
        "      group_offsets[i]=0\n",
        "      all_stratified_combinations[i].sort_values(by=col,inplace=True)\n",
        "    for q in range(number_of_quantiles):#for each quantile get the median\n",
        "      median_values_at_quantile = []\n",
        "      entries_at_quantile = []\n",
        "      values_at_quantile =[]\n",
        "      for i in range(len(all_stratified_combinations)): #for each subgroup get the median for the quantile\n",
        "        group=all_stratified_combinations[i]\n",
        "        offset = group_offsets[i]\n",
        "        number_of_entries = int(np.floor(len(group)*quantile_unit))\n",
        "        if number_of_entries<1:\n",
        "          number_of_entries+=1\n",
        "        if offset+number_of_entries<(quantile_unit*len(group)*(q)):\n",
        "          number_of_entries+=1\n",
        "        group_offsets[i]+=number_of_entries\n",
        "        IDs = (group.iloc[offset:(offset+number_of_entries)]).index\n",
        "        #select the IDs/indices of the instances to belong in the quantile\n",
        "        entries_at_quantile.extend(list(IDs))\n",
        "        values = list(group.loc[pd.Index(IDs),col])\n",
        "        median_values_at_quantile.append(median_low(values))\n",
        "      #take the median from the median for each group of this quantile \n",
        "      target_value = median_low(median_values_at_quantile)\n",
        "      position_of_target = index_lookups[col][target_value]\n",
        "      for i in range(len(entries_at_quantile)):#repair each value\n",
        "        ID = entries_at_quantile[i]\n",
        "        value = int(df.loc[ID,col])\n",
        "        #select value from column, in D, where ID = entry ID\n",
        "        if requested_repair_type=='combinatorial':\n",
        "          position_of_original_value = index_lookups[col][value]\n",
        "          distance = position_of_target-position_of_original_value\n",
        "          distance_to_repair=int(np.round(distance*lamb))\n",
        "          index_of_repair_value = position_of_original_value+distance_to_repair\n",
        "          repair_value=sorted_lists[col][index_of_repair_value]\n",
        "        else:\n",
        "          repair_value = (1-lamb)*value+lamb*target_value\n",
        "        #update D',set column=repair_value,where ID=entryID\n",
        "        new_df.loc[ID,col]=repair_value\n",
        "  return new_df\n",
        "\n",
        "df_c = df.copy()\n",
        "sorted_lists,index_lookups = unique_value_data_structures(df_c)\n",
        "print(sorted_lists)\n",
        "print(index_lookups)\n",
        "print(df_c)\n",
        "df_young = (df_c[df_c['age']==0]).copy()\n",
        "df_old = (df_c[df_c['age']==1]).copy()\n",
        "all_stratified_combinations = [df_young,df_old]\n",
        "#number of quantiles equal to size of smallest group\n",
        "number_of_quantiles=min(len(df_young),len(df_old))\n",
        "new_df10g = df_c.copy()\n",
        "new_df10g=repair('geo',df_c,all_stratified_combinations,number_of_quantiles,sorted_lists,index_lookups,1,new_df10g)\n"
      ],
      "execution_count": 8,
      "outputs": [
        {
          "output_type": "stream",
          "text": [
            "{'checking account': [0, 1, 2, 3], 'duration': [4, 5, 6, 7, 8, 9, 10, 11, 12, 13, 14, 15, 16, 18, 20, 21, 22, 24, 26, 27, 28, 30, 33, 36, 39, 40, 42, 45, 47, 48, 54, 60, 72], 'credit history': [0, 1, 2, 3, 4], 'credit amount': [250, 276, 338, 339, 343, 362, 368, 385, 392, 409, 426, 428, 433, 448, 454, 458, 484, 518, 522, 571, 585, 590, 601, 609, 618, 625, 626, 629, 639, 640, 652, 654, 660, 662, 666, 672, 674, 682, 683, 684, 685, 691, 697, 700, 701, 707, 708, 709, 717, 719, 727, 730, 731, 741, 745, 750, 753, 754, 759, 760, 763, 766, 776, 781, 783, 790, 795, 797, 802, 804, 806, 836, 841, 846, 860, 866, 874, 882, 884, 886, 888, 894, 900, 902, 907, 909, 915, 918, 926, 929, 930, 931, 932, 936, 937, 939, 947, 950, 951, 958, 959, 960, 975, 976, 983, 996, 999, 1007, 1024, 1028, 1037, 1038, 1042, 1047, 1048, 1049, 1050, 1053, 1055, 1056, 1068, 1076, 1082, 1092, 1098, 1101, 1103, 1107, 1108, 1113, 1123, 1126, 1131, 1136, 1138, 1149, 1154, 1155, 1158, 1163, 1164, 1168, 1169, 1175, 1185, 1188, 1190, 1193, 1198, 1199, 1200, 1201, 1203, 1204, 1206, 1207, 1209, 1213, 1216, 1217, 1221, 1223, 1224, 1225, 1228, 1231, 1236, 1237, 1238, 1239, 1240, 1244, 1245, 1246, 1249, 1255, 1258, 1262, 1264, 1271, 1274, 1275, 1278, 1282, 1283, 1285, 1287, 1288, 1289, 1291, 1295, 1297, 1299, 1300, 1301, 1308, 1309, 1311, 1313, 1316, 1318, 1322, 1323, 1330, 1331, 1333, 1337, 1338, 1343, 1344, 1345, 1346, 1347, 1352, 1355, 1358, 1360, 1361, 1364, 1366, 1371, 1372, 1374, 1376, 1377, 1381, 1382, 1386, 1388, 1391, 1393, 1402, 1403, 1409, 1410, 1412, 1413, 1414, 1418, 1422, 1424, 1433, 1437, 1442, 1444, 1445, 1449, 1453, 1455, 1459, 1469, 1471, 1473, 1474, 1478, 1480, 1484, 1493, 1494, 1495, 1498, 1501, 1503, 1505, 1512, 1514, 1516, 1520, 1521, 1525, 1526, 1530, 1532, 1533, 1534, 1537, 1538, 1542, 1543, 1544, 1546, 1549, 1552, 1553, 1554, 1555, 1559, 1567, 1568, 1569, 1572, 1574, 1577, 1582, 1585, 1591, 1592, 1595, 1597, 1602, 1603, 1620, 1647, 1655, 1657, 1659, 1670, 1680, 1715, 1721, 1736, 1740, 1743, 1747, 1750, 1755, 1766, 1768, 1778, 1795, 1797, 1800, 1804, 1808, 1817, 1819, 1820, 1823, 1829, 1835, 1837, 1842, 1845, 1851, 1858, 1860, 1864, 1867, 1872, 1880, 1881, 1882, 1884, 1887, 1893, 1898, 1901, 1905, 1908, 1913, 1919, 1922, 1924, 1925, 1927, 1928, 1934, 1935, 1936, 1938, 1940, 1941, 1943, 1950, 1953, 1957, 1961, 1963, 1965, 1967, 1977, 1979, 1980, 1984, 1987, 1995, 2002, 2012, 2022, 2028, 2030, 2032, 2039, 2051, 2058, 2063, 2064, 2069, 2073, 2080, 2096, 2100, 2101, 2108, 2116, 2118, 2121, 2122, 2124, 2132, 2133, 2134, 2136, 2141, 2142, 2145, 2146, 2149, 2150, 2169, 2171, 2181, 2186, 2197, 2210, 2212, 2214, 2221, 2223, 2225, 2235, 2238, 2241, 2246, 2247, 2249, 2251, 2255, 2273, 2278, 2279, 2284, 2288, 2292, 2299, 2301, 2302, 2303, 2315, 2319, 2320, 2323, 2325, 2326, 2327, 2329, 2331, 2333, 2337, 2346, 2348, 2353, 2359, 2360, 2366, 2375, 2384, 2389, 2390, 2394, 2397, 2404, 2406, 2415, 2424, 2427, 2439, 2442, 2445, 2462, 2463, 2473, 2476, 2483, 2503, 2507, 2511, 2515, 2520, 2522, 2528, 2538, 2569, 2570, 2576, 2577, 2578, 2579, 2580, 2600, 2603, 2606, 2611, 2613, 2622, 2625, 2629, 2631, 2647, 2659, 2662, 2670, 2671, 2675, 2679, 2684, 2687, 2697, 2708, 2712, 2718, 2728, 2743, 2745, 2746, 2748, 2751, 2753, 2759, 2760, 2762, 2764, 2767, 2775, 2779, 2782, 2788, 2799, 2812, 2820, 2825, 2828, 2831, 2835, 2848, 2859, 2862, 2864, 2872, 2892, 2896, 2899, 2901, 2910, 2923, 2924, 2930, 2957, 2964, 2969, 2978, 2991, 2993, 2996, 3001, 3016, 3017, 3021, 3029, 3031, 3049, 3051, 3059, 3060, 3062, 3069, 3074, 3077, 3079, 3092, 3104, 3105, 3108, 3114, 3123, 3124, 3148, 3149, 3160, 3161, 3181, 3186, 3190, 3195, 3213, 3229, 3234, 3235, 3244, 3249, 3275, 3331, 3342, 3343, 3345, 3349, 3357, 3368, 3378, 3380, 3384, 3386, 3394, 3398, 3399, 3414, 3416, 3422, 3430, 3441, 3446, 3447, 3448, 3485, 3488, 3496, 3499, 3509, 3512, 3518, 3527, 3535, 3552, 3556, 3565, 3566, 3568, 3573, 3577, 3578, 3590, 3594, 3595, 3599, 3609, 3612, 3617, 3620, 3621, 3622, 3632, 3643, 3650, 3651, 3652, 3656, 3660, 3676, 3711, 3749, 3757, 3758, 3763, 3777, 3780, 3804, 3812, 3832, 3835, 3844, 3850, 3857, 3863, 3868, 3872, 3878, 3905, 3913, 3914, 3915, 3931, 3939, 3949, 3959, 3965, 3966, 3972, 3973, 3976, 3979, 3990, 4006, 4020, 4042, 4057, 4110, 4113, 4139, 4151, 4153, 4165, 4169, 4210, 4221, 4241, 4249, 4272, 4280, 4281, 4297, 4308, 4351, 4370, 4380, 4439, 4454, 4455, 4463, 4473, 4526, 4530, 4576, 4583, 4591, 4594, 4605, 4611, 4623, 4657, 4675, 4679, 4686, 4712, 4716, 4736, 4746, 4771, 4788, 4795, 4796, 4811, 4817, 4843, 4844, 4870, 4933, 5003, 5045, 5084, 5096, 5103, 5117, 5129, 5150, 5152, 5179, 5190, 5234, 5248, 5293, 5302, 5324, 5371, 5381, 5433, 5493, 5507, 5511, 5595, 5711, 5742, 5743, 5771, 5800, 5801, 5804, 5842, 5848, 5866, 5943, 5951, 5954, 5965, 5998, 6070, 6078, 6110, 6143, 6148, 6187, 6199, 6204, 6224, 6229, 6260, 6288, 6289, 6304, 6313, 6314, 6331, 6350, 6361, 6403, 6416, 6419, 6458, 6468, 6527, 6560, 6568, 6579, 6614, 6615, 6681, 6742, 6758, 6761, 6836, 6842, 6850, 6872, 6887, 6948, 6967, 6999, 7057, 7119, 7127, 7166, 7174, 7228, 7238, 7253, 7297, 7308, 7374, 7393, 7408, 7409, 7418, 7432, 7472, 7476, 7485, 7511, 7582, 7596, 7629, 7678, 7685, 7721, 7758, 7763, 7814, 7824, 7855, 7865, 7882, 7966, 7980, 8065, 8072, 8086, 8133, 8229, 8318, 8335, 8358, 8386, 8471, 8487, 8588, 8613, 8648, 8858, 8947, 8978, 9034, 9055, 9157, 9271, 9277, 9283, 9398, 9436, 9566, 9572, 9629, 9857, 9960, 10127, 10144, 10222, 10297, 10366, 10477, 10623, 10722, 10875, 10961, 10974, 11054, 11328, 11560, 11590, 11760, 11816, 11938, 11998, 12169, 12204, 12389, 12579, 12612, 12680, 12749, 12976, 13756, 14027, 14179, 14318, 14421, 14555, 14782, 14896, 15653, 15672, 15857, 15945, 18424], 'savings account': [0, 1, 2, 3, 4], 'present employment since': [0, 1, 2, 3, 4], 'installment rate': [1, 2, 3, 4], 'personal status/sex': [0, 1, 2, 3], 'present residence since': [1, 2, 3, 4], 'property': [0, 1, 2, 3], 'age': [0, 1], 'housing': [0, 1, 2], 'existing credits': [1, 2, 3, 4], 'job': [0, 1, 2, 3], 'people to provide': [1, 2], 'class': [1, 2]}\n",
            "{'checking account': {0: 0, 1: 1, 2: 2, 3: 3}, 'duration': {4: 0, 5: 1, 6: 2, 7: 3, 8: 4, 9: 5, 10: 6, 11: 7, 12: 8, 13: 9, 14: 10, 15: 11, 16: 12, 18: 13, 20: 14, 21: 15, 22: 16, 24: 17, 26: 18, 27: 19, 28: 20, 30: 21, 33: 22, 36: 23, 39: 24, 40: 25, 42: 26, 45: 27, 47: 28, 48: 29, 54: 30, 60: 31, 72: 32}, 'credit history': {0: 0, 1: 1, 2: 2, 3: 3, 4: 4}, 'credit amount': {250: 0, 276: 1, 338: 2, 339: 3, 343: 4, 362: 5, 368: 6, 385: 7, 392: 8, 409: 9, 426: 10, 428: 11, 433: 12, 448: 13, 454: 14, 458: 15, 484: 16, 518: 17, 522: 18, 571: 19, 585: 20, 590: 21, 601: 22, 609: 23, 618: 24, 625: 25, 626: 26, 629: 27, 639: 28, 640: 29, 652: 30, 654: 31, 660: 32, 662: 33, 666: 34, 672: 35, 674: 36, 682: 37, 683: 38, 684: 39, 685: 40, 691: 41, 697: 42, 700: 43, 701: 44, 707: 45, 708: 46, 709: 47, 717: 48, 719: 49, 727: 50, 730: 51, 731: 52, 741: 53, 745: 54, 750: 55, 753: 56, 754: 57, 759: 58, 760: 59, 763: 60, 766: 61, 776: 62, 781: 63, 783: 64, 790: 65, 795: 66, 797: 67, 802: 68, 804: 69, 806: 70, 836: 71, 841: 72, 846: 73, 860: 74, 866: 75, 874: 76, 882: 77, 884: 78, 886: 79, 888: 80, 894: 81, 900: 82, 902: 83, 907: 84, 909: 85, 915: 86, 918: 87, 926: 88, 929: 89, 930: 90, 931: 91, 932: 92, 936: 93, 937: 94, 939: 95, 947: 96, 950: 97, 951: 98, 958: 99, 959: 100, 960: 101, 975: 102, 976: 103, 983: 104, 996: 105, 999: 106, 1007: 107, 1024: 108, 1028: 109, 1037: 110, 1038: 111, 1042: 112, 1047: 113, 1048: 114, 1049: 115, 1050: 116, 1053: 117, 1055: 118, 1056: 119, 1068: 120, 1076: 121, 1082: 122, 1092: 123, 1098: 124, 1101: 125, 1103: 126, 1107: 127, 1108: 128, 1113: 129, 1123: 130, 1126: 131, 1131: 132, 1136: 133, 1138: 134, 1149: 135, 1154: 136, 1155: 137, 1158: 138, 1163: 139, 1164: 140, 1168: 141, 1169: 142, 1175: 143, 1185: 144, 1188: 145, 1190: 146, 1193: 147, 1198: 148, 1199: 149, 1200: 150, 1201: 151, 1203: 152, 1204: 153, 1206: 154, 1207: 155, 1209: 156, 1213: 157, 1216: 158, 1217: 159, 1221: 160, 1223: 161, 1224: 162, 1225: 163, 1228: 164, 1231: 165, 1236: 166, 1237: 167, 1238: 168, 1239: 169, 1240: 170, 1244: 171, 1245: 172, 1246: 173, 1249: 174, 1255: 175, 1258: 176, 1262: 177, 1264: 178, 1271: 179, 1274: 180, 1275: 181, 1278: 182, 1282: 183, 1283: 184, 1285: 185, 1287: 186, 1288: 187, 1289: 188, 1291: 189, 1295: 190, 1297: 191, 1299: 192, 1300: 193, 1301: 194, 1308: 195, 1309: 196, 1311: 197, 1313: 198, 1316: 199, 1318: 200, 1322: 201, 1323: 202, 1330: 203, 1331: 204, 1333: 205, 1337: 206, 1338: 207, 1343: 208, 1344: 209, 1345: 210, 1346: 211, 1347: 212, 1352: 213, 1355: 214, 1358: 215, 1360: 216, 1361: 217, 1364: 218, 1366: 219, 1371: 220, 1372: 221, 1374: 222, 1376: 223, 1377: 224, 1381: 225, 1382: 226, 1386: 227, 1388: 228, 1391: 229, 1393: 230, 1402: 231, 1403: 232, 1409: 233, 1410: 234, 1412: 235, 1413: 236, 1414: 237, 1418: 238, 1422: 239, 1424: 240, 1433: 241, 1437: 242, 1442: 243, 1444: 244, 1445: 245, 1449: 246, 1453: 247, 1455: 248, 1459: 249, 1469: 250, 1471: 251, 1473: 252, 1474: 253, 1478: 254, 1480: 255, 1484: 256, 1493: 257, 1494: 258, 1495: 259, 1498: 260, 1501: 261, 1503: 262, 1505: 263, 1512: 264, 1514: 265, 1516: 266, 1520: 267, 1521: 268, 1525: 269, 1526: 270, 1530: 271, 1532: 272, 1533: 273, 1534: 274, 1537: 275, 1538: 276, 1542: 277, 1543: 278, 1544: 279, 1546: 280, 1549: 281, 1552: 282, 1553: 283, 1554: 284, 1555: 285, 1559: 286, 1567: 287, 1568: 288, 1569: 289, 1572: 290, 1574: 291, 1577: 292, 1582: 293, 1585: 294, 1591: 295, 1592: 296, 1595: 297, 1597: 298, 1602: 299, 1603: 300, 1620: 301, 1647: 302, 1655: 303, 1657: 304, 1659: 305, 1670: 306, 1680: 307, 1715: 308, 1721: 309, 1736: 310, 1740: 311, 1743: 312, 1747: 313, 1750: 314, 1755: 315, 1766: 316, 1768: 317, 1778: 318, 1795: 319, 1797: 320, 1800: 321, 1804: 322, 1808: 323, 1817: 324, 1819: 325, 1820: 326, 1823: 327, 1829: 328, 1835: 329, 1837: 330, 1842: 331, 1845: 332, 1851: 333, 1858: 334, 1860: 335, 1864: 336, 1867: 337, 1872: 338, 1880: 339, 1881: 340, 1882: 341, 1884: 342, 1887: 343, 1893: 344, 1898: 345, 1901: 346, 1905: 347, 1908: 348, 1913: 349, 1919: 350, 1922: 351, 1924: 352, 1925: 353, 1927: 354, 1928: 355, 1934: 356, 1935: 357, 1936: 358, 1938: 359, 1940: 360, 1941: 361, 1943: 362, 1950: 363, 1953: 364, 1957: 365, 1961: 366, 1963: 367, 1965: 368, 1967: 369, 1977: 370, 1979: 371, 1980: 372, 1984: 373, 1987: 374, 1995: 375, 2002: 376, 2012: 377, 2022: 378, 2028: 379, 2030: 380, 2032: 381, 2039: 382, 2051: 383, 2058: 384, 2063: 385, 2064: 386, 2069: 387, 2073: 388, 2080: 389, 2096: 390, 2100: 391, 2101: 392, 2108: 393, 2116: 394, 2118: 395, 2121: 396, 2122: 397, 2124: 398, 2132: 399, 2133: 400, 2134: 401, 2136: 402, 2141: 403, 2142: 404, 2145: 405, 2146: 406, 2149: 407, 2150: 408, 2169: 409, 2171: 410, 2181: 411, 2186: 412, 2197: 413, 2210: 414, 2212: 415, 2214: 416, 2221: 417, 2223: 418, 2225: 419, 2235: 420, 2238: 421, 2241: 422, 2246: 423, 2247: 424, 2249: 425, 2251: 426, 2255: 427, 2273: 428, 2278: 429, 2279: 430, 2284: 431, 2288: 432, 2292: 433, 2299: 434, 2301: 435, 2302: 436, 2303: 437, 2315: 438, 2319: 439, 2320: 440, 2323: 441, 2325: 442, 2326: 443, 2327: 444, 2329: 445, 2331: 446, 2333: 447, 2337: 448, 2346: 449, 2348: 450, 2353: 451, 2359: 452, 2360: 453, 2366: 454, 2375: 455, 2384: 456, 2389: 457, 2390: 458, 2394: 459, 2397: 460, 2404: 461, 2406: 462, 2415: 463, 2424: 464, 2427: 465, 2439: 466, 2442: 467, 2445: 468, 2462: 469, 2463: 470, 2473: 471, 2476: 472, 2483: 473, 2503: 474, 2507: 475, 2511: 476, 2515: 477, 2520: 478, 2522: 479, 2528: 480, 2538: 481, 2569: 482, 2570: 483, 2576: 484, 2577: 485, 2578: 486, 2579: 487, 2580: 488, 2600: 489, 2603: 490, 2606: 491, 2611: 492, 2613: 493, 2622: 494, 2625: 495, 2629: 496, 2631: 497, 2647: 498, 2659: 499, 2662: 500, 2670: 501, 2671: 502, 2675: 503, 2679: 504, 2684: 505, 2687: 506, 2697: 507, 2708: 508, 2712: 509, 2718: 510, 2728: 511, 2743: 512, 2745: 513, 2746: 514, 2748: 515, 2751: 516, 2753: 517, 2759: 518, 2760: 519, 2762: 520, 2764: 521, 2767: 522, 2775: 523, 2779: 524, 2782: 525, 2788: 526, 2799: 527, 2812: 528, 2820: 529, 2825: 530, 2828: 531, 2831: 532, 2835: 533, 2848: 534, 2859: 535, 2862: 536, 2864: 537, 2872: 538, 2892: 539, 2896: 540, 2899: 541, 2901: 542, 2910: 543, 2923: 544, 2924: 545, 2930: 546, 2957: 547, 2964: 548, 2969: 549, 2978: 550, 2991: 551, 2993: 552, 2996: 553, 3001: 554, 3016: 555, 3017: 556, 3021: 557, 3029: 558, 3031: 559, 3049: 560, 3051: 561, 3059: 562, 3060: 563, 3062: 564, 3069: 565, 3074: 566, 3077: 567, 3079: 568, 3092: 569, 3104: 570, 3105: 571, 3108: 572, 3114: 573, 3123: 574, 3124: 575, 3148: 576, 3149: 577, 3160: 578, 3161: 579, 3181: 580, 3186: 581, 3190: 582, 3195: 583, 3213: 584, 3229: 585, 3234: 586, 3235: 587, 3244: 588, 3249: 589, 3275: 590, 3331: 591, 3342: 592, 3343: 593, 3345: 594, 3349: 595, 3357: 596, 3368: 597, 3378: 598, 3380: 599, 3384: 600, 3386: 601, 3394: 602, 3398: 603, 3399: 604, 3414: 605, 3416: 606, 3422: 607, 3430: 608, 3441: 609, 3446: 610, 3447: 611, 3448: 612, 3485: 613, 3488: 614, 3496: 615, 3499: 616, 3509: 617, 3512: 618, 3518: 619, 3527: 620, 3535: 621, 3552: 622, 3556: 623, 3565: 624, 3566: 625, 3568: 626, 3573: 627, 3577: 628, 3578: 629, 3590: 630, 3594: 631, 3595: 632, 3599: 633, 3609: 634, 3612: 635, 3617: 636, 3620: 637, 3621: 638, 3622: 639, 3632: 640, 3643: 641, 3650: 642, 3651: 643, 3652: 644, 3656: 645, 3660: 646, 3676: 647, 3711: 648, 3749: 649, 3757: 650, 3758: 651, 3763: 652, 3777: 653, 3780: 654, 3804: 655, 3812: 656, 3832: 657, 3835: 658, 3844: 659, 3850: 660, 3857: 661, 3863: 662, 3868: 663, 3872: 664, 3878: 665, 3905: 666, 3913: 667, 3914: 668, 3915: 669, 3931: 670, 3939: 671, 3949: 672, 3959: 673, 3965: 674, 3966: 675, 3972: 676, 3973: 677, 3976: 678, 3979: 679, 3990: 680, 4006: 681, 4020: 682, 4042: 683, 4057: 684, 4110: 685, 4113: 686, 4139: 687, 4151: 688, 4153: 689, 4165: 690, 4169: 691, 4210: 692, 4221: 693, 4241: 694, 4249: 695, 4272: 696, 4280: 697, 4281: 698, 4297: 699, 4308: 700, 4351: 701, 4370: 702, 4380: 703, 4439: 704, 4454: 705, 4455: 706, 4463: 707, 4473: 708, 4526: 709, 4530: 710, 4576: 711, 4583: 712, 4591: 713, 4594: 714, 4605: 715, 4611: 716, 4623: 717, 4657: 718, 4675: 719, 4679: 720, 4686: 721, 4712: 722, 4716: 723, 4736: 724, 4746: 725, 4771: 726, 4788: 727, 4795: 728, 4796: 729, 4811: 730, 4817: 731, 4843: 732, 4844: 733, 4870: 734, 4933: 735, 5003: 736, 5045: 737, 5084: 738, 5096: 739, 5103: 740, 5117: 741, 5129: 742, 5150: 743, 5152: 744, 5179: 745, 5190: 746, 5234: 747, 5248: 748, 5293: 749, 5302: 750, 5324: 751, 5371: 752, 5381: 753, 5433: 754, 5493: 755, 5507: 756, 5511: 757, 5595: 758, 5711: 759, 5742: 760, 5743: 761, 5771: 762, 5800: 763, 5801: 764, 5804: 765, 5842: 766, 5848: 767, 5866: 768, 5943: 769, 5951: 770, 5954: 771, 5965: 772, 5998: 773, 6070: 774, 6078: 775, 6110: 776, 6143: 777, 6148: 778, 6187: 779, 6199: 780, 6204: 781, 6224: 782, 6229: 783, 6260: 784, 6288: 785, 6289: 786, 6304: 787, 6313: 788, 6314: 789, 6331: 790, 6350: 791, 6361: 792, 6403: 793, 6416: 794, 6419: 795, 6458: 796, 6468: 797, 6527: 798, 6560: 799, 6568: 800, 6579: 801, 6614: 802, 6615: 803, 6681: 804, 6742: 805, 6758: 806, 6761: 807, 6836: 808, 6842: 809, 6850: 810, 6872: 811, 6887: 812, 6948: 813, 6967: 814, 6999: 815, 7057: 816, 7119: 817, 7127: 818, 7166: 819, 7174: 820, 7228: 821, 7238: 822, 7253: 823, 7297: 824, 7308: 825, 7374: 826, 7393: 827, 7408: 828, 7409: 829, 7418: 830, 7432: 831, 7472: 832, 7476: 833, 7485: 834, 7511: 835, 7582: 836, 7596: 837, 7629: 838, 7678: 839, 7685: 840, 7721: 841, 7758: 842, 7763: 843, 7814: 844, 7824: 845, 7855: 846, 7865: 847, 7882: 848, 7966: 849, 7980: 850, 8065: 851, 8072: 852, 8086: 853, 8133: 854, 8229: 855, 8318: 856, 8335: 857, 8358: 858, 8386: 859, 8471: 860, 8487: 861, 8588: 862, 8613: 863, 8648: 864, 8858: 865, 8947: 866, 8978: 867, 9034: 868, 9055: 869, 9157: 870, 9271: 871, 9277: 872, 9283: 873, 9398: 874, 9436: 875, 9566: 876, 9572: 877, 9629: 878, 9857: 879, 9960: 880, 10127: 881, 10144: 882, 10222: 883, 10297: 884, 10366: 885, 10477: 886, 10623: 887, 10722: 888, 10875: 889, 10961: 890, 10974: 891, 11054: 892, 11328: 893, 11560: 894, 11590: 895, 11760: 896, 11816: 897, 11938: 898, 11998: 899, 12169: 900, 12204: 901, 12389: 902, 12579: 903, 12612: 904, 12680: 905, 12749: 906, 12976: 907, 13756: 908, 14027: 909, 14179: 910, 14318: 911, 14421: 912, 14555: 913, 14782: 914, 14896: 915, 15653: 916, 15672: 917, 15857: 918, 15945: 919, 18424: 920}, 'savings account': {0: 0, 1: 1, 2: 2, 3: 3, 4: 4}, 'present employment since': {0: 0, 1: 1, 2: 2, 3: 3, 4: 4}, 'installment rate': {1: 0, 2: 1, 3: 2, 4: 3}, 'personal status/sex': {0: 0, 1: 1, 2: 2, 3: 3}, 'present residence since': {1: 0, 2: 1, 3: 2, 4: 3}, 'property': {0: 0, 1: 1, 2: 2, 3: 3}, 'age': {0: 0, 1: 1}, 'housing': {0: 0, 1: 1, 2: 2}, 'existing credits': {1: 0, 2: 1, 3: 2, 4: 3}, 'job': {0: 0, 1: 1, 2: 2, 3: 3}, 'people to provide': {1: 0, 2: 1}, 'class': {1: 0, 2: 1}}\n",
            "     checking account  duration  credit history  ...  job  people to provide  class\n",
            "0                   0         6               4  ...    2                  1      1\n",
            "1                   1        48               2  ...    2                  1      2\n",
            "2                   3        12               4  ...    1                  2      1\n",
            "3                   0        42               2  ...    2                  2      1\n",
            "4                   0        24               3  ...    2                  2      2\n",
            "..                ...       ...             ...  ...  ...                ...    ...\n",
            "995                 3        12               2  ...    1                  1      1\n",
            "996                 0        30               2  ...    3                  1      1\n",
            "997                 3        12               2  ...    2                  1      1\n",
            "998                 0        45               2  ...    2                  1      2\n",
            "999                 1        45               4  ...    2                  1      1\n",
            "\n",
            "[1000 rows x 16 columns]\n",
            "1\n"
          ],
          "name": "stdout"
        }
      ]
    },
    {
      "cell_type": "code",
      "metadata": {
        "id": "V6-Hx6H4kVXe"
      },
      "source": [
        "def reset(df):\n",
        "  df_c = df.copy()\n",
        "  df_young = (df_c[df_c['age']==0]).copy()\n",
        "  df_old = (df_c[df_c['age']==1]).copy()\n",
        "  all_stratified_combinations = [df_young,df_old]\n",
        "  number_of_quantiles=min(len(df_young),len(df_old))\n",
        "  return df_c,df_young,df_old,all_stratified_combinations,number_of_quantiles"
      ],
      "execution_count": 9,
      "outputs": []
    },
    {
      "cell_type": "code",
      "metadata": {
        "colab": {
          "base_uri": "https://localhost:8080/"
        },
        "id": "8VG6mdeZkYiN",
        "outputId": "6b2b8629-110f-4f84-e058-ee4bcdf419bc"
      },
      "source": [
        "#Create all the 22 new dataframes with lambda between 0 and 1 in steps of 0.1 and the two repair methods\n",
        "#lambda=0\n",
        "df_c,df_young,df_old,all_stratified_combinations,number_of_quantiles=reset(df)\n",
        "new_df0c = df_c.copy()\n",
        "new_df0c=repair('combinatorial',df_c,all_stratified_combinations,number_of_quantiles,sorted_lists,index_lookups,0,new_df0c)\n",
        "df_c,df_young,df_old,all_stratified_combinations,number_of_quantiles=reset(df)\n",
        "new_df0g = df_c.copy()\n",
        "new_df0g=repair('geo',df_c,all_stratified_combinations,number_of_quantiles,sorted_lists,index_lookups,0,new_df0g)\n",
        "#lambda=0.1\n",
        "df_c,df_young,df_old,all_stratified_combinations,number_of_quantiles=reset(df)\n",
        "new_df1c = df_c.copy()\n",
        "new_df1c=repair('combinatorial',df_c,all_stratified_combinations,number_of_quantiles,sorted_lists,index_lookups,0.1,new_df1c)\n",
        "df_c,df_young,df_old,all_stratified_combinations,number_of_quantiles=reset(df)\n",
        "new_df1g = df_c.copy()\n",
        "new_df1g=repair('geo',df_c,all_stratified_combinations,number_of_quantiles,sorted_lists,index_lookups,0.1,new_df1g)\n",
        "#lambda=0.2\n",
        "df_c,df_young,df_old,all_stratified_combinations,number_of_quantiles=reset(df)\n",
        "new_df2c = df_c.copy()\n",
        "new_df2c=repair('combinatorial',df_c,all_stratified_combinations,number_of_quantiles,sorted_lists,index_lookups,0.2,new_df2c)\n",
        "df_c,df_young,df_old,all_stratified_combinations,number_of_quantiles=reset(df)\n",
        "new_df2g = df_c.copy()\n",
        "new_df2g=repair('geo',df_c,all_stratified_combinations,number_of_quantiles,sorted_lists,index_lookups,0.2,new_df2g)\n",
        "#lambda=0.3\n",
        "df_c,df_young,df_old,all_stratified_combinations,number_of_quantiles=reset(df)\n",
        "new_df3c = df_c.copy()\n",
        "new_df3c=repair('combinatorial',df_c,all_stratified_combinations,number_of_quantiles,sorted_lists,index_lookups,0.3,new_df3c)\n",
        "df_c,df_young,df_old,all_stratified_combinations,number_of_quantiles=reset(df)\n",
        "new_df3g = df_c.copy()\n",
        "new_df3g=repair('geo',df_c,all_stratified_combinations,number_of_quantiles,sorted_lists,index_lookups,0.3,new_df3g)\n",
        "#lambda=0.4\n",
        "df_c,df_young,df_old,all_stratified_combinations,number_of_quantiles=reset(df)\n",
        "new_df4c = df_c.copy()\n",
        "new_df4c=repair('combinatorial',df_c,all_stratified_combinations,number_of_quantiles,sorted_lists,index_lookups,0.4,new_df4c)\n",
        "df_c,df_young,df_old,all_stratified_combinations,number_of_quantiles=reset(df)\n",
        "new_df4g = df_c.copy()\n",
        "new_df4g=repair('geo',df_c,all_stratified_combinations,number_of_quantiles,sorted_lists,index_lookups,0.4,new_df4g)\n",
        "#lambda=0.5\n",
        "df_c,df_young,df_old,all_stratified_combinations,number_of_quantiles=reset(df)\n",
        "new_df5c = df_c.copy()\n",
        "new_df5c=repair('combinatorial',df_c,all_stratified_combinations,number_of_quantiles,sorted_lists,index_lookups,0.5,new_df5c)\n",
        "df_c,df_young,df_old,all_stratified_combinations,number_of_quantiles=reset(df)\n",
        "new_df5g = df_c.copy()\n",
        "new_df5g=repair('geo',df_c,all_stratified_combinations,number_of_quantiles,sorted_lists,index_lookups,0.5,new_df5g)\n",
        "#lambda=0.6\n",
        "df_c,df_young,df_old,all_stratified_combinations,number_of_quantiles=reset(df)\n",
        "new_df6c = df_c.copy()\n",
        "new_df6c=repair('combinatorial',df_c,all_stratified_combinations,number_of_quantiles,sorted_lists,index_lookups,0.6,new_df6c)\n",
        "df_c,df_young,df_old,all_stratified_combinations,number_of_quantiles=reset(df)\n",
        "new_df6g = df_c.copy()\n",
        "new_df6g=repair('geo',df_c,all_stratified_combinations,number_of_quantiles,sorted_lists,index_lookups,0.6,new_df6g)\n",
        "#lambda=0.7\n",
        "df_c,df_young,df_old,all_stratified_combinations,number_of_quantiles=reset(df)\n",
        "new_df7c = df_c.copy()\n",
        "new_df7c=repair('combinatorial',df_c,all_stratified_combinations,number_of_quantiles,sorted_lists,index_lookups,0.7,new_df7c)\n",
        "df_c,df_young,df_olf,all_stratified_combinations,number_of_quantiles=reset(df)\n",
        "new_df7g = df_c.copy()\n",
        "new_df7g=repair('geo',df_c,all_stratified_combinations,number_of_quantiles,sorted_lists,index_lookups,0.7,new_df7g)\n",
        "#lambda=0.8\n",
        "df_c,df_young,df_old,all_stratified_combinations,number_of_quantiles=reset(df)\n",
        "new_df8c = df_c.copy()\n",
        "new_df8c=repair('combinatorial',df_c,all_stratified_combinations,number_of_quantiles,sorted_lists,index_lookups,0.8,new_df8c)\n",
        "df_c,df_young,df_old,all_stratified_combinations,number_of_quantiles=reset(df)\n",
        "new_df8g = df_c.copy()\n",
        "new_df8g=repair('geo',df_c,all_stratified_combinations,number_of_quantiles,sorted_lists,index_lookups,0.8,new_df8g)\n",
        "#lambda=0.9\n",
        "df_c,df_young,df_old,all_stratified_combinations,number_of_quantiles=reset(df)\n",
        "new_df9c = df_c.copy()\n",
        "new_df9c=repair('combinatorial',df_c,all_stratified_combinations,number_of_quantiles,sorted_lists,index_lookups,0.9,new_df9c)\n",
        "df_c,df_young,df_old,all_stratified_combinations,number_of_quantiles=reset(df)\n",
        "new_df9g = df_c.copy()\n",
        "new_df9g=repair('geo',df_c,all_stratified_combinations,number_of_quantiles,sorted_lists,index_lookups,0.9,new_df9g)\n",
        "#lambda=1\n",
        "df_c,df_young,df_old,all_stratified_combinations,number_of_quantiles=reset(df)\n",
        "new_df10c = df_c.copy()\n",
        "new_df10c=repair('combinatorial',df_c,all_stratified_combinations,number_of_quantiles,sorted_lists,index_lookups,1,new_df10c)\n",
        "df_c,df_young,df_old,all_stratified_combinations,number_of_quantiles=reset(df)\n",
        "new_df10g = df_c.copy()\n",
        "new_df10g=repair('geo',df_c,all_stratified_combinations,number_of_quantiles,sorted_lists,index_lookups,1,new_df10g)\n",
        "#\n",
        "df_list=[new_df0c,new_df0g,new_df1c,new_df1g,new_df2c,new_df2g,new_df3c,new_df3g,new_df4c,new_df4g,new_df5c,new_df5g,new_df6c,new_df6g,new_df7c,new_df7g,new_df8c,new_df8g,new_df9c,new_df9g,new_df10c,new_df10g]"
      ],
      "execution_count": 10,
      "outputs": [
        {
          "output_type": "error",
          "ename": "NameError",
          "evalue": "name 'repair' is not defined",
          "traceback": [
            "\u001b[1;31m---------------------------------------------------------------------------\u001b[0m",
            "\u001b[1;31mNameError\u001b[0m                                 Traceback (most recent call last)",
            "\u001b[1;32m<ipython-input-10-97f5ab919246>\u001b[0m in \u001b[0;36m<module>\u001b[1;34m\u001b[0m\n\u001b[0;32m      3\u001b[0m \u001b[0mdf_c\u001b[0m\u001b[1;33m,\u001b[0m\u001b[0mdf_young\u001b[0m\u001b[1;33m,\u001b[0m\u001b[0mdf_old\u001b[0m\u001b[1;33m,\u001b[0m\u001b[0mall_stratified_combinations\u001b[0m\u001b[1;33m,\u001b[0m\u001b[0mnumber_of_quantiles\u001b[0m\u001b[1;33m=\u001b[0m\u001b[0mreset\u001b[0m\u001b[1;33m(\u001b[0m\u001b[0mdf\u001b[0m\u001b[1;33m)\u001b[0m\u001b[1;33m\u001b[0m\u001b[1;33m\u001b[0m\u001b[0m\n\u001b[0;32m      4\u001b[0m \u001b[0mnew_df0c\u001b[0m \u001b[1;33m=\u001b[0m \u001b[0mdf_c\u001b[0m\u001b[1;33m.\u001b[0m\u001b[0mcopy\u001b[0m\u001b[1;33m(\u001b[0m\u001b[1;33m)\u001b[0m\u001b[1;33m\u001b[0m\u001b[1;33m\u001b[0m\u001b[0m\n\u001b[1;32m----> 5\u001b[1;33m \u001b[0mnew_df0c\u001b[0m\u001b[1;33m=\u001b[0m\u001b[0mrepair\u001b[0m\u001b[1;33m(\u001b[0m\u001b[1;34m'combinatorial'\u001b[0m\u001b[1;33m,\u001b[0m\u001b[0mdf_c\u001b[0m\u001b[1;33m,\u001b[0m\u001b[0mall_stratified_combinations\u001b[0m\u001b[1;33m,\u001b[0m\u001b[0mnumber_of_quantiles\u001b[0m\u001b[1;33m,\u001b[0m\u001b[0msorted_lists\u001b[0m\u001b[1;33m,\u001b[0m\u001b[0mindex_lookups\u001b[0m\u001b[1;33m,\u001b[0m\u001b[1;36m0\u001b[0m\u001b[1;33m,\u001b[0m\u001b[0mnew_df0c\u001b[0m\u001b[1;33m)\u001b[0m\u001b[1;33m\u001b[0m\u001b[1;33m\u001b[0m\u001b[0m\n\u001b[0m\u001b[0;32m      6\u001b[0m \u001b[0mdf_c\u001b[0m\u001b[1;33m,\u001b[0m\u001b[0mdf_young\u001b[0m\u001b[1;33m,\u001b[0m\u001b[0mdf_old\u001b[0m\u001b[1;33m,\u001b[0m\u001b[0mall_stratified_combinations\u001b[0m\u001b[1;33m,\u001b[0m\u001b[0mnumber_of_quantiles\u001b[0m\u001b[1;33m=\u001b[0m\u001b[0mreset\u001b[0m\u001b[1;33m(\u001b[0m\u001b[0mdf\u001b[0m\u001b[1;33m)\u001b[0m\u001b[1;33m\u001b[0m\u001b[1;33m\u001b[0m\u001b[0m\n\u001b[0;32m      7\u001b[0m \u001b[0mnew_df0g\u001b[0m \u001b[1;33m=\u001b[0m \u001b[0mdf_c\u001b[0m\u001b[1;33m.\u001b[0m\u001b[0mcopy\u001b[0m\u001b[1;33m(\u001b[0m\u001b[1;33m)\u001b[0m\u001b[1;33m\u001b[0m\u001b[1;33m\u001b[0m\u001b[0m\n",
            "\u001b[1;31mNameError\u001b[0m: name 'repair' is not defined"
          ]
        }
      ]
    },
    {
      "cell_type": "code",
      "metadata": {
        "colab": {
          "base_uri": "https://localhost:8080/"
        },
        "id": "hahZXAD8kbao",
        "outputId": "151be9c0-17d5-486d-f2b9-f52fcdef737d"
      },
      "source": [
        "#Analyse only one of the new datasets: here the datset repaired geometrically with strength 1,\n",
        "#but this can be changed to any of the other new datasets\n",
        "#Split into test and training set\n",
        "new_df=new_df10g\n",
        "new_df['class']=new_df['class'].astype(float).astype(int)\n",
        "new_y=new_df['class']\n",
        "X_train_new, X_test_new, y_train_new, y_test_new = train_test_split(new_df.drop('class',axis=1), new_y, test_size=0.333,random_state=0,stratify=new_y,shuffle=True)\n",
        "X_train_new = full_pipeline.fit_transform(X_train_new)\n",
        "X_test_orig_new = X_test_new.copy()\n",
        "X_test_new = full_pipeline.transform(X_test_new)\n",
        "#Implement Machine Learning algorithm: SVC\n",
        "#hyper-parameter tuning\n",
        "svc_new = LinearSVC(random_state=0,penalty='l2', loss='hinge',class_weight='balanced')\n",
        "Cs = [0.001,0.005,0.01,0.05,0.1,0.5,1,5, 10]\n",
        "svc_grid = {'C':Cs} \n",
        "svc_grid_search_new = GridSearchCV(svc_new, svc_grid, refit = True, verbose = 3, n_jobs=-1,cv=5)\n",
        "svc_grid_search_new.fit(X_train_new,y_train_new)\n",
        "print(\"svc best score:\", svc_grid_search_new.best_score_)\n",
        "print(\"svc best estimator:\",svc_grid_search_new.best_estimator_)\n",
        "svc_new = svc_grid_search_new.best_estimator_\n",
        "y_pred_new = svc_new.predict(X_test_new)\n",
        "print(classification_report(y_test_new, y_pred_new))\n",
        "svc_score_new=svc_new.score(X_test_new,y_test_new)\n",
        "print(\"model accuracy: %.5f\" % svc_score_new)\n",
        "print(\"balanced accuracy rate: %.5f\" % balanced_accuracy_score(y_test_new, y_pred_new))\n",
        "\n",
        "X_test_young_new,X_test_old_new = min_maj(X_test_orig_new,True)\n",
        "print(\"Zemel fairness: \",1-zemel_fairness(X_test_young_new,X_test_old_new,svc_new))\n",
        "print(\"Disparate Impact: \",disparate_impact(X_test_young_new,X_test_old_new,svc_new))"
      ],
      "execution_count": 11,
      "outputs": [
        {
          "output_type": "stream",
          "text": [
            "Fitting 5 folds for each of 9 candidates, totalling 45 fits\n"
          ],
          "name": "stdout"
        },
        {
          "output_type": "stream",
          "text": [
            "[Parallel(n_jobs=-1)]: Using backend LokyBackend with 2 concurrent workers.\n",
            "[Parallel(n_jobs=-1)]: Done  45 out of  45 | elapsed:    0.2s finished\n"
          ],
          "name": "stderr"
        },
        {
          "output_type": "stream",
          "text": [
            "svc best score: 0.6492088430030301\n",
            "svc best estimator: LinearSVC(C=1, class_weight='balanced', dual=True, fit_intercept=True,\n",
            "          intercept_scaling=1, loss='hinge', max_iter=1000, multi_class='ovr',\n",
            "          penalty='l2', random_state=0, tol=0.0001, verbose=0)\n",
            "              precision    recall  f1-score   support\n",
            "\n",
            "           1       0.87      0.63      0.73       242\n",
            "           2       0.43      0.75      0.55        91\n",
            "\n",
            "    accuracy                           0.66       333\n",
            "   macro avg       0.65      0.69      0.64       333\n",
            "weighted avg       0.75      0.66      0.68       333\n",
            "\n",
            "model accuracy: 0.66366\n",
            "balanced accuracy rate: 0.68974\n",
            "37 62\n",
            "143 271\n",
            "Zemel fairness:  1.0690989167956197\n",
            "Disparate Impact:  1.1309496954658247\n"
          ],
          "name": "stdout"
        },
        {
          "output_type": "stream",
          "text": [
            "/usr/local/lib/python3.7/dist-packages/sklearn/svm/_base.py:947: ConvergenceWarning: Liblinear failed to converge, increase the number of iterations.\n",
            "  \"the number of iterations.\", ConvergenceWarning)\n"
          ],
          "name": "stderr"
        }
      ]
    },
    {
      "cell_type": "code",
      "metadata": {
        "colab": {
          "base_uri": "https://localhost:8080/",
          "height": 297
        },
        "id": "Xe89OHWSkeTe",
        "outputId": "7a64ee9d-49f8-4973-a846-064b59c6020b"
      },
      "source": [
        "#Check in the graph how the distribution of the probability of being classed 1\n",
        "#by the svc model has been equalized for both classes.\n",
        "#For each percentile rank, the same probability is attributed\n",
        "def check_dist(predictor,X,X_t,keyword):\n",
        "  min,maj=min_maj(X,True)\n",
        "  eval_df = pd.DataFrame({\"decision_function_probability\":predictor.decision_function(X_t),\"group\":[keyword for i in range(len(X))]})\n",
        "  eval_df['rank'] = eval_df[\"decision_function_probability\"].rank(ascending=1,pct=True)\n",
        "  eval_df1 = pd.DataFrame({\"decision_function_probability\":predictor.decision_function(min),\"group\":[keyword+'-young' for i in range(len(min))]})\n",
        "  eval_df1['rank'] = eval_df1[\"decision_function_probability\"].rank(ascending=1,pct=True)\n",
        "  eval_df2 = pd.DataFrame({\"decision_function_probability\":predictor.decision_function(maj),\"group\":[keyword+'-old' for i in range(len(maj))]})\n",
        "  eval_df2['rank'] = eval_df2[\"decision_function_probability\"].rank(ascending=1,pct=True)\n",
        "  eval_df=eval_df.append(eval_df1,ignore_index=True)\n",
        "  eval_df=eval_df.append(eval_df2,ignore_index=True)\n",
        "  return eval_df\n",
        "\n",
        "eval = check_dist(svc_new,new_df.drop('class',axis=1),full_pipeline.fit_transform(new_df.drop('class',axis=1)),'Changed(lam=1)')\n",
        "sns.lineplot(x=\"decision_function_probability\",y=\"rank\",hue='group',data=eval)"
      ],
      "execution_count": 12,
      "outputs": [
        {
          "output_type": "execute_result",
          "data": {
            "text/plain": [
              "<matplotlib.axes._subplots.AxesSubplot at 0x7fb63a7c5390>"
            ]
          },
          "metadata": {
            "tags": []
          },
          "execution_count": 12
        },
        {
          "output_type": "display_data",
          "data": {
            "image/png": "[encoded data removed]",
            "text/plain": [
              "<Figure size 432x288 with 1 Axes>"
            ]
          },
          "metadata": {
            "tags": [],
            "needs_background": "light"
          }
        }
      ]
    },
    {
      "cell_type": "code",
      "metadata": {
        "colab": {
          "base_uri": "https://localhost:8080/"
        },
        "id": "g2eTrrBEkhGg",
        "outputId": "490a44bb-f9ce-42dc-a53f-f0974f810772"
      },
      "source": [
        "#Split into test and training set\n",
        "#Now see how the model changes for the different new datasets\n",
        "def predict(new_df,c):\n",
        "  new_df['class']=new_df['class'].astype(float).astype(int)\n",
        "  new_y=new_df['class']\n",
        "  X_train_new, X_test_new, y_train_new, y_test_new = train_test_split(new_df.drop('class',axis=1), new_y, test_size=0.333,stratify=new_y,shuffle=True,random_state=c)\n",
        "  X_train_new = full_pipeline.fit_transform(X_train_new)\n",
        "  X_test_orig_new = X_test_new.copy()\n",
        "  X_test_new = full_pipeline.transform(X_test_new)\n",
        "  #Implement Machine Learning algorithm: SVC\n",
        "  svc_new = LinearSVC(random_state=0,penalty='l2', loss='hinge',class_weight='balanced')#, C=2)\n",
        "  Cs = [0.001,0.005,0.01,0.05,0.1,0.5,1,5, 10]\n",
        "  svc_grid = {'C':Cs} \n",
        "  svc_grid_search_new = GridSearchCV(svc_new, svc_grid, refit = True, verbose = 3, n_jobs=-1,cv=5)\n",
        "  svc_grid_search_new.fit(X_train_new,y_train_new)\n",
        "  print(\"svc best estimator:\",svc_grid_search_new.best_estimator_)\n",
        "  svc_new = svc_grid_search_new.best_estimator_\n",
        "  y_pred_new = svc_new.predict(X_test_new)\n",
        "  print(classification_report(y_test_new, y_pred_new))\n",
        "  svc_score_new=svc_new.score(X_test_new,y_test_new)\n",
        "  print(\"model accuracy: %.5f\" % svc_score_new)\n",
        "  print(\"balanced accuracy rate: %.5f\" % balanced_accuracy_score(y_test_new, y_pred_new))\n",
        "  # balanced error rate\n",
        "  X_test_young_new,X_test_old_new = min_maj(X_test_orig_new,True)\n",
        "  print(\"Zemel fairness: \",1-zemel_fairness(X_test_young_new,X_test_old_new,svc_new))\n",
        "  print(\"Disparate Impact: \",disparate_impact(X_test_young_new,X_test_old_new,svc_new))\n",
        "  print(\"----------------------\")\n",
        "  return svc_score_new,balanced_accuracy_score(y_test_new, y_pred_new),1-zemel_fairness(X_test_young_new,X_test_old_new,svc_new),disparate_impact(X_test_young_new,X_test_old_new,svc_new)\n",
        "\n",
        "model_accuracies=[]\n",
        "utilities = []\n",
        "zemel_fairnesses = []\n",
        "disparate_impact_scores=[]\n",
        "for df in df_list:\n",
        "  accs=[]\n",
        "  utils=[]\n",
        "  zems=[]\n",
        "  diss=[]\n",
        "  for i in range(10):\n",
        "    acc,util,zem,dis = predict(df,i)\n",
        "    accs.append(acc)\n",
        "    utils.append(util)\n",
        "    zems.append(zem)\n",
        "    diss.append(dis)\n",
        "  acc=mean(accs)\n",
        "  util=mean(utils)\n",
        "  zem=mean(zems)\n",
        "  dis=mean(diss)\n",
        "  model_accuracies.append(acc)\n",
        "  utilities.append(util)\n",
        "  zemel_fairnesses.append(zem)\n",
        "  disparate_impact_scores.append(dis)\n"
      ],
      "execution_count": 13,
      "outputs": [
        {
          "output_type": "stream",
          "text": [
            "Fitting 5 folds for each of 9 candidates, totalling 45 fits\n"
          ],
          "name": "stdout"
        },
        {
          "output_type": "stream",
          "text": [
            "[Parallel(n_jobs=-1)]: Using backend LokyBackend with 2 concurrent workers.\n",
            "[Parallel(n_jobs=-1)]: Done  45 out of  45 | elapsed:    0.2s finished\n",
            "[Parallel(n_jobs=-1)]: Using backend LokyBackend with 2 concurrent workers.\n"
          ],
          "name": "stderr"
        },
        {
          "output_type": "stream",
          "text": [
            "svc best estimator: LinearSVC(C=0.05, class_weight='balanced', dual=True, fit_intercept=True,\n",
            "          intercept_scaling=1, loss='hinge', max_iter=1000, multi_class='ovr',\n",
            "          penalty='l2', random_state=0, tol=0.0001, verbose=0)\n",
            "              precision    recall  f1-score   support\n",
            "\n",
            "           1       0.90      0.68      0.77       233\n",
            "           2       0.53      0.83      0.64       100\n",
            "\n",
            "    accuracy                           0.72       333\n",
            "   macro avg       0.71      0.75      0.71       333\n",
            "weighted avg       0.79      0.72      0.74       333\n",
            "\n",
            "model accuracy: 0.72372\n",
            "balanced accuracy rate: 0.75406\n",
            "26 73\n",
            "160 260\n",
            "Zemel fairness:  0.7407797681770284\n",
            "Disparate Impact:  0.5787671232876712\n",
            "----------------------\n",
            "26 73\n",
            "160 260\n",
            "Fitting 5 folds for each of 9 candidates, totalling 45 fits\n"
          ],
          "name": "stdout"
        },
        {
          "output_type": "stream",
          "text": [
            "[Parallel(n_jobs=-1)]: Done  45 out of  45 | elapsed:    0.2s finished\n",
            "[Parallel(n_jobs=-1)]: Using backend LokyBackend with 2 concurrent workers.\n"
          ],
          "name": "stderr"
        },
        {
          "output_type": "stream",
          "text": [
            "svc best estimator: LinearSVC(C=0.01, class_weight='balanced', dual=True, fit_intercept=True,\n",
            "          intercept_scaling=1, loss='hinge', max_iter=1000, multi_class='ovr',\n",
            "          penalty='l2', random_state=0, tol=0.0001, verbose=0)\n",
            "              precision    recall  f1-score   support\n",
            "\n",
            "           1       0.88      0.69      0.78       233\n",
            "           2       0.52      0.79      0.63       100\n",
            "\n",
            "    accuracy                           0.72       333\n",
            "   macro avg       0.70      0.74      0.70       333\n",
            "weighted avg       0.78      0.72      0.73       333\n",
            "\n",
            "model accuracy: 0.72072\n",
            "balanced accuracy rate: 0.74049\n",
            "17 68\n",
            "163 265\n",
            "Zemel fairness:  0.6349056603773585\n",
            "Disparate Impact:  0.4064417177914111\n",
            "----------------------\n",
            "17 68\n",
            "163 265\n",
            "Fitting 5 folds for each of 9 candidates, totalling 45 fits\n"
          ],
          "name": "stdout"
        },
        {
          "output_type": "stream",
          "text": [
            "[Parallel(n_jobs=-1)]: Done  45 out of  45 | elapsed:    0.2s finished\n",
            "[Parallel(n_jobs=-1)]: Using backend LokyBackend with 2 concurrent workers.\n"
          ],
          "name": "stderr"
        },
        {
          "output_type": "stream",
          "text": [
            "svc best estimator: LinearSVC(C=0.005, class_weight='balanced', dual=True, fit_intercept=True,\n",
            "          intercept_scaling=1, loss='hinge', max_iter=1000, multi_class='ovr',\n",
            "          penalty='l2', random_state=0, tol=0.0001, verbose=0)\n",
            "              precision    recall  f1-score   support\n",
            "\n",
            "           1       0.85      0.68      0.76       233\n",
            "           2       0.49      0.73      0.59       100\n",
            "\n",
            "    accuracy                           0.69       333\n",
            "   macro avg       0.67      0.70      0.67       333\n",
            "weighted avg       0.75      0.69      0.71       333\n",
            "\n",
            "model accuracy: 0.69369\n",
            "balanced accuracy rate: 0.70406\n",
            "17 60\n",
            "170 273\n",
            "Zemel fairness:  0.6606227106227106\n",
            "Disparate Impact:  0.45499999999999996\n",
            "----------------------\n",
            "17 60\n",
            "170 273\n",
            "Fitting 5 folds for each of 9 candidates, totalling 45 fits\n"
          ],
          "name": "stdout"
        },
        {
          "output_type": "stream",
          "text": [
            "[Parallel(n_jobs=-1)]: Done  45 out of  45 | elapsed:    0.2s finished\n",
            "/usr/local/lib/python3.7/dist-packages/sklearn/svm/_base.py:947: ConvergenceWarning: Liblinear failed to converge, increase the number of iterations.\n",
            "  \"the number of iterations.\", ConvergenceWarning)\n",
            "[Parallel(n_jobs=-1)]: Using backend LokyBackend with 2 concurrent workers.\n"
          ],
          "name": "stderr"
        },
        {
          "output_type": "stream",
          "text": [
            "svc best estimator: LinearSVC(C=5, class_weight='balanced', dual=True, fit_intercept=True,\n",
            "          intercept_scaling=1, loss='hinge', max_iter=1000, multi_class='ovr',\n",
            "          penalty='l2', random_state=0, tol=0.0001, verbose=0)\n",
            "              precision    recall  f1-score   support\n",
            "\n",
            "           1       0.85      0.67      0.75       233\n",
            "           2       0.49      0.73      0.58       100\n",
            "\n",
            "    accuracy                           0.69       333\n",
            "   macro avg       0.67      0.70      0.67       333\n",
            "weighted avg       0.74      0.69      0.70       333\n",
            "\n",
            "model accuracy: 0.68769\n",
            "balanced accuracy rate: 0.69976\n",
            "13 54\n",
            "174 279\n",
            "Zemel fairness:  0.6170848267622461\n",
            "Disparate Impact:  0.38601532567049807\n",
            "----------------------\n",
            "13 54\n",
            "174 279\n",
            "Fitting 5 folds for each of 9 candidates, totalling 45 fits\n"
          ],
          "name": "stdout"
        },
        {
          "output_type": "stream",
          "text": [
            "[Parallel(n_jobs=-1)]: Done  45 out of  45 | elapsed:    0.2s finished\n",
            "[Parallel(n_jobs=-1)]: Using backend LokyBackend with 2 concurrent workers.\n"
          ],
          "name": "stderr"
        },
        {
          "output_type": "stream",
          "text": [
            "svc best estimator: LinearSVC(C=0.005, class_weight='balanced', dual=True, fit_intercept=True,\n",
            "          intercept_scaling=1, loss='hinge', max_iter=1000, multi_class='ovr',\n",
            "          penalty='l2', random_state=0, tol=0.0001, verbose=0)\n",
            "              precision    recall  f1-score   support\n",
            "\n",
            "           1       0.89      0.68      0.77       233\n",
            "           2       0.52      0.80      0.63       100\n",
            "\n",
            "    accuracy                           0.72       333\n",
            "   macro avg       0.70      0.74      0.70       333\n",
            "weighted avg       0.78      0.72      0.73       333\n",
            "\n",
            "model accuracy: 0.71772\n",
            "balanced accuracy rate: 0.74120\n",
            "20 64\n",
            "166 269\n",
            "Zemel fairness:  0.6953996282527881\n",
            "Disparate Impact:  0.5064006024096386\n",
            "----------------------\n",
            "20 64\n",
            "166 269\n",
            "Fitting 5 folds for each of 9 candidates, totalling 45 fits\n"
          ],
          "name": "stdout"
        },
        {
          "output_type": "stream",
          "text": [
            "[Parallel(n_jobs=-1)]: Done  45 out of  45 | elapsed:    0.3s finished\n",
            "/usr/local/lib/python3.7/dist-packages/sklearn/svm/_base.py:947: ConvergenceWarning: Liblinear failed to converge, increase the number of iterations.\n",
            "  \"the number of iterations.\", ConvergenceWarning)\n",
            "[Parallel(n_jobs=-1)]: Using backend LokyBackend with 2 concurrent workers.\n"
          ],
          "name": "stderr"
        },
        {
          "output_type": "stream",
          "text": [
            "svc best estimator: LinearSVC(C=1, class_weight='balanced', dual=True, fit_intercept=True,\n",
            "          intercept_scaling=1, loss='hinge', max_iter=1000, multi_class='ovr',\n",
            "          penalty='l2', random_state=0, tol=0.0001, verbose=0)\n",
            "              precision    recall  f1-score   support\n",
            "\n",
            "           1       0.86      0.68      0.76       233\n",
            "           2       0.50      0.74      0.60       100\n",
            "\n",
            "    accuracy                           0.70       333\n",
            "   macro avg       0.68      0.71      0.68       333\n",
            "weighted avg       0.75      0.70      0.71       333\n",
            "\n",
            "model accuracy: 0.69970\n",
            "balanced accuracy rate: 0.71120\n",
            "24 65\n",
            "168 268\n",
            "Zemel fairness:  0.7423650975889782\n",
            "Disparate Impact:  0.589010989010989\n",
            "----------------------\n",
            "24 65\n",
            "168 268\n",
            "Fitting 5 folds for each of 9 candidates, totalling 45 fits\n"
          ],
          "name": "stdout"
        },
        {
          "output_type": "stream",
          "text": [
            "[Parallel(n_jobs=-1)]: Done  45 out of  45 | elapsed:    0.2s finished\n",
            "/usr/local/lib/python3.7/dist-packages/sklearn/svm/_base.py:947: ConvergenceWarning: Liblinear failed to converge, increase the number of iterations.\n",
            "  \"the number of iterations.\", ConvergenceWarning)\n",
            "[Parallel(n_jobs=-1)]: Using backend LokyBackend with 2 concurrent workers.\n"
          ],
          "name": "stderr"
        },
        {
          "output_type": "stream",
          "text": [
            "svc best estimator: LinearSVC(C=10, class_weight='balanced', dual=True, fit_intercept=True,\n",
            "          intercept_scaling=1, loss='hinge', max_iter=1000, multi_class='ovr',\n",
            "          penalty='l2', random_state=0, tol=0.0001, verbose=0)\n",
            "              precision    recall  f1-score   support\n",
            "\n",
            "           1       0.84      0.73      0.78       233\n",
            "           2       0.52      0.67      0.59       100\n",
            "\n",
            "    accuracy                           0.71       333\n",
            "   macro avg       0.68      0.70      0.68       333\n",
            "weighted avg       0.74      0.71      0.72       333\n",
            "\n",
            "model accuracy: 0.71471\n",
            "balanced accuracy rate: 0.70195\n",
            "20 64\n",
            "171 269\n",
            "Zemel fairness:  0.6768122676579925\n",
            "Disparate Impact:  0.49159356725146197\n",
            "----------------------\n",
            "20 64\n",
            "171 269\n",
            "Fitting 5 folds for each of 9 candidates, totalling 45 fits\n"
          ],
          "name": "stdout"
        },
        {
          "output_type": "stream",
          "text": [
            "[Parallel(n_jobs=-1)]: Done  45 out of  45 | elapsed:    0.2s finished\n",
            "/usr/local/lib/python3.7/dist-packages/sklearn/svm/_base.py:947: ConvergenceWarning: Liblinear failed to converge, increase the number of iterations.\n",
            "  \"the number of iterations.\", ConvergenceWarning)\n",
            "[Parallel(n_jobs=-1)]: Using backend LokyBackend with 2 concurrent workers.\n"
          ],
          "name": "stderr"
        },
        {
          "output_type": "stream",
          "text": [
            "svc best estimator: LinearSVC(C=10, class_weight='balanced', dual=True, fit_intercept=True,\n",
            "          intercept_scaling=1, loss='hinge', max_iter=1000, multi_class='ovr',\n",
            "          penalty='l2', random_state=0, tol=0.0001, verbose=0)\n",
            "              precision    recall  f1-score   support\n",
            "\n",
            "           1       0.88      0.72      0.79       233\n",
            "           2       0.54      0.78      0.64       100\n",
            "\n",
            "    accuracy                           0.74       333\n",
            "   macro avg       0.71      0.75      0.72       333\n",
            "weighted avg       0.78      0.74      0.75       333\n",
            "\n",
            "model accuracy: 0.73574\n",
            "balanced accuracy rate: 0.74837\n",
            "28 72\n",
            "162 261\n",
            "Zemel fairness:  0.7681992337164751\n",
            "Disparate Impact:  0.6265432098765432\n",
            "----------------------\n",
            "28 72\n",
            "162 261\n",
            "Fitting 5 folds for each of 9 candidates, totalling 45 fits\n"
          ],
          "name": "stdout"
        },
        {
          "output_type": "stream",
          "text": [
            "[Parallel(n_jobs=-1)]: Done  45 out of  45 | elapsed:    0.2s finished\n",
            "/usr/local/lib/python3.7/dist-packages/sklearn/svm/_base.py:947: ConvergenceWarning: Liblinear failed to converge, increase the number of iterations.\n",
            "  \"the number of iterations.\", ConvergenceWarning)\n",
            "[Parallel(n_jobs=-1)]: Using backend LokyBackend with 2 concurrent workers.\n"
          ],
          "name": "stderr"
        },
        {
          "output_type": "stream",
          "text": [
            "svc best estimator: LinearSVC(C=1, class_weight='balanced', dual=True, fit_intercept=True,\n",
            "          intercept_scaling=1, loss='hinge', max_iter=1000, multi_class='ovr',\n",
            "          penalty='l2', random_state=0, tol=0.0001, verbose=0)\n",
            "              precision    recall  f1-score   support\n",
            "\n",
            "           1       0.84      0.71      0.77       233\n",
            "           2       0.50      0.68      0.58       100\n",
            "\n",
            "    accuracy                           0.70       333\n",
            "   macro avg       0.67      0.70      0.67       333\n",
            "weighted avg       0.74      0.70      0.71       333\n",
            "\n",
            "model accuracy: 0.70270\n",
            "balanced accuracy rate: 0.69622\n",
            "28 69\n",
            "165 264\n",
            "Zemel fairness:  0.7807971014492754\n",
            "Disparate Impact:  0.6492753623188406\n",
            "----------------------\n",
            "28 69\n",
            "165 264\n",
            "Fitting 5 folds for each of 9 candidates, totalling 45 fits\n"
          ],
          "name": "stdout"
        },
        {
          "output_type": "stream",
          "text": [
            "[Parallel(n_jobs=-1)]: Done  45 out of  45 | elapsed:    0.2s finished\n",
            "/usr/local/lib/python3.7/dist-packages/sklearn/svm/_base.py:947: ConvergenceWarning: Liblinear failed to converge, increase the number of iterations.\n",
            "  \"the number of iterations.\", ConvergenceWarning)\n",
            "[Parallel(n_jobs=-1)]: Using backend LokyBackend with 2 concurrent workers.\n"
          ],
          "name": "stderr"
        },
        {
          "output_type": "stream",
          "text": [
            "svc best estimator: LinearSVC(C=0.5, class_weight='balanced', dual=True, fit_intercept=True,\n",
            "          intercept_scaling=1, loss='hinge', max_iter=1000, multi_class='ovr',\n",
            "          penalty='l2', random_state=0, tol=0.0001, verbose=0)\n",
            "              precision    recall  f1-score   support\n",
            "\n",
            "           1       0.88      0.70      0.78       233\n",
            "           2       0.52      0.77      0.62       100\n",
            "\n",
            "    accuracy                           0.72       333\n",
            "   macro avg       0.70      0.73      0.70       333\n",
            "weighted avg       0.77      0.72      0.73       333\n",
            "\n",
            "model accuracy: 0.72072\n",
            "balanced accuracy rate: 0.73479\n",
            "23 68\n",
            "168 265\n",
            "Zemel fairness:  0.7042730299667037\n",
            "Disparate Impact:  0.5335259103641458\n",
            "----------------------\n",
            "23 68\n",
            "168 265\n",
            "Fitting 5 folds for each of 9 candidates, totalling 45 fits\n"
          ],
          "name": "stdout"
        },
        {
          "output_type": "stream",
          "text": [
            "[Parallel(n_jobs=-1)]: Done  45 out of  45 | elapsed:    0.2s finished\n",
            "[Parallel(n_jobs=-1)]: Using backend LokyBackend with 2 concurrent workers.\n"
          ],
          "name": "stderr"
        },
        {
          "output_type": "stream",
          "text": [
            "svc best estimator: LinearSVC(C=0.05, class_weight='balanced', dual=True, fit_intercept=True,\n",
            "          intercept_scaling=1, loss='hinge', max_iter=1000, multi_class='ovr',\n",
            "          penalty='l2', random_state=0, tol=0.0001, verbose=0)\n",
            "              precision    recall  f1-score   support\n",
            "\n",
            "           1       0.90      0.68      0.77       233\n",
            "           2       0.53      0.83      0.64       100\n",
            "\n",
            "    accuracy                           0.72       333\n",
            "   macro avg       0.71      0.75      0.71       333\n",
            "weighted avg       0.79      0.72      0.74       333\n",
            "\n",
            "model accuracy: 0.72372\n",
            "balanced accuracy rate: 0.75406\n",
            "26 73\n",
            "160 260\n",
            "Zemel fairness:  0.7407797681770284\n",
            "Disparate Impact:  0.5787671232876712\n",
            "----------------------\n",
            "26 73\n",
            "160 260\n",
            "Fitting 5 folds for each of 9 candidates, totalling 45 fits\n"
          ],
          "name": "stdout"
        },
        {
          "output_type": "stream",
          "text": [
            "[Parallel(n_jobs=-1)]: Done  45 out of  45 | elapsed:    0.2s finished\n",
            "[Parallel(n_jobs=-1)]: Using backend LokyBackend with 2 concurrent workers.\n"
          ],
          "name": "stderr"
        },
        {
          "output_type": "stream",
          "text": [
            "svc best estimator: LinearSVC(C=0.01, class_weight='balanced', dual=True, fit_intercept=True,\n",
            "          intercept_scaling=1, loss='hinge', max_iter=1000, multi_class='ovr',\n",
            "          penalty='l2', random_state=0, tol=0.0001, verbose=0)\n",
            "              precision    recall  f1-score   support\n",
            "\n",
            "           1       0.88      0.69      0.78       233\n",
            "           2       0.52      0.79      0.63       100\n",
            "\n",
            "    accuracy                           0.72       333\n",
            "   macro avg       0.70      0.74      0.70       333\n",
            "weighted avg       0.78      0.72      0.73       333\n",
            "\n",
            "model accuracy: 0.72072\n",
            "balanced accuracy rate: 0.74049\n",
            "17 68\n",
            "163 265\n",
            "Zemel fairness:  0.6349056603773585\n",
            "Disparate Impact:  0.4064417177914111\n",
            "----------------------\n",
            "17 68\n",
            "163 265\n",
            "Fitting 5 folds for each of 9 candidates, totalling 45 fits\n"
          ],
          "name": "stdout"
        },
        {
          "output_type": "stream",
          "text": [
            "[Parallel(n_jobs=-1)]: Done  45 out of  45 | elapsed:    0.2s finished\n",
            "[Parallel(n_jobs=-1)]: Using backend LokyBackend with 2 concurrent workers.\n"
          ],
          "name": "stderr"
        },
        {
          "output_type": "stream",
          "text": [
            "svc best estimator: LinearSVC(C=0.005, class_weight='balanced', dual=True, fit_intercept=True,\n",
            "          intercept_scaling=1, loss='hinge', max_iter=1000, multi_class='ovr',\n",
            "          penalty='l2', random_state=0, tol=0.0001, verbose=0)\n",
            "              precision    recall  f1-score   support\n",
            "\n",
            "           1       0.85      0.68      0.76       233\n",
            "           2       0.49      0.73      0.59       100\n",
            "\n",
            "    accuracy                           0.69       333\n",
            "   macro avg       0.67      0.70      0.67       333\n",
            "weighted avg       0.75      0.69      0.71       333\n",
            "\n",
            "model accuracy: 0.69369\n",
            "balanced accuracy rate: 0.70406\n",
            "17 60\n",
            "170 273\n",
            "Zemel fairness:  0.6606227106227106\n",
            "Disparate Impact:  0.45499999999999996\n",
            "----------------------\n",
            "17 60\n",
            "170 273\n",
            "Fitting 5 folds for each of 9 candidates, totalling 45 fits\n"
          ],
          "name": "stdout"
        },
        {
          "output_type": "stream",
          "text": [
            "[Parallel(n_jobs=-1)]: Done  45 out of  45 | elapsed:    0.2s finished\n",
            "/usr/local/lib/python3.7/dist-packages/sklearn/svm/_base.py:947: ConvergenceWarning: Liblinear failed to converge, increase the number of iterations.\n",
            "  \"the number of iterations.\", ConvergenceWarning)\n",
            "[Parallel(n_jobs=-1)]: Using backend LokyBackend with 2 concurrent workers.\n"
          ],
          "name": "stderr"
        },
        {
          "output_type": "stream",
          "text": [
            "svc best estimator: LinearSVC(C=5, class_weight='balanced', dual=True, fit_intercept=True,\n",
            "          intercept_scaling=1, loss='hinge', max_iter=1000, multi_class='ovr',\n",
            "          penalty='l2', random_state=0, tol=0.0001, verbose=0)\n",
            "              precision    recall  f1-score   support\n",
            "\n",
            "           1       0.85      0.67      0.75       233\n",
            "           2       0.49      0.73      0.58       100\n",
            "\n",
            "    accuracy                           0.69       333\n",
            "   macro avg       0.67      0.70      0.67       333\n",
            "weighted avg       0.74      0.69      0.70       333\n",
            "\n",
            "model accuracy: 0.68769\n",
            "balanced accuracy rate: 0.69976\n",
            "13 54\n",
            "174 279\n",
            "Zemel fairness:  0.6170848267622461\n",
            "Disparate Impact:  0.38601532567049807\n",
            "----------------------\n",
            "13 54\n",
            "174 279\n",
            "Fitting 5 folds for each of 9 candidates, totalling 45 fits\n"
          ],
          "name": "stdout"
        },
        {
          "output_type": "stream",
          "text": [
            "[Parallel(n_jobs=-1)]: Done  45 out of  45 | elapsed:    0.2s finished\n",
            "[Parallel(n_jobs=-1)]: Using backend LokyBackend with 2 concurrent workers.\n"
          ],
          "name": "stderr"
        },
        {
          "output_type": "stream",
          "text": [
            "svc best estimator: LinearSVC(C=0.005, class_weight='balanced', dual=True, fit_intercept=True,\n",
            "          intercept_scaling=1, loss='hinge', max_iter=1000, multi_class='ovr',\n",
            "          penalty='l2', random_state=0, tol=0.0001, verbose=0)\n",
            "              precision    recall  f1-score   support\n",
            "\n",
            "           1       0.89      0.68      0.77       233\n",
            "           2       0.52      0.80      0.63       100\n",
            "\n",
            "    accuracy                           0.72       333\n",
            "   macro avg       0.70      0.74      0.70       333\n",
            "weighted avg       0.78      0.72      0.73       333\n",
            "\n",
            "model accuracy: 0.71772\n",
            "balanced accuracy rate: 0.74120\n",
            "20 64\n",
            "166 269\n",
            "Zemel fairness:  0.6953996282527881\n",
            "Disparate Impact:  0.5064006024096386\n",
            "----------------------\n",
            "20 64\n",
            "166 269\n",
            "Fitting 5 folds for each of 9 candidates, totalling 45 fits\n"
          ],
          "name": "stdout"
        },
        {
          "output_type": "stream",
          "text": [
            "[Parallel(n_jobs=-1)]: Done  45 out of  45 | elapsed:    0.2s finished\n",
            "/usr/local/lib/python3.7/dist-packages/sklearn/svm/_base.py:947: ConvergenceWarning: Liblinear failed to converge, increase the number of iterations.\n",
            "  \"the number of iterations.\", ConvergenceWarning)\n",
            "[Parallel(n_jobs=-1)]: Using backend LokyBackend with 2 concurrent workers.\n"
          ],
          "name": "stderr"
        },
        {
          "output_type": "stream",
          "text": [
            "svc best estimator: LinearSVC(C=1, class_weight='balanced', dual=True, fit_intercept=True,\n",
            "          intercept_scaling=1, loss='hinge', max_iter=1000, multi_class='ovr',\n",
            "          penalty='l2', random_state=0, tol=0.0001, verbose=0)\n",
            "              precision    recall  f1-score   support\n",
            "\n",
            "           1       0.86      0.68      0.76       233\n",
            "           2       0.50      0.74      0.60       100\n",
            "\n",
            "    accuracy                           0.70       333\n",
            "   macro avg       0.68      0.71      0.68       333\n",
            "weighted avg       0.75      0.70      0.71       333\n",
            "\n",
            "model accuracy: 0.69970\n",
            "balanced accuracy rate: 0.71120\n",
            "24 65\n",
            "168 268\n",
            "Zemel fairness:  0.7423650975889782\n",
            "Disparate Impact:  0.589010989010989\n",
            "----------------------\n",
            "24 65\n",
            "168 268\n",
            "Fitting 5 folds for each of 9 candidates, totalling 45 fits\n"
          ],
          "name": "stdout"
        },
        {
          "output_type": "stream",
          "text": [
            "[Parallel(n_jobs=-1)]: Done  45 out of  45 | elapsed:    0.2s finished\n",
            "/usr/local/lib/python3.7/dist-packages/sklearn/svm/_base.py:947: ConvergenceWarning: Liblinear failed to converge, increase the number of iterations.\n",
            "  \"the number of iterations.\", ConvergenceWarning)\n",
            "[Parallel(n_jobs=-1)]: Using backend LokyBackend with 2 concurrent workers.\n"
          ],
          "name": "stderr"
        },
        {
          "output_type": "stream",
          "text": [
            "svc best estimator: LinearSVC(C=10, class_weight='balanced', dual=True, fit_intercept=True,\n",
            "          intercept_scaling=1, loss='hinge', max_iter=1000, multi_class='ovr',\n",
            "          penalty='l2', random_state=0, tol=0.0001, verbose=0)\n",
            "              precision    recall  f1-score   support\n",
            "\n",
            "           1       0.84      0.73      0.78       233\n",
            "           2       0.52      0.67      0.59       100\n",
            "\n",
            "    accuracy                           0.71       333\n",
            "   macro avg       0.68      0.70      0.68       333\n",
            "weighted avg       0.74      0.71      0.72       333\n",
            "\n",
            "model accuracy: 0.71471\n",
            "balanced accuracy rate: 0.70195\n",
            "20 64\n",
            "171 269\n",
            "Zemel fairness:  0.6768122676579925\n",
            "Disparate Impact:  0.49159356725146197\n",
            "----------------------\n",
            "20 64\n",
            "171 269\n",
            "Fitting 5 folds for each of 9 candidates, totalling 45 fits\n"
          ],
          "name": "stdout"
        },
        {
          "output_type": "stream",
          "text": [
            "[Parallel(n_jobs=-1)]: Done  45 out of  45 | elapsed:    0.2s finished\n",
            "/usr/local/lib/python3.7/dist-packages/sklearn/svm/_base.py:947: ConvergenceWarning: Liblinear failed to converge, increase the number of iterations.\n",
            "  \"the number of iterations.\", ConvergenceWarning)\n",
            "[Parallel(n_jobs=-1)]: Using backend LokyBackend with 2 concurrent workers.\n"
          ],
          "name": "stderr"
        },
        {
          "output_type": "stream",
          "text": [
            "svc best estimator: LinearSVC(C=10, class_weight='balanced', dual=True, fit_intercept=True,\n",
            "          intercept_scaling=1, loss='hinge', max_iter=1000, multi_class='ovr',\n",
            "          penalty='l2', random_state=0, tol=0.0001, verbose=0)\n",
            "              precision    recall  f1-score   support\n",
            "\n",
            "           1       0.88      0.72      0.79       233\n",
            "           2       0.54      0.78      0.64       100\n",
            "\n",
            "    accuracy                           0.74       333\n",
            "   macro avg       0.71      0.75      0.72       333\n",
            "weighted avg       0.78      0.74      0.75       333\n",
            "\n",
            "model accuracy: 0.73574\n",
            "balanced accuracy rate: 0.74837\n",
            "28 72\n",
            "162 261\n",
            "Zemel fairness:  0.7681992337164751\n",
            "Disparate Impact:  0.6265432098765432\n",
            "----------------------\n",
            "28 72\n",
            "162 261\n",
            "Fitting 5 folds for each of 9 candidates, totalling 45 fits\n"
          ],
          "name": "stdout"
        },
        {
          "output_type": "stream",
          "text": [
            "[Parallel(n_jobs=-1)]: Done  45 out of  45 | elapsed:    0.2s finished\n",
            "/usr/local/lib/python3.7/dist-packages/sklearn/svm/_base.py:947: ConvergenceWarning: Liblinear failed to converge, increase the number of iterations.\n",
            "  \"the number of iterations.\", ConvergenceWarning)\n",
            "[Parallel(n_jobs=-1)]: Using backend LokyBackend with 2 concurrent workers.\n"
          ],
          "name": "stderr"
        },
        {
          "output_type": "stream",
          "text": [
            "svc best estimator: LinearSVC(C=1, class_weight='balanced', dual=True, fit_intercept=True,\n",
            "          intercept_scaling=1, loss='hinge', max_iter=1000, multi_class='ovr',\n",
            "          penalty='l2', random_state=0, tol=0.0001, verbose=0)\n",
            "              precision    recall  f1-score   support\n",
            "\n",
            "           1       0.84      0.71      0.77       233\n",
            "           2       0.50      0.68      0.58       100\n",
            "\n",
            "    accuracy                           0.70       333\n",
            "   macro avg       0.67      0.70      0.67       333\n",
            "weighted avg       0.74      0.70      0.71       333\n",
            "\n",
            "model accuracy: 0.70270\n",
            "balanced accuracy rate: 0.69622\n",
            "28 69\n",
            "165 264\n",
            "Zemel fairness:  0.7807971014492754\n",
            "Disparate Impact:  0.6492753623188406\n",
            "----------------------\n",
            "28 69\n",
            "165 264\n",
            "Fitting 5 folds for each of 9 candidates, totalling 45 fits\n"
          ],
          "name": "stdout"
        },
        {
          "output_type": "stream",
          "text": [
            "[Parallel(n_jobs=-1)]: Done  45 out of  45 | elapsed:    0.2s finished\n",
            "/usr/local/lib/python3.7/dist-packages/sklearn/svm/_base.py:947: ConvergenceWarning: Liblinear failed to converge, increase the number of iterations.\n",
            "  \"the number of iterations.\", ConvergenceWarning)\n",
            "[Parallel(n_jobs=-1)]: Using backend LokyBackend with 2 concurrent workers.\n"
          ],
          "name": "stderr"
        },
        {
          "output_type": "stream",
          "text": [
            "svc best estimator: LinearSVC(C=0.5, class_weight='balanced', dual=True, fit_intercept=True,\n",
            "          intercept_scaling=1, loss='hinge', max_iter=1000, multi_class='ovr',\n",
            "          penalty='l2', random_state=0, tol=0.0001, verbose=0)\n",
            "              precision    recall  f1-score   support\n",
            "\n",
            "           1       0.88      0.70      0.78       233\n",
            "           2       0.52      0.77      0.62       100\n",
            "\n",
            "    accuracy                           0.72       333\n",
            "   macro avg       0.70      0.73      0.70       333\n",
            "weighted avg       0.77      0.72      0.73       333\n",
            "\n",
            "model accuracy: 0.72072\n",
            "balanced accuracy rate: 0.73479\n",
            "23 68\n",
            "168 265\n",
            "Zemel fairness:  0.7042730299667037\n",
            "Disparate Impact:  0.5335259103641458\n",
            "----------------------\n",
            "23 68\n",
            "168 265\n",
            "Fitting 5 folds for each of 9 candidates, totalling 45 fits\n"
          ],
          "name": "stdout"
        },
        {
          "output_type": "stream",
          "text": [
            "[Parallel(n_jobs=-1)]: Done  45 out of  45 | elapsed:    0.2s finished\n",
            "[Parallel(n_jobs=-1)]: Using backend LokyBackend with 2 concurrent workers.\n"
          ],
          "name": "stderr"
        },
        {
          "output_type": "stream",
          "text": [
            "svc best estimator: LinearSVC(C=0.05, class_weight='balanced', dual=True, fit_intercept=True,\n",
            "          intercept_scaling=1, loss='hinge', max_iter=1000, multi_class='ovr',\n",
            "          penalty='l2', random_state=0, tol=0.0001, verbose=0)\n",
            "              precision    recall  f1-score   support\n",
            "\n",
            "           1       0.90      0.68      0.78       233\n",
            "           2       0.53      0.83      0.65       100\n",
            "\n",
            "    accuracy                           0.73       333\n",
            "   macro avg       0.72      0.76      0.71       333\n",
            "weighted avg       0.79      0.73      0.74       333\n",
            "\n",
            "model accuracy: 0.72673\n",
            "balanced accuracy rate: 0.75620\n",
            "26 73\n",
            "160 260\n",
            "Zemel fairness:  0.7407797681770284\n",
            "Disparate Impact:  0.5787671232876712\n",
            "----------------------\n",
            "26 73\n",
            "160 260\n",
            "Fitting 5 folds for each of 9 candidates, totalling 45 fits\n"
          ],
          "name": "stdout"
        },
        {
          "output_type": "stream",
          "text": [
            "[Parallel(n_jobs=-1)]: Done  45 out of  45 | elapsed:    0.2s finished\n",
            "[Parallel(n_jobs=-1)]: Using backend LokyBackend with 2 concurrent workers.\n"
          ],
          "name": "stderr"
        },
        {
          "output_type": "stream",
          "text": [
            "svc best estimator: LinearSVC(C=0.01, class_weight='balanced', dual=True, fit_intercept=True,\n",
            "          intercept_scaling=1, loss='hinge', max_iter=1000, multi_class='ovr',\n",
            "          penalty='l2', random_state=0, tol=0.0001, verbose=0)\n",
            "              precision    recall  f1-score   support\n",
            "\n",
            "           1       0.88      0.69      0.78       233\n",
            "           2       0.52      0.79      0.63       100\n",
            "\n",
            "    accuracy                           0.72       333\n",
            "   macro avg       0.70      0.74      0.70       333\n",
            "weighted avg       0.78      0.72      0.73       333\n",
            "\n",
            "model accuracy: 0.72072\n",
            "balanced accuracy rate: 0.74049\n",
            "17 68\n",
            "163 265\n",
            "Zemel fairness:  0.6349056603773585\n",
            "Disparate Impact:  0.4064417177914111\n",
            "----------------------\n",
            "17 68\n",
            "163 265\n",
            "Fitting 5 folds for each of 9 candidates, totalling 45 fits\n"
          ],
          "name": "stdout"
        },
        {
          "output_type": "stream",
          "text": [
            "[Parallel(n_jobs=-1)]: Done  45 out of  45 | elapsed:    0.2s finished\n",
            "[Parallel(n_jobs=-1)]: Using backend LokyBackend with 2 concurrent workers.\n"
          ],
          "name": "stderr"
        },
        {
          "output_type": "stream",
          "text": [
            "svc best estimator: LinearSVC(C=0.005, class_weight='balanced', dual=True, fit_intercept=True,\n",
            "          intercept_scaling=1, loss='hinge', max_iter=1000, multi_class='ovr',\n",
            "          penalty='l2', random_state=0, tol=0.0001, verbose=0)\n",
            "              precision    recall  f1-score   support\n",
            "\n",
            "           1       0.85      0.68      0.75       233\n",
            "           2       0.49      0.72      0.58       100\n",
            "\n",
            "    accuracy                           0.69       333\n",
            "   macro avg       0.67      0.70      0.67       333\n",
            "weighted avg       0.74      0.69      0.70       333\n",
            "\n",
            "model accuracy: 0.69069\n",
            "balanced accuracy rate: 0.69906\n",
            "17 60\n",
            "169 273\n",
            "Zemel fairness:  0.6642857142857143\n",
            "Disparate Impact:  0.4576923076923077\n",
            "----------------------\n",
            "17 60\n",
            "169 273\n",
            "Fitting 5 folds for each of 9 candidates, totalling 45 fits\n"
          ],
          "name": "stdout"
        },
        {
          "output_type": "stream",
          "text": [
            "[Parallel(n_jobs=-1)]: Done  45 out of  45 | elapsed:    0.2s finished\n",
            "/usr/local/lib/python3.7/dist-packages/sklearn/svm/_base.py:947: ConvergenceWarning: Liblinear failed to converge, increase the number of iterations.\n",
            "  \"the number of iterations.\", ConvergenceWarning)\n",
            "[Parallel(n_jobs=-1)]: Using backend LokyBackend with 2 concurrent workers.\n"
          ],
          "name": "stderr"
        },
        {
          "output_type": "stream",
          "text": [
            "svc best estimator: LinearSVC(C=1, class_weight='balanced', dual=True, fit_intercept=True,\n",
            "          intercept_scaling=1, loss='hinge', max_iter=1000, multi_class='ovr',\n",
            "          penalty='l2', random_state=0, tol=0.0001, verbose=0)\n",
            "              precision    recall  f1-score   support\n",
            "\n",
            "           1       0.85      0.67      0.75       233\n",
            "           2       0.49      0.73      0.59       100\n",
            "\n",
            "    accuracy                           0.69       333\n",
            "   macro avg       0.67      0.70      0.67       333\n",
            "weighted avg       0.74      0.69      0.70       333\n",
            "\n",
            "model accuracy: 0.69069\n",
            "balanced accuracy rate: 0.70191\n",
            "13 54\n",
            "174 279\n",
            "Zemel fairness:  0.6170848267622461\n",
            "Disparate Impact:  0.38601532567049807\n",
            "----------------------\n",
            "13 54\n",
            "174 279\n",
            "Fitting 5 folds for each of 9 candidates, totalling 45 fits\n"
          ],
          "name": "stdout"
        },
        {
          "output_type": "stream",
          "text": [
            "[Parallel(n_jobs=-1)]: Done  45 out of  45 | elapsed:    0.2s finished\n",
            "[Parallel(n_jobs=-1)]: Using backend LokyBackend with 2 concurrent workers.\n"
          ],
          "name": "stderr"
        },
        {
          "output_type": "stream",
          "text": [
            "svc best estimator: LinearSVC(C=0.005, class_weight='balanced', dual=True, fit_intercept=True,\n",
            "          intercept_scaling=1, loss='hinge', max_iter=1000, multi_class='ovr',\n",
            "          penalty='l2', random_state=0, tol=0.0001, verbose=0)\n",
            "              precision    recall  f1-score   support\n",
            "\n",
            "           1       0.89      0.68      0.77       233\n",
            "           2       0.52      0.80      0.63       100\n",
            "\n",
            "    accuracy                           0.72       333\n",
            "   macro avg       0.70      0.74      0.70       333\n",
            "weighted avg       0.78      0.72      0.73       333\n",
            "\n",
            "model accuracy: 0.71772\n",
            "balanced accuracy rate: 0.74120\n",
            "20 64\n",
            "166 269\n",
            "Zemel fairness:  0.6953996282527881\n",
            "Disparate Impact:  0.5064006024096386\n",
            "----------------------\n",
            "20 64\n",
            "166 269\n",
            "Fitting 5 folds for each of 9 candidates, totalling 45 fits\n"
          ],
          "name": "stdout"
        },
        {
          "output_type": "stream",
          "text": [
            "[Parallel(n_jobs=-1)]: Done  45 out of  45 | elapsed:    0.2s finished\n",
            "/usr/local/lib/python3.7/dist-packages/sklearn/svm/_base.py:947: ConvergenceWarning: Liblinear failed to converge, increase the number of iterations.\n",
            "  \"the number of iterations.\", ConvergenceWarning)\n",
            "[Parallel(n_jobs=-1)]: Using backend LokyBackend with 2 concurrent workers.\n"
          ],
          "name": "stderr"
        },
        {
          "output_type": "stream",
          "text": [
            "svc best estimator: LinearSVC(C=1, class_weight='balanced', dual=True, fit_intercept=True,\n",
            "          intercept_scaling=1, loss='hinge', max_iter=1000, multi_class='ovr',\n",
            "          penalty='l2', random_state=0, tol=0.0001, verbose=0)\n",
            "              precision    recall  f1-score   support\n",
            "\n",
            "           1       0.86      0.68      0.76       233\n",
            "           2       0.50      0.74      0.60       100\n",
            "\n",
            "    accuracy                           0.70       333\n",
            "   macro avg       0.68      0.71      0.68       333\n",
            "weighted avg       0.75      0.70      0.71       333\n",
            "\n",
            "model accuracy: 0.69970\n",
            "balanced accuracy rate: 0.71120\n",
            "24 65\n",
            "167 268\n",
            "Zemel fairness:  0.7460964408725603\n",
            "Disparate Impact:  0.5925380009212345\n",
            "----------------------\n",
            "24 65\n",
            "167 268\n",
            "Fitting 5 folds for each of 9 candidates, totalling 45 fits\n"
          ],
          "name": "stdout"
        },
        {
          "output_type": "stream",
          "text": [
            "[Parallel(n_jobs=-1)]: Done  45 out of  45 | elapsed:    0.2s finished\n",
            "/usr/local/lib/python3.7/dist-packages/sklearn/svm/_base.py:947: ConvergenceWarning: Liblinear failed to converge, increase the number of iterations.\n",
            "  \"the number of iterations.\", ConvergenceWarning)\n",
            "[Parallel(n_jobs=-1)]: Using backend LokyBackend with 2 concurrent workers.\n"
          ],
          "name": "stderr"
        },
        {
          "output_type": "stream",
          "text": [
            "svc best estimator: LinearSVC(C=0.5, class_weight='balanced', dual=True, fit_intercept=True,\n",
            "          intercept_scaling=1, loss='hinge', max_iter=1000, multi_class='ovr',\n",
            "          penalty='l2', random_state=0, tol=0.0001, verbose=0)\n",
            "              precision    recall  f1-score   support\n",
            "\n",
            "           1       0.84      0.72      0.77       233\n",
            "           2       0.51      0.67      0.58       100\n",
            "\n",
            "    accuracy                           0.71       333\n",
            "   macro avg       0.67      0.70      0.68       333\n",
            "weighted avg       0.74      0.71      0.72       333\n",
            "\n",
            "model accuracy: 0.70571\n",
            "balanced accuracy rate: 0.69552\n",
            "20 64\n",
            "171 269\n",
            "Zemel fairness:  0.6768122676579925\n",
            "Disparate Impact:  0.49159356725146197\n",
            "----------------------\n",
            "20 64\n",
            "171 269\n",
            "Fitting 5 folds for each of 9 candidates, totalling 45 fits\n"
          ],
          "name": "stdout"
        },
        {
          "output_type": "stream",
          "text": [
            "[Parallel(n_jobs=-1)]: Done  45 out of  45 | elapsed:    0.2s finished\n",
            "/usr/local/lib/python3.7/dist-packages/sklearn/svm/_base.py:947: ConvergenceWarning: Liblinear failed to converge, increase the number of iterations.\n",
            "  \"the number of iterations.\", ConvergenceWarning)\n",
            "[Parallel(n_jobs=-1)]: Using backend LokyBackend with 2 concurrent workers.\n"
          ],
          "name": "stderr"
        },
        {
          "output_type": "stream",
          "text": [
            "svc best estimator: LinearSVC(C=10, class_weight='balanced', dual=True, fit_intercept=True,\n",
            "          intercept_scaling=1, loss='hinge', max_iter=1000, multi_class='ovr',\n",
            "          penalty='l2', random_state=0, tol=0.0001, verbose=0)\n",
            "              precision    recall  f1-score   support\n",
            "\n",
            "           1       0.88      0.73      0.79       233\n",
            "           2       0.54      0.76      0.63       100\n",
            "\n",
            "    accuracy                           0.74       333\n",
            "   macro avg       0.71      0.74      0.71       333\n",
            "weighted avg       0.78      0.74      0.75       333\n",
            "\n",
            "model accuracy: 0.73574\n",
            "balanced accuracy rate: 0.74266\n",
            "29 72\n",
            "164 261\n",
            "Zemel fairness:  0.7744252873563219\n",
            "Disparate Impact:  0.6410060975609757\n",
            "----------------------\n",
            "29 72\n",
            "164 261\n",
            "Fitting 5 folds for each of 9 candidates, totalling 45 fits\n"
          ],
          "name": "stdout"
        },
        {
          "output_type": "stream",
          "text": [
            "[Parallel(n_jobs=-1)]: Done  45 out of  45 | elapsed:    0.2s finished\n",
            "/usr/local/lib/python3.7/dist-packages/sklearn/svm/_base.py:947: ConvergenceWarning: Liblinear failed to converge, increase the number of iterations.\n",
            "  \"the number of iterations.\", ConvergenceWarning)\n",
            "[Parallel(n_jobs=-1)]: Using backend LokyBackend with 2 concurrent workers.\n"
          ],
          "name": "stderr"
        },
        {
          "output_type": "stream",
          "text": [
            "svc best estimator: LinearSVC(C=0.5, class_weight='balanced', dual=True, fit_intercept=True,\n",
            "          intercept_scaling=1, loss='hinge', max_iter=1000, multi_class='ovr',\n",
            "          penalty='l2', random_state=0, tol=0.0001, verbose=0)\n",
            "              precision    recall  f1-score   support\n",
            "\n",
            "           1       0.84      0.72      0.77       233\n",
            "           2       0.51      0.67      0.58       100\n",
            "\n",
            "    accuracy                           0.71       333\n",
            "   macro avg       0.67      0.70      0.68       333\n",
            "weighted avg       0.74      0.71      0.72       333\n",
            "\n",
            "model accuracy: 0.70571\n",
            "balanced accuracy rate: 0.69552\n",
            "28 69\n",
            "167 264\n",
            "Zemel fairness:  0.7732213438735178\n",
            "Disparate Impact:  0.6414996094766988\n",
            "----------------------\n",
            "28 69\n",
            "167 264\n",
            "Fitting 5 folds for each of 9 candidates, totalling 45 fits\n"
          ],
          "name": "stdout"
        },
        {
          "output_type": "stream",
          "text": [
            "[Parallel(n_jobs=-1)]: Done  45 out of  45 | elapsed:    0.2s finished\n",
            "/usr/local/lib/python3.7/dist-packages/sklearn/svm/_base.py:947: ConvergenceWarning: Liblinear failed to converge, increase the number of iterations.\n",
            "  \"the number of iterations.\", ConvergenceWarning)\n",
            "[Parallel(n_jobs=-1)]: Using backend LokyBackend with 2 concurrent workers.\n"
          ],
          "name": "stderr"
        },
        {
          "output_type": "stream",
          "text": [
            "svc best estimator: LinearSVC(C=0.5, class_weight='balanced', dual=True, fit_intercept=True,\n",
            "          intercept_scaling=1, loss='hinge', max_iter=1000, multi_class='ovr',\n",
            "          penalty='l2', random_state=0, tol=0.0001, verbose=0)\n",
            "              precision    recall  f1-score   support\n",
            "\n",
            "           1       0.88      0.70      0.78       233\n",
            "           2       0.52      0.77      0.62       100\n",
            "\n",
            "    accuracy                           0.72       333\n",
            "   macro avg       0.70      0.73      0.70       333\n",
            "weighted avg       0.77      0.72      0.73       333\n",
            "\n",
            "model accuracy: 0.72072\n",
            "balanced accuracy rate: 0.73479\n",
            "23 68\n",
            "168 265\n",
            "Zemel fairness:  0.7042730299667037\n",
            "Disparate Impact:  0.5335259103641458\n",
            "----------------------\n",
            "23 68\n",
            "168 265\n",
            "Fitting 5 folds for each of 9 candidates, totalling 45 fits\n"
          ],
          "name": "stdout"
        },
        {
          "output_type": "stream",
          "text": [
            "[Parallel(n_jobs=-1)]: Done  45 out of  45 | elapsed:    0.2s finished\n",
            "[Parallel(n_jobs=-1)]: Using backend LokyBackend with 2 concurrent workers.\n"
          ],
          "name": "stderr"
        },
        {
          "output_type": "stream",
          "text": [
            "svc best estimator: LinearSVC(C=0.1, class_weight='balanced', dual=True, fit_intercept=True,\n",
            "          intercept_scaling=1, loss='hinge', max_iter=1000, multi_class='ovr',\n",
            "          penalty='l2', random_state=0, tol=0.0001, verbose=0)\n",
            "              precision    recall  f1-score   support\n",
            "\n",
            "           1       0.87      0.71      0.78       243\n",
            "           2       0.48      0.71      0.57        90\n",
            "\n",
            "    accuracy                           0.71       333\n",
            "   macro avg       0.67      0.71      0.68       333\n",
            "weighted avg       0.76      0.71      0.73       333\n",
            "\n",
            "model accuracy: 0.71171\n",
            "balanced accuracy rate: 0.71152\n",
            "39 63\n",
            "157 270\n",
            "Zemel fairness:  1.0375661375661376\n",
            "Disparate Impact:  1.064604185623294\n",
            "----------------------\n",
            "39 63\n",
            "157 270\n",
            "Fitting 5 folds for each of 9 candidates, totalling 45 fits\n"
          ],
          "name": "stdout"
        },
        {
          "output_type": "stream",
          "text": [
            "[Parallel(n_jobs=-1)]: Done  45 out of  45 | elapsed:    0.2s finished\n",
            "/usr/local/lib/python3.7/dist-packages/sklearn/svm/_base.py:947: ConvergenceWarning: Liblinear failed to converge, increase the number of iterations.\n",
            "  \"the number of iterations.\", ConvergenceWarning)\n",
            "[Parallel(n_jobs=-1)]: Using backend LokyBackend with 2 concurrent workers.\n"
          ],
          "name": "stderr"
        },
        {
          "output_type": "stream",
          "text": [
            "svc best estimator: LinearSVC(C=0.1, class_weight='balanced', dual=True, fit_intercept=True,\n",
            "          intercept_scaling=1, loss='hinge', max_iter=1000, multi_class='ovr',\n",
            "          penalty='l2', random_state=0, tol=0.0001, verbose=0)\n",
            "              precision    recall  f1-score   support\n",
            "\n",
            "           1       0.85      0.67      0.75       243\n",
            "           2       0.43      0.68      0.53        90\n",
            "\n",
            "    accuracy                           0.67       333\n",
            "   macro avg       0.64      0.67      0.64       333\n",
            "weighted avg       0.74      0.67      0.69       333\n",
            "\n",
            "model accuracy: 0.66967\n",
            "balanced accuracy rate: 0.67222\n",
            "27 66\n",
            "160 267\n",
            "Zemel fairness:  0.809839972761321\n",
            "Disparate Impact:  0.6826704545454546\n",
            "----------------------\n",
            "27 66\n",
            "160 267\n",
            "Fitting 5 folds for each of 9 candidates, totalling 45 fits\n"
          ],
          "name": "stdout"
        },
        {
          "output_type": "stream",
          "text": [
            "[Parallel(n_jobs=-1)]: Done  45 out of  45 | elapsed:    0.2s finished\n",
            "/usr/local/lib/python3.7/dist-packages/sklearn/svm/_base.py:947: ConvergenceWarning: Liblinear failed to converge, increase the number of iterations.\n",
            "  \"the number of iterations.\", ConvergenceWarning)\n",
            "[Parallel(n_jobs=-1)]: Using backend LokyBackend with 2 concurrent workers.\n"
          ],
          "name": "stderr"
        },
        {
          "output_type": "stream",
          "text": [
            "svc best estimator: LinearSVC(C=10, class_weight='balanced', dual=True, fit_intercept=True,\n",
            "          intercept_scaling=1, loss='hinge', max_iter=1000, multi_class='ovr',\n",
            "          penalty='l2', random_state=0, tol=0.0001, verbose=0)\n",
            "              precision    recall  f1-score   support\n",
            "\n",
            "           1       0.84      0.70      0.76       243\n",
            "           2       0.44      0.63      0.52        90\n",
            "\n",
            "    accuracy                           0.68       333\n",
            "   macro avg       0.64      0.66      0.64       333\n",
            "weighted avg       0.73      0.68      0.69       333\n",
            "\n",
            "model accuracy: 0.67868\n",
            "balanced accuracy rate: 0.66440\n",
            "39 62\n",
            "160 271\n",
            "Zemel fairness:  1.0386263540054754\n",
            "Disparate Impact:  1.0654233870967742\n",
            "----------------------\n",
            "39 62\n",
            "160 271\n",
            "Fitting 5 folds for each of 9 candidates, totalling 45 fits\n"
          ],
          "name": "stdout"
        },
        {
          "output_type": "stream",
          "text": [
            "[Parallel(n_jobs=-1)]: Done  45 out of  45 | elapsed:    0.2s finished\n",
            "/usr/local/lib/python3.7/dist-packages/sklearn/svm/_base.py:947: ConvergenceWarning: Liblinear failed to converge, increase the number of iterations.\n",
            "  \"the number of iterations.\", ConvergenceWarning)\n",
            "[Parallel(n_jobs=-1)]: Using backend LokyBackend with 2 concurrent workers.\n"
          ],
          "name": "stderr"
        },
        {
          "output_type": "stream",
          "text": [
            "svc best estimator: LinearSVC(C=10, class_weight='balanced', dual=True, fit_intercept=True,\n",
            "          intercept_scaling=1, loss='hinge', max_iter=1000, multi_class='ovr',\n",
            "          penalty='l2', random_state=0, tol=0.0001, verbose=0)\n",
            "              precision    recall  f1-score   support\n",
            "\n",
            "           1       0.85      0.72      0.78       243\n",
            "           2       0.47      0.67      0.55        90\n",
            "\n",
            "    accuracy                           0.71       333\n",
            "   macro avg       0.66      0.69      0.67       333\n",
            "weighted avg       0.75      0.71      0.72       333\n",
            "\n",
            "model accuracy: 0.70571\n",
            "balanced accuracy rate: 0.69342\n",
            "32 57\n",
            "166 276\n",
            "Zemel fairness:  0.959954233409611\n",
            "Disparate Impact:  0.9334178820545339\n",
            "----------------------\n",
            "32 57\n",
            "166 276\n",
            "Fitting 5 folds for each of 9 candidates, totalling 45 fits\n"
          ],
          "name": "stdout"
        },
        {
          "output_type": "stream",
          "text": [
            "[Parallel(n_jobs=-1)]: Done  45 out of  45 | elapsed:    0.2s finished\n",
            "[Parallel(n_jobs=-1)]: Using backend LokyBackend with 2 concurrent workers.\n"
          ],
          "name": "stderr"
        },
        {
          "output_type": "stream",
          "text": [
            "svc best estimator: LinearSVC(C=0.01, class_weight='balanced', dual=True, fit_intercept=True,\n",
            "          intercept_scaling=1, loss='hinge', max_iter=1000, multi_class='ovr',\n",
            "          penalty='l2', random_state=0, tol=0.0001, verbose=0)\n",
            "              precision    recall  f1-score   support\n",
            "\n",
            "           1       0.84      0.65      0.73       243\n",
            "           2       0.41      0.67      0.51        90\n",
            "\n",
            "    accuracy                           0.65       333\n",
            "   macro avg       0.63      0.66      0.62       333\n",
            "weighted avg       0.73      0.65      0.67       333\n",
            "\n",
            "model accuracy: 0.65465\n",
            "balanced accuracy rate: 0.65844\n",
            "28 64\n",
            "160 269\n",
            "Zemel fairness:  0.8427044609665427\n",
            "Disparate Impact:  0.7355468749999999\n",
            "----------------------\n",
            "28 64\n",
            "160 269\n",
            "Fitting 5 folds for each of 9 candidates, totalling 45 fits\n"
          ],
          "name": "stdout"
        },
        {
          "output_type": "stream",
          "text": [
            "[Parallel(n_jobs=-1)]: Done  45 out of  45 | elapsed:    0.2s finished\n",
            "/usr/local/lib/python3.7/dist-packages/sklearn/svm/_base.py:947: ConvergenceWarning: Liblinear failed to converge, increase the number of iterations.\n",
            "  \"the number of iterations.\", ConvergenceWarning)\n",
            "[Parallel(n_jobs=-1)]: Using backend LokyBackend with 2 concurrent workers.\n"
          ],
          "name": "stderr"
        },
        {
          "output_type": "stream",
          "text": [
            "svc best estimator: LinearSVC(C=0.5, class_weight='balanced', dual=True, fit_intercept=True,\n",
            "          intercept_scaling=1, loss='hinge', max_iter=1000, multi_class='ovr',\n",
            "          penalty='l2', random_state=0, tol=0.0001, verbose=0)\n",
            "              precision    recall  f1-score   support\n",
            "\n",
            "           1       0.83      0.71      0.77       243\n",
            "           2       0.44      0.62      0.52        90\n",
            "\n",
            "    accuracy                           0.68       333\n",
            "   macro avg       0.64      0.67      0.64       333\n",
            "weighted avg       0.73      0.68      0.70       333\n",
            "\n",
            "model accuracy: 0.68468\n",
            "balanced accuracy rate: 0.66502\n",
            "33 69\n",
            "172 264\n",
            "Zemel fairness:  0.8267457180500659\n",
            "Disparate Impact:  0.7340748230535895\n",
            "----------------------\n",
            "33 69\n",
            "172 264\n",
            "Fitting 5 folds for each of 9 candidates, totalling 45 fits\n"
          ],
          "name": "stdout"
        },
        {
          "output_type": "stream",
          "text": [
            "[Parallel(n_jobs=-1)]: Done  45 out of  45 | elapsed:    0.2s finished\n",
            "/usr/local/lib/python3.7/dist-packages/sklearn/svm/_base.py:947: ConvergenceWarning: Liblinear failed to converge, increase the number of iterations.\n",
            "  \"the number of iterations.\", ConvergenceWarning)\n",
            "[Parallel(n_jobs=-1)]: Using backend LokyBackend with 2 concurrent workers.\n"
          ],
          "name": "stderr"
        },
        {
          "output_type": "stream",
          "text": [
            "svc best estimator: LinearSVC(C=1, class_weight='balanced', dual=True, fit_intercept=True,\n",
            "          intercept_scaling=1, loss='hinge', max_iter=1000, multi_class='ovr',\n",
            "          penalty='l2', random_state=0, tol=0.0001, verbose=0)\n",
            "              precision    recall  f1-score   support\n",
            "\n",
            "           1       0.84      0.69      0.76       243\n",
            "           2       0.43      0.63      0.51        90\n",
            "\n",
            "    accuracy                           0.68       333\n",
            "   macro avg       0.63      0.66      0.64       333\n",
            "weighted avg       0.73      0.68      0.69       333\n",
            "\n",
            "model accuracy: 0.67568\n",
            "balanced accuracy rate: 0.66235\n",
            "31 54\n",
            "169 279\n",
            "Zemel fairness:  0.9683393070489844\n",
            "Disparate Impact:  0.9477317554240631\n",
            "----------------------\n",
            "31 54\n",
            "169 279\n",
            "Fitting 5 folds for each of 9 candidates, totalling 45 fits\n"
          ],
          "name": "stdout"
        },
        {
          "output_type": "stream",
          "text": [
            "[Parallel(n_jobs=-1)]: Done  45 out of  45 | elapsed:    0.2s finished\n",
            "[Parallel(n_jobs=-1)]: Using backend LokyBackend with 2 concurrent workers.\n"
          ],
          "name": "stderr"
        },
        {
          "output_type": "stream",
          "text": [
            "svc best estimator: LinearSVC(C=0.01, class_weight='balanced', dual=True, fit_intercept=True,\n",
            "          intercept_scaling=1, loss='hinge', max_iter=1000, multi_class='ovr',\n",
            "          penalty='l2', random_state=0, tol=0.0001, verbose=0)\n",
            "              precision    recall  f1-score   support\n",
            "\n",
            "           1       0.88      0.67      0.76       243\n",
            "           2       0.46      0.74      0.57        90\n",
            "\n",
            "    accuracy                           0.69       333\n",
            "   macro avg       0.67      0.71      0.66       333\n",
            "weighted avg       0.76      0.69      0.71       333\n",
            "\n",
            "model accuracy: 0.69069\n",
            "balanced accuracy rate: 0.70761\n",
            "26 69\n",
            "158 264\n",
            "Zemel fairness:  0.77832674571805\n",
            "Disparate Impact:  0.6296092460099064\n",
            "----------------------\n",
            "26 69\n",
            "158 264\n",
            "Fitting 5 folds for each of 9 candidates, totalling 45 fits\n"
          ],
          "name": "stdout"
        },
        {
          "output_type": "stream",
          "text": [
            "[Parallel(n_jobs=-1)]: Done  45 out of  45 | elapsed:    0.2s finished\n",
            "/usr/local/lib/python3.7/dist-packages/sklearn/svm/_base.py:947: ConvergenceWarning: Liblinear failed to converge, increase the number of iterations.\n",
            "  \"the number of iterations.\", ConvergenceWarning)\n",
            "[Parallel(n_jobs=-1)]: Using backend LokyBackend with 2 concurrent workers.\n"
          ],
          "name": "stderr"
        },
        {
          "output_type": "stream",
          "text": [
            "svc best estimator: LinearSVC(C=1, class_weight='balanced', dual=True, fit_intercept=True,\n",
            "          intercept_scaling=1, loss='hinge', max_iter=1000, multi_class='ovr',\n",
            "          penalty='l2', random_state=0, tol=0.0001, verbose=0)\n",
            "              precision    recall  f1-score   support\n",
            "\n",
            "           1       0.89      0.69      0.78       243\n",
            "           2       0.48      0.77      0.59        90\n",
            "\n",
            "    accuracy                           0.71       333\n",
            "   macro avg       0.68      0.73      0.68       333\n",
            "weighted avg       0.78      0.71      0.73       333\n",
            "\n",
            "model accuracy: 0.71171\n",
            "balanced accuracy rate: 0.72901\n",
            "22 51\n",
            "164 282\n",
            "Zemel fairness:  0.8498122653316647\n",
            "Disparate Impact:  0.7417503586800575\n",
            "----------------------\n",
            "22 51\n",
            "164 282\n",
            "Fitting 5 folds for each of 9 candidates, totalling 45 fits\n"
          ],
          "name": "stdout"
        },
        {
          "output_type": "stream",
          "text": [
            "[Parallel(n_jobs=-1)]: Done  45 out of  45 | elapsed:    0.2s finished\n",
            "/usr/local/lib/python3.7/dist-packages/sklearn/svm/_base.py:947: ConvergenceWarning: Liblinear failed to converge, increase the number of iterations.\n",
            "  \"the number of iterations.\", ConvergenceWarning)\n",
            "[Parallel(n_jobs=-1)]: Using backend LokyBackend with 2 concurrent workers.\n"
          ],
          "name": "stderr"
        },
        {
          "output_type": "stream",
          "text": [
            "svc best estimator: LinearSVC(C=1, class_weight='balanced', dual=True, fit_intercept=True,\n",
            "          intercept_scaling=1, loss='hinge', max_iter=1000, multi_class='ovr',\n",
            "          penalty='l2', random_state=0, tol=0.0001, verbose=0)\n",
            "              precision    recall  f1-score   support\n",
            "\n",
            "           1       0.86      0.66      0.75       243\n",
            "           2       0.44      0.71      0.54        90\n",
            "\n",
            "    accuracy                           0.67       333\n",
            "   macro avg       0.65      0.68      0.64       333\n",
            "weighted avg       0.75      0.67      0.69       333\n",
            "\n",
            "model accuracy: 0.67267\n",
            "balanced accuracy rate: 0.68477\n",
            "23 58\n",
            "166 275\n",
            "Zemel fairness:  0.7929153605015674\n",
            "Disparate Impact:  0.656938097216452\n",
            "----------------------\n",
            "23 58\n",
            "166 275\n",
            "Fitting 5 folds for each of 9 candidates, totalling 45 fits\n"
          ],
          "name": "stdout"
        },
        {
          "output_type": "stream",
          "text": [
            "[Parallel(n_jobs=-1)]: Done  45 out of  45 | elapsed:    0.2s finished\n",
            "[Parallel(n_jobs=-1)]: Using backend LokyBackend with 2 concurrent workers.\n"
          ],
          "name": "stderr"
        },
        {
          "output_type": "stream",
          "text": [
            "svc best estimator: LinearSVC(C=0.05, class_weight='balanced', dual=True, fit_intercept=True,\n",
            "          intercept_scaling=1, loss='hinge', max_iter=1000, multi_class='ovr',\n",
            "          penalty='l2', random_state=0, tol=0.0001, verbose=0)\n",
            "              precision    recall  f1-score   support\n",
            "\n",
            "           1       0.90      0.68      0.77       233\n",
            "           2       0.53      0.83      0.64       100\n",
            "\n",
            "    accuracy                           0.72       333\n",
            "   macro avg       0.71      0.75      0.71       333\n",
            "weighted avg       0.79      0.72      0.74       333\n",
            "\n",
            "model accuracy: 0.72372\n",
            "balanced accuracy rate: 0.75406\n",
            "25 73\n",
            "160 260\n",
            "Zemel fairness:  0.7270811380400422\n",
            "Disparate Impact:  0.5565068493150684\n",
            "----------------------\n",
            "25 73\n",
            "160 260\n",
            "Fitting 5 folds for each of 9 candidates, totalling 45 fits\n"
          ],
          "name": "stdout"
        },
        {
          "output_type": "stream",
          "text": [
            "[Parallel(n_jobs=-1)]: Done  45 out of  45 | elapsed:    0.2s finished\n",
            "[Parallel(n_jobs=-1)]: Using backend LokyBackend with 2 concurrent workers.\n"
          ],
          "name": "stderr"
        },
        {
          "output_type": "stream",
          "text": [
            "svc best estimator: LinearSVC(C=0.01, class_weight='balanced', dual=True, fit_intercept=True,\n",
            "          intercept_scaling=1, loss='hinge', max_iter=1000, multi_class='ovr',\n",
            "          penalty='l2', random_state=0, tol=0.0001, verbose=0)\n",
            "              precision    recall  f1-score   support\n",
            "\n",
            "           1       0.88      0.69      0.78       233\n",
            "           2       0.52      0.79      0.63       100\n",
            "\n",
            "    accuracy                           0.72       333\n",
            "   macro avg       0.70      0.74      0.70       333\n",
            "weighted avg       0.78      0.72      0.73       333\n",
            "\n",
            "model accuracy: 0.72072\n",
            "balanced accuracy rate: 0.74049\n",
            "17 68\n",
            "163 265\n",
            "Zemel fairness:  0.6349056603773585\n",
            "Disparate Impact:  0.4064417177914111\n",
            "----------------------\n",
            "17 68\n",
            "163 265\n",
            "Fitting 5 folds for each of 9 candidates, totalling 45 fits\n"
          ],
          "name": "stdout"
        },
        {
          "output_type": "stream",
          "text": [
            "[Parallel(n_jobs=-1)]: Done  45 out of  45 | elapsed:    0.2s finished\n",
            "[Parallel(n_jobs=-1)]: Using backend LokyBackend with 2 concurrent workers.\n"
          ],
          "name": "stderr"
        },
        {
          "output_type": "stream",
          "text": [
            "svc best estimator: LinearSVC(C=0.005, class_weight='balanced', dual=True, fit_intercept=True,\n",
            "          intercept_scaling=1, loss='hinge', max_iter=1000, multi_class='ovr',\n",
            "          penalty='l2', random_state=0, tol=0.0001, verbose=0)\n",
            "              precision    recall  f1-score   support\n",
            "\n",
            "           1       0.85      0.68      0.75       233\n",
            "           2       0.49      0.72      0.58       100\n",
            "\n",
            "    accuracy                           0.69       333\n",
            "   macro avg       0.67      0.70      0.67       333\n",
            "weighted avg       0.74      0.69      0.70       333\n",
            "\n",
            "model accuracy: 0.69069\n",
            "balanced accuracy rate: 0.69906\n",
            "17 60\n",
            "169 273\n",
            "Zemel fairness:  0.6642857142857143\n",
            "Disparate Impact:  0.4576923076923077\n",
            "----------------------\n",
            "17 60\n",
            "169 273\n",
            "Fitting 5 folds for each of 9 candidates, totalling 45 fits\n"
          ],
          "name": "stdout"
        },
        {
          "output_type": "stream",
          "text": [
            "[Parallel(n_jobs=-1)]: Done  45 out of  45 | elapsed:    0.2s finished\n",
            "/usr/local/lib/python3.7/dist-packages/sklearn/svm/_base.py:947: ConvergenceWarning: Liblinear failed to converge, increase the number of iterations.\n",
            "  \"the number of iterations.\", ConvergenceWarning)\n",
            "[Parallel(n_jobs=-1)]: Using backend LokyBackend with 2 concurrent workers.\n"
          ],
          "name": "stderr"
        },
        {
          "output_type": "stream",
          "text": [
            "svc best estimator: LinearSVC(C=0.5, class_weight='balanced', dual=True, fit_intercept=True,\n",
            "          intercept_scaling=1, loss='hinge', max_iter=1000, multi_class='ovr',\n",
            "          penalty='l2', random_state=0, tol=0.0001, verbose=0)\n",
            "              precision    recall  f1-score   support\n",
            "\n",
            "           1       0.85      0.67      0.75       233\n",
            "           2       0.49      0.73      0.59       100\n",
            "\n",
            "    accuracy                           0.69       333\n",
            "   macro avg       0.67      0.70      0.67       333\n",
            "weighted avg       0.74      0.69      0.70       333\n",
            "\n",
            "model accuracy: 0.69069\n",
            "balanced accuracy rate: 0.70191\n",
            "13 54\n",
            "174 279\n",
            "Zemel fairness:  0.6170848267622461\n",
            "Disparate Impact:  0.38601532567049807\n",
            "----------------------\n",
            "13 54\n",
            "174 279\n",
            "Fitting 5 folds for each of 9 candidates, totalling 45 fits\n"
          ],
          "name": "stdout"
        },
        {
          "output_type": "stream",
          "text": [
            "[Parallel(n_jobs=-1)]: Done  45 out of  45 | elapsed:    0.2s finished\n",
            "[Parallel(n_jobs=-1)]: Using backend LokyBackend with 2 concurrent workers.\n"
          ],
          "name": "stderr"
        },
        {
          "output_type": "stream",
          "text": [
            "svc best estimator: LinearSVC(C=0.005, class_weight='balanced', dual=True, fit_intercept=True,\n",
            "          intercept_scaling=1, loss='hinge', max_iter=1000, multi_class='ovr',\n",
            "          penalty='l2', random_state=0, tol=0.0001, verbose=0)\n",
            "              precision    recall  f1-score   support\n",
            "\n",
            "           1       0.89      0.68      0.77       233\n",
            "           2       0.52      0.80      0.63       100\n",
            "\n",
            "    accuracy                           0.72       333\n",
            "   macro avg       0.70      0.74      0.70       333\n",
            "weighted avg       0.78      0.72      0.73       333\n",
            "\n",
            "model accuracy: 0.71772\n",
            "balanced accuracy rate: 0.74120\n",
            "20 64\n",
            "163 269\n",
            "Zemel fairness:  0.7065520446096655\n",
            "Disparate Impact:  0.5157208588957055\n",
            "----------------------\n",
            "20 64\n",
            "163 269\n",
            "Fitting 5 folds for each of 9 candidates, totalling 45 fits\n"
          ],
          "name": "stdout"
        },
        {
          "output_type": "stream",
          "text": [
            "[Parallel(n_jobs=-1)]: Done  45 out of  45 | elapsed:    0.2s finished\n",
            "/usr/local/lib/python3.7/dist-packages/sklearn/svm/_base.py:947: ConvergenceWarning: Liblinear failed to converge, increase the number of iterations.\n",
            "  \"the number of iterations.\", ConvergenceWarning)\n",
            "[Parallel(n_jobs=-1)]: Using backend LokyBackend with 2 concurrent workers.\n"
          ],
          "name": "stderr"
        },
        {
          "output_type": "stream",
          "text": [
            "svc best estimator: LinearSVC(C=1, class_weight='balanced', dual=True, fit_intercept=True,\n",
            "          intercept_scaling=1, loss='hinge', max_iter=1000, multi_class='ovr',\n",
            "          penalty='l2', random_state=0, tol=0.0001, verbose=0)\n",
            "              precision    recall  f1-score   support\n",
            "\n",
            "           1       0.86      0.68      0.76       233\n",
            "           2       0.50      0.74      0.59       100\n",
            "\n",
            "    accuracy                           0.70       333\n",
            "   macro avg       0.68      0.71      0.68       333\n",
            "weighted avg       0.75      0.70      0.71       333\n",
            "\n",
            "model accuracy: 0.69670\n",
            "balanced accuracy rate: 0.70906\n",
            "22 65\n",
            "169 268\n",
            "Zemel fairness:  0.7078645235361654\n",
            "Disparate Impact:  0.5367319071461084\n",
            "----------------------\n",
            "22 65\n",
            "169 268\n",
            "Fitting 5 folds for each of 9 candidates, totalling 45 fits\n"
          ],
          "name": "stdout"
        },
        {
          "output_type": "stream",
          "text": [
            "[Parallel(n_jobs=-1)]: Done  45 out of  45 | elapsed:    0.2s finished\n",
            "/usr/local/lib/python3.7/dist-packages/sklearn/svm/_base.py:947: ConvergenceWarning: Liblinear failed to converge, increase the number of iterations.\n",
            "  \"the number of iterations.\", ConvergenceWarning)\n",
            "[Parallel(n_jobs=-1)]: Using backend LokyBackend with 2 concurrent workers.\n"
          ],
          "name": "stderr"
        },
        {
          "output_type": "stream",
          "text": [
            "svc best estimator: LinearSVC(C=0.5, class_weight='balanced', dual=True, fit_intercept=True,\n",
            "          intercept_scaling=1, loss='hinge', max_iter=1000, multi_class='ovr',\n",
            "          penalty='l2', random_state=0, tol=0.0001, verbose=0)\n",
            "              precision    recall  f1-score   support\n",
            "\n",
            "           1       0.84      0.73      0.78       233\n",
            "           2       0.52      0.67      0.58       100\n",
            "\n",
            "    accuracy                           0.71       333\n",
            "   macro avg       0.68      0.70      0.68       333\n",
            "weighted avg       0.74      0.71      0.72       333\n",
            "\n",
            "model accuracy: 0.71171\n",
            "balanced accuracy rate: 0.69981\n",
            "21 64\n",
            "171 269\n",
            "Zemel fairness:  0.6924372676579925\n",
            "Disparate Impact:  0.5161732456140351\n",
            "----------------------\n",
            "21 64\n",
            "171 269\n",
            "Fitting 5 folds for each of 9 candidates, totalling 45 fits\n"
          ],
          "name": "stdout"
        },
        {
          "output_type": "stream",
          "text": [
            "[Parallel(n_jobs=-1)]: Done  45 out of  45 | elapsed:    0.2s finished\n",
            "/usr/local/lib/python3.7/dist-packages/sklearn/svm/_base.py:947: ConvergenceWarning: Liblinear failed to converge, increase the number of iterations.\n",
            "  \"the number of iterations.\", ConvergenceWarning)\n",
            "[Parallel(n_jobs=-1)]: Using backend LokyBackend with 2 concurrent workers.\n"
          ],
          "name": "stderr"
        },
        {
          "output_type": "stream",
          "text": [
            "svc best estimator: LinearSVC(C=5, class_weight='balanced', dual=True, fit_intercept=True,\n",
            "          intercept_scaling=1, loss='hinge', max_iter=1000, multi_class='ovr',\n",
            "          penalty='l2', random_state=0, tol=0.0001, verbose=0)\n",
            "              precision    recall  f1-score   support\n",
            "\n",
            "           1       0.88      0.72      0.79       233\n",
            "           2       0.54      0.77      0.64       100\n",
            "\n",
            "    accuracy                           0.74       333\n",
            "   macro avg       0.71      0.75      0.71       333\n",
            "weighted avg       0.78      0.74      0.75       333\n",
            "\n",
            "model accuracy: 0.73574\n",
            "balanced accuracy rate: 0.74552\n",
            "29 72\n",
            "163 261\n",
            "Zemel fairness:  0.7782567049808429\n",
            "Disparate Impact:  0.6449386503067485\n",
            "----------------------\n",
            "29 72\n",
            "163 261\n",
            "Fitting 5 folds for each of 9 candidates, totalling 45 fits\n"
          ],
          "name": "stdout"
        },
        {
          "output_type": "stream",
          "text": [
            "[Parallel(n_jobs=-1)]: Done  45 out of  45 | elapsed:    0.2s finished\n",
            "/usr/local/lib/python3.7/dist-packages/sklearn/svm/_base.py:947: ConvergenceWarning: Liblinear failed to converge, increase the number of iterations.\n",
            "  \"the number of iterations.\", ConvergenceWarning)\n",
            "[Parallel(n_jobs=-1)]: Using backend LokyBackend with 2 concurrent workers.\n"
          ],
          "name": "stderr"
        },
        {
          "output_type": "stream",
          "text": [
            "svc best estimator: LinearSVC(C=10, class_weight='balanced', dual=True, fit_intercept=True,\n",
            "          intercept_scaling=1, loss='hinge', max_iter=1000, multi_class='ovr',\n",
            "          penalty='l2', random_state=0, tol=0.0001, verbose=0)\n",
            "              precision    recall  f1-score   support\n",
            "\n",
            "           1       0.84      0.73      0.78       233\n",
            "           2       0.52      0.68      0.59       100\n",
            "\n",
            "    accuracy                           0.72       333\n",
            "   macro avg       0.68      0.71      0.69       333\n",
            "weighted avg       0.75      0.72      0.73       333\n",
            "\n",
            "model accuracy: 0.71772\n",
            "balanced accuracy rate: 0.70695\n",
            "29 69\n",
            "168 264\n",
            "Zemel fairness:  0.7839262187088274\n",
            "Disparate Impact:  0.660455486542443\n",
            "----------------------\n",
            "29 69\n",
            "168 264\n",
            "Fitting 5 folds for each of 9 candidates, totalling 45 fits\n"
          ],
          "name": "stdout"
        },
        {
          "output_type": "stream",
          "text": [
            "[Parallel(n_jobs=-1)]: Done  45 out of  45 | elapsed:    0.2s finished\n",
            "/usr/local/lib/python3.7/dist-packages/sklearn/svm/_base.py:947: ConvergenceWarning: Liblinear failed to converge, increase the number of iterations.\n",
            "  \"the number of iterations.\", ConvergenceWarning)\n",
            "[Parallel(n_jobs=-1)]: Using backend LokyBackend with 2 concurrent workers.\n"
          ],
          "name": "stderr"
        },
        {
          "output_type": "stream",
          "text": [
            "svc best estimator: LinearSVC(C=0.5, class_weight='balanced', dual=True, fit_intercept=True,\n",
            "          intercept_scaling=1, loss='hinge', max_iter=1000, multi_class='ovr',\n",
            "          penalty='l2', random_state=0, tol=0.0001, verbose=0)\n",
            "              precision    recall  f1-score   support\n",
            "\n",
            "           1       0.88      0.69      0.77       233\n",
            "           2       0.52      0.77      0.62       100\n",
            "\n",
            "    accuracy                           0.71       333\n",
            "   macro avg       0.70      0.73      0.70       333\n",
            "weighted avg       0.77      0.71      0.73       333\n",
            "\n",
            "model accuracy: 0.71471\n",
            "balanced accuracy rate: 0.73049\n",
            "23 68\n",
            "168 265\n",
            "Zemel fairness:  0.7042730299667037\n",
            "Disparate Impact:  0.5335259103641458\n",
            "----------------------\n",
            "23 68\n",
            "168 265\n",
            "Fitting 5 folds for each of 9 candidates, totalling 45 fits\n"
          ],
          "name": "stdout"
        },
        {
          "output_type": "stream",
          "text": [
            "[Parallel(n_jobs=-1)]: Done  45 out of  45 | elapsed:    0.2s finished\n",
            "[Parallel(n_jobs=-1)]: Using backend LokyBackend with 2 concurrent workers.\n"
          ],
          "name": "stderr"
        },
        {
          "output_type": "stream",
          "text": [
            "svc best estimator: LinearSVC(C=0.05, class_weight='balanced', dual=True, fit_intercept=True,\n",
            "          intercept_scaling=1, loss='hinge', max_iter=1000, multi_class='ovr',\n",
            "          penalty='l2', random_state=0, tol=0.0001, verbose=0)\n",
            "              precision    recall  f1-score   support\n",
            "\n",
            "           1       0.88      0.70      0.78       243\n",
            "           2       0.48      0.74      0.58        90\n",
            "\n",
            "    accuracy                           0.71       333\n",
            "   macro avg       0.68      0.72      0.68       333\n",
            "weighted avg       0.77      0.71      0.72       333\n",
            "\n",
            "model accuracy: 0.70871\n",
            "balanced accuracy rate: 0.71996\n",
            "38 63\n",
            "153 270\n",
            "Zemel fairness:  1.0365079365079364\n",
            "Disparate Impact:  1.0644257703081232\n",
            "----------------------\n",
            "38 63\n",
            "153 270\n",
            "Fitting 5 folds for each of 9 candidates, totalling 45 fits\n"
          ],
          "name": "stdout"
        },
        {
          "output_type": "stream",
          "text": [
            "[Parallel(n_jobs=-1)]: Done  45 out of  45 | elapsed:    0.2s finished\n",
            "/usr/local/lib/python3.7/dist-packages/sklearn/svm/_base.py:947: ConvergenceWarning: Liblinear failed to converge, increase the number of iterations.\n",
            "  \"the number of iterations.\", ConvergenceWarning)\n",
            "[Parallel(n_jobs=-1)]: Using backend LokyBackend with 2 concurrent workers.\n"
          ],
          "name": "stderr"
        },
        {
          "output_type": "stream",
          "text": [
            "svc best estimator: LinearSVC(C=1, class_weight='balanced', dual=True, fit_intercept=True,\n",
            "          intercept_scaling=1, loss='hinge', max_iter=1000, multi_class='ovr',\n",
            "          penalty='l2', random_state=0, tol=0.0001, verbose=0)\n",
            "              precision    recall  f1-score   support\n",
            "\n",
            "           1       0.85      0.66      0.75       243\n",
            "           2       0.43      0.69      0.53        90\n",
            "\n",
            "    accuracy                           0.67       333\n",
            "   macro avg       0.64      0.68      0.64       333\n",
            "weighted avg       0.74      0.67      0.69       333\n",
            "\n",
            "model accuracy: 0.66967\n",
            "balanced accuracy rate: 0.67572\n",
            "29 66\n",
            "160 267\n",
            "Zemel fairness:  0.8401430030643513\n",
            "Disparate Impact:  0.7332386363636363\n",
            "----------------------\n",
            "29 66\n",
            "160 267\n",
            "Fitting 5 folds for each of 9 candidates, totalling 45 fits\n"
          ],
          "name": "stdout"
        },
        {
          "output_type": "stream",
          "text": [
            "[Parallel(n_jobs=-1)]: Done  45 out of  45 | elapsed:    0.2s finished\n",
            "/usr/local/lib/python3.7/dist-packages/sklearn/svm/_base.py:947: ConvergenceWarning: Liblinear failed to converge, increase the number of iterations.\n",
            "  \"the number of iterations.\", ConvergenceWarning)\n",
            "[Parallel(n_jobs=-1)]: Using backend LokyBackend with 2 concurrent workers.\n"
          ],
          "name": "stderr"
        },
        {
          "output_type": "stream",
          "text": [
            "svc best estimator: LinearSVC(C=1, class_weight='balanced', dual=True, fit_intercept=True,\n",
            "          intercept_scaling=1, loss='hinge', max_iter=1000, multi_class='ovr',\n",
            "          penalty='l2', random_state=0, tol=0.0001, verbose=0)\n",
            "              precision    recall  f1-score   support\n",
            "\n",
            "           1       0.85      0.70      0.77       243\n",
            "           2       0.45      0.66      0.53        90\n",
            "\n",
            "    accuracy                           0.69       333\n",
            "   macro avg       0.65      0.68      0.65       333\n",
            "weighted avg       0.74      0.69      0.71       333\n",
            "\n",
            "model accuracy: 0.69069\n",
            "balanced accuracy rate: 0.67963\n",
            "37 62\n",
            "162 271\n",
            "Zemel fairness:  0.9989882156886085\n",
            "Disparate Impact:  0.9983074472321785\n",
            "----------------------\n",
            "37 62\n",
            "162 271\n",
            "Fitting 5 folds for each of 9 candidates, totalling 45 fits\n"
          ],
          "name": "stdout"
        },
        {
          "output_type": "stream",
          "text": [
            "[Parallel(n_jobs=-1)]: Done  45 out of  45 | elapsed:    0.2s finished\n",
            "/usr/local/lib/python3.7/dist-packages/sklearn/svm/_base.py:947: ConvergenceWarning: Liblinear failed to converge, increase the number of iterations.\n",
            "  \"the number of iterations.\", ConvergenceWarning)\n",
            "[Parallel(n_jobs=-1)]: Using backend LokyBackend with 2 concurrent workers.\n"
          ],
          "name": "stderr"
        },
        {
          "output_type": "stream",
          "text": [
            "svc best estimator: LinearSVC(C=1, class_weight='balanced', dual=True, fit_intercept=True,\n",
            "          intercept_scaling=1, loss='hinge', max_iter=1000, multi_class='ovr',\n",
            "          penalty='l2', random_state=0, tol=0.0001, verbose=0)\n",
            "              precision    recall  f1-score   support\n",
            "\n",
            "           1       0.85      0.69      0.76       243\n",
            "           2       0.45      0.68      0.54        90\n",
            "\n",
            "    accuracy                           0.68       333\n",
            "   macro avg       0.65      0.68      0.65       333\n",
            "weighted avg       0.74      0.68      0.70       333\n",
            "\n",
            "model accuracy: 0.68468\n",
            "balanced accuracy rate: 0.68251\n",
            "31 57\n",
            "156 276\n",
            "Zemel fairness:  0.9786422578184593\n",
            "Disparate Impact:  0.9622132253711202\n",
            "----------------------\n",
            "31 57\n",
            "156 276\n",
            "Fitting 5 folds for each of 9 candidates, totalling 45 fits\n"
          ],
          "name": "stdout"
        },
        {
          "output_type": "stream",
          "text": [
            "[Parallel(n_jobs=-1)]: Done  45 out of  45 | elapsed:    0.2s finished\n",
            "[Parallel(n_jobs=-1)]: Using backend LokyBackend with 2 concurrent workers.\n"
          ],
          "name": "stderr"
        },
        {
          "output_type": "stream",
          "text": [
            "svc best estimator: LinearSVC(C=0.01, class_weight='balanced', dual=True, fit_intercept=True,\n",
            "          intercept_scaling=1, loss='hinge', max_iter=1000, multi_class='ovr',\n",
            "          penalty='l2', random_state=0, tol=0.0001, verbose=0)\n",
            "              precision    recall  f1-score   support\n",
            "\n",
            "           1       0.84      0.63      0.72       243\n",
            "           2       0.40      0.67      0.50        90\n",
            "\n",
            "    accuracy                           0.64       333\n",
            "   macro avg       0.62      0.65      0.61       333\n",
            "weighted avg       0.72      0.64      0.66       333\n",
            "\n",
            "model accuracy: 0.63964\n",
            "balanced accuracy rate: 0.64815\n",
            "28 64\n",
            "160 269\n",
            "Zemel fairness:  0.8427044609665427\n",
            "Disparate Impact:  0.7355468749999999\n",
            "----------------------\n",
            "28 64\n",
            "160 269\n",
            "Fitting 5 folds for each of 9 candidates, totalling 45 fits\n"
          ],
          "name": "stdout"
        },
        {
          "output_type": "stream",
          "text": [
            "[Parallel(n_jobs=-1)]: Done  45 out of  45 | elapsed:    0.2s finished\n",
            "/usr/local/lib/python3.7/dist-packages/sklearn/svm/_base.py:947: ConvergenceWarning: Liblinear failed to converge, increase the number of iterations.\n",
            "  \"the number of iterations.\", ConvergenceWarning)\n",
            "[Parallel(n_jobs=-1)]: Using backend LokyBackend with 2 concurrent workers.\n"
          ],
          "name": "stderr"
        },
        {
          "output_type": "stream",
          "text": [
            "svc best estimator: LinearSVC(C=0.5, class_weight='balanced', dual=True, fit_intercept=True,\n",
            "          intercept_scaling=1, loss='hinge', max_iter=1000, multi_class='ovr',\n",
            "          penalty='l2', random_state=0, tol=0.0001, verbose=0)\n",
            "              precision    recall  f1-score   support\n",
            "\n",
            "           1       0.84      0.72      0.77       243\n",
            "           2       0.45      0.63      0.53        90\n",
            "\n",
            "    accuracy                           0.69       333\n",
            "   macro avg       0.65      0.67      0.65       333\n",
            "weighted avg       0.74      0.69      0.71       333\n",
            "\n",
            "model accuracy: 0.69369\n",
            "balanced accuracy rate: 0.67469\n",
            "35 69\n",
            "168 264\n",
            "Zemel fairness:  0.8708827404479579\n",
            "Disparate Impact:  0.7971014492753624\n",
            "----------------------\n",
            "35 69\n",
            "168 264\n",
            "Fitting 5 folds for each of 9 candidates, totalling 45 fits\n"
          ],
          "name": "stdout"
        },
        {
          "output_type": "stream",
          "text": [
            "[Parallel(n_jobs=-1)]: Done  45 out of  45 | elapsed:    0.2s finished\n",
            "[Parallel(n_jobs=-1)]: Using backend LokyBackend with 2 concurrent workers.\n"
          ],
          "name": "stderr"
        },
        {
          "output_type": "stream",
          "text": [
            "svc best estimator: LinearSVC(C=0.5, class_weight='balanced', dual=True, fit_intercept=True,\n",
            "          intercept_scaling=1, loss='hinge', max_iter=1000, multi_class='ovr',\n",
            "          penalty='l2', random_state=0, tol=0.0001, verbose=0)\n",
            "              precision    recall  f1-score   support\n",
            "\n",
            "           1       0.84      0.70      0.76       243\n",
            "           2       0.44      0.64      0.52        90\n",
            "\n",
            "    accuracy                           0.68       333\n",
            "   macro avg       0.64      0.67      0.64       333\n",
            "weighted avg       0.73      0.68      0.70       333\n",
            "\n",
            "model accuracy: 0.68168\n",
            "balanced accuracy rate: 0.66996\n",
            "31 54\n",
            "168 279\n",
            "Zemel fairness:  0.9719235364396654\n",
            "Disparate Impact:  0.9533730158730158\n",
            "----------------------\n",
            "31 54\n",
            "168 279\n",
            "Fitting 5 folds for each of 9 candidates, totalling 45 fits\n"
          ],
          "name": "stdout"
        },
        {
          "output_type": "stream",
          "text": [
            "[Parallel(n_jobs=-1)]: Done  45 out of  45 | elapsed:    0.2s finished\n",
            "[Parallel(n_jobs=-1)]: Using backend LokyBackend with 2 concurrent workers.\n"
          ],
          "name": "stderr"
        },
        {
          "output_type": "stream",
          "text": [
            "svc best estimator: LinearSVC(C=0.1, class_weight='balanced', dual=True, fit_intercept=True,\n",
            "          intercept_scaling=1, loss='hinge', max_iter=1000, multi_class='ovr',\n",
            "          penalty='l2', random_state=0, tol=0.0001, verbose=0)\n",
            "              precision    recall  f1-score   support\n",
            "\n",
            "           1       0.87      0.70      0.78       243\n",
            "           2       0.47      0.72      0.57        90\n",
            "\n",
            "    accuracy                           0.71       333\n",
            "   macro avg       0.67      0.71      0.67       333\n",
            "weighted avg       0.76      0.71      0.72       333\n",
            "\n",
            "model accuracy: 0.70571\n",
            "balanced accuracy rate: 0.71091\n",
            "30 69\n",
            "163 264\n",
            "Zemel fairness:  0.8173583662714097\n",
            "Disparate Impact:  0.704187783408909\n",
            "----------------------\n",
            "30 69\n",
            "163 264\n",
            "Fitting 5 folds for each of 9 candidates, totalling 45 fits\n"
          ],
          "name": "stdout"
        },
        {
          "output_type": "stream",
          "text": [
            "[Parallel(n_jobs=-1)]: Done  45 out of  45 | elapsed:    0.2s finished\n",
            "/usr/local/lib/python3.7/dist-packages/sklearn/svm/_base.py:947: ConvergenceWarning: Liblinear failed to converge, increase the number of iterations.\n",
            "  \"the number of iterations.\", ConvergenceWarning)\n",
            "[Parallel(n_jobs=-1)]: Using backend LokyBackend with 2 concurrent workers.\n"
          ],
          "name": "stderr"
        },
        {
          "output_type": "stream",
          "text": [
            "svc best estimator: LinearSVC(C=0.1, class_weight='balanced', dual=True, fit_intercept=True,\n",
            "          intercept_scaling=1, loss='hinge', max_iter=1000, multi_class='ovr',\n",
            "          penalty='l2', random_state=0, tol=0.0001, verbose=0)\n",
            "              precision    recall  f1-score   support\n",
            "\n",
            "           1       0.89      0.68      0.77       243\n",
            "           2       0.47      0.78      0.59        90\n",
            "\n",
            "    accuracy                           0.71       333\n",
            "   macro avg       0.68      0.73      0.68       333\n",
            "weighted avg       0.78      0.71      0.72       333\n",
            "\n",
            "model accuracy: 0.70571\n",
            "balanced accuracy rate: 0.72840\n",
            "20 51\n",
            "165 282\n",
            "Zemel fairness:  0.8070504797663747\n",
            "Disparate Impact:  0.6702317290552584\n",
            "----------------------\n",
            "20 51\n",
            "165 282\n",
            "Fitting 5 folds for each of 9 candidates, totalling 45 fits\n"
          ],
          "name": "stdout"
        },
        {
          "output_type": "stream",
          "text": [
            "[Parallel(n_jobs=-1)]: Done  45 out of  45 | elapsed:    0.2s finished\n",
            "/usr/local/lib/python3.7/dist-packages/sklearn/svm/_base.py:947: ConvergenceWarning: Liblinear failed to converge, increase the number of iterations.\n",
            "  \"the number of iterations.\", ConvergenceWarning)\n",
            "[Parallel(n_jobs=-1)]: Using backend LokyBackend with 2 concurrent workers.\n"
          ],
          "name": "stderr"
        },
        {
          "output_type": "stream",
          "text": [
            "svc best estimator: LinearSVC(C=0.5, class_weight='balanced', dual=True, fit_intercept=True,\n",
            "          intercept_scaling=1, loss='hinge', max_iter=1000, multi_class='ovr',\n",
            "          penalty='l2', random_state=0, tol=0.0001, verbose=0)\n",
            "              precision    recall  f1-score   support\n",
            "\n",
            "           1       0.86      0.67      0.75       243\n",
            "           2       0.44      0.71      0.55        90\n",
            "\n",
            "    accuracy                           0.68       333\n",
            "   macro avg       0.65      0.69      0.65       333\n",
            "weighted avg       0.75      0.68      0.70       333\n",
            "\n",
            "model accuracy: 0.68168\n",
            "balanced accuracy rate: 0.69095\n",
            "23 58\n",
            "170 275\n",
            "Zemel fairness:  0.7783699059561129\n",
            "Disparate Impact:  0.6414807302231238\n",
            "----------------------\n",
            "23 58\n",
            "170 275\n",
            "Fitting 5 folds for each of 9 candidates, totalling 45 fits\n"
          ],
          "name": "stdout"
        },
        {
          "output_type": "stream",
          "text": [
            "[Parallel(n_jobs=-1)]: Done  45 out of  45 | elapsed:    0.2s finished\n",
            "/usr/local/lib/python3.7/dist-packages/sklearn/svm/_base.py:947: ConvergenceWarning: Liblinear failed to converge, increase the number of iterations.\n",
            "  \"the number of iterations.\", ConvergenceWarning)\n",
            "[Parallel(n_jobs=-1)]: Using backend LokyBackend with 2 concurrent workers.\n"
          ],
          "name": "stderr"
        },
        {
          "output_type": "stream",
          "text": [
            "svc best estimator: LinearSVC(C=5, class_weight='balanced', dual=True, fit_intercept=True,\n",
            "          intercept_scaling=1, loss='hinge', max_iter=1000, multi_class='ovr',\n",
            "          penalty='l2', random_state=0, tol=0.0001, verbose=0)\n",
            "              precision    recall  f1-score   support\n",
            "\n",
            "           1       0.88      0.71      0.79       233\n",
            "           2       0.53      0.78      0.63       100\n",
            "\n",
            "    accuracy                           0.73       333\n",
            "   macro avg       0.71      0.74      0.71       333\n",
            "weighted avg       0.78      0.73      0.74       333\n",
            "\n",
            "model accuracy: 0.72973\n",
            "balanced accuracy rate: 0.74408\n",
            "27 73\n",
            "166 260\n",
            "Zemel fairness:  0.7314014752370916\n",
            "Disparate Impact:  0.5793035154315894\n",
            "----------------------\n",
            "27 73\n",
            "166 260\n",
            "Fitting 5 folds for each of 9 candidates, totalling 45 fits\n"
          ],
          "name": "stdout"
        },
        {
          "output_type": "stream",
          "text": [
            "[Parallel(n_jobs=-1)]: Done  45 out of  45 | elapsed:    0.2s finished\n",
            "/usr/local/lib/python3.7/dist-packages/sklearn/svm/_base.py:947: ConvergenceWarning: Liblinear failed to converge, increase the number of iterations.\n",
            "  \"the number of iterations.\", ConvergenceWarning)\n",
            "[Parallel(n_jobs=-1)]: Using backend LokyBackend with 2 concurrent workers.\n"
          ],
          "name": "stderr"
        },
        {
          "output_type": "stream",
          "text": [
            "svc best estimator: LinearSVC(C=0.5, class_weight='balanced', dual=True, fit_intercept=True,\n",
            "          intercept_scaling=1, loss='hinge', max_iter=1000, multi_class='ovr',\n",
            "          penalty='l2', random_state=0, tol=0.0001, verbose=0)\n",
            "              precision    recall  f1-score   support\n",
            "\n",
            "           1       0.87      0.73      0.79       233\n",
            "           2       0.54      0.74      0.62       100\n",
            "\n",
            "    accuracy                           0.73       333\n",
            "   macro avg       0.70      0.73      0.71       333\n",
            "weighted avg       0.77      0.73      0.74       333\n",
            "\n",
            "model accuracy: 0.73273\n",
            "balanced accuracy rate: 0.73481\n",
            "26 68\n",
            "173 265\n",
            "Zemel fairness:  0.7295227524972253\n",
            "Disparate Impact:  0.5856851411084665\n",
            "----------------------\n",
            "26 68\n",
            "173 265\n",
            "Fitting 5 folds for each of 9 candidates, totalling 45 fits\n"
          ],
          "name": "stdout"
        },
        {
          "output_type": "stream",
          "text": [
            "[Parallel(n_jobs=-1)]: Done  45 out of  45 | elapsed:    0.2s finished\n",
            "[Parallel(n_jobs=-1)]: Using backend LokyBackend with 2 concurrent workers.\n"
          ],
          "name": "stderr"
        },
        {
          "output_type": "stream",
          "text": [
            "svc best estimator: LinearSVC(C=0.005, class_weight='balanced', dual=True, fit_intercept=True,\n",
            "          intercept_scaling=1, loss='hinge', max_iter=1000, multi_class='ovr',\n",
            "          penalty='l2', random_state=0, tol=0.0001, verbose=0)\n",
            "              precision    recall  f1-score   support\n",
            "\n",
            "           1       0.85      0.68      0.75       233\n",
            "           2       0.49      0.72      0.58       100\n",
            "\n",
            "    accuracy                           0.69       333\n",
            "   macro avg       0.67      0.70      0.67       333\n",
            "weighted avg       0.74      0.69      0.70       333\n",
            "\n",
            "model accuracy: 0.69069\n",
            "balanced accuracy rate: 0.69906\n",
            "16 60\n",
            "167 273\n",
            "Zemel fairness:  0.6549450549450548\n",
            "Disparate Impact:  0.4359281437125748\n",
            "----------------------\n",
            "16 60\n",
            "167 273\n",
            "Fitting 5 folds for each of 9 candidates, totalling 45 fits\n"
          ],
          "name": "stdout"
        },
        {
          "output_type": "stream",
          "text": [
            "[Parallel(n_jobs=-1)]: Done  45 out of  45 | elapsed:    0.2s finished\n",
            "/usr/local/lib/python3.7/dist-packages/sklearn/svm/_base.py:947: ConvergenceWarning: Liblinear failed to converge, increase the number of iterations.\n",
            "  \"the number of iterations.\", ConvergenceWarning)\n",
            "[Parallel(n_jobs=-1)]: Using backend LokyBackend with 2 concurrent workers.\n"
          ],
          "name": "stderr"
        },
        {
          "output_type": "stream",
          "text": [
            "svc best estimator: LinearSVC(C=5, class_weight='balanced', dual=True, fit_intercept=True,\n",
            "          intercept_scaling=1, loss='hinge', max_iter=1000, multi_class='ovr',\n",
            "          penalty='l2', random_state=0, tol=0.0001, verbose=0)\n",
            "              precision    recall  f1-score   support\n",
            "\n",
            "           1       0.86      0.69      0.77       233\n",
            "           2       0.51      0.74      0.60       100\n",
            "\n",
            "    accuracy                           0.71       333\n",
            "   macro avg       0.68      0.72      0.68       333\n",
            "weighted avg       0.75      0.71      0.72       333\n",
            "\n",
            "model accuracy: 0.70571\n",
            "balanced accuracy rate: 0.71549\n",
            "13 54\n",
            "174 279\n",
            "Zemel fairness:  0.6170848267622461\n",
            "Disparate Impact:  0.38601532567049807\n",
            "----------------------\n",
            "13 54\n",
            "174 279\n",
            "Fitting 5 folds for each of 9 candidates, totalling 45 fits\n"
          ],
          "name": "stdout"
        },
        {
          "output_type": "stream",
          "text": [
            "[Parallel(n_jobs=-1)]: Done  45 out of  45 | elapsed:    0.2s finished\n",
            "/usr/local/lib/python3.7/dist-packages/sklearn/svm/_base.py:947: ConvergenceWarning: Liblinear failed to converge, increase the number of iterations.\n",
            "  \"the number of iterations.\", ConvergenceWarning)\n",
            "[Parallel(n_jobs=-1)]: Using backend LokyBackend with 2 concurrent workers.\n"
          ],
          "name": "stderr"
        },
        {
          "output_type": "stream",
          "text": [
            "svc best estimator: LinearSVC(C=5, class_weight='balanced', dual=True, fit_intercept=True,\n",
            "          intercept_scaling=1, loss='hinge', max_iter=1000, multi_class='ovr',\n",
            "          penalty='l2', random_state=0, tol=0.0001, verbose=0)\n",
            "              precision    recall  f1-score   support\n",
            "\n",
            "           1       0.87      0.72      0.79       233\n",
            "           2       0.53      0.75      0.62       100\n",
            "\n",
            "    accuracy                           0.73       333\n",
            "   macro avg       0.70      0.73      0.70       333\n",
            "weighted avg       0.77      0.73      0.74       333\n",
            "\n",
            "model accuracy: 0.72673\n",
            "balanced accuracy rate: 0.73337\n",
            "21 64\n",
            "175 269\n",
            "Zemel fairness:  0.6775673791821561\n",
            "Disparate Impact:  0.504375\n",
            "----------------------\n",
            "21 64\n",
            "175 269\n",
            "Fitting 5 folds for each of 9 candidates, totalling 45 fits\n"
          ],
          "name": "stdout"
        },
        {
          "output_type": "stream",
          "text": [
            "[Parallel(n_jobs=-1)]: Done  45 out of  45 | elapsed:    0.2s finished\n",
            "/usr/local/lib/python3.7/dist-packages/sklearn/svm/_base.py:947: ConvergenceWarning: Liblinear failed to converge, increase the number of iterations.\n",
            "  \"the number of iterations.\", ConvergenceWarning)\n",
            "[Parallel(n_jobs=-1)]: Using backend LokyBackend with 2 concurrent workers.\n"
          ],
          "name": "stderr"
        },
        {
          "output_type": "stream",
          "text": [
            "svc best estimator: LinearSVC(C=5, class_weight='balanced', dual=True, fit_intercept=True,\n",
            "          intercept_scaling=1, loss='hinge', max_iter=1000, multi_class='ovr',\n",
            "          penalty='l2', random_state=0, tol=0.0001, verbose=0)\n",
            "              precision    recall  f1-score   support\n",
            "\n",
            "           1       0.85      0.69      0.76       233\n",
            "           2       0.50      0.72      0.59       100\n",
            "\n",
            "    accuracy                           0.70       333\n",
            "   macro avg       0.67      0.70      0.67       333\n",
            "weighted avg       0.74      0.70      0.71       333\n",
            "\n",
            "model accuracy: 0.69670\n",
            "balanced accuracy rate: 0.70335\n",
            "23 65\n",
            "171 268\n",
            "Zemel fairness:  0.7157864523536166\n",
            "Disparate Impact:  0.554565901934323\n",
            "----------------------\n",
            "23 65\n",
            "171 268\n",
            "Fitting 5 folds for each of 9 candidates, totalling 45 fits\n"
          ],
          "name": "stdout"
        },
        {
          "output_type": "stream",
          "text": [
            "[Parallel(n_jobs=-1)]: Done  45 out of  45 | elapsed:    0.2s finished\n",
            "/usr/local/lib/python3.7/dist-packages/sklearn/svm/_base.py:947: ConvergenceWarning: Liblinear failed to converge, increase the number of iterations.\n",
            "  \"the number of iterations.\", ConvergenceWarning)\n",
            "[Parallel(n_jobs=-1)]: Using backend LokyBackend with 2 concurrent workers.\n"
          ],
          "name": "stderr"
        },
        {
          "output_type": "stream",
          "text": [
            "svc best estimator: LinearSVC(C=5, class_weight='balanced', dual=True, fit_intercept=True,\n",
            "          intercept_scaling=1, loss='hinge', max_iter=1000, multi_class='ovr',\n",
            "          penalty='l2', random_state=0, tol=0.0001, verbose=0)\n",
            "              precision    recall  f1-score   support\n",
            "\n",
            "           1       0.85      0.76      0.80       233\n",
            "           2       0.55      0.68      0.61       100\n",
            "\n",
            "    accuracy                           0.74       333\n",
            "   macro avg       0.70      0.72      0.71       333\n",
            "weighted avg       0.76      0.74      0.75       333\n",
            "\n",
            "model accuracy: 0.73874\n",
            "balanced accuracy rate: 0.72197\n",
            "22 64\n",
            "175 269\n",
            "Zemel fairness:  0.6931923791821561\n",
            "Disparate Impact:  0.5283928571428571\n",
            "----------------------\n",
            "22 64\n",
            "175 269\n",
            "Fitting 5 folds for each of 9 candidates, totalling 45 fits\n"
          ],
          "name": "stdout"
        },
        {
          "output_type": "stream",
          "text": [
            "[Parallel(n_jobs=-1)]: Done  45 out of  45 | elapsed:    0.2s finished\n",
            "/usr/local/lib/python3.7/dist-packages/sklearn/svm/_base.py:947: ConvergenceWarning: Liblinear failed to converge, increase the number of iterations.\n",
            "  \"the number of iterations.\", ConvergenceWarning)\n",
            "[Parallel(n_jobs=-1)]: Using backend LokyBackend with 2 concurrent workers.\n"
          ],
          "name": "stderr"
        },
        {
          "output_type": "stream",
          "text": [
            "svc best estimator: LinearSVC(C=0.1, class_weight='balanced', dual=True, fit_intercept=True,\n",
            "          intercept_scaling=1, loss='hinge', max_iter=1000, multi_class='ovr',\n",
            "          penalty='l2', random_state=0, tol=0.0001, verbose=0)\n",
            "              precision    recall  f1-score   support\n",
            "\n",
            "           1       0.88      0.72      0.79       233\n",
            "           2       0.54      0.76      0.63       100\n",
            "\n",
            "    accuracy                           0.73       333\n",
            "   macro avg       0.71      0.74      0.71       333\n",
            "weighted avg       0.77      0.73      0.74       333\n",
            "\n",
            "model accuracy: 0.73273\n",
            "balanced accuracy rate: 0.74052\n",
            "29 72\n",
            "165 261\n",
            "Zemel fairness:  0.7705938697318008\n",
            "Disparate Impact:  0.6371212121212121\n",
            "----------------------\n",
            "29 72\n",
            "165 261\n",
            "Fitting 5 folds for each of 9 candidates, totalling 45 fits\n"
          ],
          "name": "stdout"
        },
        {
          "output_type": "stream",
          "text": [
            "[Parallel(n_jobs=-1)]: Done  45 out of  45 | elapsed:    0.2s finished\n",
            "/usr/local/lib/python3.7/dist-packages/sklearn/svm/_base.py:947: ConvergenceWarning: Liblinear failed to converge, increase the number of iterations.\n",
            "  \"the number of iterations.\", ConvergenceWarning)\n",
            "[Parallel(n_jobs=-1)]: Using backend LokyBackend with 2 concurrent workers.\n"
          ],
          "name": "stderr"
        },
        {
          "output_type": "stream",
          "text": [
            "svc best estimator: LinearSVC(C=10, class_weight='balanced', dual=True, fit_intercept=True,\n",
            "          intercept_scaling=1, loss='hinge', max_iter=1000, multi_class='ovr',\n",
            "          penalty='l2', random_state=0, tol=0.0001, verbose=0)\n",
            "              precision    recall  f1-score   support\n",
            "\n",
            "           1       0.84      0.75      0.79       233\n",
            "           2       0.53      0.66      0.59       100\n",
            "\n",
            "    accuracy                           0.72       333\n",
            "   macro avg       0.68      0.70      0.69       333\n",
            "weighted avg       0.74      0.72      0.73       333\n",
            "\n",
            "model accuracy: 0.72072\n",
            "balanced accuracy rate: 0.70339\n",
            "25 69\n",
            "168 264\n",
            "Zemel fairness:  0.7259552042160737\n",
            "Disparate Impact:  0.5693581780538303\n",
            "----------------------\n",
            "25 69\n",
            "168 264\n",
            "Fitting 5 folds for each of 9 candidates, totalling 45 fits\n"
          ],
          "name": "stdout"
        },
        {
          "output_type": "stream",
          "text": [
            "[Parallel(n_jobs=-1)]: Done  45 out of  45 | elapsed:    0.2s finished\n",
            "/usr/local/lib/python3.7/dist-packages/sklearn/svm/_base.py:947: ConvergenceWarning: Liblinear failed to converge, increase the number of iterations.\n",
            "  \"the number of iterations.\", ConvergenceWarning)\n",
            "[Parallel(n_jobs=-1)]: Using backend LokyBackend with 2 concurrent workers.\n"
          ],
          "name": "stderr"
        },
        {
          "output_type": "stream",
          "text": [
            "svc best estimator: LinearSVC(C=1, class_weight='balanced', dual=True, fit_intercept=True,\n",
            "          intercept_scaling=1, loss='hinge', max_iter=1000, multi_class='ovr',\n",
            "          penalty='l2', random_state=0, tol=0.0001, verbose=0)\n",
            "              precision    recall  f1-score   support\n",
            "\n",
            "           1       0.86      0.69      0.77       233\n",
            "           2       0.51      0.75      0.60       100\n",
            "\n",
            "    accuracy                           0.71       333\n",
            "   macro avg       0.69      0.72      0.69       333\n",
            "weighted avg       0.76      0.71      0.72       333\n",
            "\n",
            "model accuracy: 0.70571\n",
            "balanced accuracy rate: 0.71835\n",
            "23 68\n",
            "169 265\n",
            "Zemel fairness:  0.7004994450610433\n",
            "Disparate Impact:  0.5303689523146538\n",
            "----------------------\n",
            "23 68\n",
            "169 265\n",
            "Fitting 5 folds for each of 9 candidates, totalling 45 fits\n"
          ],
          "name": "stdout"
        },
        {
          "output_type": "stream",
          "text": [
            "[Parallel(n_jobs=-1)]: Done  45 out of  45 | elapsed:    0.2s finished\n",
            "[Parallel(n_jobs=-1)]: Using backend LokyBackend with 2 concurrent workers.\n"
          ],
          "name": "stderr"
        },
        {
          "output_type": "stream",
          "text": [
            "svc best estimator: LinearSVC(C=0.05, class_weight='balanced', dual=True, fit_intercept=True,\n",
            "          intercept_scaling=1, loss='hinge', max_iter=1000, multi_class='ovr',\n",
            "          penalty='l2', random_state=0, tol=0.0001, verbose=0)\n",
            "              precision    recall  f1-score   support\n",
            "\n",
            "           1       0.88      0.70      0.78       243\n",
            "           2       0.47      0.73      0.58        90\n",
            "\n",
            "    accuracy                           0.71       333\n",
            "   macro avg       0.68      0.72      0.68       333\n",
            "weighted avg       0.77      0.71      0.72       333\n",
            "\n",
            "model accuracy: 0.70871\n",
            "balanced accuracy rate: 0.71646\n",
            "38 63\n",
            "154 270\n",
            "Zemel fairness:  1.0328042328042328\n",
            "Disparate Impact:  1.0575139146567716\n",
            "----------------------\n",
            "38 63\n",
            "154 270\n",
            "Fitting 5 folds for each of 9 candidates, totalling 45 fits\n"
          ],
          "name": "stdout"
        },
        {
          "output_type": "stream",
          "text": [
            "[Parallel(n_jobs=-1)]: Done  45 out of  45 | elapsed:    0.2s finished\n",
            "[Parallel(n_jobs=-1)]: Using backend LokyBackend with 2 concurrent workers.\n"
          ],
          "name": "stderr"
        },
        {
          "output_type": "stream",
          "text": [
            "svc best estimator: LinearSVC(C=0.01, class_weight='balanced', dual=True, fit_intercept=True,\n",
            "          intercept_scaling=1, loss='hinge', max_iter=1000, multi_class='ovr',\n",
            "          penalty='l2', random_state=0, tol=0.0001, verbose=0)\n",
            "              precision    recall  f1-score   support\n",
            "\n",
            "           1       0.85      0.65      0.74       243\n",
            "           2       0.43      0.70      0.53        90\n",
            "\n",
            "    accuracy                           0.66       333\n",
            "   macro avg       0.64      0.68      0.63       333\n",
            "weighted avg       0.74      0.66      0.68       333\n",
            "\n",
            "model accuracy: 0.66366\n",
            "balanced accuracy rate: 0.67510\n",
            "26 66\n",
            "157 267\n",
            "Zemel fairness:  0.8059244126659857\n",
            "Disparate Impact:  0.6699478865083961\n",
            "----------------------\n",
            "26 66\n",
            "157 267\n",
            "Fitting 5 folds for each of 9 candidates, totalling 45 fits\n"
          ],
          "name": "stdout"
        },
        {
          "output_type": "stream",
          "text": [
            "[Parallel(n_jobs=-1)]: Done  45 out of  45 | elapsed:    0.2s finished\n",
            "/usr/local/lib/python3.7/dist-packages/sklearn/svm/_base.py:947: ConvergenceWarning: Liblinear failed to converge, increase the number of iterations.\n",
            "  \"the number of iterations.\", ConvergenceWarning)\n",
            "[Parallel(n_jobs=-1)]: Using backend LokyBackend with 2 concurrent workers.\n"
          ],
          "name": "stderr"
        },
        {
          "output_type": "stream",
          "text": [
            "svc best estimator: LinearSVC(C=10, class_weight='balanced', dual=True, fit_intercept=True,\n",
            "          intercept_scaling=1, loss='hinge', max_iter=1000, multi_class='ovr',\n",
            "          penalty='l2', random_state=0, tol=0.0001, verbose=0)\n",
            "              precision    recall  f1-score   support\n",
            "\n",
            "           1       0.84      0.71      0.77       243\n",
            "           2       0.45      0.64      0.53        90\n",
            "\n",
            "    accuracy                           0.69       333\n",
            "   macro avg       0.65      0.68      0.65       333\n",
            "weighted avg       0.74      0.69      0.71       333\n",
            "\n",
            "model accuracy: 0.69369\n",
            "balanced accuracy rate: 0.67819\n",
            "37 62\n",
            "162 271\n",
            "Zemel fairness:  0.9989882156886085\n",
            "Disparate Impact:  0.9983074472321785\n",
            "----------------------\n",
            "37 62\n",
            "162 271\n",
            "Fitting 5 folds for each of 9 candidates, totalling 45 fits\n"
          ],
          "name": "stdout"
        },
        {
          "output_type": "stream",
          "text": [
            "[Parallel(n_jobs=-1)]: Done  45 out of  45 | elapsed:    0.2s finished\n",
            "/usr/local/lib/python3.7/dist-packages/sklearn/svm/_base.py:947: ConvergenceWarning: Liblinear failed to converge, increase the number of iterations.\n",
            "  \"the number of iterations.\", ConvergenceWarning)\n",
            "[Parallel(n_jobs=-1)]: Using backend LokyBackend with 2 concurrent workers.\n"
          ],
          "name": "stderr"
        },
        {
          "output_type": "stream",
          "text": [
            "svc best estimator: LinearSVC(C=0.5, class_weight='balanced', dual=True, fit_intercept=True,\n",
            "          intercept_scaling=1, loss='hinge', max_iter=1000, multi_class='ovr',\n",
            "          penalty='l2', random_state=0, tol=0.0001, verbose=0)\n",
            "              precision    recall  f1-score   support\n",
            "\n",
            "           1       0.85      0.67      0.75       243\n",
            "           2       0.43      0.68      0.53        90\n",
            "\n",
            "    accuracy                           0.67       333\n",
            "   macro avg       0.64      0.67      0.64       333\n",
            "weighted avg       0.74      0.67      0.69       333\n",
            "\n",
            "model accuracy: 0.67267\n",
            "balanced accuracy rate: 0.67428\n",
            "31 57\n",
            "158 276\n",
            "Zemel fairness:  0.971395881006865\n",
            "Disparate Impact:  0.9500333111259162\n",
            "----------------------\n",
            "31 57\n",
            "158 276\n",
            "Fitting 5 folds for each of 9 candidates, totalling 45 fits\n"
          ],
          "name": "stdout"
        },
        {
          "output_type": "stream",
          "text": [
            "[Parallel(n_jobs=-1)]: Done  45 out of  45 | elapsed:    0.2s finished\n",
            "/usr/local/lib/python3.7/dist-packages/sklearn/svm/_base.py:947: ConvergenceWarning: Liblinear failed to converge, increase the number of iterations.\n",
            "  \"the number of iterations.\", ConvergenceWarning)\n",
            "[Parallel(n_jobs=-1)]: Using backend LokyBackend with 2 concurrent workers.\n"
          ],
          "name": "stderr"
        },
        {
          "output_type": "stream",
          "text": [
            "svc best estimator: LinearSVC(C=1, class_weight='balanced', dual=True, fit_intercept=True,\n",
            "          intercept_scaling=1, loss='hinge', max_iter=1000, multi_class='ovr',\n",
            "          penalty='l2', random_state=0, tol=0.0001, verbose=0)\n",
            "              precision    recall  f1-score   support\n",
            "\n",
            "           1       0.84      0.70      0.76       243\n",
            "           2       0.44      0.66      0.53        90\n",
            "\n",
            "    accuracy                           0.68       333\n",
            "   macro avg       0.64      0.68      0.65       333\n",
            "weighted avg       0.74      0.68      0.70       333\n",
            "\n",
            "model accuracy: 0.68468\n",
            "balanced accuracy rate: 0.67551\n",
            "32 64\n",
            "174 269\n",
            "Zemel fairness:  0.8531598513011153\n",
            "Disparate Impact:  0.7729885057471265\n",
            "----------------------\n",
            "32 64\n",
            "174 269\n",
            "Fitting 5 folds for each of 9 candidates, totalling 45 fits\n"
          ],
          "name": "stdout"
        },
        {
          "output_type": "stream",
          "text": [
            "[Parallel(n_jobs=-1)]: Done  45 out of  45 | elapsed:    0.2s finished\n",
            "/usr/local/lib/python3.7/dist-packages/sklearn/svm/_base.py:947: ConvergenceWarning: Liblinear failed to converge, increase the number of iterations.\n",
            "  \"the number of iterations.\", ConvergenceWarning)\n",
            "[Parallel(n_jobs=-1)]: Using backend LokyBackend with 2 concurrent workers.\n"
          ],
          "name": "stderr"
        },
        {
          "output_type": "stream",
          "text": [
            "svc best estimator: LinearSVC(C=5, class_weight='balanced', dual=True, fit_intercept=True,\n",
            "          intercept_scaling=1, loss='hinge', max_iter=1000, multi_class='ovr',\n",
            "          penalty='l2', random_state=0, tol=0.0001, verbose=0)\n",
            "              precision    recall  f1-score   support\n",
            "\n",
            "           1       0.84      0.70      0.76       243\n",
            "           2       0.44      0.66      0.53        90\n",
            "\n",
            "    accuracy                           0.68       333\n",
            "   macro avg       0.64      0.68      0.65       333\n",
            "weighted avg       0.74      0.68      0.70       333\n",
            "\n",
            "model accuracy: 0.68468\n",
            "balanced accuracy rate: 0.67551\n",
            "34 69\n",
            "163 264\n",
            "Zemel fairness:  0.8753293807641633\n",
            "Disparate Impact:  0.7980794878634303\n",
            "----------------------\n",
            "34 69\n",
            "163 264\n",
            "Fitting 5 folds for each of 9 candidates, totalling 45 fits\n"
          ],
          "name": "stdout"
        },
        {
          "output_type": "stream",
          "text": [
            "[Parallel(n_jobs=-1)]: Done  45 out of  45 | elapsed:    0.2s finished\n",
            "/usr/local/lib/python3.7/dist-packages/sklearn/svm/_base.py:947: ConvergenceWarning: Liblinear failed to converge, increase the number of iterations.\n",
            "  \"the number of iterations.\", ConvergenceWarning)\n",
            "[Parallel(n_jobs=-1)]: Using backend LokyBackend with 2 concurrent workers.\n"
          ],
          "name": "stderr"
        },
        {
          "output_type": "stream",
          "text": [
            "svc best estimator: LinearSVC(C=0.5, class_weight='balanced', dual=True, fit_intercept=True,\n",
            "          intercept_scaling=1, loss='hinge', max_iter=1000, multi_class='ovr',\n",
            "          penalty='l2', random_state=0, tol=0.0001, verbose=0)\n",
            "              precision    recall  f1-score   support\n",
            "\n",
            "           1       0.85      0.70      0.77       243\n",
            "           2       0.45      0.66      0.53        90\n",
            "\n",
            "    accuracy                           0.69       333\n",
            "   macro avg       0.65      0.68      0.65       333\n",
            "weighted avg       0.74      0.69      0.70       333\n",
            "\n",
            "model accuracy: 0.68769\n",
            "balanced accuracy rate: 0.67757\n",
            "31 54\n",
            "171 279\n",
            "Zemel fairness:  0.9611708482676224\n",
            "Disparate Impact:  0.9366471734892787\n",
            "----------------------\n",
            "31 54\n",
            "171 279\n",
            "Fitting 5 folds for each of 9 candidates, totalling 45 fits\n"
          ],
          "name": "stdout"
        },
        {
          "output_type": "stream",
          "text": [
            "[Parallel(n_jobs=-1)]: Done  45 out of  45 | elapsed:    0.2s finished\n",
            "/usr/local/lib/python3.7/dist-packages/sklearn/svm/_base.py:947: ConvergenceWarning: Liblinear failed to converge, increase the number of iterations.\n",
            "  \"the number of iterations.\", ConvergenceWarning)\n",
            "[Parallel(n_jobs=-1)]: Using backend LokyBackend with 2 concurrent workers.\n"
          ],
          "name": "stderr"
        },
        {
          "output_type": "stream",
          "text": [
            "svc best estimator: LinearSVC(C=5, class_weight='balanced', dual=True, fit_intercept=True,\n",
            "          intercept_scaling=1, loss='hinge', max_iter=1000, multi_class='ovr',\n",
            "          penalty='l2', random_state=0, tol=0.0001, verbose=0)\n",
            "              precision    recall  f1-score   support\n",
            "\n",
            "           1       0.87      0.69      0.77       243\n",
            "           2       0.46      0.71      0.56        90\n",
            "\n",
            "    accuracy                           0.69       333\n",
            "   macro avg       0.66      0.70      0.66       333\n",
            "weighted avg       0.75      0.69      0.71       333\n",
            "\n",
            "model accuracy: 0.69369\n",
            "balanced accuracy rate: 0.69918\n",
            "30 69\n",
            "162 264\n",
            "Zemel fairness:  0.8211462450592886\n",
            "Disparate Impact:  0.7085346215780998\n",
            "----------------------\n",
            "30 69\n",
            "162 264\n",
            "Fitting 5 folds for each of 9 candidates, totalling 45 fits\n"
          ],
          "name": "stdout"
        },
        {
          "output_type": "stream",
          "text": [
            "[Parallel(n_jobs=-1)]: Done  45 out of  45 | elapsed:    0.2s finished\n",
            "/usr/local/lib/python3.7/dist-packages/sklearn/svm/_base.py:947: ConvergenceWarning: Liblinear failed to converge, increase the number of iterations.\n",
            "  \"the number of iterations.\", ConvergenceWarning)\n",
            "[Parallel(n_jobs=-1)]: Using backend LokyBackend with 2 concurrent workers.\n"
          ],
          "name": "stderr"
        },
        {
          "output_type": "stream",
          "text": [
            "svc best estimator: LinearSVC(C=0.5, class_weight='balanced', dual=True, fit_intercept=True,\n",
            "          intercept_scaling=1, loss='hinge', max_iter=1000, multi_class='ovr',\n",
            "          penalty='l2', random_state=0, tol=0.0001, verbose=0)\n",
            "              precision    recall  f1-score   support\n",
            "\n",
            "           1       0.88      0.70      0.78       243\n",
            "           2       0.48      0.76      0.59        90\n",
            "\n",
            "    accuracy                           0.71       333\n",
            "   macro avg       0.68      0.73      0.68       333\n",
            "weighted avg       0.78      0.71      0.73       333\n",
            "\n",
            "model accuracy: 0.71171\n",
            "balanced accuracy rate: 0.72551\n",
            "21 51\n",
            "167 282\n",
            "Zemel fairness:  0.8195661243220692\n",
            "Disparate Impact:  0.6953152518492426\n",
            "----------------------\n",
            "21 51\n",
            "167 282\n",
            "Fitting 5 folds for each of 9 candidates, totalling 45 fits\n"
          ],
          "name": "stdout"
        },
        {
          "output_type": "stream",
          "text": [
            "[Parallel(n_jobs=-1)]: Done  45 out of  45 | elapsed:    0.2s finished\n",
            "/usr/local/lib/python3.7/dist-packages/sklearn/svm/_base.py:947: ConvergenceWarning: Liblinear failed to converge, increase the number of iterations.\n",
            "  \"the number of iterations.\", ConvergenceWarning)\n",
            "[Parallel(n_jobs=-1)]: Using backend LokyBackend with 2 concurrent workers.\n"
          ],
          "name": "stderr"
        },
        {
          "output_type": "stream",
          "text": [
            "svc best estimator: LinearSVC(C=5, class_weight='balanced', dual=True, fit_intercept=True,\n",
            "          intercept_scaling=1, loss='hinge', max_iter=1000, multi_class='ovr',\n",
            "          penalty='l2', random_state=0, tol=0.0001, verbose=0)\n",
            "              precision    recall  f1-score   support\n",
            "\n",
            "           1       0.85      0.65      0.74       243\n",
            "           2       0.42      0.69      0.52        90\n",
            "\n",
            "    accuracy                           0.66       333\n",
            "   macro avg       0.64      0.67      0.63       333\n",
            "weighted avg       0.73      0.66      0.68       333\n",
            "\n",
            "model accuracy: 0.66066\n",
            "balanced accuracy rate: 0.66955\n",
            "23 58\n",
            "170 275\n",
            "Zemel fairness:  0.7783699059561129\n",
            "Disparate Impact:  0.6414807302231238\n",
            "----------------------\n",
            "23 58\n",
            "170 275\n",
            "Fitting 5 folds for each of 9 candidates, totalling 45 fits\n"
          ],
          "name": "stdout"
        },
        {
          "output_type": "stream",
          "text": [
            "[Parallel(n_jobs=-1)]: Done  45 out of  45 | elapsed:    0.2s finished\n",
            "/usr/local/lib/python3.7/dist-packages/sklearn/svm/_base.py:947: ConvergenceWarning: Liblinear failed to converge, increase the number of iterations.\n",
            "  \"the number of iterations.\", ConvergenceWarning)\n",
            "[Parallel(n_jobs=-1)]: Using backend LokyBackend with 2 concurrent workers.\n"
          ],
          "name": "stderr"
        },
        {
          "output_type": "stream",
          "text": [
            "svc best estimator: LinearSVC(C=1, class_weight='balanced', dual=True, fit_intercept=True,\n",
            "          intercept_scaling=1, loss='hinge', max_iter=1000, multi_class='ovr',\n",
            "          penalty='l2', random_state=0, tol=0.0001, verbose=0)\n",
            "              precision    recall  f1-score   support\n",
            "\n",
            "           1       0.88      0.70      0.78       233\n",
            "           2       0.52      0.78      0.63       100\n",
            "\n",
            "    accuracy                           0.72       333\n",
            "   macro avg       0.70      0.74      0.70       333\n",
            "weighted avg       0.77      0.72      0.73       333\n",
            "\n",
            "model accuracy: 0.72072\n",
            "balanced accuracy rate: 0.73764\n",
            "28 73\n",
            "164 260\n",
            "Zemel fairness:  0.7527924130663857\n",
            "Disparate Impact:  0.6080855329101236\n",
            "----------------------\n",
            "28 73\n",
            "164 260\n",
            "Fitting 5 folds for each of 9 candidates, totalling 45 fits\n"
          ],
          "name": "stdout"
        },
        {
          "output_type": "stream",
          "text": [
            "[Parallel(n_jobs=-1)]: Done  45 out of  45 | elapsed:    0.2s finished\n",
            "[Parallel(n_jobs=-1)]: Using backend LokyBackend with 2 concurrent workers.\n"
          ],
          "name": "stderr"
        },
        {
          "output_type": "stream",
          "text": [
            "svc best estimator: LinearSVC(C=0.01, class_weight='balanced', dual=True, fit_intercept=True,\n",
            "          intercept_scaling=1, loss='hinge', max_iter=1000, multi_class='ovr',\n",
            "          penalty='l2', random_state=0, tol=0.0001, verbose=0)\n",
            "              precision    recall  f1-score   support\n",
            "\n",
            "           1       0.88      0.70      0.78       233\n",
            "           2       0.53      0.78      0.63       100\n",
            "\n",
            "    accuracy                           0.73       333\n",
            "   macro avg       0.71      0.74      0.71       333\n",
            "weighted avg       0.78      0.73      0.74       333\n",
            "\n",
            "model accuracy: 0.72673\n",
            "balanced accuracy rate: 0.74193\n",
            "20 68\n",
            "165 265\n",
            "Zemel fairness:  0.6714761376248612\n",
            "Disparate Impact:  0.4723707664884136\n",
            "----------------------\n",
            "20 68\n",
            "165 265\n",
            "Fitting 5 folds for each of 9 candidates, totalling 45 fits\n"
          ],
          "name": "stdout"
        },
        {
          "output_type": "stream",
          "text": [
            "[Parallel(n_jobs=-1)]: Done  45 out of  45 | elapsed:    0.2s finished\n",
            "[Parallel(n_jobs=-1)]: Using backend LokyBackend with 2 concurrent workers.\n"
          ],
          "name": "stderr"
        },
        {
          "output_type": "stream",
          "text": [
            "svc best estimator: LinearSVC(C=0.005, class_weight='balanced', dual=True, fit_intercept=True,\n",
            "          intercept_scaling=1, loss='hinge', max_iter=1000, multi_class='ovr',\n",
            "          penalty='l2', random_state=0, tol=0.0001, verbose=0)\n",
            "              precision    recall  f1-score   support\n",
            "\n",
            "           1       0.85      0.68      0.75       233\n",
            "           2       0.49      0.72      0.58       100\n",
            "\n",
            "    accuracy                           0.69       333\n",
            "   macro avg       0.67      0.70      0.67       333\n",
            "weighted avg       0.74      0.69      0.70       333\n",
            "\n",
            "model accuracy: 0.69069\n",
            "balanced accuracy rate: 0.69906\n",
            "16 60\n",
            "167 273\n",
            "Zemel fairness:  0.6549450549450548\n",
            "Disparate Impact:  0.4359281437125748\n",
            "----------------------\n",
            "16 60\n",
            "167 273\n",
            "Fitting 5 folds for each of 9 candidates, totalling 45 fits\n"
          ],
          "name": "stdout"
        },
        {
          "output_type": "stream",
          "text": [
            "[Parallel(n_jobs=-1)]: Done  45 out of  45 | elapsed:    0.2s finished\n",
            "/usr/local/lib/python3.7/dist-packages/sklearn/svm/_base.py:947: ConvergenceWarning: Liblinear failed to converge, increase the number of iterations.\n",
            "  \"the number of iterations.\", ConvergenceWarning)\n",
            "[Parallel(n_jobs=-1)]: Using backend LokyBackend with 2 concurrent workers.\n"
          ],
          "name": "stderr"
        },
        {
          "output_type": "stream",
          "text": [
            "svc best estimator: LinearSVC(C=5, class_weight='balanced', dual=True, fit_intercept=True,\n",
            "          intercept_scaling=1, loss='hinge', max_iter=1000, multi_class='ovr',\n",
            "          penalty='l2', random_state=0, tol=0.0001, verbose=0)\n",
            "              precision    recall  f1-score   support\n",
            "\n",
            "           1       0.86      0.69      0.76       233\n",
            "           2       0.50      0.73      0.59       100\n",
            "\n",
            "    accuracy                           0.70       333\n",
            "   macro avg       0.68      0.71      0.68       333\n",
            "weighted avg       0.75      0.70      0.71       333\n",
            "\n",
            "model accuracy: 0.69970\n",
            "balanced accuracy rate: 0.70835\n",
            "14 54\n",
            "172 279\n",
            "Zemel fairness:  0.6427718040621266\n",
            "Disparate Impact:  0.4205426356589147\n",
            "----------------------\n",
            "14 54\n",
            "172 279\n",
            "Fitting 5 folds for each of 9 candidates, totalling 45 fits\n"
          ],
          "name": "stdout"
        },
        {
          "output_type": "stream",
          "text": [
            "[Parallel(n_jobs=-1)]: Done  45 out of  45 | elapsed:    0.2s finished\n",
            "[Parallel(n_jobs=-1)]: Using backend LokyBackend with 2 concurrent workers.\n"
          ],
          "name": "stderr"
        },
        {
          "output_type": "stream",
          "text": [
            "svc best estimator: LinearSVC(C=0.005, class_weight='balanced', dual=True, fit_intercept=True,\n",
            "          intercept_scaling=1, loss='hinge', max_iter=1000, multi_class='ovr',\n",
            "          penalty='l2', random_state=0, tol=0.0001, verbose=0)\n",
            "              precision    recall  f1-score   support\n",
            "\n",
            "           1       0.89      0.68      0.77       233\n",
            "           2       0.52      0.81      0.64       100\n",
            "\n",
            "    accuracy                           0.72       333\n",
            "   macro avg       0.71      0.75      0.70       333\n",
            "weighted avg       0.78      0.72      0.73       333\n",
            "\n",
            "model accuracy: 0.72072\n",
            "balanced accuracy rate: 0.74620\n",
            "20 64\n",
            "163 269\n",
            "Zemel fairness:  0.7065520446096655\n",
            "Disparate Impact:  0.5157208588957055\n",
            "----------------------\n",
            "20 64\n",
            "163 269\n",
            "Fitting 5 folds for each of 9 candidates, totalling 45 fits\n"
          ],
          "name": "stdout"
        },
        {
          "output_type": "stream",
          "text": [
            "[Parallel(n_jobs=-1)]: Done  45 out of  45 | elapsed:    0.2s finished\n",
            "/usr/local/lib/python3.7/dist-packages/sklearn/svm/_base.py:947: ConvergenceWarning: Liblinear failed to converge, increase the number of iterations.\n",
            "  \"the number of iterations.\", ConvergenceWarning)\n",
            "[Parallel(n_jobs=-1)]: Using backend LokyBackend with 2 concurrent workers.\n"
          ],
          "name": "stderr"
        },
        {
          "output_type": "stream",
          "text": [
            "svc best estimator: LinearSVC(C=1, class_weight='balanced', dual=True, fit_intercept=True,\n",
            "          intercept_scaling=1, loss='hinge', max_iter=1000, multi_class='ovr',\n",
            "          penalty='l2', random_state=0, tol=0.0001, verbose=0)\n",
            "              precision    recall  f1-score   support\n",
            "\n",
            "           1       0.86      0.69      0.76       233\n",
            "           2       0.50      0.73      0.59       100\n",
            "\n",
            "    accuracy                           0.70       333\n",
            "   macro avg       0.68      0.71      0.68       333\n",
            "weighted avg       0.75      0.70      0.71       333\n",
            "\n",
            "model accuracy: 0.69970\n",
            "balanced accuracy rate: 0.70835\n",
            "23 65\n",
            "172 268\n",
            "Zemel fairness:  0.7120551090700344\n",
            "Disparate Impact:  0.5513416815742398\n",
            "----------------------\n",
            "23 65\n",
            "172 268\n",
            "Fitting 5 folds for each of 9 candidates, totalling 45 fits\n"
          ],
          "name": "stdout"
        },
        {
          "output_type": "stream",
          "text": [
            "[Parallel(n_jobs=-1)]: Done  45 out of  45 | elapsed:    0.2s finished\n",
            "/usr/local/lib/python3.7/dist-packages/sklearn/svm/_base.py:947: ConvergenceWarning: Liblinear failed to converge, increase the number of iterations.\n",
            "  \"the number of iterations.\", ConvergenceWarning)\n",
            "[Parallel(n_jobs=-1)]: Using backend LokyBackend with 2 concurrent workers.\n"
          ],
          "name": "stderr"
        },
        {
          "output_type": "stream",
          "text": [
            "svc best estimator: LinearSVC(C=10, class_weight='balanced', dual=True, fit_intercept=True,\n",
            "          intercept_scaling=1, loss='hinge', max_iter=1000, multi_class='ovr',\n",
            "          penalty='l2', random_state=0, tol=0.0001, verbose=0)\n",
            "              precision    recall  f1-score   support\n",
            "\n",
            "           1       0.84      0.75      0.79       233\n",
            "           2       0.54      0.68      0.60       100\n",
            "\n",
            "    accuracy                           0.73       333\n",
            "   macro avg       0.69      0.71      0.70       333\n",
            "weighted avg       0.75      0.73      0.73       333\n",
            "\n",
            "model accuracy: 0.72673\n",
            "balanced accuracy rate: 0.71339\n",
            "21 64\n",
            "175 269\n",
            "Zemel fairness:  0.6775673791821561\n",
            "Disparate Impact:  0.504375\n",
            "----------------------\n",
            "21 64\n",
            "175 269\n",
            "Fitting 5 folds for each of 9 candidates, totalling 45 fits\n"
          ],
          "name": "stdout"
        },
        {
          "output_type": "stream",
          "text": [
            "[Parallel(n_jobs=-1)]: Done  45 out of  45 | elapsed:    0.2s finished\n",
            "[Parallel(n_jobs=-1)]: Using backend LokyBackend with 2 concurrent workers.\n"
          ],
          "name": "stderr"
        },
        {
          "output_type": "stream",
          "text": [
            "svc best estimator: LinearSVC(C=0.05, class_weight='balanced', dual=True, fit_intercept=True,\n",
            "          intercept_scaling=1, loss='hinge', max_iter=1000, multi_class='ovr',\n",
            "          penalty='l2', random_state=0, tol=0.0001, verbose=0)\n",
            "              precision    recall  f1-score   support\n",
            "\n",
            "           1       0.88      0.72      0.79       233\n",
            "           2       0.54      0.77      0.63       100\n",
            "\n",
            "    accuracy                           0.73       333\n",
            "   macro avg       0.71      0.74      0.71       333\n",
            "weighted avg       0.78      0.73      0.74       333\n",
            "\n",
            "model accuracy: 0.73273\n",
            "balanced accuracy rate: 0.74337\n",
            "29 72\n",
            "164 261\n",
            "Zemel fairness:  0.7744252873563219\n",
            "Disparate Impact:  0.6410060975609757\n",
            "----------------------\n",
            "29 72\n",
            "164 261\n",
            "Fitting 5 folds for each of 9 candidates, totalling 45 fits\n"
          ],
          "name": "stdout"
        },
        {
          "output_type": "stream",
          "text": [
            "[Parallel(n_jobs=-1)]: Done  45 out of  45 | elapsed:    0.2s finished\n",
            "/usr/local/lib/python3.7/dist-packages/sklearn/svm/_base.py:947: ConvergenceWarning: Liblinear failed to converge, increase the number of iterations.\n",
            "  \"the number of iterations.\", ConvergenceWarning)\n",
            "[Parallel(n_jobs=-1)]: Using backend LokyBackend with 2 concurrent workers.\n"
          ],
          "name": "stderr"
        },
        {
          "output_type": "stream",
          "text": [
            "svc best estimator: LinearSVC(C=5, class_weight='balanced', dual=True, fit_intercept=True,\n",
            "          intercept_scaling=1, loss='hinge', max_iter=1000, multi_class='ovr',\n",
            "          penalty='l2', random_state=0, tol=0.0001, verbose=0)\n",
            "              precision    recall  f1-score   support\n",
            "\n",
            "           1       0.83      0.76      0.79       233\n",
            "           2       0.53      0.65      0.59       100\n",
            "\n",
            "    accuracy                           0.72       333\n",
            "   macro avg       0.68      0.70      0.69       333\n",
            "weighted avg       0.74      0.72      0.73       333\n",
            "\n",
            "model accuracy: 0.72372\n",
            "balanced accuracy rate: 0.70268\n",
            "28 69\n",
            "169 264\n",
            "Zemel fairness:  0.7656455862977603\n",
            "Disparate Impact:  0.633907898121945\n",
            "----------------------\n",
            "28 69\n",
            "169 264\n",
            "Fitting 5 folds for each of 9 candidates, totalling 45 fits\n"
          ],
          "name": "stdout"
        },
        {
          "output_type": "stream",
          "text": [
            "[Parallel(n_jobs=-1)]: Done  45 out of  45 | elapsed:    0.2s finished\n",
            "/usr/local/lib/python3.7/dist-packages/sklearn/svm/_base.py:947: ConvergenceWarning: Liblinear failed to converge, increase the number of iterations.\n",
            "  \"the number of iterations.\", ConvergenceWarning)\n",
            "[Parallel(n_jobs=-1)]: Using backend LokyBackend with 2 concurrent workers.\n"
          ],
          "name": "stderr"
        },
        {
          "output_type": "stream",
          "text": [
            "svc best estimator: LinearSVC(C=5, class_weight='balanced', dual=True, fit_intercept=True,\n",
            "          intercept_scaling=1, loss='hinge', max_iter=1000, multi_class='ovr',\n",
            "          penalty='l2', random_state=0, tol=0.0001, verbose=0)\n",
            "              precision    recall  f1-score   support\n",
            "\n",
            "           1       0.87      0.70      0.77       233\n",
            "           2       0.52      0.75      0.61       100\n",
            "\n",
            "    accuracy                           0.71       333\n",
            "   macro avg       0.69      0.72      0.69       333\n",
            "weighted avg       0.76      0.71      0.73       333\n",
            "\n",
            "model accuracy: 0.71471\n",
            "balanced accuracy rate: 0.72479\n",
            "25 68\n",
            "171 265\n",
            "Zemel fairness:  0.7223640399556049\n",
            "Disparate Impact:  0.5697454420364638\n",
            "----------------------\n",
            "25 68\n",
            "171 265\n",
            "Fitting 5 folds for each of 9 candidates, totalling 45 fits\n"
          ],
          "name": "stdout"
        },
        {
          "output_type": "stream",
          "text": [
            "[Parallel(n_jobs=-1)]: Done  45 out of  45 | elapsed:    0.2s finished\n",
            "/usr/local/lib/python3.7/dist-packages/sklearn/svm/_base.py:947: ConvergenceWarning: Liblinear failed to converge, increase the number of iterations.\n",
            "  \"the number of iterations.\", ConvergenceWarning)\n",
            "[Parallel(n_jobs=-1)]: Using backend LokyBackend with 2 concurrent workers.\n"
          ],
          "name": "stderr"
        },
        {
          "output_type": "stream",
          "text": [
            "svc best estimator: LinearSVC(C=0.5, class_weight='balanced', dual=True, fit_intercept=True,\n",
            "          intercept_scaling=1, loss='hinge', max_iter=1000, multi_class='ovr',\n",
            "          penalty='l2', random_state=0, tol=0.0001, verbose=0)\n",
            "              precision    recall  f1-score   support\n",
            "\n",
            "           1       0.88      0.71      0.79       243\n",
            "           2       0.49      0.74      0.59        90\n",
            "\n",
            "    accuracy                           0.72       333\n",
            "   macro avg       0.69      0.73      0.69       333\n",
            "weighted avg       0.78      0.72      0.73       333\n",
            "\n",
            "model accuracy: 0.72072\n",
            "balanced accuracy rate: 0.72819\n",
            "40 63\n",
            "153 270\n",
            "Zemel fairness:  1.0682539682539682\n",
            "Disparate Impact:  1.1204481792717087\n",
            "----------------------\n",
            "40 63\n",
            "153 270\n",
            "Fitting 5 folds for each of 9 candidates, totalling 45 fits\n"
          ],
          "name": "stdout"
        },
        {
          "output_type": "stream",
          "text": [
            "[Parallel(n_jobs=-1)]: Done  42 out of  45 | elapsed:    0.2s remaining:    0.0s\n",
            "[Parallel(n_jobs=-1)]: Done  45 out of  45 | elapsed:    0.2s finished\n",
            "[Parallel(n_jobs=-1)]: Using backend LokyBackend with 2 concurrent workers.\n"
          ],
          "name": "stderr"
        },
        {
          "output_type": "stream",
          "text": [
            "svc best estimator: LinearSVC(C=0.01, class_weight='balanced', dual=True, fit_intercept=True,\n",
            "          intercept_scaling=1, loss='hinge', max_iter=1000, multi_class='ovr',\n",
            "          penalty='l2', random_state=0, tol=0.0001, verbose=0)\n",
            "              precision    recall  f1-score   support\n",
            "\n",
            "           1       0.85      0.65      0.74       243\n",
            "           2       0.43      0.70      0.53        90\n",
            "\n",
            "    accuracy                           0.67       333\n",
            "   macro avg       0.64      0.68      0.64       333\n",
            "weighted avg       0.74      0.67      0.68       333\n",
            "\n",
            "model accuracy: 0.66667\n",
            "balanced accuracy rate: 0.67716\n",
            "27 66\n",
            "156 267\n",
            "Zemel fairness:  0.8248212461695608\n",
            "Disparate Impact:  0.7001748251748252\n",
            "----------------------\n",
            "27 66\n",
            "156 267\n",
            "Fitting 5 folds for each of 9 candidates, totalling 45 fits\n"
          ],
          "name": "stdout"
        },
        {
          "output_type": "stream",
          "text": [
            "[Parallel(n_jobs=-1)]: Done  45 out of  45 | elapsed:    0.2s finished\n",
            "/usr/local/lib/python3.7/dist-packages/sklearn/svm/_base.py:947: ConvergenceWarning: Liblinear failed to converge, increase the number of iterations.\n",
            "  \"the number of iterations.\", ConvergenceWarning)\n",
            "[Parallel(n_jobs=-1)]: Using backend LokyBackend with 2 concurrent workers.\n"
          ],
          "name": "stderr"
        },
        {
          "output_type": "stream",
          "text": [
            "svc best estimator: LinearSVC(C=5, class_weight='balanced', dual=True, fit_intercept=True,\n",
            "          intercept_scaling=1, loss='hinge', max_iter=1000, multi_class='ovr',\n",
            "          penalty='l2', random_state=0, tol=0.0001, verbose=0)\n",
            "              precision    recall  f1-score   support\n",
            "\n",
            "           1       0.84      0.70      0.76       243\n",
            "           2       0.44      0.64      0.52        90\n",
            "\n",
            "    accuracy                           0.68       333\n",
            "   macro avg       0.64      0.67      0.64       333\n",
            "weighted avg       0.73      0.68      0.70       333\n",
            "\n",
            "model accuracy: 0.68168\n",
            "balanced accuracy rate: 0.66996\n",
            "36 62\n",
            "161 271\n",
            "Zemel fairness:  0.9865492203309131\n",
            "Disparate Impact:  0.9773592466439592\n",
            "----------------------\n",
            "36 62\n",
            "161 271\n",
            "Fitting 5 folds for each of 9 candidates, totalling 45 fits\n"
          ],
          "name": "stdout"
        },
        {
          "output_type": "stream",
          "text": [
            "[Parallel(n_jobs=-1)]: Done  45 out of  45 | elapsed:    0.2s finished\n",
            "/usr/local/lib/python3.7/dist-packages/sklearn/svm/_base.py:947: ConvergenceWarning: Liblinear failed to converge, increase the number of iterations.\n",
            "  \"the number of iterations.\", ConvergenceWarning)\n",
            "[Parallel(n_jobs=-1)]: Using backend LokyBackend with 2 concurrent workers.\n"
          ],
          "name": "stderr"
        },
        {
          "output_type": "stream",
          "text": [
            "svc best estimator: LinearSVC(C=0.5, class_weight='balanced', dual=True, fit_intercept=True,\n",
            "          intercept_scaling=1, loss='hinge', max_iter=1000, multi_class='ovr',\n",
            "          penalty='l2', random_state=0, tol=0.0001, verbose=0)\n",
            "              precision    recall  f1-score   support\n",
            "\n",
            "           1       0.85      0.70      0.77       243\n",
            "           2       0.45      0.68      0.54        90\n",
            "\n",
            "    accuracy                           0.69       333\n",
            "   macro avg       0.65      0.69      0.65       333\n",
            "weighted avg       0.74      0.69      0.71       333\n",
            "\n",
            "model accuracy: 0.69069\n",
            "balanced accuracy rate: 0.68663\n",
            "32 57\n",
            "161 276\n",
            "Zemel fairness:  0.9780701754385964\n",
            "Disparate Impact:  0.9624060150375938\n",
            "----------------------\n",
            "32 57\n",
            "161 276\n",
            "Fitting 5 folds for each of 9 candidates, totalling 45 fits\n"
          ],
          "name": "stdout"
        },
        {
          "output_type": "stream",
          "text": [
            "[Parallel(n_jobs=-1)]: Done  45 out of  45 | elapsed:    0.2s finished\n",
            "/usr/local/lib/python3.7/dist-packages/sklearn/svm/_base.py:947: ConvergenceWarning: Liblinear failed to converge, increase the number of iterations.\n",
            "  \"the number of iterations.\", ConvergenceWarning)\n",
            "[Parallel(n_jobs=-1)]: Using backend LokyBackend with 2 concurrent workers.\n"
          ],
          "name": "stderr"
        },
        {
          "output_type": "stream",
          "text": [
            "svc best estimator: LinearSVC(C=5, class_weight='balanced', dual=True, fit_intercept=True,\n",
            "          intercept_scaling=1, loss='hinge', max_iter=1000, multi_class='ovr',\n",
            "          penalty='l2', random_state=0, tol=0.0001, verbose=0)\n",
            "              precision    recall  f1-score   support\n",
            "\n",
            "           1       0.85      0.70      0.77       243\n",
            "           2       0.45      0.67      0.54        90\n",
            "\n",
            "    accuracy                           0.69       333\n",
            "   macro avg       0.65      0.68      0.65       333\n",
            "weighted avg       0.74      0.69      0.71       333\n",
            "\n",
            "model accuracy: 0.69069\n",
            "balanced accuracy rate: 0.68313\n",
            "32 64\n",
            "171 269\n",
            "Zemel fairness:  0.8643122676579925\n",
            "Disparate Impact:  0.7865497076023391\n",
            "----------------------\n",
            "32 64\n",
            "171 269\n",
            "Fitting 5 folds for each of 9 candidates, totalling 45 fits\n"
          ],
          "name": "stdout"
        },
        {
          "output_type": "stream",
          "text": [
            "[Parallel(n_jobs=-1)]: Done  45 out of  45 | elapsed:    0.2s finished\n",
            "[Parallel(n_jobs=-1)]: Using backend LokyBackend with 2 concurrent workers.\n"
          ],
          "name": "stderr"
        },
        {
          "output_type": "stream",
          "text": [
            "svc best estimator: LinearSVC(C=0.1, class_weight='balanced', dual=True, fit_intercept=True,\n",
            "          intercept_scaling=1, loss='hinge', max_iter=1000, multi_class='ovr',\n",
            "          penalty='l2', random_state=0, tol=0.0001, verbose=0)\n",
            "              precision    recall  f1-score   support\n",
            "\n",
            "           1       0.84      0.69      0.76       243\n",
            "           2       0.44      0.66      0.52        90\n",
            "\n",
            "    accuracy                           0.68       333\n",
            "   macro avg       0.64      0.67      0.64       333\n",
            "weighted avg       0.73      0.68      0.69       333\n",
            "\n",
            "model accuracy: 0.67868\n",
            "balanced accuracy rate: 0.67140\n",
            "31 69\n",
            "163 264\n",
            "Zemel fairness:  0.8318511198945981\n",
            "Disparate Impact:  0.7276607095225394\n",
            "----------------------\n",
            "31 69\n",
            "163 264\n",
            "Fitting 5 folds for each of 9 candidates, totalling 45 fits\n"
          ],
          "name": "stdout"
        },
        {
          "output_type": "stream",
          "text": [
            "[Parallel(n_jobs=-1)]: Done  45 out of  45 | elapsed:    0.2s finished\n",
            "/usr/local/lib/python3.7/dist-packages/sklearn/svm/_base.py:947: ConvergenceWarning: Liblinear failed to converge, increase the number of iterations.\n",
            "  \"the number of iterations.\", ConvergenceWarning)\n",
            "[Parallel(n_jobs=-1)]: Using backend LokyBackend with 2 concurrent workers.\n"
          ],
          "name": "stderr"
        },
        {
          "output_type": "stream",
          "text": [
            "svc best estimator: LinearSVC(C=1, class_weight='balanced', dual=True, fit_intercept=True,\n",
            "          intercept_scaling=1, loss='hinge', max_iter=1000, multi_class='ovr',\n",
            "          penalty='l2', random_state=0, tol=0.0001, verbose=0)\n",
            "              precision    recall  f1-score   support\n",
            "\n",
            "           1       0.85      0.70      0.77       243\n",
            "           2       0.45      0.66      0.53        90\n",
            "\n",
            "    accuracy                           0.69       333\n",
            "   macro avg       0.65      0.68      0.65       333\n",
            "weighted avg       0.74      0.69      0.70       333\n",
            "\n",
            "model accuracy: 0.68769\n",
            "balanced accuracy rate: 0.67757\n",
            "31 54\n",
            "169 279\n",
            "Zemel fairness:  0.9683393070489844\n",
            "Disparate Impact:  0.9477317554240631\n",
            "----------------------\n",
            "31 54\n",
            "169 279\n",
            "Fitting 5 folds for each of 9 candidates, totalling 45 fits\n"
          ],
          "name": "stdout"
        },
        {
          "output_type": "stream",
          "text": [
            "[Parallel(n_jobs=-1)]: Done  45 out of  45 | elapsed:    0.2s finished\n",
            "/usr/local/lib/python3.7/dist-packages/sklearn/svm/_base.py:947: ConvergenceWarning: Liblinear failed to converge, increase the number of iterations.\n",
            "  \"the number of iterations.\", ConvergenceWarning)\n",
            "[Parallel(n_jobs=-1)]: Using backend LokyBackend with 2 concurrent workers.\n"
          ],
          "name": "stderr"
        },
        {
          "output_type": "stream",
          "text": [
            "svc best estimator: LinearSVC(C=0.5, class_weight='balanced', dual=True, fit_intercept=True,\n",
            "          intercept_scaling=1, loss='hinge', max_iter=1000, multi_class='ovr',\n",
            "          penalty='l2', random_state=0, tol=0.0001, verbose=0)\n",
            "              precision    recall  f1-score   support\n",
            "\n",
            "           1       0.87      0.69      0.77       243\n",
            "           2       0.46      0.71      0.56        90\n",
            "\n",
            "    accuracy                           0.70       333\n",
            "   macro avg       0.66      0.70      0.66       333\n",
            "weighted avg       0.76      0.70      0.71       333\n",
            "\n",
            "model accuracy: 0.69670\n",
            "balanced accuracy rate: 0.70123\n",
            "29 69\n",
            "160 264\n",
            "Zemel fairness:  0.8142292490118577\n",
            "Disparate Impact:  0.6934782608695652\n",
            "----------------------\n",
            "29 69\n",
            "160 264\n",
            "Fitting 5 folds for each of 9 candidates, totalling 45 fits\n"
          ],
          "name": "stdout"
        },
        {
          "output_type": "stream",
          "text": [
            "[Parallel(n_jobs=-1)]: Done  45 out of  45 | elapsed:    0.2s finished\n",
            "[Parallel(n_jobs=-1)]: Using backend LokyBackend with 2 concurrent workers.\n"
          ],
          "name": "stderr"
        },
        {
          "output_type": "stream",
          "text": [
            "svc best estimator: LinearSVC(C=0.05, class_weight='balanced', dual=True, fit_intercept=True,\n",
            "          intercept_scaling=1, loss='hinge', max_iter=1000, multi_class='ovr',\n",
            "          penalty='l2', random_state=0, tol=0.0001, verbose=0)\n",
            "              precision    recall  f1-score   support\n",
            "\n",
            "           1       0.89      0.68      0.77       243\n",
            "           2       0.47      0.77      0.58        90\n",
            "\n",
            "    accuracy                           0.71       333\n",
            "   macro avg       0.68      0.72      0.68       333\n",
            "weighted avg       0.78      0.71      0.72       333\n",
            "\n",
            "model accuracy: 0.70571\n",
            "balanced accuracy rate: 0.72490\n",
            "20 51\n",
            "165 282\n",
            "Zemel fairness:  0.8070504797663747\n",
            "Disparate Impact:  0.6702317290552584\n",
            "----------------------\n",
            "20 51\n",
            "165 282\n",
            "Fitting 5 folds for each of 9 candidates, totalling 45 fits\n"
          ],
          "name": "stdout"
        },
        {
          "output_type": "stream",
          "text": [
            "[Parallel(n_jobs=-1)]: Done  45 out of  45 | elapsed:    0.2s finished\n",
            "/usr/local/lib/python3.7/dist-packages/sklearn/svm/_base.py:947: ConvergenceWarning: Liblinear failed to converge, increase the number of iterations.\n",
            "  \"the number of iterations.\", ConvergenceWarning)\n",
            "[Parallel(n_jobs=-1)]: Using backend LokyBackend with 2 concurrent workers.\n"
          ],
          "name": "stderr"
        },
        {
          "output_type": "stream",
          "text": [
            "svc best estimator: LinearSVC(C=0.5, class_weight='balanced', dual=True, fit_intercept=True,\n",
            "          intercept_scaling=1, loss='hinge', max_iter=1000, multi_class='ovr',\n",
            "          penalty='l2', random_state=0, tol=0.0001, verbose=0)\n",
            "              precision    recall  f1-score   support\n",
            "\n",
            "           1       0.85      0.65      0.74       243\n",
            "           2       0.42      0.68      0.52        90\n",
            "\n",
            "    accuracy                           0.66       333\n",
            "   macro avg       0.63      0.67      0.63       333\n",
            "weighted avg       0.73      0.66      0.68       333\n",
            "\n",
            "model accuracy: 0.66066\n",
            "balanced accuracy rate: 0.66605\n",
            "23 58\n",
            "171 275\n",
            "Zemel fairness:  0.7747335423197492\n",
            "Disparate Impact:  0.6377293809235733\n",
            "----------------------\n",
            "23 58\n",
            "171 275\n",
            "Fitting 5 folds for each of 9 candidates, totalling 45 fits\n"
          ],
          "name": "stdout"
        },
        {
          "output_type": "stream",
          "text": [
            "[Parallel(n_jobs=-1)]: Done  45 out of  45 | elapsed:    0.2s finished\n",
            "/usr/local/lib/python3.7/dist-packages/sklearn/svm/_base.py:947: ConvergenceWarning: Liblinear failed to converge, increase the number of iterations.\n",
            "  \"the number of iterations.\", ConvergenceWarning)\n",
            "[Parallel(n_jobs=-1)]: Using backend LokyBackend with 2 concurrent workers.\n"
          ],
          "name": "stderr"
        },
        {
          "output_type": "stream",
          "text": [
            "svc best estimator: LinearSVC(C=5, class_weight='balanced', dual=True, fit_intercept=True,\n",
            "          intercept_scaling=1, loss='hinge', max_iter=1000, multi_class='ovr',\n",
            "          penalty='l2', random_state=0, tol=0.0001, verbose=0)\n",
            "              precision    recall  f1-score   support\n",
            "\n",
            "           1       0.88      0.69      0.77       233\n",
            "           2       0.52      0.78      0.62       100\n",
            "\n",
            "    accuracy                           0.72       333\n",
            "   macro avg       0.70      0.74      0.70       333\n",
            "weighted avg       0.77      0.72      0.73       333\n",
            "\n",
            "model accuracy: 0.71772\n",
            "balanced accuracy rate: 0.73549\n",
            "29 73\n",
            "164 260\n",
            "Zemel fairness:  0.766491043203372\n",
            "Disparate Impact:  0.6298028733711994\n",
            "----------------------\n",
            "29 73\n",
            "164 260\n",
            "Fitting 5 folds for each of 9 candidates, totalling 45 fits\n"
          ],
          "name": "stdout"
        },
        {
          "output_type": "stream",
          "text": [
            "[Parallel(n_jobs=-1)]: Done  45 out of  45 | elapsed:    0.2s finished\n",
            "[Parallel(n_jobs=-1)]: Using backend LokyBackend with 2 concurrent workers.\n"
          ],
          "name": "stderr"
        },
        {
          "output_type": "stream",
          "text": [
            "svc best estimator: LinearSVC(C=0.01, class_weight='balanced', dual=True, fit_intercept=True,\n",
            "          intercept_scaling=1, loss='hinge', max_iter=1000, multi_class='ovr',\n",
            "          penalty='l2', random_state=0, tol=0.0001, verbose=0)\n",
            "              precision    recall  f1-score   support\n",
            "\n",
            "           1       0.88      0.70      0.78       233\n",
            "           2       0.53      0.78      0.63       100\n",
            "\n",
            "    accuracy                           0.72       333\n",
            "   macro avg       0.70      0.74      0.70       333\n",
            "weighted avg       0.77      0.72      0.73       333\n",
            "\n",
            "model accuracy: 0.72372\n",
            "balanced accuracy rate: 0.73979\n",
            "20 68\n",
            "165 265\n",
            "Zemel fairness:  0.6714761376248612\n",
            "Disparate Impact:  0.4723707664884136\n",
            "----------------------\n",
            "20 68\n",
            "165 265\n",
            "Fitting 5 folds for each of 9 candidates, totalling 45 fits\n"
          ],
          "name": "stdout"
        },
        {
          "output_type": "stream",
          "text": [
            "[Parallel(n_jobs=-1)]: Done  45 out of  45 | elapsed:    0.2s finished\n",
            "[Parallel(n_jobs=-1)]: Using backend LokyBackend with 2 concurrent workers.\n"
          ],
          "name": "stderr"
        },
        {
          "output_type": "stream",
          "text": [
            "svc best estimator: LinearSVC(C=0.005, class_weight='balanced', dual=True, fit_intercept=True,\n",
            "          intercept_scaling=1, loss='hinge', max_iter=1000, multi_class='ovr',\n",
            "          penalty='l2', random_state=0, tol=0.0001, verbose=0)\n",
            "              precision    recall  f1-score   support\n",
            "\n",
            "           1       0.85      0.68      0.76       233\n",
            "           2       0.49      0.73      0.59       100\n",
            "\n",
            "    accuracy                           0.69       333\n",
            "   macro avg       0.67      0.70      0.67       333\n",
            "weighted avg       0.75      0.69      0.71       333\n",
            "\n",
            "model accuracy: 0.69369\n",
            "balanced accuracy rate: 0.70406\n",
            "16 60\n",
            "166 273\n",
            "Zemel fairness:  0.6586080586080587\n",
            "Disparate Impact:  0.4385542168674699\n",
            "----------------------\n",
            "16 60\n",
            "166 273\n",
            "Fitting 5 folds for each of 9 candidates, totalling 45 fits\n"
          ],
          "name": "stdout"
        },
        {
          "output_type": "stream",
          "text": [
            "[Parallel(n_jobs=-1)]: Done  45 out of  45 | elapsed:    0.2s finished\n",
            "/usr/local/lib/python3.7/dist-packages/sklearn/svm/_base.py:947: ConvergenceWarning: Liblinear failed to converge, increase the number of iterations.\n",
            "  \"the number of iterations.\", ConvergenceWarning)\n",
            "[Parallel(n_jobs=-1)]: Using backend LokyBackend with 2 concurrent workers.\n"
          ],
          "name": "stderr"
        },
        {
          "output_type": "stream",
          "text": [
            "svc best estimator: LinearSVC(C=5, class_weight='balanced', dual=True, fit_intercept=True,\n",
            "          intercept_scaling=1, loss='hinge', max_iter=1000, multi_class='ovr',\n",
            "          penalty='l2', random_state=0, tol=0.0001, verbose=0)\n",
            "              precision    recall  f1-score   support\n",
            "\n",
            "           1       0.86      0.69      0.76       233\n",
            "           2       0.50      0.74      0.60       100\n",
            "\n",
            "    accuracy                           0.70       333\n",
            "   macro avg       0.68      0.71      0.68       333\n",
            "weighted avg       0.75      0.70      0.71       333\n",
            "\n",
            "model accuracy: 0.70270\n",
            "balanced accuracy rate: 0.71335\n",
            "13 54\n",
            "173 279\n",
            "Zemel fairness:  0.6206690561529271\n",
            "Disparate Impact:  0.3882466281310212\n",
            "----------------------\n",
            "13 54\n",
            "173 279\n",
            "Fitting 5 folds for each of 9 candidates, totalling 45 fits\n"
          ],
          "name": "stdout"
        },
        {
          "output_type": "stream",
          "text": [
            "[Parallel(n_jobs=-1)]: Done  45 out of  45 | elapsed:    0.2s finished\n",
            "[Parallel(n_jobs=-1)]: Using backend LokyBackend with 2 concurrent workers.\n"
          ],
          "name": "stderr"
        },
        {
          "output_type": "stream",
          "text": [
            "svc best estimator: LinearSVC(C=0.005, class_weight='balanced', dual=True, fit_intercept=True,\n",
            "          intercept_scaling=1, loss='hinge', max_iter=1000, multi_class='ovr',\n",
            "          penalty='l2', random_state=0, tol=0.0001, verbose=0)\n",
            "              precision    recall  f1-score   support\n",
            "\n",
            "           1       0.89      0.68      0.77       233\n",
            "           2       0.52      0.81      0.64       100\n",
            "\n",
            "    accuracy                           0.72       333\n",
            "   macro avg       0.71      0.75      0.70       333\n",
            "weighted avg       0.78      0.72      0.73       333\n",
            "\n",
            "model accuracy: 0.72072\n",
            "balanced accuracy rate: 0.74620\n",
            "20 64\n",
            "163 269\n",
            "Zemel fairness:  0.7065520446096655\n",
            "Disparate Impact:  0.5157208588957055\n",
            "----------------------\n",
            "20 64\n",
            "163 269\n",
            "Fitting 5 folds for each of 9 candidates, totalling 45 fits\n"
          ],
          "name": "stdout"
        },
        {
          "output_type": "stream",
          "text": [
            "[Parallel(n_jobs=-1)]: Done  45 out of  45 | elapsed:    0.2s finished\n",
            "/usr/local/lib/python3.7/dist-packages/sklearn/svm/_base.py:947: ConvergenceWarning: Liblinear failed to converge, increase the number of iterations.\n",
            "  \"the number of iterations.\", ConvergenceWarning)\n",
            "[Parallel(n_jobs=-1)]: Using backend LokyBackend with 2 concurrent workers.\n"
          ],
          "name": "stderr"
        },
        {
          "output_type": "stream",
          "text": [
            "svc best estimator: LinearSVC(C=5, class_weight='balanced', dual=True, fit_intercept=True,\n",
            "          intercept_scaling=1, loss='hinge', max_iter=1000, multi_class='ovr',\n",
            "          penalty='l2', random_state=0, tol=0.0001, verbose=0)\n",
            "              precision    recall  f1-score   support\n",
            "\n",
            "           1       0.86      0.70      0.77       233\n",
            "           2       0.51      0.73      0.60       100\n",
            "\n",
            "    accuracy                           0.71       333\n",
            "   macro avg       0.68      0.71      0.69       333\n",
            "weighted avg       0.75      0.71      0.72       333\n",
            "\n",
            "model accuracy: 0.70871\n",
            "balanced accuracy rate: 0.71479\n",
            "22 65\n",
            "172 268\n",
            "Zemel fairness:  0.6966704936854191\n",
            "Disparate Impact:  0.5273703041144903\n",
            "----------------------\n",
            "22 65\n",
            "172 268\n",
            "Fitting 5 folds for each of 9 candidates, totalling 45 fits\n"
          ],
          "name": "stdout"
        },
        {
          "output_type": "stream",
          "text": [
            "[Parallel(n_jobs=-1)]: Done  45 out of  45 | elapsed:    0.2s finished\n",
            "/usr/local/lib/python3.7/dist-packages/sklearn/svm/_base.py:947: ConvergenceWarning: Liblinear failed to converge, increase the number of iterations.\n",
            "  \"the number of iterations.\", ConvergenceWarning)\n",
            "[Parallel(n_jobs=-1)]: Using backend LokyBackend with 2 concurrent workers.\n"
          ],
          "name": "stderr"
        },
        {
          "output_type": "stream",
          "text": [
            "svc best estimator: LinearSVC(C=5, class_weight='balanced', dual=True, fit_intercept=True,\n",
            "          intercept_scaling=1, loss='hinge', max_iter=1000, multi_class='ovr',\n",
            "          penalty='l2', random_state=0, tol=0.0001, verbose=0)\n",
            "              precision    recall  f1-score   support\n",
            "\n",
            "           1       0.85      0.76      0.80       233\n",
            "           2       0.54      0.68      0.60       100\n",
            "\n",
            "    accuracy                           0.73       333\n",
            "   macro avg       0.70      0.72      0.70       333\n",
            "weighted avg       0.76      0.73      0.74       333\n",
            "\n",
            "model accuracy: 0.73273\n",
            "balanced accuracy rate: 0.71768\n",
            "21 64\n",
            "174 269\n",
            "Zemel fairness:  0.6812848513011153\n",
            "Disparate Impact:  0.5072737068965517\n",
            "----------------------\n",
            "21 64\n",
            "174 269\n",
            "Fitting 5 folds for each of 9 candidates, totalling 45 fits\n"
          ],
          "name": "stdout"
        },
        {
          "output_type": "stream",
          "text": [
            "[Parallel(n_jobs=-1)]: Done  45 out of  45 | elapsed:    0.2s finished\n",
            "/usr/local/lib/python3.7/dist-packages/sklearn/svm/_base.py:947: ConvergenceWarning: Liblinear failed to converge, increase the number of iterations.\n",
            "  \"the number of iterations.\", ConvergenceWarning)\n",
            "[Parallel(n_jobs=-1)]: Using backend LokyBackend with 2 concurrent workers.\n"
          ],
          "name": "stderr"
        },
        {
          "output_type": "stream",
          "text": [
            "svc best estimator: LinearSVC(C=0.1, class_weight='balanced', dual=True, fit_intercept=True,\n",
            "          intercept_scaling=1, loss='hinge', max_iter=1000, multi_class='ovr',\n",
            "          penalty='l2', random_state=0, tol=0.0001, verbose=0)\n",
            "              precision    recall  f1-score   support\n",
            "\n",
            "           1       0.88      0.72      0.79       233\n",
            "           2       0.54      0.77      0.64       100\n",
            "\n",
            "    accuracy                           0.74       333\n",
            "   macro avg       0.71      0.75      0.71       333\n",
            "weighted avg       0.78      0.74      0.75       333\n",
            "\n",
            "model accuracy: 0.73574\n",
            "balanced accuracy rate: 0.74552\n",
            "28 72\n",
            "165 261\n",
            "Zemel fairness:  0.7567049808429118\n",
            "Disparate Impact:  0.6151515151515151\n",
            "----------------------\n",
            "28 72\n",
            "165 261\n",
            "Fitting 5 folds for each of 9 candidates, totalling 45 fits\n"
          ],
          "name": "stdout"
        },
        {
          "output_type": "stream",
          "text": [
            "[Parallel(n_jobs=-1)]: Done  45 out of  45 | elapsed:    0.2s finished\n",
            "/usr/local/lib/python3.7/dist-packages/sklearn/svm/_base.py:947: ConvergenceWarning: Liblinear failed to converge, increase the number of iterations.\n",
            "  \"the number of iterations.\", ConvergenceWarning)\n",
            "[Parallel(n_jobs=-1)]: Using backend LokyBackend with 2 concurrent workers.\n"
          ],
          "name": "stderr"
        },
        {
          "output_type": "stream",
          "text": [
            "svc best estimator: LinearSVC(C=5, class_weight='balanced', dual=True, fit_intercept=True,\n",
            "          intercept_scaling=1, loss='hinge', max_iter=1000, multi_class='ovr',\n",
            "          penalty='l2', random_state=0, tol=0.0001, verbose=0)\n",
            "              precision    recall  f1-score   support\n",
            "\n",
            "           1       0.84      0.76      0.79       233\n",
            "           2       0.54      0.66      0.59       100\n",
            "\n",
            "    accuracy                           0.73       333\n",
            "   macro avg       0.69      0.71      0.69       333\n",
            "weighted avg       0.75      0.73      0.73       333\n",
            "\n",
            "model accuracy: 0.72673\n",
            "balanced accuracy rate: 0.70768\n",
            "28 69\n",
            "171 264\n",
            "Zemel fairness:  0.7580698287220027\n",
            "Disparate Impact:  0.6264937706585304\n",
            "----------------------\n",
            "28 69\n",
            "171 264\n",
            "Fitting 5 folds for each of 9 candidates, totalling 45 fits\n"
          ],
          "name": "stdout"
        },
        {
          "output_type": "stream",
          "text": [
            "[Parallel(n_jobs=-1)]: Done  45 out of  45 | elapsed:    0.2s finished\n",
            "/usr/local/lib/python3.7/dist-packages/sklearn/svm/_base.py:947: ConvergenceWarning: Liblinear failed to converge, increase the number of iterations.\n",
            "  \"the number of iterations.\", ConvergenceWarning)\n",
            "[Parallel(n_jobs=-1)]: Using backend LokyBackend with 2 concurrent workers.\n"
          ],
          "name": "stderr"
        },
        {
          "output_type": "stream",
          "text": [
            "svc best estimator: LinearSVC(C=0.5, class_weight='balanced', dual=True, fit_intercept=True,\n",
            "          intercept_scaling=1, loss='hinge', max_iter=1000, multi_class='ovr',\n",
            "          penalty='l2', random_state=0, tol=0.0001, verbose=0)\n",
            "              precision    recall  f1-score   support\n",
            "\n",
            "           1       0.87      0.68      0.76       233\n",
            "           2       0.50      0.76      0.61       100\n",
            "\n",
            "    accuracy                           0.70       333\n",
            "   macro avg       0.69      0.72      0.68       333\n",
            "weighted avg       0.76      0.70      0.71       333\n",
            "\n",
            "model accuracy: 0.70270\n",
            "balanced accuracy rate: 0.71906\n",
            "22 68\n",
            "166 265\n",
            "Zemel fairness:  0.6971143174250833\n",
            "Disparate Impact:  0.5164776754075124\n",
            "----------------------\n",
            "22 68\n",
            "166 265\n",
            "Fitting 5 folds for each of 9 candidates, totalling 45 fits\n"
          ],
          "name": "stdout"
        },
        {
          "output_type": "stream",
          "text": [
            "[Parallel(n_jobs=-1)]: Done  45 out of  45 | elapsed:    0.2s finished\n",
            "/usr/local/lib/python3.7/dist-packages/sklearn/svm/_base.py:947: ConvergenceWarning: Liblinear failed to converge, increase the number of iterations.\n",
            "  \"the number of iterations.\", ConvergenceWarning)\n",
            "[Parallel(n_jobs=-1)]: Using backend LokyBackend with 2 concurrent workers.\n"
          ],
          "name": "stderr"
        },
        {
          "output_type": "stream",
          "text": [
            "svc best estimator: LinearSVC(C=10, class_weight='balanced', dual=True, fit_intercept=True,\n",
            "          intercept_scaling=1, loss='hinge', max_iter=1000, multi_class='ovr',\n",
            "          penalty='l2', random_state=0, tol=0.0001, verbose=0)\n",
            "              precision    recall  f1-score   support\n",
            "\n",
            "           1       0.88      0.70      0.78       243\n",
            "           2       0.48      0.76      0.59        90\n",
            "\n",
            "    accuracy                           0.71       333\n",
            "   macro avg       0.68      0.73      0.68       333\n",
            "weighted avg       0.78      0.71      0.73       333\n",
            "\n",
            "model accuracy: 0.71171\n",
            "balanced accuracy rate: 0.72551\n",
            "36 63\n",
            "153 270\n",
            "Zemel fairness:  1.0047619047619047\n",
            "Disparate Impact:  1.0084033613445378\n",
            "----------------------\n",
            "36 63\n",
            "153 270\n",
            "Fitting 5 folds for each of 9 candidates, totalling 45 fits\n"
          ],
          "name": "stdout"
        },
        {
          "output_type": "stream",
          "text": [
            "[Parallel(n_jobs=-1)]: Done  45 out of  45 | elapsed:    0.2s finished\n",
            "[Parallel(n_jobs=-1)]: Using backend LokyBackend with 2 concurrent workers.\n"
          ],
          "name": "stderr"
        },
        {
          "output_type": "stream",
          "text": [
            "svc best estimator: LinearSVC(C=0.05, class_weight='balanced', dual=True, fit_intercept=True,\n",
            "          intercept_scaling=1, loss='hinge', max_iter=1000, multi_class='ovr',\n",
            "          penalty='l2', random_state=0, tol=0.0001, verbose=0)\n",
            "              precision    recall  f1-score   support\n",
            "\n",
            "           1       0.86      0.66      0.75       243\n",
            "           2       0.43      0.70      0.54        90\n",
            "\n",
            "    accuracy                           0.67       333\n",
            "   macro avg       0.65      0.68      0.64       333\n",
            "weighted avg       0.74      0.67      0.69       333\n",
            "\n",
            "model accuracy: 0.67267\n",
            "balanced accuracy rate: 0.68128\n",
            "28 66\n",
            "156 267\n",
            "Zemel fairness:  0.8399727613210759\n",
            "Disparate Impact:  0.7261072261072261\n",
            "----------------------\n",
            "28 66\n",
            "156 267\n",
            "Fitting 5 folds for each of 9 candidates, totalling 45 fits\n"
          ],
          "name": "stdout"
        },
        {
          "output_type": "stream",
          "text": [
            "[Parallel(n_jobs=-1)]: Done  45 out of  45 | elapsed:    0.2s finished\n",
            "/usr/local/lib/python3.7/dist-packages/sklearn/svm/_base.py:947: ConvergenceWarning: Liblinear failed to converge, increase the number of iterations.\n",
            "  \"the number of iterations.\", ConvergenceWarning)\n",
            "[Parallel(n_jobs=-1)]: Using backend LokyBackend with 2 concurrent workers.\n"
          ],
          "name": "stderr"
        },
        {
          "output_type": "stream",
          "text": [
            "svc best estimator: LinearSVC(C=5, class_weight='balanced', dual=True, fit_intercept=True,\n",
            "          intercept_scaling=1, loss='hinge', max_iter=1000, multi_class='ovr',\n",
            "          penalty='l2', random_state=0, tol=0.0001, verbose=0)\n",
            "              precision    recall  f1-score   support\n",
            "\n",
            "           1       0.84      0.69      0.76       243\n",
            "           2       0.43      0.64      0.52        90\n",
            "\n",
            "    accuracy                           0.68       333\n",
            "   macro avg       0.64      0.67      0.64       333\n",
            "weighted avg       0.73      0.68      0.69       333\n",
            "\n",
            "model accuracy: 0.67568\n",
            "balanced accuracy rate: 0.66584\n",
            "36 62\n",
            "156 271\n",
            "Zemel fairness:  1.0049994048327582\n",
            "Disparate Impact:  1.0086848635235732\n",
            "----------------------\n",
            "36 62\n",
            "156 271\n",
            "Fitting 5 folds for each of 9 candidates, totalling 45 fits\n"
          ],
          "name": "stdout"
        },
        {
          "output_type": "stream",
          "text": [
            "[Parallel(n_jobs=-1)]: Done  45 out of  45 | elapsed:    0.2s finished\n",
            "/usr/local/lib/python3.7/dist-packages/sklearn/svm/_base.py:947: ConvergenceWarning: Liblinear failed to converge, increase the number of iterations.\n",
            "  \"the number of iterations.\", ConvergenceWarning)\n",
            "[Parallel(n_jobs=-1)]: Using backend LokyBackend with 2 concurrent workers.\n"
          ],
          "name": "stderr"
        },
        {
          "output_type": "stream",
          "text": [
            "svc best estimator: LinearSVC(C=10, class_weight='balanced', dual=True, fit_intercept=True,\n",
            "          intercept_scaling=1, loss='hinge', max_iter=1000, multi_class='ovr',\n",
            "          penalty='l2', random_state=0, tol=0.0001, verbose=0)\n",
            "              precision    recall  f1-score   support\n",
            "\n",
            "           1       0.85      0.71      0.78       243\n",
            "           2       0.46      0.67      0.55        90\n",
            "\n",
            "    accuracy                           0.70       333\n",
            "   macro avg       0.66      0.69      0.66       333\n",
            "weighted avg       0.75      0.70      0.71       333\n",
            "\n",
            "model accuracy: 0.69970\n",
            "balanced accuracy rate: 0.68930\n",
            "37 57\n",
            "159 276\n",
            "Zemel fairness:  1.0730358504958049\n",
            "Disparate Impact:  1.1267792121813969\n",
            "----------------------\n",
            "37 57\n",
            "159 276\n",
            "Fitting 5 folds for each of 9 candidates, totalling 45 fits\n"
          ],
          "name": "stdout"
        },
        {
          "output_type": "stream",
          "text": [
            "[Parallel(n_jobs=-1)]: Done  45 out of  45 | elapsed:    0.2s finished\n",
            "/usr/local/lib/python3.7/dist-packages/sklearn/svm/_base.py:947: ConvergenceWarning: Liblinear failed to converge, increase the number of iterations.\n",
            "  \"the number of iterations.\", ConvergenceWarning)\n",
            "[Parallel(n_jobs=-1)]: Using backend LokyBackend with 2 concurrent workers.\n"
          ],
          "name": "stderr"
        },
        {
          "output_type": "stream",
          "text": [
            "svc best estimator: LinearSVC(C=10, class_weight='balanced', dual=True, fit_intercept=True,\n",
            "          intercept_scaling=1, loss='hinge', max_iter=1000, multi_class='ovr',\n",
            "          penalty='l2', random_state=0, tol=0.0001, verbose=0)\n",
            "              precision    recall  f1-score   support\n",
            "\n",
            "           1       0.84      0.70      0.76       243\n",
            "           2       0.44      0.66      0.53        90\n",
            "\n",
            "    accuracy                           0.68       333\n",
            "   macro avg       0.64      0.68      0.65       333\n",
            "weighted avg       0.74      0.68      0.70       333\n",
            "\n",
            "model accuracy: 0.68468\n",
            "balanced accuracy rate: 0.67551\n",
            "29 64\n",
            "173 269\n",
            "Zemel fairness:  0.8100023234200744\n",
            "Disparate Impact:  0.7045700867052024\n",
            "----------------------\n",
            "29 64\n",
            "173 269\n",
            "Fitting 5 folds for each of 9 candidates, totalling 45 fits\n"
          ],
          "name": "stdout"
        },
        {
          "output_type": "stream",
          "text": [
            "[Parallel(n_jobs=-1)]: Done  45 out of  45 | elapsed:    0.2s finished\n",
            "[Parallel(n_jobs=-1)]: Using backend LokyBackend with 2 concurrent workers.\n"
          ],
          "name": "stderr"
        },
        {
          "output_type": "stream",
          "text": [
            "svc best estimator: LinearSVC(C=0.1, class_weight='balanced', dual=True, fit_intercept=True,\n",
            "          intercept_scaling=1, loss='hinge', max_iter=1000, multi_class='ovr',\n",
            "          penalty='l2', random_state=0, tol=0.0001, verbose=0)\n",
            "              precision    recall  f1-score   support\n",
            "\n",
            "           1       0.84      0.67      0.74       243\n",
            "           2       0.42      0.64      0.51        90\n",
            "\n",
            "    accuracy                           0.66       333\n",
            "   macro avg       0.63      0.66      0.62       333\n",
            "weighted avg       0.72      0.66      0.68       333\n",
            "\n",
            "model accuracy: 0.66066\n",
            "balanced accuracy rate: 0.65556\n",
            "33 69\n",
            "160 264\n",
            "Zemel fairness:  0.8722002635046113\n",
            "Disparate Impact:  0.7891304347826087\n",
            "----------------------\n",
            "33 69\n",
            "160 264\n",
            "Fitting 5 folds for each of 9 candidates, totalling 45 fits\n"
          ],
          "name": "stdout"
        },
        {
          "output_type": "stream",
          "text": [
            "[Parallel(n_jobs=-1)]: Done  45 out of  45 | elapsed:    0.2s finished\n",
            "/usr/local/lib/python3.7/dist-packages/sklearn/svm/_base.py:947: ConvergenceWarning: Liblinear failed to converge, increase the number of iterations.\n",
            "  \"the number of iterations.\", ConvergenceWarning)\n",
            "[Parallel(n_jobs=-1)]: Using backend LokyBackend with 2 concurrent workers.\n"
          ],
          "name": "stderr"
        },
        {
          "output_type": "stream",
          "text": [
            "svc best estimator: LinearSVC(C=1, class_weight='balanced', dual=True, fit_intercept=True,\n",
            "          intercept_scaling=1, loss='hinge', max_iter=1000, multi_class='ovr',\n",
            "          penalty='l2', random_state=0, tol=0.0001, verbose=0)\n",
            "              precision    recall  f1-score   support\n",
            "\n",
            "           1       0.85      0.70      0.77       243\n",
            "           2       0.45      0.67      0.54        90\n",
            "\n",
            "    accuracy                           0.69       333\n",
            "   macro avg       0.65      0.68      0.65       333\n",
            "weighted avg       0.74      0.69      0.71       333\n",
            "\n",
            "model accuracy: 0.69069\n",
            "balanced accuracy rate: 0.68313\n",
            "31 54\n",
            "171 279\n",
            "Zemel fairness:  0.9611708482676224\n",
            "Disparate Impact:  0.9366471734892787\n",
            "----------------------\n",
            "31 54\n",
            "171 279\n",
            "Fitting 5 folds for each of 9 candidates, totalling 45 fits\n"
          ],
          "name": "stdout"
        },
        {
          "output_type": "stream",
          "text": [
            "[Parallel(n_jobs=-1)]: Done  45 out of  45 | elapsed:    0.2s finished\n",
            "/usr/local/lib/python3.7/dist-packages/sklearn/svm/_base.py:947: ConvergenceWarning: Liblinear failed to converge, increase the number of iterations.\n",
            "  \"the number of iterations.\", ConvergenceWarning)\n",
            "[Parallel(n_jobs=-1)]: Using backend LokyBackend with 2 concurrent workers.\n"
          ],
          "name": "stderr"
        },
        {
          "output_type": "stream",
          "text": [
            "svc best estimator: LinearSVC(C=0.5, class_weight='balanced', dual=True, fit_intercept=True,\n",
            "          intercept_scaling=1, loss='hinge', max_iter=1000, multi_class='ovr',\n",
            "          penalty='l2', random_state=0, tol=0.0001, verbose=0)\n",
            "              precision    recall  f1-score   support\n",
            "\n",
            "           1       0.87      0.67      0.76       243\n",
            "           2       0.45      0.72      0.56        90\n",
            "\n",
            "    accuracy                           0.69       333\n",
            "   macro avg       0.66      0.70      0.66       333\n",
            "weighted avg       0.76      0.69      0.70       333\n",
            "\n",
            "model accuracy: 0.68769\n",
            "balanced accuracy rate: 0.69856\n",
            "29 69\n",
            "157 264\n",
            "Zemel fairness:  0.825592885375494\n",
            "Disparate Impact:  0.7067294378288562\n",
            "----------------------\n",
            "29 69\n",
            "157 264\n",
            "Fitting 5 folds for each of 9 candidates, totalling 45 fits\n"
          ],
          "name": "stdout"
        },
        {
          "output_type": "stream",
          "text": [
            "[Parallel(n_jobs=-1)]: Done  45 out of  45 | elapsed:    0.2s finished\n",
            "/usr/local/lib/python3.7/dist-packages/sklearn/svm/_base.py:947: ConvergenceWarning: Liblinear failed to converge, increase the number of iterations.\n",
            "  \"the number of iterations.\", ConvergenceWarning)\n",
            "[Parallel(n_jobs=-1)]: Using backend LokyBackend with 2 concurrent workers.\n"
          ],
          "name": "stderr"
        },
        {
          "output_type": "stream",
          "text": [
            "svc best estimator: LinearSVC(C=0.5, class_weight='balanced', dual=True, fit_intercept=True,\n",
            "          intercept_scaling=1, loss='hinge', max_iter=1000, multi_class='ovr',\n",
            "          penalty='l2', random_state=0, tol=0.0001, verbose=0)\n",
            "              precision    recall  f1-score   support\n",
            "\n",
            "           1       0.88      0.70      0.78       243\n",
            "           2       0.48      0.74      0.59        90\n",
            "\n",
            "    accuracy                           0.71       333\n",
            "   macro avg       0.68      0.72      0.68       333\n",
            "weighted avg       0.77      0.71      0.73       333\n",
            "\n",
            "model accuracy: 0.71471\n",
            "balanced accuracy rate: 0.72407\n",
            "19 51\n",
            "171 282\n",
            "Zemel fairness:  0.7661660408844388\n",
            "Disparate Impact:  0.6143790849673202\n",
            "----------------------\n",
            "19 51\n",
            "171 282\n",
            "Fitting 5 folds for each of 9 candidates, totalling 45 fits\n"
          ],
          "name": "stdout"
        },
        {
          "output_type": "stream",
          "text": [
            "[Parallel(n_jobs=-1)]: Done  45 out of  45 | elapsed:    0.2s finished\n",
            "/usr/local/lib/python3.7/dist-packages/sklearn/svm/_base.py:947: ConvergenceWarning: Liblinear failed to converge, increase the number of iterations.\n",
            "  \"the number of iterations.\", ConvergenceWarning)\n",
            "[Parallel(n_jobs=-1)]: Using backend LokyBackend with 2 concurrent workers.\n"
          ],
          "name": "stderr"
        },
        {
          "output_type": "stream",
          "text": [
            "svc best estimator: LinearSVC(C=5, class_weight='balanced', dual=True, fit_intercept=True,\n",
            "          intercept_scaling=1, loss='hinge', max_iter=1000, multi_class='ovr',\n",
            "          penalty='l2', random_state=0, tol=0.0001, verbose=0)\n",
            "              precision    recall  f1-score   support\n",
            "\n",
            "           1       0.85      0.67      0.75       243\n",
            "           2       0.43      0.68      0.53        90\n",
            "\n",
            "    accuracy                           0.67       333\n",
            "   macro avg       0.64      0.67      0.64       333\n",
            "weighted avg       0.74      0.67      0.69       333\n",
            "\n",
            "model accuracy: 0.67267\n",
            "balanced accuracy rate: 0.67428\n",
            "25 58\n",
            "173 275\n",
            "Zemel fairness:  0.8019435736677115\n",
            "Disparate Impact:  0.6851704205700617\n",
            "----------------------\n",
            "25 58\n",
            "173 275\n",
            "Fitting 5 folds for each of 9 candidates, totalling 45 fits\n"
          ],
          "name": "stdout"
        },
        {
          "output_type": "stream",
          "text": [
            "[Parallel(n_jobs=-1)]: Done  45 out of  45 | elapsed:    0.2s finished\n",
            "/usr/local/lib/python3.7/dist-packages/sklearn/svm/_base.py:947: ConvergenceWarning: Liblinear failed to converge, increase the number of iterations.\n",
            "  \"the number of iterations.\", ConvergenceWarning)\n",
            "[Parallel(n_jobs=-1)]: Using backend LokyBackend with 2 concurrent workers.\n"
          ],
          "name": "stderr"
        },
        {
          "output_type": "stream",
          "text": [
            "svc best estimator: LinearSVC(C=0.5, class_weight='balanced', dual=True, fit_intercept=True,\n",
            "          intercept_scaling=1, loss='hinge', max_iter=1000, multi_class='ovr',\n",
            "          penalty='l2', random_state=0, tol=0.0001, verbose=0)\n",
            "              precision    recall  f1-score   support\n",
            "\n",
            "           1       0.89      0.65      0.75       242\n",
            "           2       0.46      0.78      0.58        91\n",
            "\n",
            "    accuracy                           0.69       333\n",
            "   macro avg       0.67      0.72      0.66       333\n",
            "weighted avg       0.77      0.69      0.70       333\n",
            "\n",
            "model accuracy: 0.68769\n",
            "balanced accuracy rate: 0.71656\n",
            "37 62\n",
            "144 271\n",
            "Zemel fairness:  1.0654088798952506\n",
            "Disparate Impact:  1.1230958781362008\n",
            "----------------------\n",
            "37 62\n",
            "144 271\n",
            "Fitting 5 folds for each of 9 candidates, totalling 45 fits\n"
          ],
          "name": "stdout"
        },
        {
          "output_type": "stream",
          "text": [
            "[Parallel(n_jobs=-1)]: Done  45 out of  45 | elapsed:    0.2s finished\n",
            "/usr/local/lib/python3.7/dist-packages/sklearn/svm/_base.py:947: ConvergenceWarning: Liblinear failed to converge, increase the number of iterations.\n",
            "  \"the number of iterations.\", ConvergenceWarning)\n",
            "[Parallel(n_jobs=-1)]: Using backend LokyBackend with 2 concurrent workers.\n"
          ],
          "name": "stderr"
        },
        {
          "output_type": "stream",
          "text": [
            "svc best estimator: LinearSVC(C=5, class_weight='balanced', dual=True, fit_intercept=True,\n",
            "          intercept_scaling=1, loss='hinge', max_iter=1000, multi_class='ovr',\n",
            "          penalty='l2', random_state=0, tol=0.0001, verbose=0)\n",
            "              precision    recall  f1-score   support\n",
            "\n",
            "           1       0.86      0.66      0.74       242\n",
            "           2       0.44      0.71      0.54        91\n",
            "\n",
            "    accuracy                           0.67       333\n",
            "   macro avg       0.65      0.69      0.64       333\n",
            "weighted avg       0.74      0.67      0.69       333\n",
            "\n",
            "model accuracy: 0.67267\n",
            "balanced accuracy rate: 0.68566\n",
            "34 63\n",
            "160 270\n",
            "Zemel fairness:  0.9470899470899471\n",
            "Disparate Impact:  0.9107142857142857\n",
            "----------------------\n",
            "34 63\n",
            "160 270\n",
            "Fitting 5 folds for each of 9 candidates, totalling 45 fits\n"
          ],
          "name": "stdout"
        },
        {
          "output_type": "stream",
          "text": [
            "[Parallel(n_jobs=-1)]: Done  45 out of  45 | elapsed:    0.2s finished\n",
            "/usr/local/lib/python3.7/dist-packages/sklearn/svm/_base.py:947: ConvergenceWarning: Liblinear failed to converge, increase the number of iterations.\n",
            "  \"the number of iterations.\", ConvergenceWarning)\n",
            "[Parallel(n_jobs=-1)]: Using backend LokyBackend with 2 concurrent workers.\n"
          ],
          "name": "stderr"
        },
        {
          "output_type": "stream",
          "text": [
            "svc best estimator: LinearSVC(C=0.5, class_weight='balanced', dual=True, fit_intercept=True,\n",
            "          intercept_scaling=1, loss='hinge', max_iter=1000, multi_class='ovr',\n",
            "          penalty='l2', random_state=0, tol=0.0001, verbose=0)\n",
            "              precision    recall  f1-score   support\n",
            "\n",
            "           1       0.87      0.74      0.80       242\n",
            "           2       0.51      0.71      0.60        91\n",
            "\n",
            "    accuracy                           0.74       333\n",
            "   macro avg       0.69      0.73      0.70       333\n",
            "weighted avg       0.77      0.74      0.75       333\n",
            "\n",
            "model accuracy: 0.73574\n",
            "balanced accuracy rate: 0.72904\n",
            "37 64\n",
            "158 269\n",
            "Zemel fairness:  0.990764405204461\n",
            "Disparate Impact:  0.9842761075949367\n",
            "----------------------\n",
            "37 64\n",
            "158 269\n",
            "Fitting 5 folds for each of 9 candidates, totalling 45 fits\n"
          ],
          "name": "stdout"
        },
        {
          "output_type": "stream",
          "text": [
            "[Parallel(n_jobs=-1)]: Done  45 out of  45 | elapsed:    0.2s finished\n",
            "/usr/local/lib/python3.7/dist-packages/sklearn/svm/_base.py:947: ConvergenceWarning: Liblinear failed to converge, increase the number of iterations.\n",
            "  \"the number of iterations.\", ConvergenceWarning)\n",
            "[Parallel(n_jobs=-1)]: Using backend LokyBackend with 2 concurrent workers.\n"
          ],
          "name": "stderr"
        },
        {
          "output_type": "stream",
          "text": [
            "svc best estimator: LinearSVC(C=5, class_weight='balanced', dual=True, fit_intercept=True,\n",
            "          intercept_scaling=1, loss='hinge', max_iter=1000, multi_class='ovr',\n",
            "          penalty='l2', random_state=0, tol=0.0001, verbose=0)\n",
            "              precision    recall  f1-score   support\n",
            "\n",
            "           1       0.83      0.68      0.75       242\n",
            "           2       0.43      0.64      0.51        91\n",
            "\n",
            "    accuracy                           0.67       333\n",
            "   macro avg       0.63      0.66      0.63       333\n",
            "weighted avg       0.72      0.67      0.69       333\n",
            "\n",
            "model accuracy: 0.66967\n",
            "balanced accuracy rate: 0.65959\n",
            "29 62\n",
            "159 271\n",
            "Zemel fairness:  0.8810260683251994\n",
            "Disparate Impact:  0.7972205315479812\n",
            "----------------------\n",
            "29 62\n",
            "159 271\n",
            "Fitting 5 folds for each of 9 candidates, totalling 45 fits\n"
          ],
          "name": "stdout"
        },
        {
          "output_type": "stream",
          "text": [
            "[Parallel(n_jobs=-1)]: Done  45 out of  45 | elapsed:    0.2s finished\n",
            "/usr/local/lib/python3.7/dist-packages/sklearn/svm/_base.py:947: ConvergenceWarning: Liblinear failed to converge, increase the number of iterations.\n",
            "  \"the number of iterations.\", ConvergenceWarning)\n",
            "[Parallel(n_jobs=-1)]: Using backend LokyBackend with 2 concurrent workers.\n"
          ],
          "name": "stderr"
        },
        {
          "output_type": "stream",
          "text": [
            "svc best estimator: LinearSVC(C=10, class_weight='balanced', dual=True, fit_intercept=True,\n",
            "          intercept_scaling=1, loss='hinge', max_iter=1000, multi_class='ovr',\n",
            "          penalty='l2', random_state=0, tol=0.0001, verbose=0)\n",
            "              precision    recall  f1-score   support\n",
            "\n",
            "           1       0.82      0.72      0.77       242\n",
            "           2       0.44      0.59      0.51        91\n",
            "\n",
            "    accuracy                           0.68       333\n",
            "   macro avg       0.63      0.66      0.64       333\n",
            "weighted avg       0.72      0.68      0.70       333\n",
            "\n",
            "model accuracy: 0.68468\n",
            "balanced accuracy rate: 0.65621\n",
            "33 59\n",
            "176 274\n",
            "Zemel fairness:  0.9169862674749474\n",
            "Disparate Impact:  0.8707627118644067\n",
            "----------------------\n",
            "33 59\n",
            "176 274\n",
            "Fitting 5 folds for each of 9 candidates, totalling 45 fits\n"
          ],
          "name": "stdout"
        },
        {
          "output_type": "stream",
          "text": [
            "[Parallel(n_jobs=-1)]: Done  45 out of  45 | elapsed:    0.2s finished\n",
            "/usr/local/lib/python3.7/dist-packages/sklearn/svm/_base.py:947: ConvergenceWarning: Liblinear failed to converge, increase the number of iterations.\n",
            "  \"the number of iterations.\", ConvergenceWarning)\n",
            "[Parallel(n_jobs=-1)]: Using backend LokyBackend with 2 concurrent workers.\n"
          ],
          "name": "stderr"
        },
        {
          "output_type": "stream",
          "text": [
            "svc best estimator: LinearSVC(C=5, class_weight='balanced', dual=True, fit_intercept=True,\n",
            "          intercept_scaling=1, loss='hinge', max_iter=1000, multi_class='ovr',\n",
            "          penalty='l2', random_state=0, tol=0.0001, verbose=0)\n",
            "              precision    recall  f1-score   support\n",
            "\n",
            "           1       0.85      0.67      0.75       242\n",
            "           2       0.44      0.69      0.54        91\n",
            "\n",
            "    accuracy                           0.68       333\n",
            "   macro avg       0.65      0.68      0.64       333\n",
            "weighted avg       0.74      0.68      0.69       333\n",
            "\n",
            "model accuracy: 0.67568\n",
            "balanced accuracy rate: 0.68086\n",
            "31 62\n",
            "154 271\n",
            "Zemel fairness:  0.9317343173431735\n",
            "Disparate Impact:  0.8798701298701299\n",
            "----------------------\n",
            "31 62\n",
            "154 271\n",
            "Fitting 5 folds for each of 9 candidates, totalling 45 fits\n"
          ],
          "name": "stdout"
        },
        {
          "output_type": "stream",
          "text": [
            "[Parallel(n_jobs=-1)]: Done  45 out of  45 | elapsed:    0.2s finished\n",
            "/usr/local/lib/python3.7/dist-packages/sklearn/svm/_base.py:947: ConvergenceWarning: Liblinear failed to converge, increase the number of iterations.\n",
            "  \"the number of iterations.\", ConvergenceWarning)\n",
            "[Parallel(n_jobs=-1)]: Using backend LokyBackend with 2 concurrent workers.\n"
          ],
          "name": "stderr"
        },
        {
          "output_type": "stream",
          "text": [
            "svc best estimator: LinearSVC(C=0.5, class_weight='balanced', dual=True, fit_intercept=True,\n",
            "          intercept_scaling=1, loss='hinge', max_iter=1000, multi_class='ovr',\n",
            "          penalty='l2', random_state=0, tol=0.0001, verbose=0)\n",
            "              precision    recall  f1-score   support\n",
            "\n",
            "           1       0.83      0.67      0.74       242\n",
            "           2       0.42      0.64      0.50        91\n",
            "\n",
            "    accuracy                           0.66       333\n",
            "   macro avg       0.62      0.65      0.62       333\n",
            "weighted avg       0.72      0.66      0.67       333\n",
            "\n",
            "model accuracy: 0.65766\n",
            "balanced accuracy rate: 0.65133\n",
            "36 60\n",
            "151 273\n",
            "Zemel fairness:  1.0468864468864467\n",
            "Disparate Impact:  1.0847682119205297\n",
            "----------------------\n",
            "36 60\n",
            "151 273\n",
            "Fitting 5 folds for each of 9 candidates, totalling 45 fits\n"
          ],
          "name": "stdout"
        },
        {
          "output_type": "stream",
          "text": [
            "[Parallel(n_jobs=-1)]: Done  45 out of  45 | elapsed:    0.2s finished\n",
            "/usr/local/lib/python3.7/dist-packages/sklearn/svm/_base.py:947: ConvergenceWarning: Liblinear failed to converge, increase the number of iterations.\n",
            "  \"the number of iterations.\", ConvergenceWarning)\n",
            "[Parallel(n_jobs=-1)]: Using backend LokyBackend with 2 concurrent workers.\n"
          ],
          "name": "stderr"
        },
        {
          "output_type": "stream",
          "text": [
            "svc best estimator: LinearSVC(C=10, class_weight='balanced', dual=True, fit_intercept=True,\n",
            "          intercept_scaling=1, loss='hinge', max_iter=1000, multi_class='ovr',\n",
            "          penalty='l2', random_state=0, tol=0.0001, verbose=0)\n",
            "              precision    recall  f1-score   support\n",
            "\n",
            "           1       0.84      0.76      0.80       242\n",
            "           2       0.49      0.60      0.54        91\n",
            "\n",
            "    accuracy                           0.72       333\n",
            "   macro avg       0.66      0.68      0.67       333\n",
            "weighted avg       0.74      0.72      0.73       333\n",
            "\n",
            "model accuracy: 0.72072\n",
            "balanced accuracy rate: 0.68443\n",
            "39 71\n",
            "164 262\n",
            "Zemel fairness:  0.9233415761746049\n",
            "Disparate Impact:  0.8775334936447956\n",
            "----------------------\n",
            "39 71\n",
            "164 262\n",
            "Fitting 5 folds for each of 9 candidates, totalling 45 fits\n"
          ],
          "name": "stdout"
        },
        {
          "output_type": "stream",
          "text": [
            "[Parallel(n_jobs=-1)]: Done  45 out of  45 | elapsed:    0.2s finished\n",
            "/usr/local/lib/python3.7/dist-packages/sklearn/svm/_base.py:947: ConvergenceWarning: Liblinear failed to converge, increase the number of iterations.\n",
            "  \"the number of iterations.\", ConvergenceWarning)\n",
            "[Parallel(n_jobs=-1)]: Using backend LokyBackend with 2 concurrent workers.\n"
          ],
          "name": "stderr"
        },
        {
          "output_type": "stream",
          "text": [
            "svc best estimator: LinearSVC(C=0.5, class_weight='balanced', dual=True, fit_intercept=True,\n",
            "          intercept_scaling=1, loss='hinge', max_iter=1000, multi_class='ovr',\n",
            "          penalty='l2', random_state=0, tol=0.0001, verbose=0)\n",
            "              precision    recall  f1-score   support\n",
            "\n",
            "           1       0.85      0.69      0.76       242\n",
            "           2       0.45      0.67      0.54        91\n",
            "\n",
            "    accuracy                           0.68       333\n",
            "   macro avg       0.65      0.68      0.65       333\n",
            "weighted avg       0.74      0.68      0.70       333\n",
            "\n",
            "model accuracy: 0.68468\n",
            "balanced accuracy rate: 0.68021\n",
            "31 64\n",
            "161 269\n",
            "Zemel fairness:  0.8858619888475836\n",
            "Disparate Impact:  0.8092973602484471\n",
            "----------------------\n",
            "31 64\n",
            "161 269\n",
            "Fitting 5 folds for each of 9 candidates, totalling 45 fits\n"
          ],
          "name": "stdout"
        },
        {
          "output_type": "stream",
          "text": [
            "[Parallel(n_jobs=-1)]: Done  45 out of  45 | elapsed:    0.2s finished\n",
            "/usr/local/lib/python3.7/dist-packages/sklearn/svm/_base.py:947: ConvergenceWarning: Liblinear failed to converge, increase the number of iterations.\n",
            "  \"the number of iterations.\", ConvergenceWarning)\n",
            "[Parallel(n_jobs=-1)]: Using backend LokyBackend with 2 concurrent workers.\n"
          ],
          "name": "stderr"
        },
        {
          "output_type": "stream",
          "text": [
            "svc best estimator: LinearSVC(C=10, class_weight='balanced', dual=True, fit_intercept=True,\n",
            "          intercept_scaling=1, loss='hinge', max_iter=1000, multi_class='ovr',\n",
            "          penalty='l2', random_state=0, tol=0.0001, verbose=0)\n",
            "              precision    recall  f1-score   support\n",
            "\n",
            "           1       0.83      0.65      0.73       242\n",
            "           2       0.41      0.64      0.50        91\n",
            "\n",
            "    accuracy                           0.65       333\n",
            "   macro avg       0.62      0.65      0.61       333\n",
            "weighted avg       0.71      0.65      0.67       333\n",
            "\n",
            "model accuracy: 0.64865\n",
            "balanced accuracy rate: 0.64513\n",
            "24 57\n",
            "163 276\n",
            "Zemel fairness:  0.8304729214340199\n",
            "Disparate Impact:  0.7129480142072974\n",
            "----------------------\n",
            "24 57\n",
            "163 276\n",
            "Fitting 5 folds for each of 9 candidates, totalling 45 fits\n"
          ],
          "name": "stdout"
        },
        {
          "output_type": "stream",
          "text": [
            "[Parallel(n_jobs=-1)]: Done  45 out of  45 | elapsed:    0.2s finished\n",
            "[Parallel(n_jobs=-1)]: Using backend LokyBackend with 2 concurrent workers.\n"
          ],
          "name": "stderr"
        },
        {
          "output_type": "stream",
          "text": [
            "svc best estimator: LinearSVC(C=0.1, class_weight='balanced', dual=True, fit_intercept=True,\n",
            "          intercept_scaling=1, loss='hinge', max_iter=1000, multi_class='ovr',\n",
            "          penalty='l2', random_state=0, tol=0.0001, verbose=0)\n",
            "              precision    recall  f1-score   support\n",
            "\n",
            "           1       0.88      0.68      0.77       243\n",
            "           2       0.47      0.76      0.58        90\n",
            "\n",
            "    accuracy                           0.70       333\n",
            "   macro avg       0.68      0.72      0.67       333\n",
            "weighted avg       0.77      0.70      0.72       333\n",
            "\n",
            "model accuracy: 0.70270\n",
            "balanced accuracy rate: 0.71934\n",
            "37 63\n",
            "148 270\n",
            "Zemel fairness:  1.0391534391534392\n",
            "Disparate Impact:  1.0714285714285714\n",
            "----------------------\n",
            "37 63\n",
            "148 270\n",
            "Fitting 5 folds for each of 9 candidates, totalling 45 fits\n"
          ],
          "name": "stdout"
        },
        {
          "output_type": "stream",
          "text": [
            "[Parallel(n_jobs=-1)]: Done  45 out of  45 | elapsed:    0.2s finished\n",
            "/usr/local/lib/python3.7/dist-packages/sklearn/svm/_base.py:947: ConvergenceWarning: Liblinear failed to converge, increase the number of iterations.\n",
            "  \"the number of iterations.\", ConvergenceWarning)\n",
            "[Parallel(n_jobs=-1)]: Using backend LokyBackend with 2 concurrent workers.\n"
          ],
          "name": "stderr"
        },
        {
          "output_type": "stream",
          "text": [
            "svc best estimator: LinearSVC(C=0.5, class_weight='balanced', dual=True, fit_intercept=True,\n",
            "          intercept_scaling=1, loss='hinge', max_iter=1000, multi_class='ovr',\n",
            "          penalty='l2', random_state=0, tol=0.0001, verbose=0)\n",
            "              precision    recall  f1-score   support\n",
            "\n",
            "           1       0.85      0.66      0.75       243\n",
            "           2       0.43      0.69      0.53        90\n",
            "\n",
            "    accuracy                           0.67       333\n",
            "   macro avg       0.64      0.68      0.64       333\n",
            "weighted avg       0.74      0.67      0.69       333\n",
            "\n",
            "model accuracy: 0.66967\n",
            "balanced accuracy rate: 0.67572\n",
            "27 66\n",
            "155 267\n",
            "Zemel fairness:  0.8285665645216207\n",
            "Disparate Impact:  0.7046920821114371\n",
            "----------------------\n",
            "27 66\n",
            "155 267\n",
            "Fitting 5 folds for each of 9 candidates, totalling 45 fits\n"
          ],
          "name": "stdout"
        },
        {
          "output_type": "stream",
          "text": [
            "[Parallel(n_jobs=-1)]: Done  45 out of  45 | elapsed:    0.2s finished\n",
            "/usr/local/lib/python3.7/dist-packages/sklearn/svm/_base.py:947: ConvergenceWarning: Liblinear failed to converge, increase the number of iterations.\n",
            "  \"the number of iterations.\", ConvergenceWarning)\n",
            "[Parallel(n_jobs=-1)]: Using backend LokyBackend with 2 concurrent workers.\n"
          ],
          "name": "stderr"
        },
        {
          "output_type": "stream",
          "text": [
            "svc best estimator: LinearSVC(C=10, class_weight='balanced', dual=True, fit_intercept=True,\n",
            "          intercept_scaling=1, loss='hinge', max_iter=1000, multi_class='ovr',\n",
            "          penalty='l2', random_state=0, tol=0.0001, verbose=0)\n",
            "              precision    recall  f1-score   support\n",
            "\n",
            "           1       0.84      0.71      0.77       243\n",
            "           2       0.45      0.64      0.53        90\n",
            "\n",
            "    accuracy                           0.69       333\n",
            "   macro avg       0.65      0.68      0.65       333\n",
            "weighted avg       0.74      0.69      0.70       333\n",
            "\n",
            "model accuracy: 0.69069\n",
            "balanced accuracy rate: 0.67613\n",
            "39 62\n",
            "154 271\n",
            "Zemel fairness:  1.0607665754076896\n",
            "Disparate Impact:  1.1069333891914537\n",
            "----------------------\n",
            "39 62\n",
            "154 271\n",
            "Fitting 5 folds for each of 9 candidates, totalling 45 fits\n"
          ],
          "name": "stdout"
        },
        {
          "output_type": "stream",
          "text": [
            "[Parallel(n_jobs=-1)]: Done  45 out of  45 | elapsed:    0.2s finished\n",
            "/usr/local/lib/python3.7/dist-packages/sklearn/svm/_base.py:947: ConvergenceWarning: Liblinear failed to converge, increase the number of iterations.\n",
            "  \"the number of iterations.\", ConvergenceWarning)\n",
            "[Parallel(n_jobs=-1)]: Using backend LokyBackend with 2 concurrent workers.\n"
          ],
          "name": "stderr"
        },
        {
          "output_type": "stream",
          "text": [
            "svc best estimator: LinearSVC(C=10, class_weight='balanced', dual=True, fit_intercept=True,\n",
            "          intercept_scaling=1, loss='hinge', max_iter=1000, multi_class='ovr',\n",
            "          penalty='l2', random_state=0, tol=0.0001, verbose=0)\n",
            "              precision    recall  f1-score   support\n",
            "\n",
            "           1       0.85      0.70      0.76       243\n",
            "           2       0.45      0.67      0.54        90\n",
            "\n",
            "    accuracy                           0.69       333\n",
            "   macro avg       0.65      0.68      0.65       333\n",
            "weighted avg       0.74      0.69      0.70       333\n",
            "\n",
            "model accuracy: 0.68769\n",
            "balanced accuracy rate: 0.68107\n",
            "35 57\n",
            "155 276\n",
            "Zemel fairness:  1.0524408848207476\n",
            "Disparate Impact:  1.093378607809847\n",
            "----------------------\n",
            "35 57\n",
            "155 276\n",
            "Fitting 5 folds for each of 9 candidates, totalling 45 fits\n"
          ],
          "name": "stdout"
        },
        {
          "output_type": "stream",
          "text": [
            "[Parallel(n_jobs=-1)]: Done  42 out of  45 | elapsed:    0.2s remaining:    0.0s\n",
            "[Parallel(n_jobs=-1)]: Done  45 out of  45 | elapsed:    0.2s finished\n",
            "/usr/local/lib/python3.7/dist-packages/sklearn/svm/_base.py:947: ConvergenceWarning: Liblinear failed to converge, increase the number of iterations.\n",
            "  \"the number of iterations.\", ConvergenceWarning)\n",
            "[Parallel(n_jobs=-1)]: Using backend LokyBackend with 2 concurrent workers.\n"
          ],
          "name": "stderr"
        },
        {
          "output_type": "stream",
          "text": [
            "svc best estimator: LinearSVC(C=10, class_weight='balanced', dual=True, fit_intercept=True,\n",
            "          intercept_scaling=1, loss='hinge', max_iter=1000, multi_class='ovr',\n",
            "          penalty='l2', random_state=0, tol=0.0001, verbose=0)\n",
            "              precision    recall  f1-score   support\n",
            "\n",
            "           1       0.84      0.68      0.75       243\n",
            "           2       0.43      0.66      0.52        90\n",
            "\n",
            "    accuracy                           0.67       333\n",
            "   macro avg       0.64      0.67      0.64       333\n",
            "weighted avg       0.73      0.67      0.69       333\n",
            "\n",
            "model accuracy: 0.67267\n",
            "balanced accuracy rate: 0.66728\n",
            "31 64\n",
            "168 269\n",
            "Zemel fairness:  0.8598396840148699\n",
            "Disparate Impact:  0.7755766369047619\n",
            "----------------------\n",
            "31 64\n",
            "168 269\n",
            "Fitting 5 folds for each of 9 candidates, totalling 45 fits\n"
          ],
          "name": "stdout"
        },
        {
          "output_type": "stream",
          "text": [
            "[Parallel(n_jobs=-1)]: Done  45 out of  45 | elapsed:    0.2s finished\n",
            "[Parallel(n_jobs=-1)]: Using backend LokyBackend with 2 concurrent workers.\n"
          ],
          "name": "stderr"
        },
        {
          "output_type": "stream",
          "text": [
            "svc best estimator: LinearSVC(C=0.01, class_weight='balanced', dual=True, fit_intercept=True,\n",
            "          intercept_scaling=1, loss='hinge', max_iter=1000, multi_class='ovr',\n",
            "          penalty='l2', random_state=0, tol=0.0001, verbose=0)\n",
            "              precision    recall  f1-score   support\n",
            "\n",
            "           1       0.87      0.66      0.75       243\n",
            "           2       0.44      0.73      0.55        90\n",
            "\n",
            "    accuracy                           0.68       333\n",
            "   macro avg       0.66      0.70      0.65       333\n",
            "weighted avg       0.75      0.68      0.70       333\n",
            "\n",
            "model accuracy: 0.67868\n",
            "balanced accuracy rate: 0.69588\n",
            "29 69\n",
            "154 264\n",
            "Zemel fairness:  0.8369565217391304\n",
            "Disparate Impact:  0.7204968944099378\n",
            "----------------------\n",
            "29 69\n",
            "154 264\n",
            "Fitting 5 folds for each of 9 candidates, totalling 45 fits\n"
          ],
          "name": "stdout"
        },
        {
          "output_type": "stream",
          "text": [
            "[Parallel(n_jobs=-1)]: Done  45 out of  45 | elapsed:    0.2s finished\n",
            "/usr/local/lib/python3.7/dist-packages/sklearn/svm/_base.py:947: ConvergenceWarning: Liblinear failed to converge, increase the number of iterations.\n",
            "  \"the number of iterations.\", ConvergenceWarning)\n",
            "[Parallel(n_jobs=-1)]: Using backend LokyBackend with 2 concurrent workers.\n"
          ],
          "name": "stderr"
        },
        {
          "output_type": "stream",
          "text": [
            "svc best estimator: LinearSVC(C=10, class_weight='balanced', dual=True, fit_intercept=True,\n",
            "          intercept_scaling=1, loss='hinge', max_iter=1000, multi_class='ovr',\n",
            "          penalty='l2', random_state=0, tol=0.0001, verbose=0)\n",
            "              precision    recall  f1-score   support\n",
            "\n",
            "           1       0.85      0.69      0.76       243\n",
            "           2       0.45      0.68      0.54        90\n",
            "\n",
            "    accuracy                           0.69       333\n",
            "   macro avg       0.65      0.68      0.65       333\n",
            "weighted avg       0.74      0.69      0.70       333\n",
            "\n",
            "model accuracy: 0.68769\n",
            "balanced accuracy rate: 0.68457\n",
            "29 54\n",
            "168 279\n",
            "Zemel fairness:  0.9348864994026285\n",
            "Disparate Impact:  0.8918650793650794\n",
            "----------------------\n",
            "29 54\n",
            "168 279\n",
            "Fitting 5 folds for each of 9 candidates, totalling 45 fits\n"
          ],
          "name": "stdout"
        },
        {
          "output_type": "stream",
          "text": [
            "[Parallel(n_jobs=-1)]: Done  45 out of  45 | elapsed:    0.2s finished\n",
            "/usr/local/lib/python3.7/dist-packages/sklearn/svm/_base.py:947: ConvergenceWarning: Liblinear failed to converge, increase the number of iterations.\n",
            "  \"the number of iterations.\", ConvergenceWarning)\n",
            "[Parallel(n_jobs=-1)]: Using backend LokyBackend with 2 concurrent workers.\n"
          ],
          "name": "stderr"
        },
        {
          "output_type": "stream",
          "text": [
            "svc best estimator: LinearSVC(C=1, class_weight='balanced', dual=True, fit_intercept=True,\n",
            "          intercept_scaling=1, loss='hinge', max_iter=1000, multi_class='ovr',\n",
            "          penalty='l2', random_state=0, tol=0.0001, verbose=0)\n",
            "              precision    recall  f1-score   support\n",
            "\n",
            "           1       0.87      0.67      0.76       243\n",
            "           2       0.45      0.73      0.56        90\n",
            "\n",
            "    accuracy                           0.69       333\n",
            "   macro avg       0.66      0.70      0.66       333\n",
            "weighted avg       0.76      0.69      0.70       333\n",
            "\n",
            "model accuracy: 0.68769\n",
            "balanced accuracy rate: 0.70206\n",
            "29 69\n",
            "153 264\n",
            "Zemel fairness:  0.8407444005270092\n",
            "Disparate Impact:  0.7252060244387609\n",
            "----------------------\n",
            "29 69\n",
            "153 264\n",
            "Fitting 5 folds for each of 9 candidates, totalling 45 fits\n"
          ],
          "name": "stdout"
        },
        {
          "output_type": "stream",
          "text": [
            "[Parallel(n_jobs=-1)]: Done  45 out of  45 | elapsed:    0.2s finished\n",
            "[Parallel(n_jobs=-1)]: Using backend LokyBackend with 2 concurrent workers.\n"
          ],
          "name": "stderr"
        },
        {
          "output_type": "stream",
          "text": [
            "svc best estimator: LinearSVC(C=0.05, class_weight='balanced', dual=True, fit_intercept=True,\n",
            "          intercept_scaling=1, loss='hinge', max_iter=1000, multi_class='ovr',\n",
            "          penalty='l2', random_state=0, tol=0.0001, verbose=0)\n",
            "              precision    recall  f1-score   support\n",
            "\n",
            "           1       0.87      0.68      0.76       243\n",
            "           2       0.45      0.72      0.56        90\n",
            "\n",
            "    accuracy                           0.69       333\n",
            "   macro avg       0.66      0.70      0.66       333\n",
            "weighted avg       0.76      0.69      0.71       333\n",
            "\n",
            "model accuracy: 0.69069\n",
            "balanced accuracy rate: 0.70062\n",
            "19 51\n",
            "169 282\n",
            "Zemel fairness:  0.7732582394659991\n",
            "Disparate Impact:  0.6216498433693004\n",
            "----------------------\n",
            "19 51\n",
            "169 282\n",
            "Fitting 5 folds for each of 9 candidates, totalling 45 fits\n"
          ],
          "name": "stdout"
        },
        {
          "output_type": "stream",
          "text": [
            "[Parallel(n_jobs=-1)]: Done  45 out of  45 | elapsed:    0.2s finished\n",
            "[Parallel(n_jobs=-1)]: Using backend LokyBackend with 2 concurrent workers.\n"
          ],
          "name": "stderr"
        },
        {
          "output_type": "stream",
          "text": [
            "svc best estimator: LinearSVC(C=0.01, class_weight='balanced', dual=True, fit_intercept=True,\n",
            "          intercept_scaling=1, loss='hinge', max_iter=1000, multi_class='ovr',\n",
            "          penalty='l2', random_state=0, tol=0.0001, verbose=0)\n",
            "              precision    recall  f1-score   support\n",
            "\n",
            "           1       0.84      0.65      0.73       243\n",
            "           2       0.42      0.68      0.52        90\n",
            "\n",
            "    accuracy                           0.66       333\n",
            "   macro avg       0.63      0.66      0.63       333\n",
            "weighted avg       0.73      0.66      0.68       333\n",
            "\n",
            "model accuracy: 0.65766\n",
            "balanced accuracy rate: 0.66399\n",
            "24 58\n",
            "168 275\n",
            "Zemel fairness:  0.802884012539185\n",
            "Disparate Impact:  0.6773399014778324\n",
            "----------------------\n",
            "24 58\n",
            "168 275\n",
            "Fitting 5 folds for each of 9 candidates, totalling 45 fits\n"
          ],
          "name": "stdout"
        },
        {
          "output_type": "stream",
          "text": [
            "[Parallel(n_jobs=-1)]: Done  42 out of  45 | elapsed:    0.2s remaining:    0.0s\n",
            "[Parallel(n_jobs=-1)]: Done  45 out of  45 | elapsed:    0.2s finished\n",
            "/usr/local/lib/python3.7/dist-packages/sklearn/svm/_base.py:947: ConvergenceWarning: Liblinear failed to converge, increase the number of iterations.\n",
            "  \"the number of iterations.\", ConvergenceWarning)\n",
            "[Parallel(n_jobs=-1)]: Using backend LokyBackend with 2 concurrent workers.\n"
          ],
          "name": "stderr"
        },
        {
          "output_type": "stream",
          "text": [
            "svc best estimator: LinearSVC(C=1, class_weight='balanced', dual=True, fit_intercept=True,\n",
            "          intercept_scaling=1, loss='hinge', max_iter=1000, multi_class='ovr',\n",
            "          penalty='l2', random_state=0, tol=0.0001, verbose=0)\n",
            "              precision    recall  f1-score   support\n",
            "\n",
            "           1       0.89      0.66      0.76       242\n",
            "           2       0.46      0.78      0.58        91\n",
            "\n",
            "    accuracy                           0.69       333\n",
            "   macro avg       0.68      0.72      0.67       333\n",
            "weighted avg       0.77      0.69      0.71       333\n",
            "\n",
            "model accuracy: 0.69369\n",
            "balanced accuracy rate: 0.72069\n",
            "36 62\n",
            "142 271\n",
            "Zemel fairness:  1.056659921437924\n",
            "Disparate Impact:  1.1081326669695593\n",
            "----------------------\n",
            "36 62\n",
            "142 271\n",
            "Fitting 5 folds for each of 9 candidates, totalling 45 fits\n"
          ],
          "name": "stdout"
        },
        {
          "output_type": "stream",
          "text": [
            "[Parallel(n_jobs=-1)]: Done  45 out of  45 | elapsed:    0.2s finished\n",
            "/usr/local/lib/python3.7/dist-packages/sklearn/svm/_base.py:947: ConvergenceWarning: Liblinear failed to converge, increase the number of iterations.\n",
            "  \"the number of iterations.\", ConvergenceWarning)\n",
            "[Parallel(n_jobs=-1)]: Using backend LokyBackend with 2 concurrent workers.\n"
          ],
          "name": "stderr"
        },
        {
          "output_type": "stream",
          "text": [
            "svc best estimator: LinearSVC(C=5, class_weight='balanced', dual=True, fit_intercept=True,\n",
            "          intercept_scaling=1, loss='hinge', max_iter=1000, multi_class='ovr',\n",
            "          penalty='l2', random_state=0, tol=0.0001, verbose=0)\n",
            "              precision    recall  f1-score   support\n",
            "\n",
            "           1       0.86      0.66      0.75       242\n",
            "           2       0.44      0.70      0.54        91\n",
            "\n",
            "    accuracy                           0.67       333\n",
            "   macro avg       0.65      0.68      0.64       333\n",
            "weighted avg       0.74      0.67      0.69       333\n",
            "\n",
            "model accuracy: 0.67267\n",
            "balanced accuracy rate: 0.68223\n",
            "34 63\n",
            "156 270\n",
            "Zemel fairness:  0.9619047619047619\n",
            "Disparate Impact:  0.9340659340659341\n",
            "----------------------\n",
            "34 63\n",
            "156 270\n",
            "Fitting 5 folds for each of 9 candidates, totalling 45 fits\n"
          ],
          "name": "stdout"
        },
        {
          "output_type": "stream",
          "text": [
            "[Parallel(n_jobs=-1)]: Done  45 out of  45 | elapsed:    0.2s finished\n",
            "/usr/local/lib/python3.7/dist-packages/sklearn/svm/_base.py:947: ConvergenceWarning: Liblinear failed to converge, increase the number of iterations.\n",
            "  \"the number of iterations.\", ConvergenceWarning)\n",
            "[Parallel(n_jobs=-1)]: Using backend LokyBackend with 2 concurrent workers.\n"
          ],
          "name": "stderr"
        },
        {
          "output_type": "stream",
          "text": [
            "svc best estimator: LinearSVC(C=0.5, class_weight='balanced', dual=True, fit_intercept=True,\n",
            "          intercept_scaling=1, loss='hinge', max_iter=1000, multi_class='ovr',\n",
            "          penalty='l2', random_state=0, tol=0.0001, verbose=0)\n",
            "              precision    recall  f1-score   support\n",
            "\n",
            "           1       0.88      0.74      0.81       242\n",
            "           2       0.52      0.73      0.60        91\n",
            "\n",
            "    accuracy                           0.74       333\n",
            "   macro avg       0.70      0.73      0.70       333\n",
            "weighted avg       0.78      0.74      0.75       333\n",
            "\n",
            "model accuracy: 0.73874\n",
            "balanced accuracy rate: 0.73454\n",
            "37 64\n",
            "156 269\n",
            "Zemel fairness:  0.9981993494423792\n",
            "Disparate Impact:  0.996895032051282\n",
            "----------------------\n",
            "37 64\n",
            "156 269\n",
            "Fitting 5 folds for each of 9 candidates, totalling 45 fits\n"
          ],
          "name": "stdout"
        },
        {
          "output_type": "stream",
          "text": [
            "[Parallel(n_jobs=-1)]: Done  45 out of  45 | elapsed:    0.2s finished\n",
            "/usr/local/lib/python3.7/dist-packages/sklearn/svm/_base.py:947: ConvergenceWarning: Liblinear failed to converge, increase the number of iterations.\n",
            "  \"the number of iterations.\", ConvergenceWarning)\n",
            "[Parallel(n_jobs=-1)]: Using backend LokyBackend with 2 concurrent workers.\n"
          ],
          "name": "stderr"
        },
        {
          "output_type": "stream",
          "text": [
            "svc best estimator: LinearSVC(C=0.5, class_weight='balanced', dual=True, fit_intercept=True,\n",
            "          intercept_scaling=1, loss='hinge', max_iter=1000, multi_class='ovr',\n",
            "          penalty='l2', random_state=0, tol=0.0001, verbose=0)\n",
            "              precision    recall  f1-score   support\n",
            "\n",
            "           1       0.84      0.68      0.75       242\n",
            "           2       0.43      0.65      0.52        91\n",
            "\n",
            "    accuracy                           0.67       333\n",
            "   macro avg       0.63      0.66      0.63       333\n",
            "weighted avg       0.73      0.67      0.69       333\n",
            "\n",
            "model accuracy: 0.66967\n",
            "balanced accuracy rate: 0.66302\n",
            "29 62\n",
            "158 271\n",
            "Zemel fairness:  0.8847161052255683\n",
            "Disparate Impact:  0.8022662311147407\n",
            "----------------------\n",
            "29 62\n",
            "158 271\n",
            "Fitting 5 folds for each of 9 candidates, totalling 45 fits\n"
          ],
          "name": "stdout"
        },
        {
          "output_type": "stream",
          "text": [
            "[Parallel(n_jobs=-1)]: Done  45 out of  45 | elapsed:    0.2s finished\n",
            "/usr/local/lib/python3.7/dist-packages/sklearn/svm/_base.py:947: ConvergenceWarning: Liblinear failed to converge, increase the number of iterations.\n",
            "  \"the number of iterations.\", ConvergenceWarning)\n",
            "[Parallel(n_jobs=-1)]: Using backend LokyBackend with 2 concurrent workers.\n"
          ],
          "name": "stderr"
        },
        {
          "output_type": "stream",
          "text": [
            "svc best estimator: LinearSVC(C=0.5, class_weight='balanced', dual=True, fit_intercept=True,\n",
            "          intercept_scaling=1, loss='hinge', max_iter=1000, multi_class='ovr',\n",
            "          penalty='l2', random_state=0, tol=0.0001, verbose=0)\n",
            "              precision    recall  f1-score   support\n",
            "\n",
            "           1       0.83      0.73      0.77       242\n",
            "           2       0.45      0.59      0.51        91\n",
            "\n",
            "    accuracy                           0.69       333\n",
            "   macro avg       0.64      0.66      0.64       333\n",
            "weighted avg       0.72      0.69      0.70       333\n",
            "\n",
            "model accuracy: 0.69069\n",
            "balanced accuracy rate: 0.66034\n",
            "33 59\n",
            "178 274\n",
            "Zemel fairness:  0.9096869974019547\n",
            "Disparate Impact:  0.860978861169301\n",
            "----------------------\n",
            "33 59\n",
            "178 274\n",
            "Fitting 5 folds for each of 9 candidates, totalling 45 fits\n"
          ],
          "name": "stdout"
        },
        {
          "output_type": "stream",
          "text": [
            "[Parallel(n_jobs=-1)]: Done  45 out of  45 | elapsed:    0.2s finished\n",
            "/usr/local/lib/python3.7/dist-packages/sklearn/svm/_base.py:947: ConvergenceWarning: Liblinear failed to converge, increase the number of iterations.\n",
            "  \"the number of iterations.\", ConvergenceWarning)\n",
            "[Parallel(n_jobs=-1)]: Using backend LokyBackend with 2 concurrent workers.\n"
          ],
          "name": "stderr"
        },
        {
          "output_type": "stream",
          "text": [
            "svc best estimator: LinearSVC(C=5, class_weight='balanced', dual=True, fit_intercept=True,\n",
            "          intercept_scaling=1, loss='hinge', max_iter=1000, multi_class='ovr',\n",
            "          penalty='l2', random_state=0, tol=0.0001, verbose=0)\n",
            "              precision    recall  f1-score   support\n",
            "\n",
            "           1       0.85      0.67      0.75       242\n",
            "           2       0.44      0.69      0.54        91\n",
            "\n",
            "    accuracy                           0.68       333\n",
            "   macro avg       0.65      0.68      0.64       333\n",
            "weighted avg       0.74      0.68      0.69       333\n",
            "\n",
            "model accuracy: 0.67568\n",
            "balanced accuracy rate: 0.68086\n",
            "31 62\n",
            "156 271\n",
            "Zemel fairness:  0.9243542435424354\n",
            "Disparate Impact:  0.8685897435897436\n",
            "----------------------\n",
            "31 62\n",
            "156 271\n",
            "Fitting 5 folds for each of 9 candidates, totalling 45 fits\n"
          ],
          "name": "stdout"
        },
        {
          "output_type": "stream",
          "text": [
            "[Parallel(n_jobs=-1)]: Done  45 out of  45 | elapsed:    0.2s finished\n",
            "/usr/local/lib/python3.7/dist-packages/sklearn/svm/_base.py:947: ConvergenceWarning: Liblinear failed to converge, increase the number of iterations.\n",
            "  \"the number of iterations.\", ConvergenceWarning)\n",
            "[Parallel(n_jobs=-1)]: Using backend LokyBackend with 2 concurrent workers.\n"
          ],
          "name": "stderr"
        },
        {
          "output_type": "stream",
          "text": [
            "svc best estimator: LinearSVC(C=0.5, class_weight='balanced', dual=True, fit_intercept=True,\n",
            "          intercept_scaling=1, loss='hinge', max_iter=1000, multi_class='ovr',\n",
            "          penalty='l2', random_state=0, tol=0.0001, verbose=0)\n",
            "              precision    recall  f1-score   support\n",
            "\n",
            "           1       0.83      0.67      0.74       242\n",
            "           2       0.42      0.64      0.51        91\n",
            "\n",
            "    accuracy                           0.66       333\n",
            "   macro avg       0.63      0.66      0.63       333\n",
            "weighted avg       0.72      0.66      0.68       333\n",
            "\n",
            "model accuracy: 0.66366\n",
            "balanced accuracy rate: 0.65546\n",
            "36 60\n",
            "151 273\n",
            "Zemel fairness:  1.0468864468864467\n",
            "Disparate Impact:  1.0847682119205297\n",
            "----------------------\n",
            "36 60\n",
            "151 273\n",
            "Fitting 5 folds for each of 9 candidates, totalling 45 fits\n"
          ],
          "name": "stdout"
        },
        {
          "output_type": "stream",
          "text": [
            "[Parallel(n_jobs=-1)]: Done  45 out of  45 | elapsed:    0.2s finished\n",
            "[Parallel(n_jobs=-1)]: Using backend LokyBackend with 2 concurrent workers.\n"
          ],
          "name": "stderr"
        },
        {
          "output_type": "stream",
          "text": [
            "svc best estimator: LinearSVC(C=0.1, class_weight='balanced', dual=True, fit_intercept=True,\n",
            "          intercept_scaling=1, loss='hinge', max_iter=1000, multi_class='ovr',\n",
            "          penalty='l2', random_state=0, tol=0.0001, verbose=0)\n",
            "              precision    recall  f1-score   support\n",
            "\n",
            "           1       0.84      0.74      0.79       242\n",
            "           2       0.48      0.63      0.54        91\n",
            "\n",
            "    accuracy                           0.71       333\n",
            "   macro avg       0.66      0.69      0.67       333\n",
            "weighted avg       0.74      0.71      0.72       333\n",
            "\n",
            "model accuracy: 0.71171\n",
            "balanced accuracy rate: 0.68509\n",
            "37 71\n",
            "159 262\n",
            "Zemel fairness:  0.9142565315557467\n",
            "Disparate Impact:  0.8587120205509788\n",
            "----------------------\n",
            "37 71\n",
            "159 262\n",
            "Fitting 5 folds for each of 9 candidates, totalling 45 fits\n"
          ],
          "name": "stdout"
        },
        {
          "output_type": "stream",
          "text": [
            "[Parallel(n_jobs=-1)]: Done  45 out of  45 | elapsed:    0.2s finished\n",
            "/usr/local/lib/python3.7/dist-packages/sklearn/svm/_base.py:947: ConvergenceWarning: Liblinear failed to converge, increase the number of iterations.\n",
            "  \"the number of iterations.\", ConvergenceWarning)\n",
            "[Parallel(n_jobs=-1)]: Using backend LokyBackend with 2 concurrent workers.\n"
          ],
          "name": "stderr"
        },
        {
          "output_type": "stream",
          "text": [
            "svc best estimator: LinearSVC(C=0.5, class_weight='balanced', dual=True, fit_intercept=True,\n",
            "          intercept_scaling=1, loss='hinge', max_iter=1000, multi_class='ovr',\n",
            "          penalty='l2', random_state=0, tol=0.0001, verbose=0)\n",
            "              precision    recall  f1-score   support\n",
            "\n",
            "           1       0.85      0.69      0.76       242\n",
            "           2       0.45      0.67      0.54        91\n",
            "\n",
            "    accuracy                           0.68       333\n",
            "   macro avg       0.65      0.68      0.65       333\n",
            "weighted avg       0.74      0.68      0.70       333\n",
            "\n",
            "model accuracy: 0.68468\n",
            "balanced accuracy rate: 0.68021\n",
            "31 64\n",
            "161 269\n",
            "Zemel fairness:  0.8858619888475836\n",
            "Disparate Impact:  0.8092973602484471\n",
            "----------------------\n",
            "31 64\n",
            "161 269\n",
            "Fitting 5 folds for each of 9 candidates, totalling 45 fits\n"
          ],
          "name": "stdout"
        },
        {
          "output_type": "stream",
          "text": [
            "[Parallel(n_jobs=-1)]: Done  45 out of  45 | elapsed:    0.2s finished\n",
            "/usr/local/lib/python3.7/dist-packages/sklearn/svm/_base.py:947: ConvergenceWarning: Liblinear failed to converge, increase the number of iterations.\n",
            "  \"the number of iterations.\", ConvergenceWarning)\n",
            "[Parallel(n_jobs=-1)]: Using backend LokyBackend with 2 concurrent workers.\n"
          ],
          "name": "stderr"
        },
        {
          "output_type": "stream",
          "text": [
            "svc best estimator: LinearSVC(C=10, class_weight='balanced', dual=True, fit_intercept=True,\n",
            "          intercept_scaling=1, loss='hinge', max_iter=1000, multi_class='ovr',\n",
            "          penalty='l2', random_state=0, tol=0.0001, verbose=0)\n",
            "              precision    recall  f1-score   support\n",
            "\n",
            "           1       0.83      0.66      0.73       242\n",
            "           2       0.42      0.65      0.51        91\n",
            "\n",
            "    accuracy                           0.65       333\n",
            "   macro avg       0.62      0.65      0.62       333\n",
            "weighted avg       0.72      0.65      0.67       333\n",
            "\n",
            "model accuracy: 0.65465\n",
            "balanced accuracy rate: 0.65269\n",
            "25 57\n",
            "159 276\n",
            "Zemel fairness:  0.862509534706331\n",
            "Disparate Impact:  0.7613373055279709\n",
            "----------------------\n",
            "25 57\n",
            "159 276\n",
            "Fitting 5 folds for each of 9 candidates, totalling 45 fits\n"
          ],
          "name": "stdout"
        },
        {
          "output_type": "stream",
          "text": [
            "[Parallel(n_jobs=-1)]: Done  45 out of  45 | elapsed:    0.2s finished\n",
            "/usr/local/lib/python3.7/dist-packages/sklearn/svm/_base.py:947: ConvergenceWarning: Liblinear failed to converge, increase the number of iterations.\n",
            "  \"the number of iterations.\", ConvergenceWarning)\n",
            "[Parallel(n_jobs=-1)]: Using backend LokyBackend with 2 concurrent workers.\n"
          ],
          "name": "stderr"
        },
        {
          "output_type": "stream",
          "text": [
            "svc best estimator: LinearSVC(C=10, class_weight='balanced', dual=True, fit_intercept=True,\n",
            "          intercept_scaling=1, loss='hinge', max_iter=1000, multi_class='ovr',\n",
            "          penalty='l2', random_state=0, tol=0.0001, verbose=0)\n",
            "              precision    recall  f1-score   support\n",
            "\n",
            "           1       0.88      0.66      0.76       243\n",
            "           2       0.45      0.76      0.57        90\n",
            "\n",
            "    accuracy                           0.69       333\n",
            "   macro avg       0.67      0.71      0.66       333\n",
            "weighted avg       0.76      0.69      0.70       333\n",
            "\n",
            "model accuracy: 0.68769\n",
            "balanced accuracy rate: 0.70905\n",
            "36 63\n",
            "147 270\n",
            "Zemel fairness:  1.0269841269841269\n",
            "Disparate Impact:  1.0495626822157436\n",
            "----------------------\n",
            "36 63\n",
            "147 270\n",
            "Fitting 5 folds for each of 9 candidates, totalling 45 fits\n"
          ],
          "name": "stdout"
        },
        {
          "output_type": "stream",
          "text": [
            "[Parallel(n_jobs=-1)]: Done  45 out of  45 | elapsed:    0.2s finished\n",
            "/usr/local/lib/python3.7/dist-packages/sklearn/svm/_base.py:947: ConvergenceWarning: Liblinear failed to converge, increase the number of iterations.\n",
            "  \"the number of iterations.\", ConvergenceWarning)\n",
            "[Parallel(n_jobs=-1)]: Using backend LokyBackend with 2 concurrent workers.\n"
          ],
          "name": "stderr"
        },
        {
          "output_type": "stream",
          "text": [
            "svc best estimator: LinearSVC(C=1, class_weight='balanced', dual=True, fit_intercept=True,\n",
            "          intercept_scaling=1, loss='hinge', max_iter=1000, multi_class='ovr',\n",
            "          penalty='l2', random_state=0, tol=0.0001, verbose=0)\n",
            "              precision    recall  f1-score   support\n",
            "\n",
            "           1       0.85      0.67      0.75       243\n",
            "           2       0.43      0.69      0.53        90\n",
            "\n",
            "    accuracy                           0.67       333\n",
            "   macro avg       0.64      0.68      0.64       333\n",
            "weighted avg       0.74      0.67      0.69       333\n",
            "\n",
            "model accuracy: 0.67267\n",
            "balanced accuracy rate: 0.67778\n",
            "28 66\n",
            "159 267\n",
            "Zemel fairness:  0.8287368062648961\n",
            "Disparate Impact:  0.7124070897655803\n",
            "----------------------\n",
            "28 66\n",
            "159 267\n",
            "Fitting 5 folds for each of 9 candidates, totalling 45 fits\n"
          ],
          "name": "stdout"
        },
        {
          "output_type": "stream",
          "text": [
            "[Parallel(n_jobs=-1)]: Done  45 out of  45 | elapsed:    0.2s finished\n",
            "/usr/local/lib/python3.7/dist-packages/sklearn/svm/_base.py:947: ConvergenceWarning: Liblinear failed to converge, increase the number of iterations.\n",
            "  \"the number of iterations.\", ConvergenceWarning)\n",
            "[Parallel(n_jobs=-1)]: Using backend LokyBackend with 2 concurrent workers.\n"
          ],
          "name": "stderr"
        },
        {
          "output_type": "stream",
          "text": [
            "svc best estimator: LinearSVC(C=10, class_weight='balanced', dual=True, fit_intercept=True,\n",
            "          intercept_scaling=1, loss='hinge', max_iter=1000, multi_class='ovr',\n",
            "          penalty='l2', random_state=0, tol=0.0001, verbose=0)\n",
            "              precision    recall  f1-score   support\n",
            "\n",
            "           1       0.83      0.67      0.74       243\n",
            "           2       0.41      0.62      0.50        90\n",
            "\n",
            "    accuracy                           0.66       333\n",
            "   macro avg       0.62      0.65      0.62       333\n",
            "weighted avg       0.72      0.66      0.68       333\n",
            "\n",
            "model accuracy: 0.66066\n",
            "balanced accuracy rate: 0.64856\n",
            "37 62\n",
            "153 271\n",
            "Zemel fairness:  1.0321985477919295\n",
            "Disparate Impact:  1.0570314147164241\n",
            "----------------------\n",
            "37 62\n",
            "153 271\n",
            "Fitting 5 folds for each of 9 candidates, totalling 45 fits\n"
          ],
          "name": "stdout"
        },
        {
          "output_type": "stream",
          "text": [
            "[Parallel(n_jobs=-1)]: Done  45 out of  45 | elapsed:    0.2s finished\n",
            "/usr/local/lib/python3.7/dist-packages/sklearn/svm/_base.py:947: ConvergenceWarning: Liblinear failed to converge, increase the number of iterations.\n",
            "  \"the number of iterations.\", ConvergenceWarning)\n",
            "[Parallel(n_jobs=-1)]: Using backend LokyBackend with 2 concurrent workers.\n"
          ],
          "name": "stderr"
        },
        {
          "output_type": "stream",
          "text": [
            "svc best estimator: LinearSVC(C=10, class_weight='balanced', dual=True, fit_intercept=True,\n",
            "          intercept_scaling=1, loss='hinge', max_iter=1000, multi_class='ovr',\n",
            "          penalty='l2', random_state=0, tol=0.0001, verbose=0)\n",
            "              precision    recall  f1-score   support\n",
            "\n",
            "           1       0.85      0.71      0.78       243\n",
            "           2       0.46      0.67      0.55        90\n",
            "\n",
            "    accuracy                           0.70       333\n",
            "   macro avg       0.66      0.69      0.66       333\n",
            "weighted avg       0.75      0.70      0.71       333\n",
            "\n",
            "model accuracy: 0.69970\n",
            "balanced accuracy rate: 0.68930\n",
            "35 57\n",
            "155 276\n",
            "Zemel fairness:  1.0524408848207476\n",
            "Disparate Impact:  1.093378607809847\n",
            "----------------------\n",
            "35 57\n",
            "155 276\n",
            "Fitting 5 folds for each of 9 candidates, totalling 45 fits\n"
          ],
          "name": "stdout"
        },
        {
          "output_type": "stream",
          "text": [
            "[Parallel(n_jobs=-1)]: Done  45 out of  45 | elapsed:    0.2s finished\n",
            "/usr/local/lib/python3.7/dist-packages/sklearn/svm/_base.py:947: ConvergenceWarning: Liblinear failed to converge, increase the number of iterations.\n",
            "  \"the number of iterations.\", ConvergenceWarning)\n",
            "[Parallel(n_jobs=-1)]: Using backend LokyBackend with 2 concurrent workers.\n"
          ],
          "name": "stderr"
        },
        {
          "output_type": "stream",
          "text": [
            "svc best estimator: LinearSVC(C=0.5, class_weight='balanced', dual=True, fit_intercept=True,\n",
            "          intercept_scaling=1, loss='hinge', max_iter=1000, multi_class='ovr',\n",
            "          penalty='l2', random_state=0, tol=0.0001, verbose=0)\n",
            "              precision    recall  f1-score   support\n",
            "\n",
            "           1       0.84      0.69      0.76       243\n",
            "           2       0.44      0.66      0.52        90\n",
            "\n",
            "    accuracy                           0.68       333\n",
            "   macro avg       0.64      0.67      0.64       333\n",
            "weighted avg       0.73      0.68      0.69       333\n",
            "\n",
            "model accuracy: 0.67868\n",
            "balanced accuracy rate: 0.67140\n",
            "31 64\n",
            "169 269\n",
            "Zemel fairness:  0.8561222118959108\n",
            "Disparate Impact:  0.770987426035503\n",
            "----------------------\n",
            "31 64\n",
            "169 269\n",
            "Fitting 5 folds for each of 9 candidates, totalling 45 fits\n"
          ],
          "name": "stdout"
        },
        {
          "output_type": "stream",
          "text": [
            "[Parallel(n_jobs=-1)]: Done  45 out of  45 | elapsed:    0.2s finished\n",
            "/usr/local/lib/python3.7/dist-packages/sklearn/svm/_base.py:947: ConvergenceWarning: Liblinear failed to converge, increase the number of iterations.\n",
            "  \"the number of iterations.\", ConvergenceWarning)\n",
            "[Parallel(n_jobs=-1)]: Using backend LokyBackend with 2 concurrent workers.\n"
          ],
          "name": "stderr"
        },
        {
          "output_type": "stream",
          "text": [
            "svc best estimator: LinearSVC(C=1, class_weight='balanced', dual=True, fit_intercept=True,\n",
            "          intercept_scaling=1, loss='hinge', max_iter=1000, multi_class='ovr',\n",
            "          penalty='l2', random_state=0, tol=0.0001, verbose=0)\n",
            "              precision    recall  f1-score   support\n",
            "\n",
            "           1       0.83      0.66      0.74       243\n",
            "           2       0.41      0.63      0.50        90\n",
            "\n",
            "    accuracy                           0.65       333\n",
            "   macro avg       0.62      0.65      0.62       333\n",
            "weighted avg       0.72      0.65      0.67       333\n",
            "\n",
            "model accuracy: 0.65465\n",
            "balanced accuracy rate: 0.64794\n",
            "32 69\n",
            "162 264\n",
            "Zemel fairness:  0.8501317523056653\n",
            "Disparate Impact:  0.7557702630166399\n",
            "----------------------\n",
            "32 69\n",
            "162 264\n",
            "Fitting 5 folds for each of 9 candidates, totalling 45 fits\n"
          ],
          "name": "stdout"
        },
        {
          "output_type": "stream",
          "text": [
            "[Parallel(n_jobs=-1)]: Done  45 out of  45 | elapsed:    0.2s finished\n",
            "/usr/local/lib/python3.7/dist-packages/sklearn/svm/_base.py:947: ConvergenceWarning: Liblinear failed to converge, increase the number of iterations.\n",
            "  \"the number of iterations.\", ConvergenceWarning)\n",
            "[Parallel(n_jobs=-1)]: Using backend LokyBackend with 2 concurrent workers.\n"
          ],
          "name": "stderr"
        },
        {
          "output_type": "stream",
          "text": [
            "svc best estimator: LinearSVC(C=5, class_weight='balanced', dual=True, fit_intercept=True,\n",
            "          intercept_scaling=1, loss='hinge', max_iter=1000, multi_class='ovr',\n",
            "          penalty='l2', random_state=0, tol=0.0001, verbose=0)\n",
            "              precision    recall  f1-score   support\n",
            "\n",
            "           1       0.84      0.66      0.74       243\n",
            "           2       0.42      0.67      0.52        90\n",
            "\n",
            "    accuracy                           0.66       333\n",
            "   macro avg       0.63      0.66      0.63       333\n",
            "weighted avg       0.73      0.66      0.68       333\n",
            "\n",
            "model accuracy: 0.66366\n",
            "balanced accuracy rate: 0.66461\n",
            "31 54\n",
            "161 279\n",
            "Zemel fairness:  0.9970131421744325\n",
            "Disparate Impact:  0.994824016563147\n",
            "----------------------\n",
            "31 54\n",
            "161 279\n",
            "Fitting 5 folds for each of 9 candidates, totalling 45 fits\n"
          ],
          "name": "stdout"
        },
        {
          "output_type": "stream",
          "text": [
            "[Parallel(n_jobs=-1)]: Done  45 out of  45 | elapsed:    0.2s finished\n",
            "/usr/local/lib/python3.7/dist-packages/sklearn/svm/_base.py:947: ConvergenceWarning: Liblinear failed to converge, increase the number of iterations.\n",
            "  \"the number of iterations.\", ConvergenceWarning)\n",
            "[Parallel(n_jobs=-1)]: Using backend LokyBackend with 2 concurrent workers.\n"
          ],
          "name": "stderr"
        },
        {
          "output_type": "stream",
          "text": [
            "svc best estimator: LinearSVC(C=5, class_weight='balanced', dual=True, fit_intercept=True,\n",
            "          intercept_scaling=1, loss='hinge', max_iter=1000, multi_class='ovr',\n",
            "          penalty='l2', random_state=0, tol=0.0001, verbose=0)\n",
            "              precision    recall  f1-score   support\n",
            "\n",
            "           1       0.87      0.66      0.75       243\n",
            "           2       0.44      0.72      0.55        90\n",
            "\n",
            "    accuracy                           0.68       333\n",
            "   macro avg       0.65      0.69      0.65       333\n",
            "weighted avg       0.75      0.68      0.70       333\n",
            "\n",
            "model accuracy: 0.67868\n",
            "balanced accuracy rate: 0.69239\n",
            "27 69\n",
            "156 264\n",
            "Zemel fairness:  0.8003952569169961\n",
            "Disparate Impact:  0.6622073578595318\n",
            "----------------------\n",
            "27 69\n",
            "156 264\n",
            "Fitting 5 folds for each of 9 candidates, totalling 45 fits\n"
          ],
          "name": "stdout"
        },
        {
          "output_type": "stream",
          "text": [
            "[Parallel(n_jobs=-1)]: Done  45 out of  45 | elapsed:    0.2s finished\n",
            "/usr/local/lib/python3.7/dist-packages/sklearn/svm/_base.py:947: ConvergenceWarning: Liblinear failed to converge, increase the number of iterations.\n",
            "  \"the number of iterations.\", ConvergenceWarning)\n",
            "[Parallel(n_jobs=-1)]: Using backend LokyBackend with 2 concurrent workers.\n"
          ],
          "name": "stderr"
        },
        {
          "output_type": "stream",
          "text": [
            "svc best estimator: LinearSVC(C=0.5, class_weight='balanced', dual=True, fit_intercept=True,\n",
            "          intercept_scaling=1, loss='hinge', max_iter=1000, multi_class='ovr',\n",
            "          penalty='l2', random_state=0, tol=0.0001, verbose=0)\n",
            "              precision    recall  f1-score   support\n",
            "\n",
            "           1       0.88      0.69      0.77       243\n",
            "           2       0.47      0.73      0.57        90\n",
            "\n",
            "    accuracy                           0.70       333\n",
            "   macro avg       0.67      0.71      0.67       333\n",
            "weighted avg       0.77      0.70      0.72       333\n",
            "\n",
            "model accuracy: 0.70270\n",
            "balanced accuracy rate: 0.71235\n",
            "20 51\n",
            "169 282\n",
            "Zemel fairness:  0.7928660826032541\n",
            "Disparate Impact:  0.6543682561782109\n",
            "----------------------\n",
            "20 51\n",
            "169 282\n",
            "Fitting 5 folds for each of 9 candidates, totalling 45 fits\n"
          ],
          "name": "stdout"
        },
        {
          "output_type": "stream",
          "text": [
            "[Parallel(n_jobs=-1)]: Done  45 out of  45 | elapsed:    0.2s finished\n",
            "[Parallel(n_jobs=-1)]: Using backend LokyBackend with 2 concurrent workers.\n"
          ],
          "name": "stderr"
        },
        {
          "output_type": "stream",
          "text": [
            "svc best estimator: LinearSVC(C=0.01, class_weight='balanced', dual=True, fit_intercept=True,\n",
            "          intercept_scaling=1, loss='hinge', max_iter=1000, multi_class='ovr',\n",
            "          penalty='l2', random_state=0, tol=0.0001, verbose=0)\n",
            "              precision    recall  f1-score   support\n",
            "\n",
            "           1       0.84      0.65      0.73       243\n",
            "           2       0.42      0.68      0.52        90\n",
            "\n",
            "    accuracy                           0.66       333\n",
            "   macro avg       0.63      0.66      0.63       333\n",
            "weighted avg       0.73      0.66      0.68       333\n",
            "\n",
            "model accuracy: 0.65766\n",
            "balanced accuracy rate: 0.66399\n",
            "24 58\n",
            "169 275\n",
            "Zemel fairness:  0.7992476489028213\n",
            "Disparate Impact:  0.6733319730667211\n",
            "----------------------\n",
            "24 58\n",
            "169 275\n",
            "Fitting 5 folds for each of 9 candidates, totalling 45 fits\n"
          ],
          "name": "stdout"
        },
        {
          "output_type": "stream",
          "text": [
            "[Parallel(n_jobs=-1)]: Done  45 out of  45 | elapsed:    0.2s finished\n",
            "/usr/local/lib/python3.7/dist-packages/sklearn/svm/_base.py:947: ConvergenceWarning: Liblinear failed to converge, increase the number of iterations.\n",
            "  \"the number of iterations.\", ConvergenceWarning)\n",
            "[Parallel(n_jobs=-1)]: Using backend LokyBackend with 2 concurrent workers.\n"
          ],
          "name": "stderr"
        },
        {
          "output_type": "stream",
          "text": [
            "svc best estimator: LinearSVC(C=1, class_weight='balanced', dual=True, fit_intercept=True,\n",
            "          intercept_scaling=1, loss='hinge', max_iter=1000, multi_class='ovr',\n",
            "          penalty='l2', random_state=0, tol=0.0001, verbose=0)\n",
            "              precision    recall  f1-score   support\n",
            "\n",
            "           1       0.87      0.64      0.74       242\n",
            "           2       0.44      0.75      0.55        91\n",
            "\n",
            "    accuracy                           0.67       333\n",
            "   macro avg       0.65      0.69      0.64       333\n",
            "weighted avg       0.75      0.67      0.68       333\n",
            "\n",
            "model accuracy: 0.66667\n",
            "balanced accuracy rate: 0.69181\n",
            "37 62\n",
            "144 271\n",
            "Zemel fairness:  1.0654088798952506\n",
            "Disparate Impact:  1.1230958781362008\n",
            "----------------------\n",
            "37 62\n",
            "144 271\n",
            "Fitting 5 folds for each of 9 candidates, totalling 45 fits\n"
          ],
          "name": "stdout"
        },
        {
          "output_type": "stream",
          "text": [
            "[Parallel(n_jobs=-1)]: Done  45 out of  45 | elapsed:    0.2s finished\n",
            "/usr/local/lib/python3.7/dist-packages/sklearn/svm/_base.py:947: ConvergenceWarning: Liblinear failed to converge, increase the number of iterations.\n",
            "  \"the number of iterations.\", ConvergenceWarning)\n",
            "[Parallel(n_jobs=-1)]: Using backend LokyBackend with 2 concurrent workers.\n"
          ],
          "name": "stderr"
        },
        {
          "output_type": "stream",
          "text": [
            "svc best estimator: LinearSVC(C=10, class_weight='balanced', dual=True, fit_intercept=True,\n",
            "          intercept_scaling=1, loss='hinge', max_iter=1000, multi_class='ovr',\n",
            "          penalty='l2', random_state=0, tol=0.0001, verbose=0)\n",
            "              precision    recall  f1-score   support\n",
            "\n",
            "           1       0.86      0.66      0.75       242\n",
            "           2       0.44      0.70      0.54        91\n",
            "\n",
            "    accuracy                           0.67       333\n",
            "   macro avg       0.65      0.68      0.64       333\n",
            "weighted avg       0.74      0.67      0.69       333\n",
            "\n",
            "model accuracy: 0.67267\n",
            "balanced accuracy rate: 0.68223\n",
            "35 63\n",
            "159 270\n",
            "Zemel fairness:  0.9666666666666667\n",
            "Disparate Impact:  0.9433962264150944\n",
            "----------------------\n",
            "35 63\n",
            "159 270\n",
            "Fitting 5 folds for each of 9 candidates, totalling 45 fits\n"
          ],
          "name": "stdout"
        },
        {
          "output_type": "stream",
          "text": [
            "[Parallel(n_jobs=-1)]: Done  45 out of  45 | elapsed:    0.2s finished\n",
            "/usr/local/lib/python3.7/dist-packages/sklearn/svm/_base.py:947: ConvergenceWarning: Liblinear failed to converge, increase the number of iterations.\n",
            "  \"the number of iterations.\", ConvergenceWarning)\n",
            "[Parallel(n_jobs=-1)]: Using backend LokyBackend with 2 concurrent workers.\n"
          ],
          "name": "stderr"
        },
        {
          "output_type": "stream",
          "text": [
            "svc best estimator: LinearSVC(C=0.5, class_weight='balanced', dual=True, fit_intercept=True,\n",
            "          intercept_scaling=1, loss='hinge', max_iter=1000, multi_class='ovr',\n",
            "          penalty='l2', random_state=0, tol=0.0001, verbose=0)\n",
            "              precision    recall  f1-score   support\n",
            "\n",
            "           1       0.87      0.74      0.80       242\n",
            "           2       0.51      0.71      0.60        91\n",
            "\n",
            "    accuracy                           0.74       333\n",
            "   macro avg       0.69      0.73      0.70       333\n",
            "weighted avg       0.77      0.74      0.75       333\n",
            "\n",
            "model accuracy: 0.73574\n",
            "balanced accuracy rate: 0.72904\n",
            "37 64\n",
            "158 269\n",
            "Zemel fairness:  0.990764405204461\n",
            "Disparate Impact:  0.9842761075949367\n",
            "----------------------\n",
            "37 64\n",
            "158 269\n",
            "Fitting 5 folds for each of 9 candidates, totalling 45 fits\n"
          ],
          "name": "stdout"
        },
        {
          "output_type": "stream",
          "text": [
            "[Parallel(n_jobs=-1)]: Done  45 out of  45 | elapsed:    0.2s finished\n",
            "/usr/local/lib/python3.7/dist-packages/sklearn/svm/_base.py:947: ConvergenceWarning: Liblinear failed to converge, increase the number of iterations.\n",
            "  \"the number of iterations.\", ConvergenceWarning)\n",
            "[Parallel(n_jobs=-1)]: Using backend LokyBackend with 2 concurrent workers.\n"
          ],
          "name": "stderr"
        },
        {
          "output_type": "stream",
          "text": [
            "svc best estimator: LinearSVC(C=10, class_weight='balanced', dual=True, fit_intercept=True,\n",
            "          intercept_scaling=1, loss='hinge', max_iter=1000, multi_class='ovr',\n",
            "          penalty='l2', random_state=0, tol=0.0001, verbose=0)\n",
            "              precision    recall  f1-score   support\n",
            "\n",
            "           1       0.83      0.68      0.75       242\n",
            "           2       0.43      0.64      0.51        91\n",
            "\n",
            "    accuracy                           0.67       333\n",
            "   macro avg       0.63      0.66      0.63       333\n",
            "weighted avg       0.72      0.67      0.69       333\n",
            "\n",
            "model accuracy: 0.66967\n",
            "balanced accuracy rate: 0.65959\n",
            "30 62\n",
            "161 271\n",
            "Zemel fairness:  0.889775026782526\n",
            "Disparate Impact:  0.814466038869966\n",
            "----------------------\n",
            "30 62\n",
            "161 271\n",
            "Fitting 5 folds for each of 9 candidates, totalling 45 fits\n"
          ],
          "name": "stdout"
        },
        {
          "output_type": "stream",
          "text": [
            "[Parallel(n_jobs=-1)]: Done  45 out of  45 | elapsed:    0.2s finished\n",
            "/usr/local/lib/python3.7/dist-packages/sklearn/svm/_base.py:947: ConvergenceWarning: Liblinear failed to converge, increase the number of iterations.\n",
            "  \"the number of iterations.\", ConvergenceWarning)\n",
            "[Parallel(n_jobs=-1)]: Using backend LokyBackend with 2 concurrent workers.\n"
          ],
          "name": "stderr"
        },
        {
          "output_type": "stream",
          "text": [
            "svc best estimator: LinearSVC(C=5, class_weight='balanced', dual=True, fit_intercept=True,\n",
            "          intercept_scaling=1, loss='hinge', max_iter=1000, multi_class='ovr',\n",
            "          penalty='l2', random_state=0, tol=0.0001, verbose=0)\n",
            "              precision    recall  f1-score   support\n",
            "\n",
            "           1       0.82      0.68      0.74       242\n",
            "           2       0.41      0.59      0.48        91\n",
            "\n",
            "    accuracy                           0.65       333\n",
            "   macro avg       0.61      0.64      0.61       333\n",
            "weighted avg       0.70      0.65      0.67       333\n",
            "\n",
            "model accuracy: 0.65465\n",
            "balanced accuracy rate: 0.63555\n",
            "30 59\n",
            "175 274\n",
            "Zemel fairness:  0.869788444884325\n",
            "Disparate Impact:  0.7961259079903147\n",
            "----------------------\n",
            "30 59\n",
            "175 274\n",
            "Fitting 5 folds for each of 9 candidates, totalling 45 fits\n"
          ],
          "name": "stdout"
        },
        {
          "output_type": "stream",
          "text": [
            "[Parallel(n_jobs=-1)]: Done  45 out of  45 | elapsed:    0.2s finished\n",
            "[Parallel(n_jobs=-1)]: Using backend LokyBackend with 2 concurrent workers.\n"
          ],
          "name": "stderr"
        },
        {
          "output_type": "stream",
          "text": [
            "svc best estimator: LinearSVC(C=0.1, class_weight='balanced', dual=True, fit_intercept=True,\n",
            "          intercept_scaling=1, loss='hinge', max_iter=1000, multi_class='ovr',\n",
            "          penalty='l2', random_state=0, tol=0.0001, verbose=0)\n",
            "              precision    recall  f1-score   support\n",
            "\n",
            "           1       0.84      0.68      0.75       242\n",
            "           2       0.44      0.66      0.53        91\n",
            "\n",
            "    accuracy                           0.68       333\n",
            "   macro avg       0.64      0.67      0.64       333\n",
            "weighted avg       0.73      0.68      0.69       333\n",
            "\n",
            "model accuracy: 0.67568\n",
            "balanced accuracy rate: 0.67058\n",
            "31 62\n",
            "161 271\n",
            "Zemel fairness:  0.9059040590405905\n",
            "Disparate Impact:  0.8416149068322982\n",
            "----------------------\n",
            "31 62\n",
            "161 271\n",
            "Fitting 5 folds for each of 9 candidates, totalling 45 fits\n"
          ],
          "name": "stdout"
        },
        {
          "output_type": "stream",
          "text": [
            "[Parallel(n_jobs=-1)]: Done  45 out of  45 | elapsed:    0.2s finished\n",
            "/usr/local/lib/python3.7/dist-packages/sklearn/svm/_base.py:947: ConvergenceWarning: Liblinear failed to converge, increase the number of iterations.\n",
            "  \"the number of iterations.\", ConvergenceWarning)\n",
            "[Parallel(n_jobs=-1)]: Using backend LokyBackend with 2 concurrent workers.\n"
          ],
          "name": "stderr"
        },
        {
          "output_type": "stream",
          "text": [
            "svc best estimator: LinearSVC(C=1, class_weight='balanced', dual=True, fit_intercept=True,\n",
            "          intercept_scaling=1, loss='hinge', max_iter=1000, multi_class='ovr',\n",
            "          penalty='l2', random_state=0, tol=0.0001, verbose=0)\n",
            "              precision    recall  f1-score   support\n",
            "\n",
            "           1       0.82      0.64      0.72       242\n",
            "           2       0.39      0.62      0.48        91\n",
            "\n",
            "    accuracy                           0.64       333\n",
            "   macro avg       0.61      0.63      0.60       333\n",
            "weighted avg       0.70      0.64      0.66       333\n",
            "\n",
            "model accuracy: 0.63664\n",
            "balanced accuracy rate: 0.63001\n",
            "35 60\n",
            "150 273\n",
            "Zemel fairness:  1.0338827838827838\n",
            "Disparate Impact:  1.0616666666666665\n",
            "----------------------\n",
            "35 60\n",
            "150 273\n",
            "Fitting 5 folds for each of 9 candidates, totalling 45 fits\n"
          ],
          "name": "stdout"
        },
        {
          "output_type": "stream",
          "text": [
            "[Parallel(n_jobs=-1)]: Done  45 out of  45 | elapsed:    0.2s finished\n",
            "/usr/local/lib/python3.7/dist-packages/sklearn/svm/_base.py:947: ConvergenceWarning: Liblinear failed to converge, increase the number of iterations.\n",
            "  \"the number of iterations.\", ConvergenceWarning)\n",
            "[Parallel(n_jobs=-1)]: Using backend LokyBackend with 2 concurrent workers.\n"
          ],
          "name": "stderr"
        },
        {
          "output_type": "stream",
          "text": [
            "svc best estimator: LinearSVC(C=10, class_weight='balanced', dual=True, fit_intercept=True,\n",
            "          intercept_scaling=1, loss='hinge', max_iter=1000, multi_class='ovr',\n",
            "          penalty='l2', random_state=0, tol=0.0001, verbose=0)\n",
            "              precision    recall  f1-score   support\n",
            "\n",
            "           1       0.83      0.74      0.78       242\n",
            "           2       0.46      0.60      0.52        91\n",
            "\n",
            "    accuracy                           0.70       333\n",
            "   macro avg       0.65      0.67      0.65       333\n",
            "weighted avg       0.73      0.70      0.71       333\n",
            "\n",
            "model accuracy: 0.69970\n",
            "balanced accuracy rate: 0.66997\n",
            "38 71\n",
            "166 262\n",
            "Zemel fairness:  0.9016234813460918\n",
            "Disparate Impact:  0.8447310368233497\n",
            "----------------------\n",
            "38 71\n",
            "166 262\n",
            "Fitting 5 folds for each of 9 candidates, totalling 45 fits\n"
          ],
          "name": "stdout"
        },
        {
          "output_type": "stream",
          "text": [
            "[Parallel(n_jobs=-1)]: Done  45 out of  45 | elapsed:    0.2s finished\n",
            "/usr/local/lib/python3.7/dist-packages/sklearn/svm/_base.py:947: ConvergenceWarning: Liblinear failed to converge, increase the number of iterations.\n",
            "  \"the number of iterations.\", ConvergenceWarning)\n",
            "[Parallel(n_jobs=-1)]: Using backend LokyBackend with 2 concurrent workers.\n"
          ],
          "name": "stderr"
        },
        {
          "output_type": "stream",
          "text": [
            "svc best estimator: LinearSVC(C=5, class_weight='balanced', dual=True, fit_intercept=True,\n",
            "          intercept_scaling=1, loss='hinge', max_iter=1000, multi_class='ovr',\n",
            "          penalty='l2', random_state=0, tol=0.0001, verbose=0)\n",
            "              precision    recall  f1-score   support\n",
            "\n",
            "           1       0.84      0.68      0.75       242\n",
            "           2       0.44      0.66      0.53        91\n",
            "\n",
            "    accuracy                           0.68       333\n",
            "   macro avg       0.64      0.67      0.64       333\n",
            "weighted avg       0.73      0.68      0.69       333\n",
            "\n",
            "model accuracy: 0.67568\n",
            "balanced accuracy rate: 0.67058\n",
            "34 64\n",
            "156 269\n",
            "Zemel fairness:  0.9513243494423792\n",
            "Disparate Impact:  0.9160657051282052\n",
            "----------------------\n",
            "34 64\n",
            "156 269\n",
            "Fitting 5 folds for each of 9 candidates, totalling 45 fits\n"
          ],
          "name": "stdout"
        },
        {
          "output_type": "stream",
          "text": [
            "[Parallel(n_jobs=-1)]: Done  45 out of  45 | elapsed:    0.2s finished\n",
            "[Parallel(n_jobs=-1)]: Using backend LokyBackend with 2 concurrent workers.\n"
          ],
          "name": "stderr"
        },
        {
          "output_type": "stream",
          "text": [
            "svc best estimator: LinearSVC(C=0.1, class_weight='balanced', dual=True, fit_intercept=True,\n",
            "          intercept_scaling=1, loss='hinge', max_iter=1000, multi_class='ovr',\n",
            "          penalty='l2', random_state=0, tol=0.0001, verbose=0)\n",
            "              precision    recall  f1-score   support\n",
            "\n",
            "           1       0.82      0.67      0.74       242\n",
            "           2       0.41      0.62      0.49        91\n",
            "\n",
            "    accuracy                           0.65       333\n",
            "   macro avg       0.62      0.64      0.62       333\n",
            "weighted avg       0.71      0.65      0.67       333\n",
            "\n",
            "model accuracy: 0.65465\n",
            "balanced accuracy rate: 0.64240\n",
            "25 57\n",
            "164 276\n",
            "Zemel fairness:  0.8443935926773456\n",
            "Disparate Impact:  0.7381258023106547\n",
            "----------------------\n",
            "25 57\n",
            "164 276\n",
            "Fitting 5 folds for each of 9 candidates, totalling 45 fits\n"
          ],
          "name": "stdout"
        },
        {
          "output_type": "stream",
          "text": [
            "[Parallel(n_jobs=-1)]: Done  45 out of  45 | elapsed:    0.2s finished\n",
            "[Parallel(n_jobs=-1)]: Using backend LokyBackend with 2 concurrent workers.\n"
          ],
          "name": "stderr"
        },
        {
          "output_type": "stream",
          "text": [
            "svc best estimator: LinearSVC(C=0.001, class_weight='balanced', dual=True, fit_intercept=True,\n",
            "          intercept_scaling=1, loss='hinge', max_iter=1000, multi_class='ovr',\n",
            "          penalty='l2', random_state=0, tol=0.0001, verbose=0)\n",
            "              precision    recall  f1-score   support\n",
            "\n",
            "           1       0.89      0.63      0.74       243\n",
            "           2       0.44      0.80      0.57        90\n",
            "\n",
            "    accuracy                           0.68       333\n",
            "   macro avg       0.67      0.71      0.66       333\n",
            "weighted avg       0.77      0.68      0.69       333\n",
            "\n",
            "model accuracy: 0.67568\n",
            "balanced accuracy rate: 0.71481\n",
            "33 63\n",
            "138 270\n",
            "Zemel fairness:  1.0126984126984127\n",
            "Disparate Impact:  1.0248447204968945\n",
            "----------------------\n",
            "33 63\n",
            "138 270\n",
            "Fitting 5 folds for each of 9 candidates, totalling 45 fits\n"
          ],
          "name": "stdout"
        },
        {
          "output_type": "stream",
          "text": [
            "[Parallel(n_jobs=-1)]: Done  45 out of  45 | elapsed:    0.2s finished\n",
            "/usr/local/lib/python3.7/dist-packages/sklearn/svm/_base.py:947: ConvergenceWarning: Liblinear failed to converge, increase the number of iterations.\n",
            "  \"the number of iterations.\", ConvergenceWarning)\n",
            "[Parallel(n_jobs=-1)]: Using backend LokyBackend with 2 concurrent workers.\n"
          ],
          "name": "stderr"
        },
        {
          "output_type": "stream",
          "text": [
            "svc best estimator: LinearSVC(C=5, class_weight='balanced', dual=True, fit_intercept=True,\n",
            "          intercept_scaling=1, loss='hinge', max_iter=1000, multi_class='ovr',\n",
            "          penalty='l2', random_state=0, tol=0.0001, verbose=0)\n",
            "              precision    recall  f1-score   support\n",
            "\n",
            "           1       0.85      0.67      0.75       243\n",
            "           2       0.44      0.69      0.54        90\n",
            "\n",
            "    accuracy                           0.68       333\n",
            "   macro avg       0.65      0.68      0.65       333\n",
            "weighted avg       0.74      0.68      0.70       333\n",
            "\n",
            "model accuracy: 0.67868\n",
            "balanced accuracy rate: 0.68189\n",
            "30 66\n",
            "156 267\n",
            "Zemel fairness:  0.8702757916241062\n",
            "Disparate Impact:  0.7779720279720279\n",
            "----------------------\n",
            "30 66\n",
            "156 267\n",
            "Fitting 5 folds for each of 9 candidates, totalling 45 fits\n"
          ],
          "name": "stdout"
        },
        {
          "output_type": "stream",
          "text": [
            "[Parallel(n_jobs=-1)]: Done  45 out of  45 | elapsed:    0.2s finished\n",
            "/usr/local/lib/python3.7/dist-packages/sklearn/svm/_base.py:947: ConvergenceWarning: Liblinear failed to converge, increase the number of iterations.\n",
            "  \"the number of iterations.\", ConvergenceWarning)\n",
            "[Parallel(n_jobs=-1)]: Using backend LokyBackend with 2 concurrent workers.\n"
          ],
          "name": "stderr"
        },
        {
          "output_type": "stream",
          "text": [
            "svc best estimator: LinearSVC(C=5, class_weight='balanced', dual=True, fit_intercept=True,\n",
            "          intercept_scaling=1, loss='hinge', max_iter=1000, multi_class='ovr',\n",
            "          penalty='l2', random_state=0, tol=0.0001, verbose=0)\n",
            "              precision    recall  f1-score   support\n",
            "\n",
            "           1       0.83      0.69      0.75       243\n",
            "           2       0.42      0.62      0.50        90\n",
            "\n",
            "    accuracy                           0.67       333\n",
            "   macro avg       0.63      0.65      0.63       333\n",
            "weighted avg       0.72      0.67      0.69       333\n",
            "\n",
            "model accuracy: 0.66967\n",
            "balanced accuracy rate: 0.65473\n",
            "37 62\n",
            "151 271\n",
            "Zemel fairness:  1.0395786215926677\n",
            "Disparate Impact:  1.0710318308053834\n",
            "----------------------\n",
            "37 62\n",
            "151 271\n",
            "Fitting 5 folds for each of 9 candidates, totalling 45 fits\n"
          ],
          "name": "stdout"
        },
        {
          "output_type": "stream",
          "text": [
            "[Parallel(n_jobs=-1)]: Done  45 out of  45 | elapsed:    0.2s finished\n",
            "/usr/local/lib/python3.7/dist-packages/sklearn/svm/_base.py:947: ConvergenceWarning: Liblinear failed to converge, increase the number of iterations.\n",
            "  \"the number of iterations.\", ConvergenceWarning)\n",
            "[Parallel(n_jobs=-1)]: Using backend LokyBackend with 2 concurrent workers.\n"
          ],
          "name": "stderr"
        },
        {
          "output_type": "stream",
          "text": [
            "svc best estimator: LinearSVC(C=5, class_weight='balanced', dual=True, fit_intercept=True,\n",
            "          intercept_scaling=1, loss='hinge', max_iter=1000, multi_class='ovr',\n",
            "          penalty='l2', random_state=0, tol=0.0001, verbose=0)\n",
            "              precision    recall  f1-score   support\n",
            "\n",
            "           1       0.85      0.68      0.76       243\n",
            "           2       0.44      0.68      0.54        90\n",
            "\n",
            "    accuracy                           0.68       333\n",
            "   macro avg       0.65      0.68      0.65       333\n",
            "weighted avg       0.74      0.68      0.70       333\n",
            "\n",
            "model accuracy: 0.68168\n",
            "balanced accuracy rate: 0.68045\n",
            "34 57\n",
            "156 276\n",
            "Zemel fairness:  1.0312738367658276\n",
            "Disparate Impact:  1.0553306342780027\n",
            "----------------------\n",
            "34 57\n",
            "156 276\n",
            "Fitting 5 folds for each of 9 candidates, totalling 45 fits\n"
          ],
          "name": "stdout"
        },
        {
          "output_type": "stream",
          "text": [
            "[Parallel(n_jobs=-1)]: Done  45 out of  45 | elapsed:    0.2s finished\n",
            "[Parallel(n_jobs=-1)]: Using backend LokyBackend with 2 concurrent workers.\n"
          ],
          "name": "stderr"
        },
        {
          "output_type": "stream",
          "text": [
            "svc best estimator: LinearSVC(C=0.01, class_weight='balanced', dual=True, fit_intercept=True,\n",
            "          intercept_scaling=1, loss='hinge', max_iter=1000, multi_class='ovr',\n",
            "          penalty='l2', random_state=0, tol=0.0001, verbose=0)\n",
            "              precision    recall  f1-score   support\n",
            "\n",
            "           1       0.84      0.60      0.70       243\n",
            "           2       0.39      0.68      0.49        90\n",
            "\n",
            "    accuracy                           0.62       333\n",
            "   macro avg       0.61      0.64      0.60       333\n",
            "weighted avg       0.71      0.62      0.65       333\n",
            "\n",
            "model accuracy: 0.62462\n",
            "balanced accuracy rate: 0.64136\n",
            "29 64\n",
            "149 269\n",
            "Zemel fairness:  0.8992216542750929\n",
            "Disparate Impact:  0.8180578859060402\n",
            "----------------------\n",
            "29 64\n",
            "149 269\n",
            "Fitting 5 folds for each of 9 candidates, totalling 45 fits\n"
          ],
          "name": "stdout"
        },
        {
          "output_type": "stream",
          "text": [
            "[Parallel(n_jobs=-1)]: Done  45 out of  45 | elapsed:    0.2s finished\n",
            "[Parallel(n_jobs=-1)]: Using backend LokyBackend with 2 concurrent workers.\n"
          ],
          "name": "stderr"
        },
        {
          "output_type": "stream",
          "text": [
            "svc best estimator: LinearSVC(C=0.005, class_weight='balanced', dual=True, fit_intercept=True,\n",
            "          intercept_scaling=1, loss='hinge', max_iter=1000, multi_class='ovr',\n",
            "          penalty='l2', random_state=0, tol=0.0001, verbose=0)\n",
            "              precision    recall  f1-score   support\n",
            "\n",
            "           1       0.86      0.66      0.75       243\n",
            "           2       0.44      0.71      0.54        90\n",
            "\n",
            "    accuracy                           0.67       333\n",
            "   macro avg       0.65      0.68      0.64       333\n",
            "weighted avg       0.75      0.67      0.69       333\n",
            "\n",
            "model accuracy: 0.67267\n",
            "balanced accuracy rate: 0.68477\n",
            "33 69\n",
            "152 264\n",
            "Zemel fairness:  0.9025032938076416\n",
            "Disparate Impact:  0.8306636155606407\n",
            "----------------------\n",
            "33 69\n",
            "152 264\n",
            "Fitting 5 folds for each of 9 candidates, totalling 45 fits\n"
          ],
          "name": "stdout"
        },
        {
          "output_type": "stream",
          "text": [
            "[Parallel(n_jobs=-1)]: Done  45 out of  45 | elapsed:    0.2s finished\n",
            "/usr/local/lib/python3.7/dist-packages/sklearn/svm/_base.py:947: ConvergenceWarning: Liblinear failed to converge, increase the number of iterations.\n",
            "  \"the number of iterations.\", ConvergenceWarning)\n",
            "[Parallel(n_jobs=-1)]: Using backend LokyBackend with 2 concurrent workers.\n"
          ],
          "name": "stderr"
        },
        {
          "output_type": "stream",
          "text": [
            "svc best estimator: LinearSVC(C=5, class_weight='balanced', dual=True, fit_intercept=True,\n",
            "          intercept_scaling=1, loss='hinge', max_iter=1000, multi_class='ovr',\n",
            "          penalty='l2', random_state=0, tol=0.0001, verbose=0)\n",
            "              precision    recall  f1-score   support\n",
            "\n",
            "           1       0.84      0.68      0.75       243\n",
            "           2       0.43      0.66      0.52        90\n",
            "\n",
            "    accuracy                           0.67       333\n",
            "   macro avg       0.64      0.67      0.64       333\n",
            "weighted avg       0.73      0.67      0.69       333\n",
            "\n",
            "model accuracy: 0.67267\n",
            "balanced accuracy rate: 0.66728\n",
            "31 54\n",
            "165 279\n",
            "Zemel fairness:  0.9826762246117084\n",
            "Disparate Impact:  0.9707070707070706\n",
            "----------------------\n",
            "31 54\n",
            "165 279\n",
            "Fitting 5 folds for each of 9 candidates, totalling 45 fits\n"
          ],
          "name": "stdout"
        },
        {
          "output_type": "stream",
          "text": [
            "[Parallel(n_jobs=-1)]: Done  45 out of  45 | elapsed:    0.2s finished\n",
            "/usr/local/lib/python3.7/dist-packages/sklearn/svm/_base.py:947: ConvergenceWarning: Liblinear failed to converge, increase the number of iterations.\n",
            "  \"the number of iterations.\", ConvergenceWarning)\n",
            "[Parallel(n_jobs=-1)]: Using backend LokyBackend with 2 concurrent workers.\n"
          ],
          "name": "stderr"
        },
        {
          "output_type": "stream",
          "text": [
            "svc best estimator: LinearSVC(C=1, class_weight='balanced', dual=True, fit_intercept=True,\n",
            "          intercept_scaling=1, loss='hinge', max_iter=1000, multi_class='ovr',\n",
            "          penalty='l2', random_state=0, tol=0.0001, verbose=0)\n",
            "              precision    recall  f1-score   support\n",
            "\n",
            "           1       0.85      0.66      0.75       243\n",
            "           2       0.43      0.69      0.53        90\n",
            "\n",
            "    accuracy                           0.67       333\n",
            "   macro avg       0.64      0.68      0.64       333\n",
            "weighted avg       0.74      0.67      0.69       333\n",
            "\n",
            "model accuracy: 0.66967\n",
            "balanced accuracy rate: 0.67572\n",
            "31 69\n",
            "152 264\n",
            "Zemel fairness:  0.8735177865612648\n",
            "Disparate Impact:  0.780320366132723\n",
            "----------------------\n",
            "31 69\n",
            "152 264\n",
            "Fitting 5 folds for each of 9 candidates, totalling 45 fits\n"
          ],
          "name": "stdout"
        },
        {
          "output_type": "stream",
          "text": [
            "[Parallel(n_jobs=-1)]: Done  45 out of  45 | elapsed:    0.2s finished\n",
            "/usr/local/lib/python3.7/dist-packages/sklearn/svm/_base.py:947: ConvergenceWarning: Liblinear failed to converge, increase the number of iterations.\n",
            "  \"the number of iterations.\", ConvergenceWarning)\n",
            "[Parallel(n_jobs=-1)]: Using backend LokyBackend with 2 concurrent workers.\n"
          ],
          "name": "stderr"
        },
        {
          "output_type": "stream",
          "text": [
            "svc best estimator: LinearSVC(C=10, class_weight='balanced', dual=True, fit_intercept=True,\n",
            "          intercept_scaling=1, loss='hinge', max_iter=1000, multi_class='ovr',\n",
            "          penalty='l2', random_state=0, tol=0.0001, verbose=0)\n",
            "              precision    recall  f1-score   support\n",
            "\n",
            "           1       0.87      0.68      0.77       243\n",
            "           2       0.46      0.73      0.57        90\n",
            "\n",
            "    accuracy                           0.70       333\n",
            "   macro avg       0.67      0.71      0.67       333\n",
            "weighted avg       0.76      0.70      0.71       333\n",
            "\n",
            "model accuracy: 0.69670\n",
            "balanced accuracy rate: 0.70823\n",
            "20 51\n",
            "167 282\n",
            "Zemel fairness:  0.7999582811848143\n",
            "Disparate Impact:  0.6622050017611835\n",
            "----------------------\n",
            "20 51\n",
            "167 282\n",
            "Fitting 5 folds for each of 9 candidates, totalling 45 fits\n"
          ],
          "name": "stdout"
        },
        {
          "output_type": "stream",
          "text": [
            "[Parallel(n_jobs=-1)]: Done  45 out of  45 | elapsed:    0.2s finished\n",
            "[Parallel(n_jobs=-1)]: Using backend LokyBackend with 2 concurrent workers.\n"
          ],
          "name": "stderr"
        },
        {
          "output_type": "stream",
          "text": [
            "svc best estimator: LinearSVC(C=0.1, class_weight='balanced', dual=True, fit_intercept=True,\n",
            "          intercept_scaling=1, loss='hinge', max_iter=1000, multi_class='ovr',\n",
            "          penalty='l2', random_state=0, tol=0.0001, verbose=0)\n",
            "              precision    recall  f1-score   support\n",
            "\n",
            "           1       0.83      0.64      0.72       243\n",
            "           2       0.40      0.64      0.49        90\n",
            "\n",
            "    accuracy                           0.64       333\n",
            "   macro avg       0.61      0.64      0.61       333\n",
            "weighted avg       0.71      0.64      0.66       333\n",
            "\n",
            "model accuracy: 0.63964\n",
            "balanced accuracy rate: 0.64115\n",
            "24 58\n",
            "168 275\n",
            "Zemel fairness:  0.802884012539185\n",
            "Disparate Impact:  0.6773399014778324\n",
            "----------------------\n",
            "24 58\n",
            "168 275\n",
            "Fitting 5 folds for each of 9 candidates, totalling 45 fits\n"
          ],
          "name": "stdout"
        },
        {
          "output_type": "stream",
          "text": [
            "[Parallel(n_jobs=-1)]: Done  45 out of  45 | elapsed:    0.2s finished\n",
            "/usr/local/lib/python3.7/dist-packages/sklearn/svm/_base.py:947: ConvergenceWarning: Liblinear failed to converge, increase the number of iterations.\n",
            "  \"the number of iterations.\", ConvergenceWarning)\n",
            "[Parallel(n_jobs=-1)]: Using backend LokyBackend with 2 concurrent workers.\n"
          ],
          "name": "stderr"
        },
        {
          "output_type": "stream",
          "text": [
            "svc best estimator: LinearSVC(C=10, class_weight='balanced', dual=True, fit_intercept=True,\n",
            "          intercept_scaling=1, loss='hinge', max_iter=1000, multi_class='ovr',\n",
            "          penalty='l2', random_state=0, tol=0.0001, verbose=0)\n",
            "              precision    recall  f1-score   support\n",
            "\n",
            "           1       0.85      0.62      0.72       242\n",
            "           2       0.41      0.71      0.52        91\n",
            "\n",
            "    accuracy                           0.65       333\n",
            "   macro avg       0.63      0.67      0.62       333\n",
            "weighted avg       0.73      0.65      0.66       333\n",
            "\n",
            "model accuracy: 0.64565\n",
            "balanced accuracy rate: 0.66706\n",
            "35 62\n",
            "144 271\n",
            "Zemel fairness:  1.0331508153791216\n",
            "Disparate Impact:  1.0623879928315412\n",
            "----------------------\n",
            "35 62\n",
            "144 271\n",
            "Fitting 5 folds for each of 9 candidates, totalling 45 fits\n"
          ],
          "name": "stdout"
        },
        {
          "output_type": "stream",
          "text": [
            "[Parallel(n_jobs=-1)]: Done  45 out of  45 | elapsed:    0.2s finished\n",
            "/usr/local/lib/python3.7/dist-packages/sklearn/svm/_base.py:947: ConvergenceWarning: Liblinear failed to converge, increase the number of iterations.\n",
            "  \"the number of iterations.\", ConvergenceWarning)\n",
            "[Parallel(n_jobs=-1)]: Using backend LokyBackend with 2 concurrent workers.\n"
          ],
          "name": "stderr"
        },
        {
          "output_type": "stream",
          "text": [
            "svc best estimator: LinearSVC(C=10, class_weight='balanced', dual=True, fit_intercept=True,\n",
            "          intercept_scaling=1, loss='hinge', max_iter=1000, multi_class='ovr',\n",
            "          penalty='l2', random_state=0, tol=0.0001, verbose=0)\n",
            "              precision    recall  f1-score   support\n",
            "\n",
            "           1       0.85      0.67      0.75       242\n",
            "           2       0.44      0.69      0.54        91\n",
            "\n",
            "    accuracy                           0.68       333\n",
            "   macro avg       0.65      0.68      0.64       333\n",
            "weighted avg       0.74      0.68      0.69       333\n",
            "\n",
            "model accuracy: 0.67568\n",
            "balanced accuracy rate: 0.68086\n",
            "36 63\n",
            "160 270\n",
            "Zemel fairness:  0.9788359788359788\n",
            "Disparate Impact:  0.9642857142857143\n",
            "----------------------\n",
            "36 63\n",
            "160 270\n",
            "Fitting 5 folds for each of 9 candidates, totalling 45 fits\n"
          ],
          "name": "stdout"
        },
        {
          "output_type": "stream",
          "text": [
            "[Parallel(n_jobs=-1)]: Done  45 out of  45 | elapsed:    0.2s finished\n",
            "[Parallel(n_jobs=-1)]: Using backend LokyBackend with 2 concurrent workers.\n"
          ],
          "name": "stderr"
        },
        {
          "output_type": "stream",
          "text": [
            "svc best estimator: LinearSVC(C=0.001, class_weight='balanced', dual=True, fit_intercept=True,\n",
            "          intercept_scaling=1, loss='hinge', max_iter=1000, multi_class='ovr',\n",
            "          penalty='l2', random_state=0, tol=0.0001, verbose=0)\n",
            "              precision    recall  f1-score   support\n",
            "\n",
            "           1       0.87      0.71      0.78       242\n",
            "           2       0.48      0.73      0.58        91\n",
            "\n",
            "    accuracy                           0.71       333\n",
            "   macro avg       0.68      0.72      0.68       333\n",
            "weighted avg       0.77      0.71      0.73       333\n",
            "\n",
            "model accuracy: 0.71171\n",
            "balanced accuracy rate: 0.71594\n",
            "34 64\n",
            "148 269\n",
            "Zemel fairness:  0.981064126394052\n",
            "Disparate Impact:  0.9655827702702703\n",
            "----------------------\n",
            "34 64\n",
            "148 269\n",
            "Fitting 5 folds for each of 9 candidates, totalling 45 fits\n"
          ],
          "name": "stdout"
        },
        {
          "output_type": "stream",
          "text": [
            "[Parallel(n_jobs=-1)]: Done  45 out of  45 | elapsed:    0.2s finished\n",
            "/usr/local/lib/python3.7/dist-packages/sklearn/svm/_base.py:947: ConvergenceWarning: Liblinear failed to converge, increase the number of iterations.\n",
            "  \"the number of iterations.\", ConvergenceWarning)\n",
            "[Parallel(n_jobs=-1)]: Using backend LokyBackend with 2 concurrent workers.\n"
          ],
          "name": "stderr"
        },
        {
          "output_type": "stream",
          "text": [
            "svc best estimator: LinearSVC(C=10, class_weight='balanced', dual=True, fit_intercept=True,\n",
            "          intercept_scaling=1, loss='hinge', max_iter=1000, multi_class='ovr',\n",
            "          penalty='l2', random_state=0, tol=0.0001, verbose=0)\n",
            "              precision    recall  f1-score   support\n",
            "\n",
            "           1       0.84      0.68      0.75       242\n",
            "           2       0.43      0.65      0.52        91\n",
            "\n",
            "    accuracy                           0.67       333\n",
            "   macro avg       0.64      0.67      0.64       333\n",
            "weighted avg       0.73      0.67      0.69       333\n",
            "\n",
            "model accuracy: 0.67267\n",
            "balanced accuracy rate: 0.66508\n",
            "30 62\n",
            "157 271\n",
            "Zemel fairness:  0.9045351743840019\n",
            "Disparate Impact:  0.8352167659749332\n",
            "----------------------\n",
            "30 62\n",
            "157 271\n",
            "Fitting 5 folds for each of 9 candidates, totalling 45 fits\n"
          ],
          "name": "stdout"
        },
        {
          "output_type": "stream",
          "text": [
            "[Parallel(n_jobs=-1)]: Done  45 out of  45 | elapsed:    0.2s finished\n",
            "[Parallel(n_jobs=-1)]: Using backend LokyBackend with 2 concurrent workers.\n"
          ],
          "name": "stderr"
        },
        {
          "output_type": "stream",
          "text": [
            "svc best estimator: LinearSVC(C=0.1, class_weight='balanced', dual=True, fit_intercept=True,\n",
            "          intercept_scaling=1, loss='hinge', max_iter=1000, multi_class='ovr',\n",
            "          penalty='l2', random_state=0, tol=0.0001, verbose=0)\n",
            "              precision    recall  f1-score   support\n",
            "\n",
            "           1       0.81      0.69      0.74       242\n",
            "           2       0.40      0.56      0.47        91\n",
            "\n",
            "    accuracy                           0.65       333\n",
            "   macro avg       0.60      0.62      0.60       333\n",
            "weighted avg       0.70      0.65      0.67       333\n",
            "\n",
            "model accuracy: 0.65165\n",
            "balanced accuracy rate: 0.62319\n",
            "30 59\n",
            "174 274\n",
            "Zemel fairness:  0.8734380799208215\n",
            "Disparate Impact:  0.8007013442431327\n",
            "----------------------\n",
            "30 59\n",
            "174 274\n",
            "Fitting 5 folds for each of 9 candidates, totalling 45 fits\n"
          ],
          "name": "stdout"
        },
        {
          "output_type": "stream",
          "text": [
            "[Parallel(n_jobs=-1)]: Done  45 out of  45 | elapsed:    0.2s finished\n",
            "/usr/local/lib/python3.7/dist-packages/sklearn/svm/_base.py:947: ConvergenceWarning: Liblinear failed to converge, increase the number of iterations.\n",
            "  \"the number of iterations.\", ConvergenceWarning)\n",
            "[Parallel(n_jobs=-1)]: Using backend LokyBackend with 2 concurrent workers.\n"
          ],
          "name": "stderr"
        },
        {
          "output_type": "stream",
          "text": [
            "svc best estimator: LinearSVC(C=0.5, class_weight='balanced', dual=True, fit_intercept=True,\n",
            "          intercept_scaling=1, loss='hinge', max_iter=1000, multi_class='ovr',\n",
            "          penalty='l2', random_state=0, tol=0.0001, verbose=0)\n",
            "              precision    recall  f1-score   support\n",
            "\n",
            "           1       0.84      0.67      0.75       242\n",
            "           2       0.44      0.67      0.53        91\n",
            "\n",
            "    accuracy                           0.67       333\n",
            "   macro avg       0.64      0.67      0.64       333\n",
            "weighted avg       0.73      0.67      0.69       333\n",
            "\n",
            "model accuracy: 0.67267\n",
            "balanced accuracy rate: 0.67194\n",
            "31 62\n",
            "158 271\n",
            "Zemel fairness:  0.9169741697416974\n",
            "Disparate Impact:  0.8575949367088608\n",
            "----------------------\n",
            "31 62\n",
            "158 271\n",
            "Fitting 5 folds for each of 9 candidates, totalling 45 fits\n"
          ],
          "name": "stdout"
        },
        {
          "output_type": "stream",
          "text": [
            "[Parallel(n_jobs=-1)]: Done  45 out of  45 | elapsed:    0.2s finished\n",
            "/usr/local/lib/python3.7/dist-packages/sklearn/svm/_base.py:947: ConvergenceWarning: Liblinear failed to converge, increase the number of iterations.\n",
            "  \"the number of iterations.\", ConvergenceWarning)\n",
            "[Parallel(n_jobs=-1)]: Using backend LokyBackend with 2 concurrent workers.\n"
          ],
          "name": "stderr"
        },
        {
          "output_type": "stream",
          "text": [
            "svc best estimator: LinearSVC(C=0.5, class_weight='balanced', dual=True, fit_intercept=True,\n",
            "          intercept_scaling=1, loss='hinge', max_iter=1000, multi_class='ovr',\n",
            "          penalty='l2', random_state=0, tol=0.0001, verbose=0)\n",
            "              precision    recall  f1-score   support\n",
            "\n",
            "           1       0.81      0.65      0.72       242\n",
            "           2       0.40      0.60      0.48        91\n",
            "\n",
            "    accuracy                           0.64       333\n",
            "   macro avg       0.61      0.63      0.60       333\n",
            "weighted avg       0.70      0.64      0.66       333\n",
            "\n",
            "model accuracy: 0.63964\n",
            "balanced accuracy rate: 0.62864\n",
            "36 60\n",
            "151 273\n",
            "Zemel fairness:  1.0468864468864467\n",
            "Disparate Impact:  1.0847682119205297\n",
            "----------------------\n",
            "36 60\n",
            "151 273\n",
            "Fitting 5 folds for each of 9 candidates, totalling 45 fits\n"
          ],
          "name": "stdout"
        },
        {
          "output_type": "stream",
          "text": [
            "[Parallel(n_jobs=-1)]: Done  45 out of  45 | elapsed:    0.2s finished\n",
            "[Parallel(n_jobs=-1)]: Using backend LokyBackend with 2 concurrent workers.\n"
          ],
          "name": "stderr"
        },
        {
          "output_type": "stream",
          "text": [
            "svc best estimator: LinearSVC(C=0.1, class_weight='balanced', dual=True, fit_intercept=True,\n",
            "          intercept_scaling=1, loss='hinge', max_iter=1000, multi_class='ovr',\n",
            "          penalty='l2', random_state=0, tol=0.0001, verbose=0)\n",
            "              precision    recall  f1-score   support\n",
            "\n",
            "           1       0.83      0.76      0.79       242\n",
            "           2       0.47      0.58      0.52        91\n",
            "\n",
            "    accuracy                           0.71       333\n",
            "   macro avg       0.65      0.67      0.66       333\n",
            "weighted avg       0.73      0.71      0.72       333\n",
            "\n",
            "model accuracy: 0.70871\n",
            "balanced accuracy rate: 0.66931\n",
            "40 71\n",
            "170 262\n",
            "Zemel fairness:  0.9145253198580798\n",
            "Disparate Impact:  0.8682684341342172\n",
            "----------------------\n",
            "40 71\n",
            "170 262\n",
            "Fitting 5 folds for each of 9 candidates, totalling 45 fits\n"
          ],
          "name": "stdout"
        },
        {
          "output_type": "stream",
          "text": [
            "[Parallel(n_jobs=-1)]: Done  45 out of  45 | elapsed:    0.2s finished\n",
            "/usr/local/lib/python3.7/dist-packages/sklearn/svm/_base.py:947: ConvergenceWarning: Liblinear failed to converge, increase the number of iterations.\n",
            "  \"the number of iterations.\", ConvergenceWarning)\n",
            "[Parallel(n_jobs=-1)]: Using backend LokyBackend with 2 concurrent workers.\n"
          ],
          "name": "stderr"
        },
        {
          "output_type": "stream",
          "text": [
            "svc best estimator: LinearSVC(C=5, class_weight='balanced', dual=True, fit_intercept=True,\n",
            "          intercept_scaling=1, loss='hinge', max_iter=1000, multi_class='ovr',\n",
            "          penalty='l2', random_state=0, tol=0.0001, verbose=0)\n",
            "              precision    recall  f1-score   support\n",
            "\n",
            "           1       0.84      0.67      0.75       242\n",
            "           2       0.43      0.66      0.52        91\n",
            "\n",
            "    accuracy                           0.67       333\n",
            "   macro avg       0.64      0.67      0.63       333\n",
            "weighted avg       0.73      0.67      0.69       333\n",
            "\n",
            "model accuracy: 0.66967\n",
            "balanced accuracy rate: 0.66645\n",
            "34 64\n",
            "155 269\n",
            "Zemel fairness:  0.9550418215613383\n",
            "Disparate Impact:  0.9219758064516129\n",
            "----------------------\n",
            "34 64\n",
            "155 269\n",
            "Fitting 5 folds for each of 9 candidates, totalling 45 fits\n"
          ],
          "name": "stdout"
        },
        {
          "output_type": "stream",
          "text": [
            "[Parallel(n_jobs=-1)]: Done  45 out of  45 | elapsed:    0.2s finished\n",
            "/usr/local/lib/python3.7/dist-packages/sklearn/svm/_base.py:947: ConvergenceWarning: Liblinear failed to converge, increase the number of iterations.\n",
            "  \"the number of iterations.\", ConvergenceWarning)\n",
            "[Parallel(n_jobs=-1)]: Using backend LokyBackend with 2 concurrent workers.\n"
          ],
          "name": "stderr"
        },
        {
          "output_type": "stream",
          "text": [
            "svc best estimator: LinearSVC(C=0.1, class_weight='balanced', dual=True, fit_intercept=True,\n",
            "          intercept_scaling=1, loss='hinge', max_iter=1000, multi_class='ovr',\n",
            "          penalty='l2', random_state=0, tol=0.0001, verbose=0)\n",
            "              precision    recall  f1-score   support\n",
            "\n",
            "           1       0.82      0.67      0.74       242\n",
            "           2       0.41      0.62      0.49        91\n",
            "\n",
            "    accuracy                           0.65       333\n",
            "   macro avg       0.62      0.64      0.62       333\n",
            "weighted avg       0.71      0.65      0.67       333\n",
            "\n",
            "model accuracy: 0.65465\n",
            "balanced accuracy rate: 0.64240\n",
            "25 57\n",
            "163 276\n",
            "Zemel fairness:  0.8480167810831427\n",
            "Disparate Impact:  0.7426541814659348\n",
            "----------------------\n",
            "25 57\n",
            "163 276\n",
            "Fitting 5 folds for each of 9 candidates, totalling 45 fits\n"
          ],
          "name": "stdout"
        },
        {
          "output_type": "stream",
          "text": [
            "[Parallel(n_jobs=-1)]: Done  45 out of  45 | elapsed:    0.2s finished\n",
            "[Parallel(n_jobs=-1)]: Using backend LokyBackend with 2 concurrent workers.\n"
          ],
          "name": "stderr"
        },
        {
          "output_type": "stream",
          "text": [
            "svc best estimator: LinearSVC(C=0.05, class_weight='balanced', dual=True, fit_intercept=True,\n",
            "          intercept_scaling=1, loss='hinge', max_iter=1000, multi_class='ovr',\n",
            "          penalty='l2', random_state=0, tol=0.0001, verbose=0)\n",
            "              precision    recall  f1-score   support\n",
            "\n",
            "           1       0.88      0.63      0.73       243\n",
            "           2       0.43      0.77      0.55        90\n",
            "\n",
            "    accuracy                           0.66       333\n",
            "   macro avg       0.65      0.70      0.64       333\n",
            "weighted avg       0.76      0.66      0.68       333\n",
            "\n",
            "model accuracy: 0.66366\n",
            "balanced accuracy rate: 0.69609\n",
            "36 63\n",
            "137 270\n",
            "Zemel fairness:  1.064021164021164\n",
            "Disparate Impact:  1.1261730969760166\n",
            "----------------------\n",
            "36 63\n",
            "137 270\n",
            "Fitting 5 folds for each of 9 candidates, totalling 45 fits\n"
          ],
          "name": "stdout"
        },
        {
          "output_type": "stream",
          "text": [
            "[Parallel(n_jobs=-1)]: Done  45 out of  45 | elapsed:    0.2s finished\n",
            "[Parallel(n_jobs=-1)]: Using backend LokyBackend with 2 concurrent workers.\n"
          ],
          "name": "stderr"
        },
        {
          "output_type": "stream",
          "text": [
            "svc best estimator: LinearSVC(C=0.05, class_weight='balanced', dual=True, fit_intercept=True,\n",
            "          intercept_scaling=1, loss='hinge', max_iter=1000, multi_class='ovr',\n",
            "          penalty='l2', random_state=0, tol=0.0001, verbose=0)\n",
            "              precision    recall  f1-score   support\n",
            "\n",
            "           1       0.85      0.65      0.74       243\n",
            "           2       0.43      0.70      0.53        90\n",
            "\n",
            "    accuracy                           0.66       333\n",
            "   macro avg       0.64      0.68      0.63       333\n",
            "weighted avg       0.74      0.66      0.68       333\n",
            "\n",
            "model accuracy: 0.66366\n",
            "balanced accuracy rate: 0.67510\n",
            "30 66\n",
            "150 267\n",
            "Zemel fairness:  0.8927477017364658\n",
            "Disparate Impact:  0.809090909090909\n",
            "----------------------\n",
            "30 66\n",
            "150 267\n",
            "Fitting 5 folds for each of 9 candidates, totalling 45 fits\n"
          ],
          "name": "stdout"
        },
        {
          "output_type": "stream",
          "text": [
            "[Parallel(n_jobs=-1)]: Done  45 out of  45 | elapsed:    0.2s finished\n",
            "/usr/local/lib/python3.7/dist-packages/sklearn/svm/_base.py:947: ConvergenceWarning: Liblinear failed to converge, increase the number of iterations.\n",
            "  \"the number of iterations.\", ConvergenceWarning)\n",
            "[Parallel(n_jobs=-1)]: Using backend LokyBackend with 2 concurrent workers.\n"
          ],
          "name": "stderr"
        },
        {
          "output_type": "stream",
          "text": [
            "svc best estimator: LinearSVC(C=10, class_weight='balanced', dual=True, fit_intercept=True,\n",
            "          intercept_scaling=1, loss='hinge', max_iter=1000, multi_class='ovr',\n",
            "          penalty='l2', random_state=0, tol=0.0001, verbose=0)\n",
            "              precision    recall  f1-score   support\n",
            "\n",
            "           1       0.82      0.71      0.76       243\n",
            "           2       0.43      0.59      0.50        90\n",
            "\n",
            "    accuracy                           0.68       333\n",
            "   macro avg       0.63      0.65      0.63       333\n",
            "weighted avg       0.72      0.68      0.69       333\n",
            "\n",
            "model accuracy: 0.67868\n",
            "balanced accuracy rate: 0.65041\n",
            "38 62\n",
            "153 271\n",
            "Zemel fairness:  1.048327580049994\n",
            "Disparate Impact:  1.0855998313303816\n",
            "----------------------\n",
            "38 62\n",
            "153 271\n",
            "Fitting 5 folds for each of 9 candidates, totalling 45 fits\n"
          ],
          "name": "stdout"
        },
        {
          "output_type": "stream",
          "text": [
            "[Parallel(n_jobs=-1)]: Done  45 out of  45 | elapsed:    0.2s finished\n",
            "/usr/local/lib/python3.7/dist-packages/sklearn/svm/_base.py:947: ConvergenceWarning: Liblinear failed to converge, increase the number of iterations.\n",
            "  \"the number of iterations.\", ConvergenceWarning)\n",
            "[Parallel(n_jobs=-1)]: Using backend LokyBackend with 2 concurrent workers.\n"
          ],
          "name": "stderr"
        },
        {
          "output_type": "stream",
          "text": [
            "svc best estimator: LinearSVC(C=5, class_weight='balanced', dual=True, fit_intercept=True,\n",
            "          intercept_scaling=1, loss='hinge', max_iter=1000, multi_class='ovr',\n",
            "          penalty='l2', random_state=0, tol=0.0001, verbose=0)\n",
            "              precision    recall  f1-score   support\n",
            "\n",
            "           1       0.86      0.69      0.76       243\n",
            "           2       0.45      0.70      0.55        90\n",
            "\n",
            "    accuracy                           0.69       333\n",
            "   macro avg       0.66      0.69      0.66       333\n",
            "weighted avg       0.75      0.69      0.71       333\n",
            "\n",
            "model accuracy: 0.69069\n",
            "balanced accuracy rate: 0.69362\n",
            "32 57\n",
            "154 276\n",
            "Zemel fairness:  1.0034324942791761\n",
            "Disparate Impact:  1.0061517429938482\n",
            "----------------------\n",
            "32 57\n",
            "154 276\n",
            "Fitting 5 folds for each of 9 candidates, totalling 45 fits\n"
          ],
          "name": "stdout"
        },
        {
          "output_type": "stream",
          "text": [
            "[Parallel(n_jobs=-1)]: Done  45 out of  45 | elapsed:    0.2s finished\n",
            "[Parallel(n_jobs=-1)]: Using backend LokyBackend with 2 concurrent workers.\n"
          ],
          "name": "stderr"
        },
        {
          "output_type": "stream",
          "text": [
            "svc best estimator: LinearSVC(C=0.1, class_weight='balanced', dual=True, fit_intercept=True,\n",
            "          intercept_scaling=1, loss='hinge', max_iter=1000, multi_class='ovr',\n",
            "          penalty='l2', random_state=0, tol=0.0001, verbose=0)\n",
            "              precision    recall  f1-score   support\n",
            "\n",
            "           1       0.84      0.67      0.75       243\n",
            "           2       0.43      0.67      0.52        90\n",
            "\n",
            "    accuracy                           0.67       333\n",
            "   macro avg       0.64      0.67      0.63       333\n",
            "weighted avg       0.73      0.67      0.69       333\n",
            "\n",
            "model accuracy: 0.66967\n",
            "balanced accuracy rate: 0.66872\n",
            "32 64\n",
            "163 269\n",
            "Zemel fairness:  0.8940520446096655\n",
            "Disparate Impact:  0.8251533742331288\n",
            "----------------------\n",
            "32 64\n",
            "163 269\n",
            "Fitting 5 folds for each of 9 candidates, totalling 45 fits\n"
          ],
          "name": "stdout"
        },
        {
          "output_type": "stream",
          "text": [
            "[Parallel(n_jobs=-1)]: Done  45 out of  45 | elapsed:    0.2s finished\n",
            "[Parallel(n_jobs=-1)]: Using backend LokyBackend with 2 concurrent workers.\n"
          ],
          "name": "stderr"
        },
        {
          "output_type": "stream",
          "text": [
            "svc best estimator: LinearSVC(C=0.005, class_weight='balanced', dual=True, fit_intercept=True,\n",
            "          intercept_scaling=1, loss='hinge', max_iter=1000, multi_class='ovr',\n",
            "          penalty='l2', random_state=0, tol=0.0001, verbose=0)\n",
            "              precision    recall  f1-score   support\n",
            "\n",
            "           1       0.85      0.65      0.74       243\n",
            "           2       0.43      0.70      0.53        90\n",
            "\n",
            "    accuracy                           0.66       333\n",
            "   macro avg       0.64      0.68      0.63       333\n",
            "weighted avg       0.74      0.66      0.68       333\n",
            "\n",
            "model accuracy: 0.66366\n",
            "balanced accuracy rate: 0.67510\n",
            "34 69\n",
            "149 264\n",
            "Zemel fairness:  0.9283596837944663\n",
            "Disparate Impact:  0.8730668222935511\n",
            "----------------------\n",
            "34 69\n",
            "149 264\n",
            "Fitting 5 folds for each of 9 candidates, totalling 45 fits\n"
          ],
          "name": "stdout"
        },
        {
          "output_type": "stream",
          "text": [
            "[Parallel(n_jobs=-1)]: Done  45 out of  45 | elapsed:    0.2s finished\n",
            "/usr/local/lib/python3.7/dist-packages/sklearn/svm/_base.py:947: ConvergenceWarning: Liblinear failed to converge, increase the number of iterations.\n",
            "  \"the number of iterations.\", ConvergenceWarning)\n",
            "[Parallel(n_jobs=-1)]: Using backend LokyBackend with 2 concurrent workers.\n"
          ],
          "name": "stderr"
        },
        {
          "output_type": "stream",
          "text": [
            "svc best estimator: LinearSVC(C=10, class_weight='balanced', dual=True, fit_intercept=True,\n",
            "          intercept_scaling=1, loss='hinge', max_iter=1000, multi_class='ovr',\n",
            "          penalty='l2', random_state=0, tol=0.0001, verbose=0)\n",
            "              precision    recall  f1-score   support\n",
            "\n",
            "           1       0.84      0.65      0.73       243\n",
            "           2       0.41      0.66      0.50        90\n",
            "\n",
            "    accuracy                           0.65       333\n",
            "   macro avg       0.62      0.65      0.62       333\n",
            "weighted avg       0.72      0.65      0.67       333\n",
            "\n",
            "model accuracy: 0.65165\n",
            "balanced accuracy rate: 0.65288\n",
            "31 54\n",
            "159 279\n",
            "Zemel fairness:  1.0041816009557945\n",
            "Disparate Impact:  1.0073375262054507\n",
            "----------------------\n",
            "31 54\n",
            "159 279\n",
            "Fitting 5 folds for each of 9 candidates, totalling 45 fits\n"
          ],
          "name": "stdout"
        },
        {
          "output_type": "stream",
          "text": [
            "[Parallel(n_jobs=-1)]: Done  45 out of  45 | elapsed:    0.2s finished\n",
            "/usr/local/lib/python3.7/dist-packages/sklearn/svm/_base.py:947: ConvergenceWarning: Liblinear failed to converge, increase the number of iterations.\n",
            "  \"the number of iterations.\", ConvergenceWarning)\n",
            "[Parallel(n_jobs=-1)]: Using backend LokyBackend with 2 concurrent workers.\n"
          ],
          "name": "stderr"
        },
        {
          "output_type": "stream",
          "text": [
            "svc best estimator: LinearSVC(C=0.5, class_weight='balanced', dual=True, fit_intercept=True,\n",
            "          intercept_scaling=1, loss='hinge', max_iter=1000, multi_class='ovr',\n",
            "          penalty='l2', random_state=0, tol=0.0001, verbose=0)\n",
            "              precision    recall  f1-score   support\n",
            "\n",
            "           1       0.85      0.64      0.73       243\n",
            "           2       0.42      0.69      0.52        90\n",
            "\n",
            "    accuracy                           0.65       333\n",
            "   macro avg       0.63      0.67      0.62       333\n",
            "weighted avg       0.73      0.65      0.67       333\n",
            "\n",
            "model accuracy: 0.65465\n",
            "balanced accuracy rate: 0.66543\n",
            "31 69\n",
            "150 264\n",
            "Zemel fairness:  0.8810935441370223\n",
            "Disparate Impact:  0.7907246376811593\n",
            "----------------------\n",
            "31 69\n",
            "150 264\n",
            "Fitting 5 folds for each of 9 candidates, totalling 45 fits\n"
          ],
          "name": "stdout"
        },
        {
          "output_type": "stream",
          "text": [
            "[Parallel(n_jobs=-1)]: Done  45 out of  45 | elapsed:    0.2s finished\n",
            "/usr/local/lib/python3.7/dist-packages/sklearn/svm/_base.py:947: ConvergenceWarning: Liblinear failed to converge, increase the number of iterations.\n",
            "  \"the number of iterations.\", ConvergenceWarning)\n",
            "[Parallel(n_jobs=-1)]: Using backend LokyBackend with 2 concurrent workers.\n"
          ],
          "name": "stderr"
        },
        {
          "output_type": "stream",
          "text": [
            "svc best estimator: LinearSVC(C=10, class_weight='balanced', dual=True, fit_intercept=True,\n",
            "          intercept_scaling=1, loss='hinge', max_iter=1000, multi_class='ovr',\n",
            "          penalty='l2', random_state=0, tol=0.0001, verbose=0)\n",
            "              precision    recall  f1-score   support\n",
            "\n",
            "           1       0.86      0.69      0.76       243\n",
            "           2       0.45      0.70      0.55        90\n",
            "\n",
            "    accuracy                           0.69       333\n",
            "   macro avg       0.66      0.69      0.66       333\n",
            "weighted avg       0.75      0.69      0.71       333\n",
            "\n",
            "model accuracy: 0.69069\n",
            "balanced accuracy rate: 0.69362\n",
            "21 51\n",
            "165 282\n",
            "Zemel fairness:  0.8266583229036295\n",
            "Disparate Impact:  0.7037433155080214\n",
            "----------------------\n",
            "21 51\n",
            "165 282\n",
            "Fitting 5 folds for each of 9 candidates, totalling 45 fits\n"
          ],
          "name": "stdout"
        },
        {
          "output_type": "stream",
          "text": [
            "[Parallel(n_jobs=-1)]: Done  45 out of  45 | elapsed:    0.2s finished\n",
            "/usr/local/lib/python3.7/dist-packages/sklearn/svm/_base.py:947: ConvergenceWarning: Liblinear failed to converge, increase the number of iterations.\n",
            "  \"the number of iterations.\", ConvergenceWarning)\n",
            "[Parallel(n_jobs=-1)]: Using backend LokyBackend with 2 concurrent workers.\n"
          ],
          "name": "stderr"
        },
        {
          "output_type": "stream",
          "text": [
            "svc best estimator: LinearSVC(C=10, class_weight='balanced', dual=True, fit_intercept=True,\n",
            "          intercept_scaling=1, loss='hinge', max_iter=1000, multi_class='ovr',\n",
            "          penalty='l2', random_state=0, tol=0.0001, verbose=0)\n",
            "              precision    recall  f1-score   support\n",
            "\n",
            "           1       0.85      0.65      0.74       243\n",
            "           2       0.42      0.68      0.52        90\n",
            "\n",
            "    accuracy                           0.66       333\n",
            "   macro avg       0.63      0.67      0.63       333\n",
            "weighted avg       0.73      0.66      0.68       333\n",
            "\n",
            "model accuracy: 0.66066\n",
            "balanced accuracy rate: 0.66605\n",
            "25 58\n",
            "175 275\n",
            "Zemel fairness:  0.7946708463949843\n",
            "Disparate Impact:  0.6773399014778325\n",
            "----------------------\n",
            "25 58\n",
            "175 275\n",
            "Fitting 5 folds for each of 9 candidates, totalling 45 fits\n"
          ],
          "name": "stdout"
        },
        {
          "output_type": "stream",
          "text": [
            "[Parallel(n_jobs=-1)]: Done  45 out of  45 | elapsed:    0.2s finished\n",
            "/usr/local/lib/python3.7/dist-packages/sklearn/svm/_base.py:947: ConvergenceWarning: Liblinear failed to converge, increase the number of iterations.\n",
            "  \"the number of iterations.\", ConvergenceWarning)\n",
            "[Parallel(n_jobs=-1)]: Using backend LokyBackend with 2 concurrent workers.\n"
          ],
          "name": "stderr"
        },
        {
          "output_type": "stream",
          "text": [
            "svc best estimator: LinearSVC(C=1, class_weight='balanced', dual=True, fit_intercept=True,\n",
            "          intercept_scaling=1, loss='hinge', max_iter=1000, multi_class='ovr',\n",
            "          penalty='l2', random_state=0, tol=0.0001, verbose=0)\n",
            "              precision    recall  f1-score   support\n",
            "\n",
            "           1       0.87      0.63      0.73       242\n",
            "           2       0.43      0.75      0.55        91\n",
            "\n",
            "    accuracy                           0.66       333\n",
            "   macro avg       0.65      0.69      0.64       333\n",
            "weighted avg       0.75      0.66      0.68       333\n",
            "\n",
            "model accuracy: 0.66366\n",
            "balanced accuracy rate: 0.68974\n",
            "37 62\n",
            "143 271\n",
            "Zemel fairness:  1.0690989167956197\n",
            "Disparate Impact:  1.1309496954658247\n",
            "----------------------\n",
            "37 62\n",
            "143 271\n",
            "Fitting 5 folds for each of 9 candidates, totalling 45 fits\n"
          ],
          "name": "stdout"
        },
        {
          "output_type": "stream",
          "text": [
            "[Parallel(n_jobs=-1)]: Done  45 out of  45 | elapsed:    0.2s finished\n",
            "/usr/local/lib/python3.7/dist-packages/sklearn/svm/_base.py:947: ConvergenceWarning: Liblinear failed to converge, increase the number of iterations.\n",
            "  \"the number of iterations.\", ConvergenceWarning)\n",
            "[Parallel(n_jobs=-1)]: Using backend LokyBackend with 2 concurrent workers.\n"
          ],
          "name": "stderr"
        },
        {
          "output_type": "stream",
          "text": [
            "svc best estimator: LinearSVC(C=0.5, class_weight='balanced', dual=True, fit_intercept=True,\n",
            "          intercept_scaling=1, loss='hinge', max_iter=1000, multi_class='ovr',\n",
            "          penalty='l2', random_state=0, tol=0.0001, verbose=0)\n",
            "              precision    recall  f1-score   support\n",
            "\n",
            "           1       0.85      0.67      0.75       242\n",
            "           2       0.44      0.69      0.54        91\n",
            "\n",
            "    accuracy                           0.68       333\n",
            "   macro avg       0.65      0.68      0.65       333\n",
            "weighted avg       0.74      0.68      0.69       333\n",
            "\n",
            "model accuracy: 0.67868\n",
            "balanced accuracy rate: 0.68293\n",
            "35 63\n",
            "160 270\n",
            "Zemel fairness:  0.962962962962963\n",
            "Disparate Impact:  0.9375000000000001\n",
            "----------------------\n",
            "35 63\n",
            "160 270\n",
            "Fitting 5 folds for each of 9 candidates, totalling 45 fits\n"
          ],
          "name": "stdout"
        },
        {
          "output_type": "stream",
          "text": [
            "[Parallel(n_jobs=-1)]: Done  45 out of  45 | elapsed:    0.2s finished\n",
            "[Parallel(n_jobs=-1)]: Using backend LokyBackend with 2 concurrent workers.\n"
          ],
          "name": "stderr"
        },
        {
          "output_type": "stream",
          "text": [
            "svc best estimator: LinearSVC(C=0.001, class_weight='balanced', dual=True, fit_intercept=True,\n",
            "          intercept_scaling=1, loss='hinge', max_iter=1000, multi_class='ovr',\n",
            "          penalty='l2', random_state=0, tol=0.0001, verbose=0)\n",
            "              precision    recall  f1-score   support\n",
            "\n",
            "           1       0.87      0.71      0.78       242\n",
            "           2       0.48      0.73      0.58        91\n",
            "\n",
            "    accuracy                           0.71       333\n",
            "   macro avg       0.68      0.72      0.68       333\n",
            "weighted avg       0.77      0.71      0.73       333\n",
            "\n",
            "model accuracy: 0.71171\n",
            "balanced accuracy rate: 0.71594\n",
            "34 64\n",
            "148 269\n",
            "Zemel fairness:  0.981064126394052\n",
            "Disparate Impact:  0.9655827702702703\n",
            "----------------------\n",
            "34 64\n",
            "148 269\n",
            "Fitting 5 folds for each of 9 candidates, totalling 45 fits\n"
          ],
          "name": "stdout"
        },
        {
          "output_type": "stream",
          "text": [
            "[Parallel(n_jobs=-1)]: Done  45 out of  45 | elapsed:    0.2s finished\n",
            "/usr/local/lib/python3.7/dist-packages/sklearn/svm/_base.py:947: ConvergenceWarning: Liblinear failed to converge, increase the number of iterations.\n",
            "  \"the number of iterations.\", ConvergenceWarning)\n",
            "[Parallel(n_jobs=-1)]: Using backend LokyBackend with 2 concurrent workers.\n"
          ],
          "name": "stderr"
        },
        {
          "output_type": "stream",
          "text": [
            "svc best estimator: LinearSVC(C=0.5, class_weight='balanced', dual=True, fit_intercept=True,\n",
            "          intercept_scaling=1, loss='hinge', max_iter=1000, multi_class='ovr',\n",
            "          penalty='l2', random_state=0, tol=0.0001, verbose=0)\n",
            "              precision    recall  f1-score   support\n",
            "\n",
            "           1       0.84      0.68      0.75       242\n",
            "           2       0.43      0.65      0.52        91\n",
            "\n",
            "    accuracy                           0.67       333\n",
            "   macro avg       0.64      0.67      0.64       333\n",
            "weighted avg       0.73      0.67      0.69       333\n",
            "\n",
            "model accuracy: 0.67267\n",
            "balanced accuracy rate: 0.66508\n",
            "30 62\n",
            "158 271\n",
            "Zemel fairness:  0.9008451374836329\n",
            "Disparate Impact:  0.8299305839118007\n",
            "----------------------\n",
            "30 62\n",
            "158 271\n",
            "Fitting 5 folds for each of 9 candidates, totalling 45 fits\n"
          ],
          "name": "stdout"
        },
        {
          "output_type": "stream",
          "text": [
            "[Parallel(n_jobs=-1)]: Done  45 out of  45 | elapsed:    0.2s finished\n",
            "/usr/local/lib/python3.7/dist-packages/sklearn/svm/_base.py:947: ConvergenceWarning: Liblinear failed to converge, increase the number of iterations.\n",
            "  \"the number of iterations.\", ConvergenceWarning)\n",
            "[Parallel(n_jobs=-1)]: Using backend LokyBackend with 2 concurrent workers.\n"
          ],
          "name": "stderr"
        },
        {
          "output_type": "stream",
          "text": [
            "svc best estimator: LinearSVC(C=5, class_weight='balanced', dual=True, fit_intercept=True,\n",
            "          intercept_scaling=1, loss='hinge', max_iter=1000, multi_class='ovr',\n",
            "          penalty='l2', random_state=0, tol=0.0001, verbose=0)\n",
            "              precision    recall  f1-score   support\n",
            "\n",
            "           1       0.80      0.68      0.74       242\n",
            "           2       0.40      0.56      0.47        91\n",
            "\n",
            "    accuracy                           0.65       333\n",
            "   macro avg       0.60      0.62      0.60       333\n",
            "weighted avg       0.69      0.65      0.66       333\n",
            "\n",
            "model accuracy: 0.64865\n",
            "balanced accuracy rate: 0.62113\n",
            "31 59\n",
            "176 274\n",
            "Zemel fairness:  0.8830879623902017\n",
            "Disparate Impact:  0.817989214175655\n",
            "----------------------\n",
            "31 59\n",
            "176 274\n",
            "Fitting 5 folds for each of 9 candidates, totalling 45 fits\n"
          ],
          "name": "stdout"
        },
        {
          "output_type": "stream",
          "text": [
            "[Parallel(n_jobs=-1)]: Done  45 out of  45 | elapsed:    0.2s finished\n",
            "/usr/local/lib/python3.7/dist-packages/sklearn/svm/_base.py:947: ConvergenceWarning: Liblinear failed to converge, increase the number of iterations.\n",
            "  \"the number of iterations.\", ConvergenceWarning)\n",
            "[Parallel(n_jobs=-1)]: Using backend LokyBackend with 2 concurrent workers.\n"
          ],
          "name": "stderr"
        },
        {
          "output_type": "stream",
          "text": [
            "svc best estimator: LinearSVC(C=0.5, class_weight='balanced', dual=True, fit_intercept=True,\n",
            "          intercept_scaling=1, loss='hinge', max_iter=1000, multi_class='ovr',\n",
            "          penalty='l2', random_state=0, tol=0.0001, verbose=0)\n",
            "              precision    recall  f1-score   support\n",
            "\n",
            "           1       0.85      0.68      0.75       242\n",
            "           2       0.44      0.67      0.53        91\n",
            "\n",
            "    accuracy                           0.68       333\n",
            "   macro avg       0.64      0.67      0.64       333\n",
            "weighted avg       0.73      0.68      0.69       333\n",
            "\n",
            "model accuracy: 0.67568\n",
            "balanced accuracy rate: 0.67401\n",
            "31 62\n",
            "159 271\n",
            "Zemel fairness:  0.9132841328413284\n",
            "Disparate Impact:  0.8522012578616351\n",
            "----------------------\n",
            "31 62\n",
            "159 271\n",
            "Fitting 5 folds for each of 9 candidates, totalling 45 fits\n"
          ],
          "name": "stdout"
        },
        {
          "output_type": "stream",
          "text": [
            "[Parallel(n_jobs=-1)]: Done  45 out of  45 | elapsed:    0.2s finished\n",
            "/usr/local/lib/python3.7/dist-packages/sklearn/svm/_base.py:947: ConvergenceWarning: Liblinear failed to converge, increase the number of iterations.\n",
            "  \"the number of iterations.\", ConvergenceWarning)\n",
            "[Parallel(n_jobs=-1)]: Using backend LokyBackend with 2 concurrent workers.\n"
          ],
          "name": "stderr"
        },
        {
          "output_type": "stream",
          "text": [
            "svc best estimator: LinearSVC(C=0.5, class_weight='balanced', dual=True, fit_intercept=True,\n",
            "          intercept_scaling=1, loss='hinge', max_iter=1000, multi_class='ovr',\n",
            "          penalty='l2', random_state=0, tol=0.0001, verbose=0)\n",
            "              precision    recall  f1-score   support\n",
            "\n",
            "           1       0.81      0.65      0.72       242\n",
            "           2       0.39      0.59      0.47        91\n",
            "\n",
            "    accuracy                           0.63       333\n",
            "   macro avg       0.60      0.62      0.59       333\n",
            "weighted avg       0.69      0.63      0.65       333\n",
            "\n",
            "model accuracy: 0.63363\n",
            "balanced accuracy rate: 0.62108\n",
            "36 60\n",
            "151 273\n",
            "Zemel fairness:  1.0468864468864467\n",
            "Disparate Impact:  1.0847682119205297\n",
            "----------------------\n",
            "36 60\n",
            "151 273\n",
            "Fitting 5 folds for each of 9 candidates, totalling 45 fits\n"
          ],
          "name": "stdout"
        },
        {
          "output_type": "stream",
          "text": [
            "[Parallel(n_jobs=-1)]: Done  45 out of  45 | elapsed:    0.2s finished\n",
            "[Parallel(n_jobs=-1)]: Using backend LokyBackend with 2 concurrent workers.\n"
          ],
          "name": "stderr"
        },
        {
          "output_type": "stream",
          "text": [
            "svc best estimator: LinearSVC(C=0.05, class_weight='balanced', dual=True, fit_intercept=True,\n",
            "          intercept_scaling=1, loss='hinge', max_iter=1000, multi_class='ovr',\n",
            "          penalty='l2', random_state=0, tol=0.0001, verbose=0)\n",
            "              precision    recall  f1-score   support\n",
            "\n",
            "           1       0.83      0.76      0.79       242\n",
            "           2       0.48      0.59      0.53        91\n",
            "\n",
            "    accuracy                           0.71       333\n",
            "   macro avg       0.65      0.67      0.66       333\n",
            "weighted avg       0.74      0.71      0.72       333\n",
            "\n",
            "model accuracy: 0.71171\n",
            "balanced accuracy rate: 0.67480\n",
            "39 71\n",
            "167 262\n",
            "Zemel fairness:  0.9118911944952156\n",
            "Disparate Impact:  0.8617694189086617\n",
            "----------------------\n",
            "39 71\n",
            "167 262\n",
            "Fitting 5 folds for each of 9 candidates, totalling 45 fits\n"
          ],
          "name": "stdout"
        },
        {
          "output_type": "stream",
          "text": [
            "[Parallel(n_jobs=-1)]: Done  45 out of  45 | elapsed:    0.2s finished\n",
            "/usr/local/lib/python3.7/dist-packages/sklearn/svm/_base.py:947: ConvergenceWarning: Liblinear failed to converge, increase the number of iterations.\n",
            "  \"the number of iterations.\", ConvergenceWarning)\n",
            "[Parallel(n_jobs=-1)]: Using backend LokyBackend with 2 concurrent workers.\n"
          ],
          "name": "stderr"
        },
        {
          "output_type": "stream",
          "text": [
            "svc best estimator: LinearSVC(C=5, class_weight='balanced', dual=True, fit_intercept=True,\n",
            "          intercept_scaling=1, loss='hinge', max_iter=1000, multi_class='ovr',\n",
            "          penalty='l2', random_state=0, tol=0.0001, verbose=0)\n",
            "              precision    recall  f1-score   support\n",
            "\n",
            "           1       0.84      0.70      0.76       242\n",
            "           2       0.45      0.66      0.54        91\n",
            "\n",
            "    accuracy                           0.69       333\n",
            "   macro avg       0.65      0.68      0.65       333\n",
            "weighted avg       0.74      0.69      0.70       333\n",
            "\n",
            "model accuracy: 0.68769\n",
            "balanced accuracy rate: 0.67884\n",
            "35 64\n",
            "157 269\n",
            "Zemel fairness:  0.9632318773234201\n",
            "Disparate Impact:  0.9370023885350318\n",
            "----------------------\n",
            "35 64\n",
            "157 269\n",
            "Fitting 5 folds for each of 9 candidates, totalling 45 fits\n"
          ],
          "name": "stdout"
        },
        {
          "output_type": "stream",
          "text": [
            "[Parallel(n_jobs=-1)]: Done  45 out of  45 | elapsed:    0.2s finished\n",
            "/usr/local/lib/python3.7/dist-packages/sklearn/svm/_base.py:947: ConvergenceWarning: Liblinear failed to converge, increase the number of iterations.\n",
            "  \"the number of iterations.\", ConvergenceWarning)\n",
            "[Parallel(n_jobs=-1)]: Using backend LokyBackend with 2 concurrent workers.\n"
          ],
          "name": "stderr"
        },
        {
          "output_type": "stream",
          "text": [
            "svc best estimator: LinearSVC(C=0.1, class_weight='balanced', dual=True, fit_intercept=True,\n",
            "          intercept_scaling=1, loss='hinge', max_iter=1000, multi_class='ovr',\n",
            "          penalty='l2', random_state=0, tol=0.0001, verbose=0)\n",
            "              precision    recall  f1-score   support\n",
            "\n",
            "           1       0.82      0.67      0.74       242\n",
            "           2       0.41      0.62      0.49        91\n",
            "\n",
            "    accuracy                           0.65       333\n",
            "   macro avg       0.62      0.64      0.62       333\n",
            "weighted avg       0.71      0.65      0.67       333\n",
            "\n",
            "model accuracy: 0.65465\n",
            "balanced accuracy rate: 0.64240\n",
            "25 57\n",
            "163 276\n",
            "Zemel fairness:  0.8480167810831427\n",
            "Disparate Impact:  0.7426541814659348\n",
            "----------------------\n",
            "25 57\n",
            "163 276\n",
            "Fitting 5 folds for each of 9 candidates, totalling 45 fits\n"
          ],
          "name": "stdout"
        },
        {
          "output_type": "stream",
          "text": [
            "[Parallel(n_jobs=-1)]: Done  45 out of  45 | elapsed:    0.2s finished\n",
            "/usr/local/lib/python3.7/dist-packages/sklearn/svm/_base.py:947: ConvergenceWarning: Liblinear failed to converge, increase the number of iterations.\n",
            "  \"the number of iterations.\", ConvergenceWarning)\n",
            "[Parallel(n_jobs=-1)]: Using backend LokyBackend with 2 concurrent workers.\n"
          ],
          "name": "stderr"
        },
        {
          "output_type": "stream",
          "text": [
            "svc best estimator: LinearSVC(C=1, class_weight='balanced', dual=True, fit_intercept=True,\n",
            "          intercept_scaling=1, loss='hinge', max_iter=1000, multi_class='ovr',\n",
            "          penalty='l2', random_state=0, tol=0.0001, verbose=0)\n",
            "              precision    recall  f1-score   support\n",
            "\n",
            "           1       0.87      0.63      0.73       242\n",
            "           2       0.43      0.75      0.55        91\n",
            "\n",
            "    accuracy                           0.66       333\n",
            "   macro avg       0.65      0.69      0.64       333\n",
            "weighted avg       0.75      0.66      0.68       333\n",
            "\n",
            "model accuracy: 0.66366\n",
            "balanced accuracy rate: 0.68974\n",
            "37 62\n",
            "143 271\n",
            "Zemel fairness:  1.0690989167956197\n",
            "Disparate Impact:  1.1309496954658247\n",
            "----------------------\n",
            "37 62\n",
            "143 271\n",
            "Fitting 5 folds for each of 9 candidates, totalling 45 fits\n"
          ],
          "name": "stdout"
        },
        {
          "output_type": "stream",
          "text": [
            "[Parallel(n_jobs=-1)]: Done  45 out of  45 | elapsed:    0.2s finished\n",
            "/usr/local/lib/python3.7/dist-packages/sklearn/svm/_base.py:947: ConvergenceWarning: Liblinear failed to converge, increase the number of iterations.\n",
            "  \"the number of iterations.\", ConvergenceWarning)\n",
            "[Parallel(n_jobs=-1)]: Using backend LokyBackend with 2 concurrent workers.\n"
          ],
          "name": "stderr"
        },
        {
          "output_type": "stream",
          "text": [
            "svc best estimator: LinearSVC(C=0.5, class_weight='balanced', dual=True, fit_intercept=True,\n",
            "          intercept_scaling=1, loss='hinge', max_iter=1000, multi_class='ovr',\n",
            "          penalty='l2', random_state=0, tol=0.0001, verbose=0)\n",
            "              precision    recall  f1-score   support\n",
            "\n",
            "           1       0.85      0.67      0.75       242\n",
            "           2       0.44      0.69      0.54        91\n",
            "\n",
            "    accuracy                           0.68       333\n",
            "   macro avg       0.65      0.68      0.65       333\n",
            "weighted avg       0.74      0.68      0.69       333\n",
            "\n",
            "model accuracy: 0.67868\n",
            "balanced accuracy rate: 0.68293\n",
            "35 63\n",
            "160 270\n",
            "Zemel fairness:  0.962962962962963\n",
            "Disparate Impact:  0.9375000000000001\n",
            "----------------------\n",
            "35 63\n",
            "160 270\n",
            "Fitting 5 folds for each of 9 candidates, totalling 45 fits\n"
          ],
          "name": "stdout"
        },
        {
          "output_type": "stream",
          "text": [
            "[Parallel(n_jobs=-1)]: Done  45 out of  45 | elapsed:    0.2s finished\n",
            "[Parallel(n_jobs=-1)]: Using backend LokyBackend with 2 concurrent workers.\n"
          ],
          "name": "stderr"
        },
        {
          "output_type": "stream",
          "text": [
            "svc best estimator: LinearSVC(C=0.001, class_weight='balanced', dual=True, fit_intercept=True,\n",
            "          intercept_scaling=1, loss='hinge', max_iter=1000, multi_class='ovr',\n",
            "          penalty='l2', random_state=0, tol=0.0001, verbose=0)\n",
            "              precision    recall  f1-score   support\n",
            "\n",
            "           1       0.87      0.71      0.78       242\n",
            "           2       0.48      0.73      0.58        91\n",
            "\n",
            "    accuracy                           0.71       333\n",
            "   macro avg       0.68      0.72      0.68       333\n",
            "weighted avg       0.77      0.71      0.73       333\n",
            "\n",
            "model accuracy: 0.71171\n",
            "balanced accuracy rate: 0.71594\n",
            "34 64\n",
            "148 269\n",
            "Zemel fairness:  0.981064126394052\n",
            "Disparate Impact:  0.9655827702702703\n",
            "----------------------\n",
            "34 64\n",
            "148 269\n",
            "Fitting 5 folds for each of 9 candidates, totalling 45 fits\n"
          ],
          "name": "stdout"
        },
        {
          "output_type": "stream",
          "text": [
            "[Parallel(n_jobs=-1)]: Done  45 out of  45 | elapsed:    0.2s finished\n",
            "/usr/local/lib/python3.7/dist-packages/sklearn/svm/_base.py:947: ConvergenceWarning: Liblinear failed to converge, increase the number of iterations.\n",
            "  \"the number of iterations.\", ConvergenceWarning)\n",
            "[Parallel(n_jobs=-1)]: Using backend LokyBackend with 2 concurrent workers.\n"
          ],
          "name": "stderr"
        },
        {
          "output_type": "stream",
          "text": [
            "svc best estimator: LinearSVC(C=0.5, class_weight='balanced', dual=True, fit_intercept=True,\n",
            "          intercept_scaling=1, loss='hinge', max_iter=1000, multi_class='ovr',\n",
            "          penalty='l2', random_state=0, tol=0.0001, verbose=0)\n",
            "              precision    recall  f1-score   support\n",
            "\n",
            "           1       0.84      0.68      0.75       242\n",
            "           2       0.43      0.65      0.52        91\n",
            "\n",
            "    accuracy                           0.67       333\n",
            "   macro avg       0.64      0.67      0.64       333\n",
            "weighted avg       0.73      0.67      0.69       333\n",
            "\n",
            "model accuracy: 0.67267\n",
            "balanced accuracy rate: 0.66508\n",
            "30 62\n",
            "158 271\n",
            "Zemel fairness:  0.9008451374836329\n",
            "Disparate Impact:  0.8299305839118007\n",
            "----------------------\n",
            "30 62\n",
            "158 271\n",
            "Fitting 5 folds for each of 9 candidates, totalling 45 fits\n"
          ],
          "name": "stdout"
        },
        {
          "output_type": "stream",
          "text": [
            "[Parallel(n_jobs=-1)]: Done  45 out of  45 | elapsed:    0.2s finished\n",
            "/usr/local/lib/python3.7/dist-packages/sklearn/svm/_base.py:947: ConvergenceWarning: Liblinear failed to converge, increase the number of iterations.\n",
            "  \"the number of iterations.\", ConvergenceWarning)\n",
            "[Parallel(n_jobs=-1)]: Using backend LokyBackend with 2 concurrent workers.\n"
          ],
          "name": "stderr"
        },
        {
          "output_type": "stream",
          "text": [
            "svc best estimator: LinearSVC(C=5, class_weight='balanced', dual=True, fit_intercept=True,\n",
            "          intercept_scaling=1, loss='hinge', max_iter=1000, multi_class='ovr',\n",
            "          penalty='l2', random_state=0, tol=0.0001, verbose=0)\n",
            "              precision    recall  f1-score   support\n",
            "\n",
            "           1       0.80      0.68      0.74       242\n",
            "           2       0.40      0.56      0.47        91\n",
            "\n",
            "    accuracy                           0.65       333\n",
            "   macro avg       0.60      0.62      0.60       333\n",
            "weighted avg       0.69      0.65      0.66       333\n",
            "\n",
            "model accuracy: 0.64865\n",
            "balanced accuracy rate: 0.62113\n",
            "31 59\n",
            "176 274\n",
            "Zemel fairness:  0.8830879623902017\n",
            "Disparate Impact:  0.817989214175655\n",
            "----------------------\n",
            "31 59\n",
            "176 274\n",
            "Fitting 5 folds for each of 9 candidates, totalling 45 fits\n"
          ],
          "name": "stdout"
        },
        {
          "output_type": "stream",
          "text": [
            "[Parallel(n_jobs=-1)]: Done  45 out of  45 | elapsed:    0.2s finished\n",
            "/usr/local/lib/python3.7/dist-packages/sklearn/svm/_base.py:947: ConvergenceWarning: Liblinear failed to converge, increase the number of iterations.\n",
            "  \"the number of iterations.\", ConvergenceWarning)\n",
            "[Parallel(n_jobs=-1)]: Using backend LokyBackend with 2 concurrent workers.\n"
          ],
          "name": "stderr"
        },
        {
          "output_type": "stream",
          "text": [
            "svc best estimator: LinearSVC(C=0.5, class_weight='balanced', dual=True, fit_intercept=True,\n",
            "          intercept_scaling=1, loss='hinge', max_iter=1000, multi_class='ovr',\n",
            "          penalty='l2', random_state=0, tol=0.0001, verbose=0)\n",
            "              precision    recall  f1-score   support\n",
            "\n",
            "           1       0.85      0.68      0.75       242\n",
            "           2       0.44      0.67      0.53        91\n",
            "\n",
            "    accuracy                           0.68       333\n",
            "   macro avg       0.64      0.67      0.64       333\n",
            "weighted avg       0.73      0.68      0.69       333\n",
            "\n",
            "model accuracy: 0.67568\n",
            "balanced accuracy rate: 0.67401\n",
            "31 62\n",
            "159 271\n",
            "Zemel fairness:  0.9132841328413284\n",
            "Disparate Impact:  0.8522012578616351\n",
            "----------------------\n",
            "31 62\n",
            "159 271\n",
            "Fitting 5 folds for each of 9 candidates, totalling 45 fits\n"
          ],
          "name": "stdout"
        },
        {
          "output_type": "stream",
          "text": [
            "[Parallel(n_jobs=-1)]: Done  45 out of  45 | elapsed:    0.2s finished\n",
            "/usr/local/lib/python3.7/dist-packages/sklearn/svm/_base.py:947: ConvergenceWarning: Liblinear failed to converge, increase the number of iterations.\n",
            "  \"the number of iterations.\", ConvergenceWarning)\n",
            "[Parallel(n_jobs=-1)]: Using backend LokyBackend with 2 concurrent workers.\n"
          ],
          "name": "stderr"
        },
        {
          "output_type": "stream",
          "text": [
            "svc best estimator: LinearSVC(C=0.5, class_weight='balanced', dual=True, fit_intercept=True,\n",
            "          intercept_scaling=1, loss='hinge', max_iter=1000, multi_class='ovr',\n",
            "          penalty='l2', random_state=0, tol=0.0001, verbose=0)\n",
            "              precision    recall  f1-score   support\n",
            "\n",
            "           1       0.81      0.65      0.72       242\n",
            "           2       0.39      0.59      0.47        91\n",
            "\n",
            "    accuracy                           0.63       333\n",
            "   macro avg       0.60      0.62      0.59       333\n",
            "weighted avg       0.69      0.63      0.65       333\n",
            "\n",
            "model accuracy: 0.63363\n",
            "balanced accuracy rate: 0.62108\n",
            "36 60\n",
            "151 273\n",
            "Zemel fairness:  1.0468864468864467\n",
            "Disparate Impact:  1.0847682119205297\n",
            "----------------------\n",
            "36 60\n",
            "151 273\n",
            "Fitting 5 folds for each of 9 candidates, totalling 45 fits\n"
          ],
          "name": "stdout"
        },
        {
          "output_type": "stream",
          "text": [
            "[Parallel(n_jobs=-1)]: Done  42 out of  45 | elapsed:    0.2s remaining:    0.0s\n",
            "[Parallel(n_jobs=-1)]: Done  45 out of  45 | elapsed:    0.2s finished\n",
            "[Parallel(n_jobs=-1)]: Using backend LokyBackend with 2 concurrent workers.\n"
          ],
          "name": "stderr"
        },
        {
          "output_type": "stream",
          "text": [
            "svc best estimator: LinearSVC(C=0.05, class_weight='balanced', dual=True, fit_intercept=True,\n",
            "          intercept_scaling=1, loss='hinge', max_iter=1000, multi_class='ovr',\n",
            "          penalty='l2', random_state=0, tol=0.0001, verbose=0)\n",
            "              precision    recall  f1-score   support\n",
            "\n",
            "           1       0.83      0.76      0.79       242\n",
            "           2       0.48      0.59      0.53        91\n",
            "\n",
            "    accuracy                           0.71       333\n",
            "   macro avg       0.65      0.67      0.66       333\n",
            "weighted avg       0.74      0.71      0.72       333\n",
            "\n",
            "model accuracy: 0.71171\n",
            "balanced accuracy rate: 0.67480\n",
            "39 71\n",
            "167 262\n",
            "Zemel fairness:  0.9118911944952156\n",
            "Disparate Impact:  0.8617694189086617\n",
            "----------------------\n",
            "39 71\n",
            "167 262\n",
            "Fitting 5 folds for each of 9 candidates, totalling 45 fits\n"
          ],
          "name": "stdout"
        },
        {
          "output_type": "stream",
          "text": [
            "[Parallel(n_jobs=-1)]: Done  45 out of  45 | elapsed:    0.2s finished\n",
            "/usr/local/lib/python3.7/dist-packages/sklearn/svm/_base.py:947: ConvergenceWarning: Liblinear failed to converge, increase the number of iterations.\n",
            "  \"the number of iterations.\", ConvergenceWarning)\n",
            "[Parallel(n_jobs=-1)]: Using backend LokyBackend with 2 concurrent workers.\n"
          ],
          "name": "stderr"
        },
        {
          "output_type": "stream",
          "text": [
            "svc best estimator: LinearSVC(C=5, class_weight='balanced', dual=True, fit_intercept=True,\n",
            "          intercept_scaling=1, loss='hinge', max_iter=1000, multi_class='ovr',\n",
            "          penalty='l2', random_state=0, tol=0.0001, verbose=0)\n",
            "              precision    recall  f1-score   support\n",
            "\n",
            "           1       0.84      0.70      0.76       242\n",
            "           2       0.45      0.66      0.54        91\n",
            "\n",
            "    accuracy                           0.69       333\n",
            "   macro avg       0.65      0.68      0.65       333\n",
            "weighted avg       0.74      0.69      0.70       333\n",
            "\n",
            "model accuracy: 0.68769\n",
            "balanced accuracy rate: 0.67884\n",
            "35 64\n",
            "157 269\n",
            "Zemel fairness:  0.9632318773234201\n",
            "Disparate Impact:  0.9370023885350318\n",
            "----------------------\n",
            "35 64\n",
            "157 269\n",
            "Fitting 5 folds for each of 9 candidates, totalling 45 fits\n",
            "svc best estimator: LinearSVC(C=0.1, class_weight='balanced', dual=True, fit_intercept=True,\n",
            "          intercept_scaling=1, loss='hinge', max_iter=1000, multi_class='ovr',\n",
            "          penalty='l2', random_state=0, tol=0.0001, verbose=0)\n",
            "              precision    recall  f1-score   support\n",
            "\n",
            "           1       0.82      0.67      0.74       242\n",
            "           2       0.41      0.62      0.49        91\n",
            "\n",
            "    accuracy                           0.65       333\n",
            "   macro avg       0.62      0.64      0.62       333\n",
            "weighted avg       0.71      0.65      0.67       333\n",
            "\n",
            "model accuracy: 0.65465\n",
            "balanced accuracy rate: 0.64240\n",
            "25 57\n",
            "163 276\n",
            "Zemel fairness:  0.8480167810831427\n",
            "Disparate Impact:  0.7426541814659348\n",
            "----------------------\n",
            "25 57\n",
            "163 276\n"
          ],
          "name": "stdout"
        },
        {
          "output_type": "stream",
          "text": [
            "[Parallel(n_jobs=-1)]: Done  42 out of  45 | elapsed:    0.2s remaining:    0.0s\n",
            "[Parallel(n_jobs=-1)]: Done  45 out of  45 | elapsed:    0.2s finished\n",
            "/usr/local/lib/python3.7/dist-packages/sklearn/svm/_base.py:947: ConvergenceWarning: Liblinear failed to converge, increase the number of iterations.\n",
            "  \"the number of iterations.\", ConvergenceWarning)\n"
          ],
          "name": "stderr"
        }
      ]
    },
    {
      "cell_type": "code",
      "metadata": {
        "colab": {
          "base_uri": "https://localhost:8080/",
          "height": 1000
        },
        "id": "AZsjzixvkj-f",
        "outputId": "20543823-2dd3-4814-f847-305df4cf2658"
      },
      "source": [
        "#construct performance graph\n",
        "#Construct a graph to compare performance and repair strength lambda\n",
        "performance_df = pd.DataFrame({\n",
        "    'method':['geo' if i%2 else 'combi' for i in range(22)],\n",
        "    'lambda':[0,0,0.1,0.1,0.2,0.2,0.3,0.3,0.4,0.4,0.5,0.5,0.6,0.6,0.7,0.7,0.8,0.8,0.9,0.9,1.0,1.0],\n",
        "    'accuracy':model_accuracies,\n",
        "    'utility':utilities,\n",
        "    'zemel_fairness':zemel_fairnesses,\n",
        "    'disparate_impact':disparate_impact_scores\n",
        "})\n",
        "performance_df_1 = pd.DataFrame({\n",
        "    'method':['geo' if i%2 else 'combi' for i in range(22)],\n",
        "    'lambda':[0,0,0.1,0.1,0.2,0.2,0.3,0.3,0.4,0.4,0.5,0.5,0.6,0.6,0.7,0.7,0.8,0.8,0.9,0.9,1.0,1.0],\n",
        "    'performance':model_accuracies,\n",
        "    'zemel_fairness':zemel_fairnesses,\n",
        "    'disparate_impact':disparate_impact_scores,\n",
        "    'measure':['accuracy' for i in range(22)]\n",
        "})\n",
        "performance_df_2 = pd.DataFrame({\n",
        "    'method':['geo' if i%2 else 'combi' for i in range(22)],\n",
        "    'lambda':[0,0,0.1,0.1,0.2,0.2,0.3,0.3,0.4,0.4,0.5,0.5,0.6,0.6,0.7,0.7,0.8,0.8,0.9,0.9,1.0,1.0],\n",
        "    'performance':utilities,\n",
        "    'zemel_fairness':zemel_fairnesses,\n",
        "    'disparate_impact':disparate_impact_scores,\n",
        "    'measure':['utility' for i in range(22)]\n",
        "})\n",
        "performance_df_1=pd.concat([performance_df_1,performance_df_2])\n",
        "print(performance_df_1)\n",
        "sns.lineplot(data=performance_df_1,x='lambda',y='performance',hue='method',style='measure')\n"
      ],
      "execution_count": 14,
      "outputs": [
        {
          "output_type": "stream",
          "text": [
            "   method  lambda  performance  zemel_fairness  disparate_impact   measure\n",
            "0   combi     0.0     0.711712        0.702124          0.522257  accuracy\n",
            "1     geo     0.0     0.711712        0.702124          0.522257  accuracy\n",
            "2   combi     0.1     0.711411        0.702728          0.523548  accuracy\n",
            "3     geo     0.1     0.685586        0.890483          0.819177  accuracy\n",
            "4   combi     0.2     0.712012        0.701667          0.521420  accuracy\n",
            "5     geo     0.2     0.686186        0.894257          0.826011  accuracy\n",
            "6   combi     0.3     0.718018        0.701655          0.531111  accuracy\n",
            "7     geo     0.3     0.686186        0.891786          0.822885  accuracy\n",
            "8   combi     0.4     0.715616        0.708059          0.535302  accuracy\n",
            "9     geo     0.4     0.687988        0.891821          0.822377  accuracy\n",
            "10  combi     0.5     0.716517        0.701364          0.523746  accuracy\n",
            "11    geo     0.5     0.687087        0.895985          0.830660  accuracy\n",
            "12  combi     0.6     0.683784        0.941957          0.905049  accuracy\n",
            "13    geo     0.6     0.682583        0.902950          0.838857  accuracy\n",
            "14  combi     0.7     0.685586        0.944504          0.908504  accuracy\n",
            "15    geo     0.7     0.675676        0.903614          0.842387  accuracy\n",
            "16  combi     0.8     0.674174        0.941953          0.906356  accuracy\n",
            "17    geo     0.8     0.668168        0.921459          0.866847  accuracy\n",
            "18  combi     0.9     0.670270        0.945247          0.910344  accuracy\n",
            "19    geo     0.9     0.668769        0.933754          0.890438  accuracy\n",
            "20  combi     1.0     0.673874        0.948037          0.916035  accuracy\n",
            "21    geo     1.0     0.673874        0.948037          0.916035  accuracy\n",
            "0   combi     0.0     0.723210        0.702124          0.522257   utility\n",
            "1     geo     0.0     0.723210        0.702124          0.522257   utility\n",
            "2   combi     0.1     0.721854        0.702728          0.523548   utility\n",
            "3     geo     0.1     0.684877        0.890483          0.819177   utility\n",
            "4   combi     0.2     0.722854        0.701667          0.521420   utility\n",
            "5     geo     0.2     0.688086        0.894257          0.826011   utility\n",
            "6   combi     0.3     0.721438        0.701655          0.531111   utility\n",
            "7     geo     0.3     0.686687        0.891786          0.822885   utility\n",
            "8   combi     0.4     0.722575        0.708059          0.535302   utility\n",
            "9     geo     0.4     0.688621        0.891821          0.822377   utility\n",
            "10  combi     0.5     0.724361        0.701364          0.523746   utility\n",
            "11    geo     0.5     0.687305        0.895985          0.830660   utility\n",
            "12  combi     0.6     0.678901        0.941957          0.905049   utility\n",
            "13    geo     0.6     0.686667        0.902950          0.838857   utility\n",
            "14  combi     0.7     0.681512        0.944504          0.908504   utility\n",
            "15    geo     0.7     0.677737        0.903614          0.842387   utility\n",
            "16  combi     0.8     0.668175        0.941953          0.906356   utility\n",
            "17    geo     0.8     0.675041        0.921459          0.866847   utility\n",
            "18  combi     0.9     0.663089        0.945247          0.910344   utility\n",
            "19    geo     0.9     0.673704        0.933754          0.890438   utility\n",
            "20  combi     1.0     0.666597        0.948037          0.916035   utility\n",
            "21    geo     1.0     0.666597        0.948037          0.916035   utility\n"
          ],
          "name": "stdout"
        },
        {
          "output_type": "execute_result",
          "data": {
            "text/plain": [
              "<matplotlib.axes._subplots.AxesSubplot at 0x7fb63a85e8d0>"
            ]
          },
          "metadata": {
            "tags": []
          },
          "execution_count": 14
        },
        {
          "output_type": "display_data",
          "data": {
            "image/png": "[encoded data removed]",
            "text/plain": [
              "<Figure size 432x288 with 1 Axes>"
            ]
          },
          "metadata": {
            "tags": [],
            "needs_background": "light"
          }
        }
      ]
    },
    {
      "cell_type": "code",
      "metadata": {
        "colab": {
          "base_uri": "https://localhost:8080/",
          "height": 401
        },
        "id": "vJNaW-5Pkmci",
        "outputId": "d9e0990c-fda9-48ef-efaa-069a7195b654"
      },
      "source": [
        "#Construct a graph to compare utility and fairness\n",
        "performance_df_1 = pd.DataFrame({\n",
        "    'method':['geo' if i%2 else 'combi' for i in range(22)],\n",
        "    'lambda':[0,0,0.1,0.1,0.2,0.2,0.3,0.3,0.4,0.4,0.5,0.5,0.6,0.6,0.7,0.7,0.8,0.8,0.9,0.9,1.0,1.0],\n",
        "    'accuracy':model_accuracies,\n",
        "    'utility':utilities,\n",
        "    'fairness':zemel_fairnesses,\n",
        "    'fairness_metric':['Zemel' for i in range(22)]\n",
        "})\n",
        "performance_df_2 = pd.DataFrame({\n",
        "    'method':['geo' if i%2 else 'combi' for i in range(22)],\n",
        "    'lambda':[0,0,0.1,0.1,0.2,0.2,0.3,0.3,0.4,0.4,0.5,0.5,0.6,0.6,0.7,0.7,0.8,0.8,0.9,0.9,1.0,1.0],\n",
        "    'accuracy':model_accuracies,\n",
        "    'utility':utilities,\n",
        "    'fairness':disparate_impact_scores,\n",
        "    'fairness_metric':['DI' for i in range(22)]\n",
        "})\n",
        "performance_df_1=pd.concat([performance_df_1,performance_df_2])\n",
        "sns.relplot(data=performance_df_1,x='fairness',y='utility',hue='method',style='fairness_metric')"
      ],
      "execution_count": 15,
      "outputs": [
        {
          "output_type": "execute_result",
          "data": {
            "text/plain": [
              "<seaborn.axisgrid.FacetGrid at 0x7fb63a870190>"
            ]
          },
          "metadata": {
            "tags": []
          },
          "execution_count": 15
        },
        {
          "output_type": "display_data",
          "data": {
            "image/png": "[encoded data removed]",
            "text/plain": [
              "<Figure size 452.75x360 with 1 Axes>"
            ]
          },
          "metadata": {
            "tags": [],
            "needs_background": "light"
          }
        }
      ]
    }
  ]
}